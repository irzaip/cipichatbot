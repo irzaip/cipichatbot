{
 "cells": [
  {
   "cell_type": "code",
   "execution_count": 1,
   "metadata": {
    "scrolled": true
   },
   "outputs": [
    {
     "name": "stderr",
     "output_type": "stream",
     "text": [
      "C:\\Anaconda3\\envs\\tensorflow\\lib\\site-packages\\gensim\\utils.py:1209: UserWarning: detected Windows; aliasing chunkize to chunkize_serial\n",
      "  warnings.warn(\"detected Windows; aliasing chunkize to chunkize_serial\")\n",
      "C:\\Anaconda3\\envs\\tensorflow\\lib\\site-packages\\h5py\\__init__.py:36: FutureWarning: Conversion of the second argument of issubdtype from `float` to `np.floating` is deprecated. In future, it will be treated as `np.float64 == np.dtype(float).type`.\n",
      "  from ._conv import register_converters as _register_converters\n",
      "Using TensorFlow backend.\n"
     ]
    },
    {
     "name": "stdout",
     "output_type": "stream",
     "text": [
      "[nltk_data] Downloading package punkt to\n",
      "[nltk_data]     C:\\Users\\Admin\\AppData\\Roaming\\nltk_data...\n",
      "[nltk_data]   Package punkt is already up-to-date!\n",
      "['affirmasi', 'awake', 'broadcast', 'browser', 'cctv_lewatmana', 'direktori', 'goodbye', 'google', 'homeauto', 'jam', 'lihat_gambar', 'negasi', 'quran', 'salam', 'tokopedia', 'translate', 'wikipedia', 'youtube']\n",
      "from data.affirmasi import affirmasi\n",
      "from data.awake import awake\n",
      "from data.broadcast import broadcast\n",
      "from data.browser import browser\n",
      "from data.cctv_lewatmana import cctv_lewatmana\n",
      "from data.direktori import direktori\n",
      "from data.goodbye import goodbye\n",
      "from data.google import google\n",
      "from data.homeauto import homeauto\n",
      "from data.jam import jam\n",
      "from data.lihat_gambar import lihat_gambar\n",
      "from data.negasi import negasi\n",
      "from data.quran import quran\n",
      "from data.salam import salam\n",
      "from data.tokopedia import tokopedia\n",
      "from data.translate import translate\n",
      "from data.wikipedia import wikipedia\n",
      "from data.youtube import youtube\n"
     ]
    }
   ],
   "source": [
    "from chat_proc import *"
   ]
  },
  {
   "cell_type": "code",
   "execution_count": 16,
   "metadata": {},
   "outputs": [
    {
     "data": {
      "text/plain": [
       "\"{'name': 'None', 'followup': 'None', 'prompt': 'Memproses hello di ruang tengah'}\""
      ]
     },
     "execution_count": 16,
     "metadata": {},
     "output_type": "execute_result"
    }
   ],
   "source": [
    "homeauto.input(\"matikan lampu ruangan tengah\")"
   ]
  },
  {
   "cell_type": "code",
   "execution_count": null,
   "metadata": {
    "scrolled": false
   },
   "outputs": [
    {
     "name": "stdout",
     "output_type": "stream",
     "text": [
      "KETIK 'q' untuk EXIT.\n",
      ">matikan lampu\n",
      "\n",
      "SENTENCE: matikan lampu\n"
     ]
    },
    {
     "name": "stderr",
     "output_type": "stream",
     "text": [
      "WARNING:root:SENTENCE:\n",
      "WARNING:root:A:matikan lampu\n",
      "WARNING:root:Pred intent:\n",
      "WARNING:root:try exec instruction:homeauto.input('matikan lampu')\n"
     ]
    },
    {
     "name": "stdout",
     "output_type": "stream",
     "text": [
      "Reply: {'name': 'ruang', 'followup': 'homeauto', 'method': 'ask', 'type': 'inlist', 'required': True, 'value': 'None', 'prompt': 'Ruangan mana?', 'list': ['ruang tamu', 'ruang kaca', 'ruang televisi', 'ruang TV', 'ruang tengah', 'ruangan tamu', 'ruangan kaca', 'ruangan televisi', 'ruangan TV', 'ruangan tengah', 'ruangan tidur', 'ruang makan', 'dapur', 'kamar inang']}\n"
     ]
    },
    {
     "name": "stderr",
     "output_type": "stream",
     "text": [
      "WARNING:root:B:\n",
      "{'sequence': 0, 'intent': 'homeauto', 'intentscore': 0.5003838, 'followup': 'None', 'intentfu': 'None', 'context': 'None', 'content': 'None', 'lastmsg': 'matikan lampu'}\n",
      "{'sequence': 0, 'intent': 'homeauto', 'intentscore': 0.0, 'followup': 'ruang', 'intentfu': 'homeauto', 'context': 'None', 'content': 'None', 'lastmsg': 'None', 'prompt': 'Ruangan mana?', 'process': 'None'}\n",
      "\n",
      "\n"
     ]
    },
    {
     "name": "stdout",
     "output_type": "stream",
     "text": [
      ">ruang tidur\n",
      "\n",
      "SENTENCE: ruang tidur\n"
     ]
    },
    {
     "name": "stderr",
     "output_type": "stream",
     "text": [
      "WARNING:root:SENTENCE:\n",
      "WARNING:root:A:ruang tidur\n",
      "WARNING:root:Pred intent:\n",
      "WARNING:root:try exec instruction:homeauto.input('ruang tidur')\n"
     ]
    },
    {
     "name": "stdout",
     "output_type": "stream",
     "text": [
      "Reply: {'name': 'ruang', 'followup': 'homeauto', 'method': 'ask', 'type': 'inlist', 'required': True, 'value': 'None', 'prompt': 'Ruangan mana?', 'list': ['ruang tamu', 'ruang kaca', 'ruang televisi', 'ruang TV', 'ruang tengah', 'ruangan tamu', 'ruangan kaca', 'ruangan televisi', 'ruangan TV', 'ruangan tengah', 'ruangan tidur', 'ruang makan', 'dapur', 'kamar inang']}\n"
     ]
    },
    {
     "name": "stderr",
     "output_type": "stream",
     "text": [
      "WARNING:root:B:\n",
      "{'sequence': 0, 'intent': 'awake', 'intentscore': 0.026753325, 'followup': 'None', 'intentfu': 'None', 'context': 'None', 'content': 'None', 'lastmsg': 'ruang tidur'}\n",
      "{'sequence': 0, 'intent': 'awake', 'intentscore': 0.0, 'followup': 'ruang', 'intentfu': 'homeauto', 'context': 'None', 'content': 'None', 'lastmsg': 'Ruangan mana?', 'prompt': 'Ruangan mana?', 'process': 'None'}\n",
      "\n",
      "\n"
     ]
    },
    {
     "name": "stdout",
     "output_type": "stream",
     "text": [
      ">ruangan tidur\n",
      "\n",
      "SENTENCE: ruangan tidur\n"
     ]
    },
    {
     "name": "stderr",
     "output_type": "stream",
     "text": [
      "WARNING:root:SENTENCE:\n",
      "WARNING:root:A:ruangan tidur\n",
      "WARNING:root:Pred intent:\n",
      "WARNING:root:try exec instruction:homeauto.input('ruangan tidur')\n"
     ]
    },
    {
     "name": "stdout",
     "output_type": "stream",
     "text": [
      "Reply: {'name': 'ruang', 'followup': 'homeauto', 'method': 'ask', 'type': 'inlist', 'required': True, 'value': 'None', 'prompt': 'Ruangan mana?', 'list': ['ruang tamu', 'ruang kaca', 'ruang televisi', 'ruang TV', 'ruang tengah', 'ruangan tamu', 'ruangan kaca', 'ruangan televisi', 'ruangan TV', 'ruangan tengah', 'ruangan tidur', 'ruang makan', 'dapur', 'kamar inang']}\n"
     ]
    },
    {
     "name": "stderr",
     "output_type": "stream",
     "text": [
      "WARNING:root:B:\n",
      "{'sequence': 0, 'intent': 'chitchat', 'intentscore': 0.0048632664, 'followup': 'None', 'intentfu': 'None', 'context': 'None', 'content': 'None', 'lastmsg': 'ruangan tidur'}\n",
      "{'sequence': 0, 'intent': 'chitchat', 'intentscore': 0.0, 'followup': 'ruang', 'intentfu': 'homeauto', 'context': 'None', 'content': 'None', 'lastmsg': 'Ruangan mana?', 'prompt': 'Ruangan mana?', 'process': 'None'}\n",
      "\n",
      "\n"
     ]
    },
    {
     "name": "stdout",
     "output_type": "stream",
     "text": [
      ">ruang kaca\n",
      "\n",
      "SENTENCE: ruang kaca\n"
     ]
    },
    {
     "name": "stderr",
     "output_type": "stream",
     "text": [
      "WARNING:root:SENTENCE:\n",
      "WARNING:root:A:ruang kaca\n",
      "WARNING:root:Pred intent:\n",
      "WARNING:root:try exec instruction:homeauto.input('ruang kaca')\n",
      "WARNING:root:memprosess homeauto: False, lampu, ruang kaca\n"
     ]
    },
    {
     "name": "stdout",
     "output_type": "stream",
     "text": [
      "Reply: {'name':'None','followup':'None','prompt':'oke'}\n"
     ]
    },
    {
     "name": "stderr",
     "output_type": "stream",
     "text": [
      "WARNING:root:B:\n",
      "{'sequence': 0, 'intent': 'homeauto', 'intentscore': 0.0070441435, 'followup': 'None', 'intentfu': 'None', 'context': 'None', 'content': 'None', 'lastmsg': 'ruang kaca'}\n",
      "{'sequence': 0, 'intent': 'None', 'intentscore': 0.0, 'followup': 'None', 'intentfu': 'homeauto', 'context': 'None', 'content': 'None', 'lastmsg': 'Ruangan mana?', 'prompt': 'oke', 'process': 'None'}\n",
      "\n",
      "\n"
     ]
    },
    {
     "name": "stdout",
     "output_type": "stream",
     "text": [
      ">matikan lampu\n",
      "\n",
      "SENTENCE: matikan lampu\n"
     ]
    },
    {
     "name": "stderr",
     "output_type": "stream",
     "text": [
      "WARNING:root:SENTENCE:\n",
      "WARNING:root:A:matikan lampu\n",
      "WARNING:root:Pred intent:\n",
      "WARNING:root:try exec instruction:homeauto.input('matikan lampu')\n"
     ]
    },
    {
     "name": "stdout",
     "output_type": "stream",
     "text": [
      "Reply: {'name': 'ruang', 'followup': 'homeauto', 'method': 'ask', 'type': 'inlist', 'required': True, 'value': 'None', 'prompt': 'Ruangan mana?', 'list': ['ruang tamu', 'ruang kaca', 'ruang televisi', 'ruang TV', 'ruang tengah', 'ruangan tamu', 'ruangan kaca', 'ruangan televisi', 'ruangan TV', 'ruangan tengah', 'ruangan tidur', 'ruang makan', 'dapur', 'kamar inang']}\n"
     ]
    },
    {
     "name": "stderr",
     "output_type": "stream",
     "text": [
      "WARNING:root:B:\n",
      "{'sequence': 0, 'intent': 'homeauto', 'intentscore': 0.5003838, 'followup': 'None', 'intentfu': 'None', 'context': 'None', 'content': 'None', 'lastmsg': 'matikan lampu'}\n",
      "{'sequence': 0, 'intent': 'homeauto', 'intentscore': 0.0, 'followup': 'ruang', 'intentfu': 'homeauto', 'context': 'None', 'content': 'None', 'lastmsg': 'oke', 'prompt': 'Ruangan mana?', 'process': 'None'}\n",
      "\n",
      "\n"
     ]
    },
    {
     "name": "stdout",
     "output_type": "stream",
     "text": [
      ">ruangan tidur\n",
      "\n",
      "SENTENCE: ruangan tidur\n"
     ]
    },
    {
     "name": "stderr",
     "output_type": "stream",
     "text": [
      "WARNING:root:SENTENCE:\n",
      "WARNING:root:A:ruangan tidur\n",
      "WARNING:root:Pred intent:\n",
      "WARNING:root:try exec instruction:homeauto.input('ruangan tidur')\n"
     ]
    },
    {
     "name": "stdout",
     "output_type": "stream",
     "text": [
      "Reply: {'name': 'ruang', 'followup': 'homeauto', 'method': 'ask', 'type': 'inlist', 'required': True, 'value': 'None', 'prompt': 'Ruangan mana?', 'list': ['ruang tamu', 'ruang kaca', 'ruang televisi', 'ruang TV', 'ruang tengah', 'ruangan tamu', 'ruangan kaca', 'ruangan televisi', 'ruangan TV', 'ruangan tengah', 'ruangan tidur', 'ruang makan', 'dapur', 'kamar inang']}\n"
     ]
    },
    {
     "name": "stderr",
     "output_type": "stream",
     "text": [
      "WARNING:root:B:\n",
      "{'sequence': 0, 'intent': 'chitchat', 'intentscore': 0.0048632664, 'followup': 'None', 'intentfu': 'None', 'context': 'None', 'content': 'None', 'lastmsg': 'ruangan tidur'}\n",
      "{'sequence': 0, 'intent': 'chitchat', 'intentscore': 0.0, 'followup': 'ruang', 'intentfu': 'homeauto', 'context': 'None', 'content': 'None', 'lastmsg': 'Ruangan mana?', 'prompt': 'Ruangan mana?', 'process': 'None'}\n",
      "\n",
      "\n"
     ]
    },
    {
     "name": "stdout",
     "output_type": "stream",
     "text": [
      ">ruang makan\n",
      "\n",
      "SENTENCE: ruang makan\n"
     ]
    },
    {
     "name": "stderr",
     "output_type": "stream",
     "text": [
      "WARNING:root:SENTENCE:\n",
      "WARNING:root:A:ruang makan\n",
      "WARNING:root:Pred intent:\n",
      "WARNING:root:try exec instruction:homeauto.input('ruang makan')\n",
      "WARNING:root:memprosess homeauto: False, lampu, ruang makan\n"
     ]
    },
    {
     "name": "stdout",
     "output_type": "stream",
     "text": [
      "Reply: {'name':'None','followup':'None','prompt':'oke'}\n"
     ]
    },
    {
     "name": "stderr",
     "output_type": "stream",
     "text": [
      "WARNING:root:B:\n",
      "{'sequence': 0, 'intent': 'quran', 'intentscore': 0.0008673617, 'followup': 'None', 'intentfu': 'None', 'context': 'None', 'content': 'None', 'lastmsg': 'ruang makan'}\n",
      "{'sequence': 0, 'intent': 'None', 'intentscore': 0.0, 'followup': 'None', 'intentfu': 'homeauto', 'context': 'None', 'content': 'None', 'lastmsg': 'Ruangan mana?', 'prompt': 'oke', 'process': 'None'}\n",
      "\n",
      "\n"
     ]
    }
   ],
   "source": [
    "activechat=True\n",
    "print(\"KETIK 'q' untuk EXIT.\")\n",
    "while activechat:\n",
    "    myinput=input(\">\")\n",
    "    sequence(myinput,humanstate,botstate)\n",
    "    if myinput==\"q\":\n",
    "        activechat=False"
   ]
  },
  {
   "cell_type": "raw",
   "metadata": {},
   "source": [
    "t"
   ]
  },
  {
   "cell_type": "code",
   "execution_count": null,
   "metadata": {},
   "outputs": [],
   "source": [
    "browser aktif"
   ]
  },
  {
   "cell_type": "code",
   "execution_count": null,
   "metadata": {},
   "outputs": [],
   "source": []
  },
  {
   "cell_type": "code",
   "execution_count": null,
   "metadata": {},
   "outputs": [],
   "source": []
  }
 ],
 "metadata": {
  "kernelspec": {
   "display_name": "Python 3",
   "language": "python",
   "name": "python3"
  },
  "language_info": {
   "codemirror_mode": {
    "name": "ipython",
    "version": 3
   },
   "file_extension": ".py",
   "mimetype": "text/x-python",
   "name": "python",
   "nbconvert_exporter": "python",
   "pygments_lexer": "ipython3",
   "version": "3.6.4"
  }
 },
 "nbformat": 4,
 "nbformat_minor": 2
}
