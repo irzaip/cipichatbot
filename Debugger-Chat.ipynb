{
 "cells": [
  {
   "cell_type": "code",
   "execution_count": 1,
   "metadata": {
    "scrolled": true
   },
   "outputs": [
    {
     "name": "stderr",
     "output_type": "stream",
     "text": [
      "C:\\Anaconda3\\envs\\tensorflow\\lib\\site-packages\\gensim\\utils.py:1197: UserWarning: detected Windows; aliasing chunkize to chunkize_serial\n",
      "  warnings.warn(\"detected Windows; aliasing chunkize to chunkize_serial\")\n",
      "C:\\Anaconda3\\envs\\tensorflow\\lib\\site-packages\\h5py\\__init__.py:36: FutureWarning: Conversion of the second argument of issubdtype from `float` to `np.floating` is deprecated. In future, it will be treated as `np.float64 == np.dtype(float).type`.\n",
      "  from ._conv import register_converters as _register_converters\n",
      "Using TensorFlow backend.\n"
     ]
    },
    {
     "name": "stdout",
     "output_type": "stream",
     "text": [
      "[nltk_data] Downloading package punkt to\n",
      "[nltk_data]     C:\\Users\\Admin\\AppData\\Roaming\\nltk_data...\n",
      "[nltk_data]   Package punkt is already up-to-date!\n",
      "['affirmasi', 'awake', 'broadcast', 'browser', 'cctv_lewatmana', 'direktori', 'goodbye', 'google', 'homeauto', 'jam', 'lihat_gambar', 'negasi', 'quran', 'salam', 'tokopedia', 'translate', 'wikipedia', 'youtube']\n",
      "from data.affirmasi import affirmasi\n",
      "from data.awake import awake\n",
      "from data.broadcast import broadcast\n",
      "from data.browser import browser\n",
      "from data.cctv_lewatmana import cctv_lewatmana\n",
      "from data.direktori import direktori\n",
      "from data.goodbye import goodbye\n",
      "from data.google import google\n",
      "from data.homeauto import homeauto\n",
      "from data.jam import jam\n",
      "from data.lihat_gambar import lihat_gambar\n",
      "from data.negasi import negasi\n",
      "from data.quran import quran\n",
      "from data.salam import salam\n",
      "from data.tokopedia import tokopedia\n",
      "from data.translate import translate\n",
      "from data.wikipedia import wikipedia\n",
      "from data.youtube import youtube\n"
     ]
    }
   ],
   "source": [
    "from chat_proc import *"
   ]
  },
  {
   "cell_type": "code",
   "execution_count": null,
   "metadata": {},
   "outputs": [],
   "source": [
    "quran.input(\"Quran\")"
   ]
  },
  {
   "cell_type": "code",
   "execution_count": null,
   "metadata": {
    "scrolled": false
   },
   "outputs": [
    {
     "name": "stdout",
     "output_type": "stream",
     "text": [
      "KETIK 'q' untuk EXIT.\n",
      ">Quran\n",
      "\n",
      "SENTENCE: Quran\n",
      "\n",
      "BEGIN\n",
      "HUMANSTATE: {'sequence': 0, 'intent': 'quran', 'intentscore': 0.007145664, 'followup': 'None', 'intentfu': 'None', 'context': 'None', 'content': 'None', 'lastmsg': 'Quran'}\n",
      "BOTSTATE: {'sequence': 0, 'intent': 'None', 'intentscore': 0.0, 'followup': 'None', 'intentfu': 'None', 'context': 'None', 'content': 'None', 'lastmsg': 'None', 'prompt': 'None', 'process': 'None'}\n",
      "Sector C\n",
      "Sector E\n",
      "quran.input('Quran')\n",
      "\n",
      "END STATE\n",
      "HUMAN STATE: {'sequence': 0, 'intent': 'quran', 'intentscore': 0.007145664, 'followup': 'None', 'intentfu': 'None', 'context': 'None', 'content': 'None', 'lastmsg': 'Quran'}\n",
      "END BOTSTATE: {'sequence': 0, 'intent': 'quran', 'intentscore': 0.0, 'followup': 'surat', 'intentfu': 'quran', 'context': 'None', 'content': 'None', 'lastmsg': 'None', 'prompt': 'surat apa', 'process': 'None'}\n",
      "\n",
      "REPLY: surat apa\n",
      ">3\n",
      "\n",
      "SENTENCE: 3\n",
      "\n",
      "BEGIN\n",
      "HUMANSTATE: {'sequence': 0, 'intent': 'chitchat', 'intentscore': 0.0021215847, 'followup': 'None', 'intentfu': 'None', 'context': 'None', 'content': 'None', 'lastmsg': '3'}\n",
      "BOTSTATE: {'sequence': 0, 'intent': 'quran', 'intentscore': 0.0, 'followup': 'surat', 'intentfu': 'quran', 'context': 'None', 'content': 'None', 'lastmsg': 'None', 'prompt': 'surat apa', 'process': 'None'}\n",
      "Sector B\n",
      "quran.input('3')\n",
      "\n",
      "END STATE\n",
      "HUMAN STATE: {'sequence': 0, 'intent': 'chitchat', 'intentscore': 0.0021215847, 'followup': 'None', 'intentfu': 'None', 'context': 'None', 'content': 'None', 'lastmsg': '3'}\n",
      "END BOTSTATE: {'sequence': 0, 'intent': 'chitchat', 'intentscore': 0.0, 'followup': 'ayat', 'intentfu': 'quran', 'context': 'None', 'content': 'None', 'lastmsg': 'surat apa', 'prompt': 'ayat berapa', 'process': 'None'}\n",
      "\n",
      "REPLY: ayat berapa\n",
      ">4\n",
      "\n",
      "SENTENCE: 4\n",
      "\n",
      "BEGIN\n",
      "HUMANSTATE: {'sequence': 0, 'intent': 'chitchat', 'intentscore': 0.0021215847, 'followup': 'None', 'intentfu': 'None', 'context': 'None', 'content': 'None', 'lastmsg': '4'}\n",
      "BOTSTATE: {'sequence': 0, 'intent': 'chitchat', 'intentscore': 0.0, 'followup': 'ayat', 'intentfu': 'quran', 'context': 'None', 'content': 'None', 'lastmsg': 'surat apa', 'prompt': 'ayat berapa', 'process': 'None'}\n",
      "Sector B\n",
      "quran.input('4')\n",
      "\n",
      "END STATE\n",
      "HUMAN STATE: {'sequence': 0, 'intent': 'chitchat', 'intentscore': 0.0021215847, 'followup': 'None', 'intentfu': 'None', 'context': 'None', 'content': 'None', 'lastmsg': '4'}\n",
      "END BOTSTATE: {'sequence': 0, 'intent': 'None', 'intentscore': 0.0, 'followup': 'None', 'intentfu': 'quran', 'context': 'None', 'content': 'None', 'lastmsg': 'ayat berapa', 'prompt': 'oke', 'process': 'None'}\n",
      "\n",
      "REPLY: oke\n",
      ">jebret\n",
      "\n",
      "SENTENCE: jebret\n",
      "Problem at phrase: jebret\n",
      "\n",
      "BEGIN\n",
      "HUMANSTATE: {'sequence': 0, 'intent': 'homeauto', 'intentscore': 0.1108341, 'followup': 'None', 'intentfu': 'None', 'context': 'None', 'content': 'None', 'lastmsg': 'jebret'}\n",
      "BOTSTATE: {'sequence': 0, 'intent': 'None', 'intentscore': 0.0, 'followup': 'None', 'intentfu': 'quran', 'context': 'None', 'content': 'None', 'lastmsg': 'ayat berapa', 'prompt': 'oke', 'process': 'None'}\n",
      "Sector C\n",
      "Sector E\n",
      "homeauto.input('jebret')\n",
      "\n",
      "END STATE\n",
      "HUMAN STATE: {'sequence': 0, 'intent': 'homeauto', 'intentscore': 0.1108341, 'followup': 'None', 'intentfu': 'None', 'context': 'None', 'content': 'None', 'lastmsg': 'jebret'}\n",
      "END BOTSTATE: {'sequence': 0, 'intent': 'homeauto', 'intentscore': 0.0, 'followup': 'ruang', 'intentfu': 'homeauto', 'context': 'None', 'content': 'None', 'lastmsg': 'oke', 'prompt': 'Ruangan mana?', 'process': 'None'}\n",
      "\n",
      "REPLY: Ruangan mana?\n",
      ">ruang tidur\n",
      "\n",
      "SENTENCE: ruang tidur\n",
      "\n",
      "BEGIN\n",
      "HUMANSTATE: {'sequence': 0, 'intent': 'awake', 'intentscore': 0.026753325, 'followup': 'None', 'intentfu': 'None', 'context': 'None', 'content': 'None', 'lastmsg': 'ruang tidur'}\n",
      "BOTSTATE: {'sequence': 0, 'intent': 'homeauto', 'intentscore': 0.0, 'followup': 'ruang', 'intentfu': 'homeauto', 'context': 'None', 'content': 'None', 'lastmsg': 'oke', 'prompt': 'Ruangan mana?', 'process': 'None'}\n",
      "Sector B\n",
      "homeauto.input('ruang tidur')\n",
      "\n",
      "END STATE\n",
      "HUMAN STATE: {'sequence': 0, 'intent': 'awake', 'intentscore': 0.026753325, 'followup': 'None', 'intentfu': 'None', 'context': 'None', 'content': 'None', 'lastmsg': 'ruang tidur'}\n",
      "END BOTSTATE: {'sequence': 0, 'intent': 'None', 'intentscore': 0.0, 'followup': 'None', 'intentfu': 'homeauto', 'context': 'None', 'content': 'None', 'lastmsg': 'Ruangan mana?', 'prompt': 'oke', 'process': 'None'}\n",
      "\n",
      "REPLY: oke\n",
      ">matiin lampu\n",
      "\n",
      "SENTENCE: matiin lampu\n",
      "Problem at phrase: matiin\n",
      "\n",
      "BEGIN\n",
      "HUMANSTATE: {'sequence': 0, 'intent': 'homeauto', 'intentscore': 0.573294, 'followup': 'None', 'intentfu': 'None', 'context': 'None', 'content': 'None', 'lastmsg': 'matiin lampu'}\n",
      "BOTSTATE: {'sequence': 0, 'intent': 'None', 'intentscore': 0.0, 'followup': 'None', 'intentfu': 'homeauto', 'context': 'None', 'content': 'None', 'lastmsg': 'Ruangan mana?', 'prompt': 'oke', 'process': 'None'}\n",
      "Sector C\n",
      "Sector E\n",
      "homeauto.input('matiin lampu')\n",
      "\n",
      "END STATE\n",
      "HUMAN STATE: {'sequence': 0, 'intent': 'homeauto', 'intentscore': 0.573294, 'followup': 'None', 'intentfu': 'None', 'context': 'None', 'content': 'None', 'lastmsg': 'matiin lampu'}\n",
      "END BOTSTATE: {'sequence': 0, 'intent': 'None', 'intentscore': 0.0, 'followup': 'None', 'intentfu': 'homeauto', 'context': 'None', 'content': 'None', 'lastmsg': 'oke', 'prompt': 'oke', 'process': 'None'}\n",
      "\n",
      "REPLY: oke\n",
      ">matikan lampu\n",
      "\n",
      "SENTENCE: matikan lampu\n",
      "\n",
      "BEGIN\n",
      "HUMANSTATE: {'sequence': 0, 'intent': 'homeauto', 'intentscore': 0.5003838, 'followup': 'None', 'intentfu': 'None', 'context': 'None', 'content': 'None', 'lastmsg': 'matikan lampu'}\n",
      "BOTSTATE: {'sequence': 0, 'intent': 'None', 'intentscore': 0.0, 'followup': 'None', 'intentfu': 'homeauto', 'context': 'None', 'content': 'None', 'lastmsg': 'oke', 'prompt': 'oke', 'process': 'None'}\n",
      "Sector C\n",
      "Sector E\n",
      "homeauto.input('matikan lampu')\n",
      "\n",
      "END STATE\n",
      "HUMAN STATE: {'sequence': 0, 'intent': 'homeauto', 'intentscore': 0.5003838, 'followup': 'None', 'intentfu': 'None', 'context': 'None', 'content': 'None', 'lastmsg': 'matikan lampu'}\n",
      "END BOTSTATE: {'sequence': 0, 'intent': 'None', 'intentscore': 0.0, 'followup': 'None', 'intentfu': 'homeauto', 'context': 'None', 'content': 'None', 'lastmsg': 'oke', 'prompt': 'oke', 'process': 'None'}\n",
      "\n",
      "REPLY: oke\n",
      ">matikan\n",
      "\n",
      "SENTENCE: matikan\n",
      "\n",
      "BEGIN\n",
      "HUMANSTATE: {'sequence': 0, 'intent': 'homeauto', 'intentscore': 0.11304935, 'followup': 'None', 'intentfu': 'None', 'context': 'None', 'content': 'None', 'lastmsg': 'matikan'}\n",
      "BOTSTATE: {'sequence': 0, 'intent': 'None', 'intentscore': 0.0, 'followup': 'None', 'intentfu': 'homeauto', 'context': 'None', 'content': 'None', 'lastmsg': 'oke', 'prompt': 'oke', 'process': 'None'}\n",
      "Sector C\n",
      "Sector E\n",
      "homeauto.input('matikan')\n",
      "\n",
      "END STATE\n",
      "HUMAN STATE: {'sequence': 0, 'intent': 'homeauto', 'intentscore': 0.11304935, 'followup': 'None', 'intentfu': 'None', 'context': 'None', 'content': 'None', 'lastmsg': 'matikan'}\n",
      "END BOTSTATE: {'sequence': 0, 'intent': 'None', 'intentscore': 0.0, 'followup': 'None', 'intentfu': 'homeauto', 'context': 'None', 'content': 'None', 'lastmsg': 'oke', 'prompt': 'oke', 'process': 'None'}\n",
      "\n",
      "REPLY: oke\n",
      ">apakah\n",
      "\n",
      "SENTENCE: apakah\n",
      "\n",
      "BEGIN\n",
      "HUMANSTATE: {'sequence': 0, 'intent': 'chitchat', 'intentscore': 0.0029293562, 'followup': 'None', 'intentfu': 'None', 'context': 'None', 'content': 'None', 'lastmsg': 'apakah'}\n",
      "BOTSTATE: {'sequence': 0, 'intent': 'None', 'intentscore': 0.0, 'followup': 'None', 'intentfu': 'homeauto', 'context': 'None', 'content': 'None', 'lastmsg': 'oke', 'prompt': 'oke', 'process': 'None'}\n",
      "Sector E\n",
      "chitchat.input('apakah')\n",
      "\n",
      "END STATE\n",
      "HUMAN STATE: {'sequence': 0, 'intent': 'chitchat', 'intentscore': 0.0029293562, 'followup': 'None', 'intentfu': 'None', 'context': 'None', 'content': 'None', 'lastmsg': 'apakah'}\n",
      "END BOTSTATE: {'sequence': 0, 'intent': 'chitchat', 'intentscore': 0.0, 'followup': 'None', 'intentfu': 'None', 'context': 'None', 'content': 'None', 'lastmsg': 'oke', 'prompt': 'nama saya cipi', 'process': 'None'}\n",
      "\n",
      "REPLY: nama saya cipi\n",
      ">jam berapa sekarang\n",
      "\n",
      "SENTENCE: jam berapa sekarang\n",
      "\n",
      "BEGIN\n",
      "HUMANSTATE: {'sequence': 0, 'intent': 'jam', 'intentscore': 0.34860206, 'followup': 'None', 'intentfu': 'None', 'context': 'None', 'content': 'None', 'lastmsg': 'jam berapa sekarang'}\n"
     ]
    },
    {
     "name": "stdout",
     "output_type": "stream",
     "text": [
      "BOTSTATE: {'sequence': 0, 'intent': 'chitchat', 'intentscore': 0.0, 'followup': 'None', 'intentfu': 'None', 'context': 'None', 'content': 'None', 'lastmsg': 'oke', 'prompt': 'nama saya cipi', 'process': 'None'}\n",
      "Sector C\n",
      "Sector E\n",
      "jam.input('jam berapa sekarang')\n",
      "\n",
      "END STATE\n",
      "HUMAN STATE: {'sequence': 0, 'intent': 'jam', 'intentscore': 0.34860206, 'followup': 'None', 'intentfu': 'None', 'context': 'None', 'content': 'None', 'lastmsg': 'jam berapa sekarang'}\n",
      "END BOTSTATE: {'sequence': 0, 'intent': 'jam', 'intentscore': 0.0, 'followup': 'None', 'intentfu': 'None', 'context': 'None', 'content': 'None', 'lastmsg': 'nama saya cipi', 'prompt': 'sekarang jam, 8:12', 'process': 'None'}\n",
      "\n",
      "REPLY: sekarang jam, 8:12\n"
     ]
    }
   ],
   "source": [
    "activechat=True\n",
    "print(\"KETIK 'q' untuk EXIT.\")\n",
    "while activechat:\n",
    "    myinput=input(\">\")\n",
    "    sequence(myinput,humanstate,botstate)\n",
    "    if myinput==\"q\":\n",
    "        activechat=False"
   ]
  },
  {
   "cell_type": "raw",
   "metadata": {},
   "source": [
    "t"
   ]
  },
  {
   "cell_type": "code",
   "execution_count": null,
   "metadata": {},
   "outputs": [],
   "source": [
    "browser aktif"
   ]
  },
  {
   "cell_type": "code",
   "execution_count": null,
   "metadata": {},
   "outputs": [],
   "source": []
  },
  {
   "cell_type": "code",
   "execution_count": null,
   "metadata": {},
   "outputs": [],
   "source": []
  }
 ],
 "metadata": {
  "kernelspec": {
   "display_name": "Python 3",
   "language": "python",
   "name": "python3"
  },
  "language_info": {
   "codemirror_mode": {
    "name": "ipython",
    "version": 3
   },
   "file_extension": ".py",
   "mimetype": "text/x-python",
   "name": "python",
   "nbconvert_exporter": "python",
   "pygments_lexer": "ipython3",
   "version": "3.6.4"
  }
 },
 "nbformat": 4,
 "nbformat_minor": 2
}
