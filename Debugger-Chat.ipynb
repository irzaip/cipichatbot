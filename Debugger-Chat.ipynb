{
 "cells": [
  {
   "cell_type": "code",
   "execution_count": 10,
   "metadata": {
    "scrolled": true
   },
   "outputs": [],
   "source": [
    "from chat_proc import *"
   ]
  },
  {
   "cell_type": "code",
   "execution_count": 16,
   "metadata": {},
   "outputs": [
    {
     "data": {
      "text/plain": [
       "\"{'name': 'None', 'followup': 'None', 'prompt': 'Memproses hello di ruang tengah'}\""
      ]
     },
     "execution_count": 16,
     "metadata": {},
     "output_type": "execute_result"
    }
   ],
   "source": [
    "homeauto.input(\"matikan lampu ruangan tengah\")"
   ]
  },
  {
   "cell_type": "code",
   "execution_count": null,
   "metadata": {
    "scrolled": false
   },
   "outputs": [
    {
     "name": "stdout",
     "output_type": "stream",
     "text": [
      "KETIK 'q' untuk EXIT.\n",
      ">quran\n",
      "\n",
      "SENTENCE: quran\n"
     ]
    },
    {
     "name": "stderr",
     "output_type": "stream",
     "text": [
      "WARNING:root:SENTENCE:\n",
      "WARNING:root:A:quran\n",
      "WARNING:root:Pred intent:\n",
      "WARNING:root:try exec instruction:quran.input('quran')\n",
      "WARNING:root:B:\n",
      "{'sequence': 0, 'intent': 'quran', 'intentscore': 0.007145664, 'followup': 'None', 'intentfu': 'None', 'context': 'None', 'content': 'None', 'lastmsg': 'quran'}\n",
      "{'sequence': 0, 'intent': 'quran', 'intentscore': 0.0, 'followup': 'surat', 'intentfu': 'quran', 'context': 'None', 'content': 'None', 'lastmsg': 'None', 'prompt': 'surat apa', 'process': 'None'}\n",
      "\n",
      "\n"
     ]
    },
    {
     "name": "stdout",
     "output_type": "stream",
     "text": [
      ">23\n",
      "\n",
      "SENTENCE: 23\n"
     ]
    },
    {
     "name": "stderr",
     "output_type": "stream",
     "text": [
      "WARNING:root:SENTENCE:\n",
      "WARNING:root:A:23\n",
      "WARNING:root:Pred intent:\n",
      "WARNING:root:try exec instruction:quran.input('23')\n",
      "WARNING:root:B:\n",
      "{'sequence': 0, 'intent': 'chitchat', 'intentscore': 0.0021215847, 'followup': 'None', 'intentfu': 'None', 'context': 'None', 'content': 'None', 'lastmsg': '23'}\n",
      "{'sequence': 0, 'intent': 'chitchat', 'intentscore': 0.0, 'followup': 'ayat', 'intentfu': 'quran', 'context': 'None', 'content': 'None', 'lastmsg': 'surat apa', 'prompt': 'ayat berapa', 'process': 'None'}\n",
      "\n",
      "\n"
     ]
    },
    {
     "name": "stdout",
     "output_type": "stream",
     "text": [
      ">33\n",
      "\n",
      "SENTENCE: 33\n"
     ]
    },
    {
     "name": "stderr",
     "output_type": "stream",
     "text": [
      "WARNING:root:SENTENCE:\n",
      "WARNING:root:A:33\n",
      "WARNING:root:Pred intent:\n",
      "WARNING:root:try exec instruction:quran.input('33')\n"
     ]
    },
    {
     "name": "stdout",
     "output_type": "stream",
     "text": [
      "memprosess quran: 23 33\n"
     ]
    },
    {
     "name": "stderr",
     "output_type": "stream",
     "text": [
      "WARNING:root:B:\n",
      "{'sequence': 0, 'intent': 'chitchat', 'intentscore': 0.0021215847, 'followup': 'None', 'intentfu': 'None', 'context': 'None', 'content': 'None', 'lastmsg': '33'}\n",
      "{'sequence': 0, 'intent': 'None', 'intentscore': 0.0, 'followup': 'None', 'intentfu': 'quran', 'context': 'None', 'content': 'None', 'lastmsg': 'ayat berapa', 'prompt': 'oke', 'process': 'None'}\n",
      "\n",
      "\n"
     ]
    }
   ],
   "source": [
    "activechat=True\n",
    "print(\"KETIK 'q' untuk EXIT.\")\n",
    "while activechat:\n",
    "    myinput=input(\">\")\n",
    "    sequence(myinput,humanstate,botstate)\n",
    "    if myinput==\"q\":\n",
    "        activechat=False"
   ]
  },
  {
   "cell_type": "raw",
   "metadata": {},
   "source": [
    "t"
   ]
  },
  {
   "cell_type": "code",
   "execution_count": null,
   "metadata": {},
   "outputs": [],
   "source": [
    "browser aktif"
   ]
  },
  {
   "cell_type": "code",
   "execution_count": null,
   "metadata": {},
   "outputs": [],
   "source": []
  },
  {
   "cell_type": "code",
   "execution_count": null,
   "metadata": {},
   "outputs": [],
   "source": []
  }
 ],
 "metadata": {
  "kernelspec": {
   "display_name": "Python 3",
   "language": "python",
   "name": "python3"
  },
  "language_info": {
   "codemirror_mode": {
    "name": "ipython",
    "version": 3
   },
   "file_extension": ".py",
   "mimetype": "text/x-python",
   "name": "python",
   "nbconvert_exporter": "python",
   "pygments_lexer": "ipython3",
   "version": "3.6.4"
  }
 },
 "nbformat": 4,
 "nbformat_minor": 2
}
