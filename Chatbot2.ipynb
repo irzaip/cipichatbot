{
 "cells": [
  {
   "cell_type": "code",
   "execution_count": 12,
   "metadata": {},
   "outputs": [
    {
     "name": "stderr",
     "output_type": "stream",
     "text": [
      "C:\\Anaconda3\\envs\\tensorflow\\lib\\site-packages\\gensim\\utils.py:1197: UserWarning: detected Windows; aliasing chunkize to chunkize_serial\n",
      "  warnings.warn(\"detected Windows; aliasing chunkize to chunkize_serial\")\n"
     ]
    }
   ],
   "source": [
    "import soundfile\n",
    "import sounddevice\n",
    "import codecs\n",
    "import glob\n",
    "import multiprocessing\n",
    "import re\n",
    "import nltk\n",
    "import gensim.models.word2vec as w2v\n",
    "import numpy as np\n",
    "import matplotlib.pyplot as plt\n",
    "import pandas as pd\n",
    "import os\n",
    "import gensim\n",
    "from sklearn.model_selection import train_test_split\n",
    "import pprint\n",
    "from pyautogui import alert"
   ]
  },
  {
   "cell_type": "code",
   "execution_count": 13,
   "metadata": {},
   "outputs": [
    {
     "name": "stderr",
     "output_type": "stream",
     "text": [
      "C:\\Anaconda3\\envs\\tensorflow\\lib\\site-packages\\h5py\\__init__.py:36: FutureWarning: Conversion of the second argument of issubdtype from `float` to `np.floating` is deprecated. In future, it will be treated as `np.float64 == np.dtype(float).type`.\n",
      "  from ._conv import register_converters as _register_converters\n",
      "Using TensorFlow backend.\n"
     ]
    }
   ],
   "source": [
    "import keras\n",
    "smodel = keras.models.load_model(\"./DeadSimpleSpeechRecognizer/chippy_v1.model\")\n",
    "model = keras.models.load_model(\"model1.chatbot\")"
   ]
  },
  {
   "cell_type": "code",
   "execution_count": 14,
   "metadata": {},
   "outputs": [],
   "source": [
    "# Second dimension of the feature is dim2\n",
    "feature_dim_2 = 11\n",
    "\n",
    "# # Feature dimension\n",
    "feature_dim_1 = 20\n",
    "channel = 1\n",
    "epochs = 50\n",
    "batch_size = 100\n",
    "verbose = 1\n",
    "num_classes = 2"
   ]
  },
  {
   "cell_type": "code",
   "execution_count": 15,
   "metadata": {},
   "outputs": [],
   "source": [
    "interrupted = False\n",
    "yesno_state = False\n",
    "listen_state = False\n",
    "talk_state = False\n",
    "cmd = \"\"\n",
    "headless = False\n",
    "i_quit = False"
   ]
  },
  {
   "cell_type": "markdown",
   "metadata": {},
   "source": [
    "### WORD TOKEN UTILITY"
   ]
  },
  {
   "cell_type": "code",
   "execution_count": 16,
   "metadata": {},
   "outputs": [
    {
     "name": "stdout",
     "output_type": "stream",
     "text": [
      "['affirmasi', 'cctv_lewatmana', 'goodbye', 'lihat_gambar', 'negasi', 'salam']\n",
      "from data.affirmasi import affirmasi\n",
      "from data.cctv_lewatmana import cctv_lewatmana\n",
      "from data.goodbye import goodbye\n",
      "from data.lihat_gambar import lihat_gambar\n",
      "from data.negasi import negasi\n",
      "from data.salam import salam\n"
     ]
    }
   ],
   "source": [
    "from chat_wordvec import *\n",
    "from intent_builder import *\n",
    "from chat_iface import *\n",
    "import chitchat as chitchat\n",
    "from preprocess import *"
   ]
  },
  {
   "cell_type": "code",
   "execution_count": 17,
   "metadata": {},
   "outputs": [],
   "source": [
    "humanstate={\n",
    "    'sequence': 0,\n",
    "    'intent':'None',\n",
    "    'intentscore': 0.,\n",
    "    'followup': 'None',\n",
    "    'intentfu': 'None',\n",
    "    'context': 'None',\n",
    "    'content': 'None',\n",
    "    'lastmsg': 'None'\n",
    "}\n",
    "botstate={\n",
    "    'sequence': 0,\n",
    "    'intent':'None',\n",
    "    'intentscore': 0.,\n",
    "    'followup': 'None',\n",
    "    'intentfu': 'None',\n",
    "    'context': 'None',\n",
    "    'content': 'None',\n",
    "    'lastmsg': 'None',\n",
    "    'prompt': 'None',\n",
    "    'process': 'None'\n",
    "}"
   ]
  },
  {
   "cell_type": "code",
   "execution_count": 18,
   "metadata": {},
   "outputs": [],
   "source": [
    "def pred(sentence):\n",
    "    \"\"\"memprediksi masuk intent apakah sebuah kalimat.\"\"\"\n",
    "    predictions=model.predict(np.array([swv_ar(twl(sentence))]))\n",
    "    cls_pred = np.argmax(predictions,axis=1)\n",
    "   \n",
    "    result={'intent': intent[cls_pred[0]], 'score': predictions.max(), 'sentence': sentence}\n",
    "    return result\n",
    "\n",
    "\n",
    "def sequence(sentence,humanstate,botstate):\n",
    "    \"\"\"urutan memproses sebuah kalimat menjadi sebuah reply\"\"\"\n",
    "    print(\"SENTENCE:\",sentence)\n",
    "    humanstate,botstate = input_classifier(sentence,humanstate,botstate)\n",
    "    humanstate,botstate = input_processor(humanstate,botstate)\n",
    "    print(\"HEREBOT:\",botstate)\n",
    "    output,humanstate,botstate = reply_creator(humanstate,botstate)\n",
    "    return output,humanstate,botstate"
   ]
  },
  {
   "cell_type": "code",
   "execution_count": null,
   "metadata": {},
   "outputs": [],
   "source": []
  },
  {
   "cell_type": "code",
   "execution_count": 19,
   "metadata": {},
   "outputs": [],
   "source": [
    "listening = False\n",
    "\n",
    "def input_classifier(sentence,humanstate,botstate):\n",
    "    result = pred(sentence)\n",
    "    humanstate['lastmsg']=sentence\n",
    "    humanstate['intent']=result['intent']\n",
    "    humanstate['intentscore']=result['score']\n",
    "    scoremasukan = result['score']\n",
    "    minimum_score = min_pred[result['intent']]\n",
    "    \n",
    "    #PERUBAHAN INTENT APABILA SCORE DIBAWAH YANG DI TENTUKAN\n",
    "    if  scoremasukan > minimum_score :\n",
    "        pass\n",
    "    else:\n",
    "        #karena lebih kecil dari score- maka ini chitchat\n",
    "        humanstate['intent']='chitchat'\n",
    "    return humanstate,botstate\n",
    "\n",
    "def input_processor(humanstate,botstate):\n",
    "    global listening\n",
    "    botstate['lastmsg']=botstate['prompt']\n",
    "    \n",
    "    if botstate['intent']=='goodbye':\n",
    "        print(\"Goodbye\")\n",
    "        listening=False\n",
    "        \n",
    "    #EXEKUSI FOLLOWUP SECARA PRIORITAS - apakah bot sebelumnya minta followup?\n",
    "    if botstate['followup'] != 'None':\n",
    "            #kalau negasi setelah followup bot maka batal semua\n",
    "            if humanstate['intent'] == 'negasi':\n",
    "                botstate['intent']='None'\n",
    "                botstate['followup']='None'\n",
    "                botstate['name']='None'\n",
    "                botstate['prompt']='batal'\n",
    "                instruction=\"{'name':'None','followup':'None','intentfu':'None','prompt':'pembatalan'}\"\n",
    "            else:\n",
    "                instruction = botstate['intentfu']+'.'+\"input(\\'\"+humanstate['lastmsg']+\"\\')\"\n",
    "                print(instruction)\n",
    "    else:\n",
    "        \n",
    "        if humanstate['intent'] != 'chitchat':\n",
    "            instruction = humanstate['intent']+'.'+\"input(\\'\"+humanstate['lastmsg']+\"\\')\"\n",
    "            print(instruction)\n",
    "        else:\n",
    "            if humanstate['intent'] == 'goodbye':\n",
    "                print(\"I will quit\")\n",
    "            rd = alert(text='Realy close this app?', title='REQUEST', button='OK', timeout=5000)\n",
    "            if rd == \"OK\":\n",
    "                listening = False\n",
    "                instruction='print(\"I QUIT\")'\n",
    "                try:\n",
    "                    s_iface.close()\n",
    "                except:\n",
    "                    pass\n",
    "            #TARUH DISINI UNTUK RUTIN CHITCHAT - dan kurang mengerti apa yang di bilang.\n",
    "        \n",
    "        print(instruction, \"intent driven\")\n",
    "        \n",
    "    #EXECUTE COMMAND =======================\n",
    "    rslt = eval(instruction)\n",
    "    # ======================================            \n",
    "    \n",
    "    \n",
    "    #proses kembali jawaban dari EVAL\n",
    "    if type(rslt) is not dict:\n",
    "        botstate['intent'] = 'None'\n",
    "        botstate['followup'] = 'None'\n",
    "        botstate['prompt'] = 'oke'\n",
    "        \n",
    "    else:\n",
    "        botstate['intent'] = humanstate['intent']\n",
    "        botstate['followup'] = rslt['name']\n",
    "        botstate['intentfu'] = rslt['followup']\n",
    "        botstate['prompt']= rslt['prompt']\n",
    "\n",
    "    return humanstate, botstate\n",
    "\n",
    "def reply_creator(humanstate,botstate):\n",
    "    output=botstate['prompt']\n",
    "    \n",
    "    if botstate['process'] != 'None':\n",
    "        eval(botstate['process'])\n",
    "    pprint.pformat(humanstate)\n",
    "    print(pprint.pformat(botstate))\n",
    "    return output, humanstate, botstate    "
   ]
  },
  {
   "cell_type": "markdown",
   "metadata": {},
   "source": [
    "min_pred = {'lihat_gambar': 0.2 ,\n",
    "            'cctv_lewatmana': 0.2, \n",
    "            'salam': 0.1, \n",
    "            'affirmasi': 0.1,\n",
    "            'negasi': 0.1,\n",
    "            'goodbye': 0.1}"
   ]
  },
  {
   "cell_type": "code",
   "execution_count": 20,
   "metadata": {
    "scrolled": true
   },
   "outputs": [
    {
     "name": "stdout",
     "output_type": "stream",
     "text": [
      "SENTENCE: see you\n",
      "goodbye.input('see you')\n",
      "goodbye.input('see you') intent driven\n",
      "HEREBOT: {'sequence': 0, 'intent': 'goodbye', 'intentscore': 0.0, 'followup': 'None', 'intentfu': 'None', 'context': 'None', 'content': 'None', 'lastmsg': 'None', 'prompt': 'sampai jumpa', 'process': 'None'}\n",
      "{'content': 'None',\n",
      " 'context': 'None',\n",
      " 'followup': 'None',\n",
      " 'intent': 'goodbye',\n",
      " 'intentfu': 'None',\n",
      " 'intentscore': 0.0,\n",
      " 'lastmsg': 'None',\n",
      " 'process': 'None',\n",
      " 'prompt': 'sampai jumpa',\n",
      " 'sequence': 0}\n"
     ]
    },
    {
     "data": {
      "text/plain": [
       "('sampai jumpa',\n",
       " {'content': 'None',\n",
       "  'context': 'None',\n",
       "  'followup': 'None',\n",
       "  'intent': 'goodbye',\n",
       "  'intentfu': 'None',\n",
       "  'intentscore': 0.42131236,\n",
       "  'lastmsg': 'see you',\n",
       "  'sequence': 0},\n",
       " {'content': 'None',\n",
       "  'context': 'None',\n",
       "  'followup': 'None',\n",
       "  'intent': 'goodbye',\n",
       "  'intentfu': 'None',\n",
       "  'intentscore': 0.0,\n",
       "  'lastmsg': 'None',\n",
       "  'process': 'None',\n",
       "  'prompt': 'sampai jumpa',\n",
       "  'sequence': 0})"
      ]
     },
     "execution_count": 20,
     "metadata": {},
     "output_type": "execute_result"
    }
   ],
   "source": [
    "sequence(\"see you\",humanstate,botstate)"
   ]
  },
  {
   "cell_type": "code",
   "execution_count": 21,
   "metadata": {},
   "outputs": [],
   "source": [
    "import soundfile\n",
    "import itertools\n",
    "import time\n",
    "import librosa\n",
    "import sounddevice\n",
    "\n",
    "\n",
    "DURATION=20\n",
    "gain=10\n",
    "high=2000\n",
    "low=100\n",
    "screenwidth=79\n",
    "predicting=False\n",
    "\n",
    "\n",
    "def record(length=1, reclength=1, filename=None, thres=0):\n",
    "    \"\"\" \n",
    "    Merekam suara secara stream dan metode callback\n",
    "    \"\"\"\n",
    "\n",
    "    global cumulated_status, end_count, start_count, recording, magnitudo, audiodata, predicting, i_quit, listening\n",
    "    predicting=False\n",
    "    listening=True\n",
    "    end_count=False\n",
    "    start_count = 0\n",
    "    recording=False\n",
    "    magnitudo=[]\n",
    "    audiodata=[]\n",
    "    try:\n",
    "        import sounddevice as sd\n",
    "\n",
    "        #samplerate = sd.query_devices(args.device, 'input')['default_samplerate']\n",
    "        samplerate = 16000.0\n",
    "\n",
    "        delta_f = (high - low) / screenwidth\n",
    "        fftsize = np.ceil(samplerate / delta_f).astype(int)\n",
    "        low_bin = int(np.floor(low / delta_f))\n",
    "\n",
    "        cumulated_status = sd.CallbackFlags()\n",
    "\n",
    "        def callback(indata, frames, time, status):\n",
    "            global cumulated_status, audiodata, magnitudo, end_count, start_count, recording, smodel, predicting, i_quit\n",
    "            \n",
    "            cumulated_status |= status\n",
    "            if any(indata):\n",
    "                magnitude = np.abs(np.fft.rfft(indata[:, 0], n=fftsize))\n",
    "                magnitude *= gain / fftsize\n",
    "\n",
    "                rms = librosa.feature.rmse(S=indata)\n",
    "                rms = int(rms*32768)\n",
    "                start_count += 1\n",
    "                if rms>=thres:\n",
    "                    if not recording :                    #and not end_count\n",
    "                        #print(\"Start record\")\n",
    "                        recording = True\n",
    "                        start_count = 0\n",
    "                        \n",
    "                        \n",
    "                if recording:\n",
    "                    audiodata.extend(itertools.chain(indata.tolist()))\n",
    "                    magnitudo.append(magnitude)\n",
    "                    if start_count == int(samplerate / (samplerate * DURATION / 1000)):\n",
    "                        #print(\"End record\")\n",
    "                        start_count=0\n",
    "                        end_count=True\n",
    "                        recording=False\n",
    "                        try:\n",
    "                            if not predicting:\n",
    "                                print(\"Predict\")\n",
    "                                soundfile.write(\"temp.wav\",audiodata,16000)\n",
    "                                predict(\"temp.wav\", model=smodel)\n",
    "                                predicting=False\n",
    "                            pass\n",
    "                        except:\n",
    "                            pass\n",
    "                        audiodata=[]\n",
    "\n",
    "\n",
    "\n",
    "        with sd.InputStream(device=None, channels=1, callback=callback,\n",
    "                            blocksize=int(samplerate * DURATION / 1000),\n",
    "                            samplerate=samplerate):\n",
    "            while True:\n",
    "                #response = input()\n",
    "                #if response in ('', 'q', 'Q'):\n",
    "                if listening==False:\n",
    "                #time.sleep(length)\n",
    "                    break\n",
    "            if filename!=None: soundfile.write(filename,audiodata,16000)\n",
    "\n",
    "        if cumulated_status:\n",
    "            logging.warning(str(cumulated_status))\n",
    "    except Exception as e:\n",
    "        print(e)"
   ]
  },
  {
   "cell_type": "code",
   "execution_count": 22,
   "metadata": {},
   "outputs": [],
   "source": [
    "\n",
    "# Predicts one sample\n",
    "def predict(filepath, model):\n",
    "    \n",
    "    global s_iface, humanstate, botstate,predicting\n",
    "    predicting=True\n",
    "    sv,sr = soundfile.read('./Ring09.wav')\n",
    "    sample = wav2mfcc(filepath)\n",
    "    sample_reshaped = sample.reshape(1, feature_dim_1, feature_dim_2, channel)\n",
    "    y_pred = model.predict(sample_reshaped)\n",
    "    y_max = np.max(y_pred) #nilai akurasi prediksi\n",
    "    ypred = np.argmax(y_pred) #yg di prediksi adalah cipi\n",
    "    cipi_recognized = (y_max>0.9 and ypred==1)\n",
    "    \n",
    "    if cipi_recognized:\n",
    "        followup = False\n",
    "        print(\"Predicted:\" ,get_labels()[0][ypred],y_max, ypred)\n",
    "        sounddevice.play(sv,samplerate=16000)\n",
    "        #sudah di kenali \n",
    "        \n",
    "        speech = get_speech(s_iface)\n",
    "        if speech == \"\":\n",
    "            speech = \"hello\"\n",
    "        reply,humanstate,botstate = sequence(speech,humanstate,botstate)\n",
    "        clear(s_iface)\n",
    "        testalk(botstate['prompt'],s_iface)\n",
    "        print(botstate['followup'])\n",
    "        bot_lagi_followup = (botstate['followup'] != 'None')\n",
    "        \n",
    "        if bot_lagi_followup:\n",
    "            followup=True\n",
    "            print('followup teridentifikasi')\n",
    "        \n",
    "        while followup:\n",
    "            playding()\n",
    "            speech = get_speech(s_iface)\n",
    "            reply,humanstate,botstate = sequence(speech,humanstate,botstate)\n",
    "            print('sudah diambil')\n",
    "            clear(s_iface)\n",
    "            testalk(botstate['prompt'],s_iface)\n",
    "            if botstate['followup'] != 'None':\n",
    "                followup=True\n",
    "                \n",
    "            else:\n",
    "                followup=False\n",
    "                break\n",
    "    predicting=False\n",
    "    return get_labels()[0][ypred]"
   ]
  },
  {
   "cell_type": "code",
   "execution_count": 23,
   "metadata": {},
   "outputs": [],
   "source": [
    "from selenium import webdriver\n",
    "\n",
    "headless = False\n",
    "chrome_options = webdriver.ChromeOptions()\n",
    "chrome_options.add_argument(\"--use-fake-ui-for-media-stream\")\n",
    "if headless:\n",
    "    chrome_options.add_argument(\"--headless\")  \n",
    "    \n",
    "def start_iface():\n",
    "    global s_iface\n",
    "    s_iface = webdriver.Chrome(chrome_options=chrome_options)\n",
    "    s_iface.get('https://translate.google.com/?#id/id')\n",
    "    assert \"Google Translate\" in s_iface.title\n",
    "\n",
    "    \n",
    "def mainbrowser(url):\n",
    "    global m_iface\n",
    "    m_iface = webdriver.Chrome(chrome_options=chrome_options)\n",
    "    m_iface.get('https://translate.google.com/?#id/id')"
   ]
  },
  {
   "cell_type": "code",
   "execution_count": 24,
   "metadata": {},
   "outputs": [],
   "source": [
    "from chat_iface import *"
   ]
  },
  {
   "cell_type": "code",
   "execution_count": 25,
   "metadata": {},
   "outputs": [],
   "source": [
    "start_iface()"
   ]
  },
  {
   "cell_type": "markdown",
   "metadata": {},
   "source": [
    "try:\n",
    "    talk(\"mau nonton willy wonka?\", s_iface)\n",
    "except Exception as e:\n",
    "    del s_iface\n",
    "    start_iface()\n",
    "    talk(\"Tolong di ulang lagi\", s_iface)"
   ]
  },
  {
   "cell_type": "code",
   "execution_count": 26,
   "metadata": {},
   "outputs": [],
   "source": [
    "def testalk(sentence,s_iface):\n",
    "    talking = True\n",
    "    talk(sentence, s_iface)\n",
    "    while talking:\n",
    "        if not cek_talk_or_speak(s_iface):\n",
    "            talking=False\n",
    "            print(\"X\")\n",
    "            clear(s_iface)\n",
    "        else:\n",
    "            print(\"_\",end='')\n",
    "            time.sleep(0.02)"
   ]
  },
  {
   "cell_type": "code",
   "execution_count": 27,
   "metadata": {
    "scrolled": true
   },
   "outputs": [
    {
     "name": "stdout",
     "output_type": "stream",
     "text": [
      "Predicted: cipi 0.99998975 1\n",
      "SENTENCE: Sipo sipo\n",
      "Problem at phrase: sipo\n",
      "Problem at phrase: sipo\n",
      "Goodbye\n",
      "affirmasi.input('Sipo sipo')\n",
      "affirmasi.input('Sipo sipo') intent driven\n",
      "HEREBOT: {'sequence': 0, 'intent': 'affirmasi', 'intentscore': 0.0, 'followup': 'None', 'intentfu': 'None', 'context': 'None', 'content': 'None', 'lastmsg': 'sampai jumpa', 'prompt': 'oke', 'process': 'None'}\n",
      "{'content': 'None',\n",
      " 'context': 'None',\n",
      " 'followup': 'None',\n",
      " 'intent': 'affirmasi',\n",
      " 'intentfu': 'None',\n",
      " 'intentscore': 0.0,\n",
      " 'lastmsg': 'sampai jumpa',\n",
      " 'process': 'None',\n",
      " 'prompt': 'oke',\n",
      " 'sequence': 0}\n",
      "X\n",
      "None\n"
     ]
    },
    {
     "data": {
      "text/plain": [
       "'cipi'"
      ]
     },
     "execution_count": 27,
     "metadata": {},
     "output_type": "execute_result"
    }
   ],
   "source": [
    "predict(\"temp.wav\",model=smodel)"
   ]
  },
  {
   "cell_type": "code",
   "execution_count": null,
   "metadata": {
    "scrolled": false
   },
   "outputs": [],
   "source": [
    "record(length=55,filename=\"record.wav\",thres=1100)\n",
    "print(\"END PREDICTING+++++++++++++++\")"
   ]
  },
  {
   "cell_type": "code",
   "execution_count": 6,
   "metadata": {},
   "outputs": [],
   "source": []
  },
  {
   "cell_type": "code",
   "execution_count": 21,
   "metadata": {},
   "outputs": [],
   "source": [
    "from pyautogui import alert"
   ]
  },
  {
   "cell_type": "code",
   "execution_count": 23,
   "metadata": {},
   "outputs": [
    {
     "data": {
      "text/plain": [
       "'OK'"
      ]
     },
     "execution_count": 23,
     "metadata": {},
     "output_type": "execute_result"
    }
   ],
   "source": [
    "alert(text=\"Hello\",timeout=4000)"
   ]
  },
  {
   "cell_type": "code",
   "execution_count": 27,
   "metadata": {},
   "outputs": [],
   "source": [
    "pyautogui.typewrite('Hello world!')"
   ]
  },
  {
   "cell_type": "raw",
   "metadata": {},
   "source": []
  }
 ],
 "metadata": {
  "kernelspec": {
   "display_name": "Python 3",
   "language": "python",
   "name": "python3"
  },
  "language_info": {
   "codemirror_mode": {
    "name": "ipython",
    "version": 3
   },
   "file_extension": ".py",
   "mimetype": "text/x-python",
   "name": "python",
   "nbconvert_exporter": "python",
   "pygments_lexer": "ipython3",
   "version": "3.6.4"
  }
 },
 "nbformat": 4,
 "nbformat_minor": 2
}
