{
 "cells": [
  {
   "cell_type": "code",
   "execution_count": 1,
   "metadata": {},
   "outputs": [
    {
     "name": "stderr",
     "output_type": "stream",
     "text": [
      "C:\\Anaconda3\\envs\\tensorflow\\lib\\site-packages\\h5py\\__init__.py:36: FutureWarning: Conversion of the second argument of issubdtype from `float` to `np.floating` is deprecated. In future, it will be treated as `np.float64 == np.dtype(float).type`.\n",
      "  from ._conv import register_converters as _register_converters\n",
      "Using TensorFlow backend.\n"
     ]
    }
   ],
   "source": [
    "import keras\n",
    "smodel = keras.models.load_model(\"./model/chippy_v1.model\")\n",
    "cmodel = keras.models.load_model(\"./model/chitchat-300-1.mdl\")"
   ]
  },
  {
   "cell_type": "code",
   "execution_count": 2,
   "metadata": {},
   "outputs": [
    {
     "name": "stderr",
     "output_type": "stream",
     "text": [
      "C:\\Anaconda3\\envs\\tensorflow\\lib\\site-packages\\gensim\\utils.py:1197: UserWarning: detected Windows; aliasing chunkize to chunkize_serial\n",
      "  warnings.warn(\"detected Windows; aliasing chunkize to chunkize_serial\")\n"
     ]
    }
   ],
   "source": [
    "from chat_wordvec import *"
   ]
  },
  {
   "cell_type": "code",
   "execution_count": 3,
   "metadata": {},
   "outputs": [],
   "source": [
    "maxsent=50\n",
    "num_features = 300"
   ]
  },
  {
   "cell_type": "code",
   "execution_count": 4,
   "metadata": {},
   "outputs": [],
   "source": [
    "import pickle\n",
    "respons = pickle.load(open('respons.p','rb'))\n",
    "integer_encoded = pickle.load(open('integer_encoded.p','rb'))\n",
    "onehot_encoded = pickle.load(open('onehot_encoded.p','rb'))"
   ]
  },
  {
   "cell_type": "code",
   "execution_count": null,
   "metadata": {},
   "outputs": [],
   "source": []
  },
  {
   "cell_type": "code",
   "execution_count": 5,
   "metadata": {},
   "outputs": [],
   "source": [
    "def pred(sentence):\n",
    "    \"\"\"memprediksi masuk intent apakah sebuah kalimat.\"\"\"\n",
    "    predictions=cmodel.predict(np.array([swv_ar(twl(sentence,rempunct=True,flat=True),maxword=maxsent, vecsize=num_features)]))\n",
    "    cls_pred = np.argmax(predictions,axis=1)\n",
    "    #print(predictions)\n",
    "    \n",
    "    #ini sangat tricky -> dari prediksi balikkan ke integer_encodednya dulu baru \n",
    "    #cari ke indexnya dari response\n",
    "    \n",
    "    jawaban = respons[list(integer_encoded).index(cls_pred[0])]\n",
    "\n",
    "    result={'jawaban': jawaban , 'score': predictions.max(), 'sentence': sentence, 'cls:': cls_pred}\n",
    "    return print(result)"
   ]
  },
  {
   "cell_type": "code",
   "execution_count": 9,
   "metadata": {},
   "outputs": [
    {
     "name": "stdout",
     "output_type": "stream",
     "text": [
      "{'jawaban': 'nama saya cipi', 'score': 0.37889957, 'sentence': 'namanya siapa', 'cls:': array([8], dtype=int64)}\n"
     ]
    }
   ],
   "source": [
    "pred(\"namanya siapa\")"
   ]
  },
  {
   "cell_type": "code",
   "execution_count": null,
   "metadata": {},
   "outputs": [],
   "source": []
  }
 ],
 "metadata": {
  "kernelspec": {
   "display_name": "Python 3",
   "language": "python",
   "name": "python3"
  },
  "language_info": {
   "codemirror_mode": {
    "name": "ipython",
    "version": 3
   },
   "file_extension": ".py",
   "mimetype": "text/x-python",
   "name": "python",
   "nbconvert_exporter": "python",
   "pygments_lexer": "ipython3",
   "version": "3.6.4"
  }
 },
 "nbformat": 4,
 "nbformat_minor": 2
}
