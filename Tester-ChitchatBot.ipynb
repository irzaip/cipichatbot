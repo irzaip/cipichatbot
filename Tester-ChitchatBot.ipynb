{
 "cells": [
  {
   "cell_type": "code",
   "execution_count": 33,
   "metadata": {},
   "outputs": [],
   "source": [
    "import keras\n",
    "smodel = keras.models.load_model(\"./model/chippy_v1.model\")\n",
    "cmodel = keras.models.load_model(\"./model/chitchat-300-1.mdl\")"
   ]
  },
  {
   "cell_type": "code",
   "execution_count": 34,
   "metadata": {},
   "outputs": [],
   "source": [
    "from chat_wordvec import *"
   ]
  },
  {
   "cell_type": "code",
   "execution_count": 35,
   "metadata": {},
   "outputs": [],
   "source": [
    "maxsent=50\n",
    "num_features = 300"
   ]
  },
  {
   "cell_type": "code",
   "execution_count": 36,
   "metadata": {},
   "outputs": [],
   "source": [
    "import pickle\n",
    "respons = pickle.load(open('respons.p','rb'))\n",
    "integer_encoded = pickle.load(open('integer_encoded.p','rb'))\n",
    "onehot_encoded = pickle.load(open('onehot_encoded.p','rb'))"
   ]
  },
  {
   "cell_type": "code",
   "execution_count": null,
   "metadata": {},
   "outputs": [],
   "source": []
  },
  {
   "cell_type": "code",
   "execution_count": 42,
   "metadata": {},
   "outputs": [],
   "source": [
    "def pred(sentence):\n",
    "    \"\"\"memprediksi masuk intent apakah sebuah kalimat.\"\"\"\n",
    "    predictions=cmodel.predict(np.array([swv_ar(twl(sentence,rempunct=True,flat=True),maxword=maxsent, vecsize=num_features)]))\n",
    "    cls_pred = np.argmax(predictions,axis=1)\n",
    "    #print(predictions)\n",
    "    \n",
    "    #ini sangat tricky -> dari prediksi balikkan ke integer_encodednya dulu baru \n",
    "    #cari ke indexnya dari response\n",
    "    \n",
    "    jawaban = respons[list(integer_encoded).index(cls_pred[0])]\n",
    "\n",
    "    result={'jawaban': jawaban , 'score': predictions.max(), 'sentence': sentence, 'cls:': cls_pred}\n",
    "    return print(result)"
   ]
  },
  {
   "cell_type": "code",
   "execution_count": 52,
   "metadata": {},
   "outputs": [
    {
     "name": "stdout",
     "output_type": "stream",
     "text": [
      "{'jawaban': 'saya masih muda', 'score': 0.9915417, 'sentence': 'berapa umur kamu', 'cls:': array([16], dtype=int64)}\n"
     ]
    }
   ],
   "source": [
    "pred(\"berapa umur kamu\")"
   ]
  },
  {
   "cell_type": "code",
   "execution_count": null,
   "metadata": {},
   "outputs": [],
   "source": []
  }
 ],
 "metadata": {
  "kernelspec": {
   "display_name": "Python 3",
   "language": "python",
   "name": "python3"
  },
  "language_info": {
   "codemirror_mode": {
    "name": "ipython",
    "version": 3
   },
   "file_extension": ".py",
   "mimetype": "text/x-python",
   "name": "python",
   "nbconvert_exporter": "python",
   "pygments_lexer": "ipython3",
   "version": "3.6.4"
  }
 },
 "nbformat": 4,
 "nbformat_minor": 2
}
