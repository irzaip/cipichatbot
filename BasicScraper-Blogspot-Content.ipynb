{
 "cells": [
  {
   "cell_type": "code",
   "execution_count": 56,
   "metadata": {},
   "outputs": [],
   "source": [
    "import selenium\n",
    "import time\n",
    "from bs4 import BeautifulSoup\n",
    "import re"
   ]
  },
  {
   "cell_type": "code",
   "execution_count": 57,
   "metadata": {},
   "outputs": [],
   "source": [
    "from selenium import webdriver \n",
    "from selenium.webdriver.common.by import By \n",
    "from selenium.webdriver.support.ui import WebDriverWait \n",
    "from selenium.webdriver.support import expected_conditions as EC \n",
    "from selenium.common.exceptions import TimeoutException"
   ]
  },
  {
   "cell_type": "code",
   "execution_count": 58,
   "metadata": {},
   "outputs": [],
   "source": [
    "option = webdriver.ChromeOptions()\n",
    "#option.add_argument(\"--incognito\")\n",
    "browser = webdriver.Chrome(chrome_options=option)"
   ]
  },
  {
   "cell_type": "markdown",
   "metadata": {},
   "source": [
    "# Definisi fungsi scraping"
   ]
  },
  {
   "cell_type": "code",
   "execution_count": 360,
   "metadata": {},
   "outputs": [],
   "source": [
    "def scrap(url, debug=False):\n",
    "    browser.get(url)\n",
    "    \n",
    "    \n",
    "    pg = BeautifulSoup(browser.page_source,\"html.parser\")\n",
    "\n",
    "    title = pg.find_all(\"h3\", {\"class\": \"post-title entry-title\"})\n",
    "    content =pg.find_all(\"div\", {\"class\": \"post-body entry-content\"})\n",
    "\n",
    "    #title cleanup\n",
    "    title = title[0].get_text().replace(\"\\n\",\"\")\n",
    "    title = re.sub(r'\\W+', '', title)\n",
    "    if debug: print(title)\n",
    "    \n",
    "    af = content[0].get_text()\n",
    "\n",
    "    ar = nltk.tokenize.blankline_tokenize(af)\n",
    "    if debug: print(ar)\n",
    "        \n",
    "    for i in range(len(ar)):\n",
    "        ar[i] = ar[i].replace(\"\\n\",\" \")\n",
    "\n",
    "    #nltk.download('punkt')\n",
    "    bs = []\n",
    "    for i in range(len(ar)):\n",
    "        bs.extend(nltk.sent_tokenize(ar[i]))\n",
    "\n",
    "    with open(title+\".txt\", \"w\") as f:\n",
    "        for i in bs:\n",
    "            f.writelines(i+\"\\n\")\n",
    "\n",
    "    f.close()\n",
    "    print(\"Done:\", url)"
   ]
  },
  {
   "cell_type": "markdown",
   "metadata": {},
   "source": [
    "## TEST SAJA DISINI"
   ]
  },
  {
   "cell_type": "code",
   "execution_count": 330,
   "metadata": {},
   "outputs": [
    {
     "name": "stdout",
     "output_type": "stream",
     "text": [
      "UnsurIntrinsikKaryaSastra\n",
      "Done: http://kumpulan-tugas-sekolahku.blogspot.com/2014/09/unsur-intrinsik-karya-sastra-novel.html\n"
     ]
    }
   ],
   "source": [
    "browser.get(urlz[0])\n",
    "pg = BeautifulSoup(browser.page_source,\"html.parser\")\n",
    "\n",
    "title = pg.find_all(\"h1\", {\"class\": \"post-title entry-title\"})\n",
    "content =pg.find_all(\"div\", {\"class\": \"post-body entry-content\"})\n",
    "\n",
    "#title cleanup\n",
    "title = title[0].get_text().replace(\"\\n\",\"\")\n",
    "title = re.sub(r'\\W+', '', title)\n",
    "print(title)\n",
    "\n",
    "af = content[0].get_text()\n",
    "\n",
    "ar = nltk.tokenize.blankline_tokenize(af)\n",
    "\n",
    "for i in range(len(ar)):\n",
    "    ar[i] = ar[i].replace(\"\\n\",\" \")\n",
    "\n",
    "#nltk.download('punkt')\n",
    "bs = []\n",
    "for i in range(len(ar)):\n",
    "    bs.extend(nltk.sent_tokenize(ar[i]))\n",
    "\n",
    "with open(title+\".txt\", \"w\") as f:\n",
    "    for i in bs:\n",
    "        f.writelines(i+\"\\n\")\n",
    "\n",
    "f.close()\n",
    "print(\"Done:\", urlz[0])"
   ]
  },
  {
   "cell_type": "code",
   "execution_count": 333,
   "metadata": {},
   "outputs": [],
   "source": [
    "title = pg.find_all(\"h1\", {\"class\": \"post-title entry-title\"})\n",
    "content =pg.find_all(\"div\", {\"class\": \"post-body entry-content\"})"
   ]
  },
  {
   "cell_type": "code",
   "execution_count": 334,
   "metadata": {},
   "outputs": [
    {
     "data": {
      "text/plain": [
       "[<h1 class=\"post-title entry-title\">\n",
       " <a title=\"Unsur Intrinsik Karya Sastra\">Unsur Intrinsik Karya Sastra</a>\n",
       " </h1>]"
      ]
     },
     "execution_count": 334,
     "metadata": {},
     "output_type": "execute_result"
    }
   ],
   "source": [
    "title"
   ]
  },
  {
   "cell_type": "markdown",
   "metadata": {},
   "source": [
    "# AMBIL INDEX CALON LIST"
   ]
  },
  {
   "cell_type": "code",
   "execution_count": 354,
   "metadata": {},
   "outputs": [],
   "source": [
    "import requests\n",
    "a = requests.get(\"http://kenhanggara.blogspot.co.id/search/label/cerita%20pendek\")\n",
    "pg = BeautifulSoup(a.text,\"html.parser\")\n",
    "urls = pg.findAll(\"a\")"
   ]
  },
  {
   "cell_type": "code",
   "execution_count": 355,
   "metadata": {},
   "outputs": [],
   "source": [
    "def cekurl(url):\n",
    "    try:\n",
    "        n = url.split(\"/\")\n",
    "        if int(n[3]) > 1000:\n",
    "            return True\n",
    "        else: return False\n",
    "    except Exception as e:\n",
    "        pass\n",
    "        return False"
   ]
  },
  {
   "cell_type": "code",
   "execution_count": 356,
   "metadata": {},
   "outputs": [],
   "source": [
    "urld = []\n",
    "for i in urls:\n",
    "    url = i.get(\"href\")\n",
    "    if cekurl(url):\n",
    "        urld.append(i.get(\"href\"))"
   ]
  },
  {
   "cell_type": "code",
   "execution_count": 357,
   "metadata": {},
   "outputs": [
    {
     "data": {
      "text/plain": [
       "['http://kenhanggara.blogspot.co.id/2016/04/daftar-isi.html',\n",
       " 'http://kenhanggara.blogspot.co.id/2018/03/cerpen-rumah-hutan-karya-ken-hanggara.html',\n",
       " 'http://kenhanggara.blogspot.co.id/2018/03/cerpen-rumah-hutan-karya-ken-hanggara.html#more',\n",
       " 'https://plus.google.com/112423189253384789236',\n",
       " 'http://kenhanggara.blogspot.co.id/2018/03/cerpen-rumah-hutan-karya-ken-hanggara.html',\n",
       " 'http://kenhanggara.blogspot.co.id/2018/03/cerpen-rahasia-di-lantai-4-karya-ken.html',\n",
       " 'http://kenhanggara.blogspot.co.id/2018/03/cerpen-rahasia-di-lantai-4-karya-ken.html#more',\n",
       " 'https://plus.google.com/112423189253384789236',\n",
       " 'http://kenhanggara.blogspot.co.id/2018/03/cerpen-rahasia-di-lantai-4-karya-ken.html',\n",
       " 'http://kenhanggara.blogspot.co.id/2018/03/cerpen-memilih-cara-mati-karya-ken.html',\n",
       " 'http://kenhanggara.blogspot.co.id/2018/03/cerpen-memilih-cara-mati-karya-ken.html#more',\n",
       " 'https://plus.google.com/112423189253384789236',\n",
       " 'http://kenhanggara.blogspot.co.id/2018/03/cerpen-memilih-cara-mati-karya-ken.html',\n",
       " 'http://kenhanggara.blogspot.co.id/2018/02/cerpen-penjaga-marni-karya-ken-hanggara.html',\n",
       " 'http://kenhanggara.blogspot.co.id/2018/02/cerpen-penjaga-marni-karya-ken-hanggara.html#more',\n",
       " 'https://plus.google.com/112423189253384789236',\n",
       " 'http://kenhanggara.blogspot.co.id/2018/02/cerpen-penjaga-marni-karya-ken-hanggara.html',\n",
       " 'http://kenhanggara.blogspot.co.id/2018/02/cerpen-tamu-misterius-pembawa-pesan.html',\n",
       " 'http://kenhanggara.blogspot.co.id/2018/02/cerpen-tamu-misterius-pembawa-pesan.html#more',\n",
       " 'https://plus.google.com/112423189253384789236',\n",
       " 'http://kenhanggara.blogspot.co.id/2018/02/cerpen-tamu-misterius-pembawa-pesan.html',\n",
       " 'http://kenhanggara.blogspot.co.id/2018/02/cerpen-dunia-silver-karya-ken-hanggara.html',\n",
       " 'http://kenhanggara.blogspot.co.id/2018/02/cerpen-dunia-silver-karya-ken-hanggara.html#more',\n",
       " 'https://plus.google.com/112423189253384789236',\n",
       " 'http://kenhanggara.blogspot.co.id/2018/02/cerpen-dunia-silver-karya-ken-hanggara.html',\n",
       " 'http://kenhanggara.blogspot.co.id/2018/02/cerpen-sartini-karya-ken-hanggara.html',\n",
       " 'http://kenhanggara.blogspot.co.id/2018/02/cerpen-sartini-karya-ken-hanggara.html#more',\n",
       " 'https://plus.google.com/112423189253384789236',\n",
       " 'http://kenhanggara.blogspot.co.id/2018/02/cerpen-sartini-karya-ken-hanggara.html',\n",
       " 'http://kenhanggara.blogspot.co.id/2018/01/cerpen-penjual-mata-karya-ken-hanggara.html',\n",
       " 'http://kenhanggara.blogspot.co.id/2018/01/cerpen-penjual-mata-karya-ken-hanggara.html#more',\n",
       " 'https://plus.google.com/112423189253384789236',\n",
       " 'http://kenhanggara.blogspot.co.id/2018/01/cerpen-penjual-mata-karya-ken-hanggara.html',\n",
       " 'http://kenhanggara.blogspot.co.id/2018/01/cerpen-reuni-karya-ken-hanggara.html',\n",
       " 'http://kenhanggara.blogspot.co.id/2018/01/cerpen-reuni-karya-ken-hanggara.html#more',\n",
       " 'https://plus.google.com/112423189253384789236',\n",
       " 'http://kenhanggara.blogspot.co.id/2018/01/cerpen-reuni-karya-ken-hanggara.html',\n",
       " 'http://kenhanggara.blogspot.co.id/2017/12/cerpen-menyembelih-kenangan-karya-ken.html',\n",
       " 'http://kenhanggara.blogspot.co.id/2017/12/cerpen-menyembelih-kenangan-karya-ken.html#more',\n",
       " 'https://plus.google.com/112423189253384789236',\n",
       " 'http://kenhanggara.blogspot.co.id/2017/12/cerpen-menyembelih-kenangan-karya-ken.html',\n",
       " 'http://kenhanggara.blogspot.co.id/2017/12/cerpen-bus-gaib-karya-ken-hanggara.html',\n",
       " 'http://kenhanggara.blogspot.co.id/2017/12/cerpen-bus-gaib-karya-ken-hanggara.html#more',\n",
       " 'https://plus.google.com/112423189253384789236',\n",
       " 'http://kenhanggara.blogspot.co.id/2017/12/cerpen-bus-gaib-karya-ken-hanggara.html',\n",
       " 'http://kenhanggara.blogspot.co.id/2017/12/cerpen-madrim-karya-ken-hanggara.html',\n",
       " 'http://kenhanggara.blogspot.co.id/2017/12/cerpen-madrim-karya-ken-hanggara.html#more',\n",
       " 'https://plus.google.com/112423189253384789236',\n",
       " 'http://kenhanggara.blogspot.co.id/2017/12/cerpen-madrim-karya-ken-hanggara.html',\n",
       " 'http://kenhanggara.blogspot.co.id/2017/11/cerpen-otobiografi-pohon-karya-ken.html',\n",
       " 'http://kenhanggara.blogspot.co.id/2017/11/cerpen-otobiografi-pohon-karya-ken.html#more',\n",
       " 'https://plus.google.com/112423189253384789236',\n",
       " 'http://kenhanggara.blogspot.co.id/2017/11/cerpen-otobiografi-pohon-karya-ken.html',\n",
       " 'http://kenhanggara.blogspot.co.id/2017/11/cerpen-warisan-terakhir-kolektor-gigi.html',\n",
       " 'http://kenhanggara.blogspot.co.id/2017/11/cerpen-warisan-terakhir-kolektor-gigi.html#more',\n",
       " 'https://plus.google.com/112423189253384789236',\n",
       " 'http://kenhanggara.blogspot.co.id/2017/11/cerpen-warisan-terakhir-kolektor-gigi.html',\n",
       " 'http://kenhanggara.blogspot.co.id/2017/11/cerpen-cara-mati-yang-sulit-dipercaya.html',\n",
       " 'http://kenhanggara.blogspot.co.id/2017/11/cerpen-cara-mati-yang-sulit-dipercaya.html#more',\n",
       " 'https://plus.google.com/112423189253384789236',\n",
       " 'http://kenhanggara.blogspot.co.id/2017/11/cerpen-cara-mati-yang-sulit-dipercaya.html',\n",
       " 'http://kenhanggara.blogspot.co.id/2017/11/cerpen-sebuah-tempat-yang-barangkali.html',\n",
       " 'http://kenhanggara.blogspot.co.id/2017/11/cerpen-sebuah-tempat-yang-barangkali.html#more',\n",
       " 'https://plus.google.com/112423189253384789236',\n",
       " 'http://kenhanggara.blogspot.co.id/2017/11/cerpen-sebuah-tempat-yang-barangkali.html',\n",
       " 'http://kenhanggara.blogspot.co.id/2017/10/cerpen-surga-kiriman-tuhan-karya-ken.html',\n",
       " 'http://kenhanggara.blogspot.co.id/2017/10/cerpen-surga-kiriman-tuhan-karya-ken.html#more',\n",
       " 'https://plus.google.com/112423189253384789236',\n",
       " 'http://kenhanggara.blogspot.co.id/2017/10/cerpen-surga-kiriman-tuhan-karya-ken.html',\n",
       " 'http://kenhanggara.blogspot.co.id/2017/10/cerpen-pemasungan-mudakir-karya-ken.html',\n",
       " 'http://kenhanggara.blogspot.co.id/2017/10/cerpen-pemasungan-mudakir-karya-ken.html#more',\n",
       " 'https://plus.google.com/112423189253384789236',\n",
       " 'http://kenhanggara.blogspot.co.id/2017/10/cerpen-pemasungan-mudakir-karya-ken.html',\n",
       " 'http://kenhanggara.blogspot.co.id/2017/10/cerpen-pohon-uang-karya-ken-hanggara.html',\n",
       " 'http://kenhanggara.blogspot.co.id/2017/10/cerpen-pohon-uang-karya-ken-hanggara.html#more',\n",
       " 'https://plus.google.com/112423189253384789236',\n",
       " 'http://kenhanggara.blogspot.co.id/2017/10/cerpen-pohon-uang-karya-ken-hanggara.html',\n",
       " 'http://kenhanggara.blogspot.co.id/2017/10/cerpen-gadis-cenayang-karya-ken-hanggara.html',\n",
       " 'http://kenhanggara.blogspot.co.id/2017/10/cerpen-gadis-cenayang-karya-ken-hanggara.html#more',\n",
       " 'https://plus.google.com/112423189253384789236',\n",
       " 'http://kenhanggara.blogspot.co.id/2017/10/cerpen-gadis-cenayang-karya-ken-hanggara.html',\n",
       " 'http://kenhanggara.blogspot.co.id/2015/03/menahan-mulas-di-dalam-kelas.html',\n",
       " 'http://kenhanggara.blogspot.co.id/2015/03/menahan-mulas-di-dalam-kelas.html',\n",
       " 'http://kenhanggara.blogspot.co.id/2016/03/esai-membangun-budaya-membaca-melalui.html',\n",
       " 'http://kenhanggara.blogspot.co.id/2016/03/esai-membangun-budaya-membaca-melalui.html',\n",
       " 'http://kenhanggara.blogspot.co.id/2017/10/cerpen-surga-pembangkang-karya-ken.html',\n",
       " 'http://kenhanggara.blogspot.co.id/2017/10/cerpen-surga-pembangkang-karya-ken.html',\n",
       " 'http://kenhanggara.blogspot.co.id/2015/03/review-buku-ketabuan-di-tengah.html',\n",
       " 'http://kenhanggara.blogspot.co.id/2015/03/review-buku-ketabuan-di-tengah.html',\n",
       " 'http://kenhanggara.blogspot.co.id/2016/06/cerpen-pengantar-malaikat-karya-ken.html',\n",
       " 'http://kenhanggara.blogspot.co.id/2016/06/cerpen-pengantar-malaikat-karya-ken.html',\n",
       " 'http://kenhanggara.blogspot.co.id/2014/09/gang-hantu-di-sudut-kota.html',\n",
       " 'http://kenhanggara.blogspot.co.id/2014/09/gang-hantu-di-sudut-kota.html',\n",
       " 'http://kenhanggara.blogspot.co.id/2014/04/puisi-menjelang-pilpres-karya-ken.html',\n",
       " 'http://kenhanggara.blogspot.co.id/2014/04/puisi-menjelang-pilpres-karya-ken.html',\n",
       " 'http://kenhanggara.blogspot.co.id/2016/09/cerpen-milana-dan-sungai-purba-karya.html',\n",
       " 'http://kenhanggara.blogspot.co.id/2016/09/cerpen-milana-dan-sungai-purba-karya.html',\n",
       " 'http://kenhanggara.blogspot.co.id/2014/04/perempuan-di-pintu-gerbang-hasil.html',\n",
       " 'http://kenhanggara.blogspot.co.id/2014/04/perempuan-di-pintu-gerbang-hasil.html',\n",
       " 'http://kenhanggara.blogspot.co.id/2016/05/cerpen-kunjungan-mantan-pacar-yang.html',\n",
       " 'http://kenhanggara.blogspot.co.id/2016/05/cerpen-kunjungan-mantan-pacar-yang.html',\n",
       " 'http://kenhanggara.blogspot.co.id/2018/',\n",
       " 'http://kenhanggara.blogspot.co.id/2018/03/',\n",
       " 'http://kenhanggara.blogspot.co.id/2018/03/cerpen-rumah-hutan-karya-ken-hanggara.html',\n",
       " 'http://kenhanggara.blogspot.co.id/2018/03/cerpen-rahasia-di-lantai-4-karya-ken.html',\n",
       " 'http://kenhanggara.blogspot.co.id/2018/03/cerpen-memilih-cara-mati-karya-ken.html',\n",
       " 'http://kenhanggara.blogspot.co.id/2018/02/',\n",
       " 'http://kenhanggara.blogspot.co.id/2018/01/',\n",
       " 'http://kenhanggara.blogspot.co.id/2017/',\n",
       " 'http://kenhanggara.blogspot.co.id/2017/12/',\n",
       " 'http://kenhanggara.blogspot.co.id/2017/11/',\n",
       " 'http://kenhanggara.blogspot.co.id/2017/10/',\n",
       " 'http://kenhanggara.blogspot.co.id/2017/09/',\n",
       " 'http://kenhanggara.blogspot.co.id/2017/08/',\n",
       " 'http://kenhanggara.blogspot.co.id/2017/07/',\n",
       " 'http://kenhanggara.blogspot.co.id/2017/06/',\n",
       " 'http://kenhanggara.blogspot.co.id/2017/05/',\n",
       " 'http://kenhanggara.blogspot.co.id/2017/04/',\n",
       " 'http://kenhanggara.blogspot.co.id/2017/03/',\n",
       " 'http://kenhanggara.blogspot.co.id/2017/02/',\n",
       " 'http://kenhanggara.blogspot.co.id/2017/01/',\n",
       " 'http://kenhanggara.blogspot.co.id/2016/',\n",
       " 'http://kenhanggara.blogspot.co.id/2016/12/',\n",
       " 'http://kenhanggara.blogspot.co.id/2016/11/',\n",
       " 'http://kenhanggara.blogspot.co.id/2016/10/',\n",
       " 'http://kenhanggara.blogspot.co.id/2016/09/',\n",
       " 'http://kenhanggara.blogspot.co.id/2016/08/',\n",
       " 'http://kenhanggara.blogspot.co.id/2016/07/',\n",
       " 'http://kenhanggara.blogspot.co.id/2016/06/',\n",
       " 'http://kenhanggara.blogspot.co.id/2016/05/',\n",
       " 'http://kenhanggara.blogspot.co.id/2016/04/',\n",
       " 'http://kenhanggara.blogspot.co.id/2016/03/',\n",
       " 'http://kenhanggara.blogspot.co.id/2016/02/',\n",
       " 'http://kenhanggara.blogspot.co.id/2016/01/',\n",
       " 'http://kenhanggara.blogspot.co.id/2015/',\n",
       " 'http://kenhanggara.blogspot.co.id/2015/12/',\n",
       " 'http://kenhanggara.blogspot.co.id/2015/11/',\n",
       " 'http://kenhanggara.blogspot.co.id/2015/10/',\n",
       " 'http://kenhanggara.blogspot.co.id/2015/09/',\n",
       " 'http://kenhanggara.blogspot.co.id/2015/08/',\n",
       " 'http://kenhanggara.blogspot.co.id/2015/07/',\n",
       " 'http://kenhanggara.blogspot.co.id/2015/06/',\n",
       " 'http://kenhanggara.blogspot.co.id/2015/05/',\n",
       " 'http://kenhanggara.blogspot.co.id/2015/04/',\n",
       " 'http://kenhanggara.blogspot.co.id/2015/03/',\n",
       " 'http://kenhanggara.blogspot.co.id/2015/02/',\n",
       " 'http://kenhanggara.blogspot.co.id/2015/01/',\n",
       " 'http://kenhanggara.blogspot.co.id/2014/',\n",
       " 'http://kenhanggara.blogspot.co.id/2014/12/',\n",
       " 'http://kenhanggara.blogspot.co.id/2014/10/',\n",
       " 'http://kenhanggara.blogspot.co.id/2014/09/',\n",
       " 'http://kenhanggara.blogspot.co.id/2014/08/',\n",
       " 'http://kenhanggara.blogspot.co.id/2014/07/',\n",
       " 'http://kenhanggara.blogspot.co.id/2014/06/',\n",
       " 'http://kenhanggara.blogspot.co.id/2014/05/',\n",
       " 'http://kenhanggara.blogspot.co.id/2014/04/',\n",
       " 'http://kenhanggara.blogspot.co.id/2014/03/',\n",
       " 'http://kenhanggara.blogspot.co.id/2014/02/',\n",
       " 'http://kenhanggara.blogspot.co.id/2014/01/',\n",
       " 'http://kenhanggara.blogspot.co.id/2013/',\n",
       " 'http://kenhanggara.blogspot.co.id/2013/11/',\n",
       " 'http://kenhanggara.blogspot.co.id/2013/10/',\n",
       " 'http://kenhanggara.blogspot.co.id/2013/09/',\n",
       " 'http://kenhanggara.blogspot.co.id/2013/08/',\n",
       " 'http://kenhanggara.blogspot.co.id/2013/07/',\n",
       " 'http://kenhanggara.blogspot.co.id/2013/06/',\n",
       " 'http://kenhanggara.blogspot.co.id/2013/05/',\n",
       " 'http://kenhanggara.blogspot.co.id/2013/04/',\n",
       " 'http://kenhanggara.blogspot.co.id/2013/03/',\n",
       " 'https://plus.google.com/112423189253384789236',\n",
       " 'https://plus.google.com/112423189253384789236',\n",
       " 'https://plus.google.com/112423189253384789236']"
      ]
     },
     "execution_count": 357,
     "metadata": {},
     "output_type": "execute_result"
    }
   ],
   "source": [
    "urld"
   ]
  },
  {
   "cell_type": "code",
   "execution_count": 361,
   "metadata": {},
   "outputs": [],
   "source": [
    "urlz = [\n",
    " 'http://kenhanggara.blogspot.co.id/2018/03/cerpen-rumah-hutan-karya-ken-hanggara.html',\n",
    " 'http://kenhanggara.blogspot.co.id/2018/03/cerpen-rahasia-di-lantai-4-karya-ken.html',\n",
    " 'http://kenhanggara.blogspot.co.id/2018/03/cerpen-memilih-cara-mati-karya-ken.html',\n",
    " 'http://kenhanggara.blogspot.co.id/2018/02/cerpen-penjaga-marni-karya-ken-hanggara.html',\n",
    " 'http://kenhanggara.blogspot.co.id/2018/02/cerpen-penjaga-marni-karya-ken-hanggara.html',\n",
    " 'http://kenhanggara.blogspot.co.id/2018/02/cerpen-tamu-misterius-pembawa-pesan.html',\n",
    " 'http://kenhanggara.blogspot.co.id/2018/02/cerpen-dunia-silver-karya-ken-hanggara.html',\n",
    " 'http://kenhanggara.blogspot.co.id/2018/02/cerpen-sartini-karya-ken-hanggara.html',\n",
    " 'http://kenhanggara.blogspot.co.id/2018/01/cerpen-penjual-mata-karya-ken-hanggara.html',\n",
    " 'http://kenhanggara.blogspot.co.id/2018/01/cerpen-reuni-karya-ken-hanggara.html',\n",
    " 'http://kenhanggara.blogspot.co.id/2017/12/cerpen-menyembelih-kenangan-karya-ken.html',\n",
    " 'http://kenhanggara.blogspot.co.id/2017/12/cerpen-bus-gaib-karya-ken-hanggara.html',\n",
    " 'http://kenhanggara.blogspot.co.id/2017/12/cerpen-madrim-karya-ken-hanggara.html',\n",
    " 'http://kenhanggara.blogspot.co.id/2017/11/cerpen-otobiografi-pohon-karya-ken.html',\n",
    " 'http://kenhanggara.blogspot.co.id/2017/11/cerpen-warisan-terakhir-kolektor-gigi.html',\n",
    " 'http://kenhanggara.blogspot.co.id/2017/11/cerpen-cara-mati-yang-sulit-dipercaya.html',\n",
    " 'http://kenhanggara.blogspot.co.id/2017/11/cerpen-sebuah-tempat-yang-barangkali.html',\n",
    " 'http://kenhanggara.blogspot.co.id/2017/10/cerpen-surga-kiriman-tuhan-karya-ken.html',\n",
    " 'http://kenhanggara.blogspot.co.id/2017/10/cerpen-pemasungan-mudakir-karya-ken.html',\n",
    " 'http://kenhanggara.blogspot.co.id/2017/10/cerpen-pohon-uang-karya-ken-hanggara.html',\n",
    " 'http://kenhanggara.blogspot.co.id/2017/10/cerpen-gadis-cenayang-karya-ken-hanggara.html',\n",
    " 'http://kenhanggara.blogspot.co.id/2015/03/menahan-mulas-di-dalam-kelas.html',\n",
    " 'http://kenhanggara.blogspot.co.id/2016/03/esai-membangun-budaya-membaca-melalui.html',\n",
    " 'http://kenhanggara.blogspot.co.id/2017/10/cerpen-surga-pembangkang-karya-ken.html',\n",
    " 'http://kenhanggara.blogspot.co.id/2015/03/review-buku-ketabuan-di-tengah.html',\n",
    " 'http://kenhanggara.blogspot.co.id/2016/06/cerpen-pengantar-malaikat-karya-ken.html',\n",
    " 'http://kenhanggara.blogspot.co.id/2014/09/gang-hantu-di-sudut-kota.html',\n",
    " 'http://kenhanggara.blogspot.co.id/2014/04/puisi-menjelang-pilpres-karya-ken.html',\n",
    " 'http://kenhanggara.blogspot.co.id/2016/09/cerpen-milana-dan-sungai-purba-karya.html',\n",
    " 'http://kenhanggara.blogspot.co.id/2014/04/perempuan-di-pintu-gerbang-hasil.html',\n",
    " 'http://kenhanggara.blogspot.co.id/2016/05/cerpen-kunjungan-mantan-pacar-yang.html',\n",
    "]"
   ]
  },
  {
   "cell_type": "code",
   "execution_count": 362,
   "metadata": {},
   "outputs": [
    {
     "name": "stdout",
     "output_type": "stream",
     "text": [
      "Failed: Request-sent http://kenhanggara.blogspot.co.id/2018/03/cerpen-rumah-hutan-karya-ken-hanggara.html\n",
      "Done: http://kenhanggara.blogspot.co.id/2018/03/cerpen-rahasia-di-lantai-4-karya-ken.html\n",
      "Done: http://kenhanggara.blogspot.co.id/2018/03/cerpen-memilih-cara-mati-karya-ken.html\n",
      "Done: http://kenhanggara.blogspot.co.id/2018/02/cerpen-penjaga-marni-karya-ken-hanggara.html\n",
      "Done: http://kenhanggara.blogspot.co.id/2018/02/cerpen-penjaga-marni-karya-ken-hanggara.html\n",
      "Done: http://kenhanggara.blogspot.co.id/2018/02/cerpen-tamu-misterius-pembawa-pesan.html\n",
      "Done: http://kenhanggara.blogspot.co.id/2018/02/cerpen-dunia-silver-karya-ken-hanggara.html\n",
      "Done: http://kenhanggara.blogspot.co.id/2018/02/cerpen-sartini-karya-ken-hanggara.html\n",
      "Done: http://kenhanggara.blogspot.co.id/2018/01/cerpen-penjual-mata-karya-ken-hanggara.html\n",
      "Done: http://kenhanggara.blogspot.co.id/2018/01/cerpen-reuni-karya-ken-hanggara.html\n",
      "Done: http://kenhanggara.blogspot.co.id/2017/12/cerpen-menyembelih-kenangan-karya-ken.html\n",
      "Done: http://kenhanggara.blogspot.co.id/2017/12/cerpen-bus-gaib-karya-ken-hanggara.html\n",
      "Done: http://kenhanggara.blogspot.co.id/2017/12/cerpen-madrim-karya-ken-hanggara.html\n",
      "Done: http://kenhanggara.blogspot.co.id/2017/11/cerpen-otobiografi-pohon-karya-ken.html\n",
      "Done: http://kenhanggara.blogspot.co.id/2017/11/cerpen-warisan-terakhir-kolektor-gigi.html\n",
      "Done: http://kenhanggara.blogspot.co.id/2017/11/cerpen-cara-mati-yang-sulit-dipercaya.html\n",
      "Done: http://kenhanggara.blogspot.co.id/2017/11/cerpen-sebuah-tempat-yang-barangkali.html\n",
      "Done: http://kenhanggara.blogspot.co.id/2017/10/cerpen-surga-kiriman-tuhan-karya-ken.html\n",
      "Done: http://kenhanggara.blogspot.co.id/2017/10/cerpen-pemasungan-mudakir-karya-ken.html\n",
      "Done: http://kenhanggara.blogspot.co.id/2017/10/cerpen-pohon-uang-karya-ken-hanggara.html\n",
      "Done: http://kenhanggara.blogspot.co.id/2017/10/cerpen-gadis-cenayang-karya-ken-hanggara.html\n",
      "Done: http://kenhanggara.blogspot.co.id/2015/03/menahan-mulas-di-dalam-kelas.html\n",
      "Done: http://kenhanggara.blogspot.co.id/2016/03/esai-membangun-budaya-membaca-melalui.html\n",
      "Done: http://kenhanggara.blogspot.co.id/2017/10/cerpen-surga-pembangkang-karya-ken.html\n",
      "Done: http://kenhanggara.blogspot.co.id/2015/03/review-buku-ketabuan-di-tengah.html\n",
      "Done: http://kenhanggara.blogspot.co.id/2016/06/cerpen-pengantar-malaikat-karya-ken.html\n",
      "Done: http://kenhanggara.blogspot.co.id/2014/09/gang-hantu-di-sudut-kota.html\n",
      "Done: http://kenhanggara.blogspot.co.id/2014/04/puisi-menjelang-pilpres-karya-ken.html\n",
      "Done: http://kenhanggara.blogspot.co.id/2016/09/cerpen-milana-dan-sungai-purba-karya.html\n",
      "Done: http://kenhanggara.blogspot.co.id/2014/04/perempuan-di-pintu-gerbang-hasil.html\n",
      "Done: http://kenhanggara.blogspot.co.id/2016/05/cerpen-kunjungan-mantan-pacar-yang.html\n",
      "Done scraping\n"
     ]
    }
   ],
   "source": [
    "for i in urlz:\n",
    "    try:\n",
    "        scrap(i)\n",
    "    except Exception as e:\n",
    "        print(\"Failed:\",e, i)\n",
    "print(\"Done scraping\")"
   ]
  },
  {
   "cell_type": "code",
   "execution_count": 337,
   "metadata": {},
   "outputs": [],
   "source": [
    " f = 'http://kumpulan-tugas-sekolahku.blogspot.com/2014/09/unsur-intrinsik-karya-sastra-novel.html'"
   ]
  },
  {
   "cell_type": "code",
   "execution_count": 342,
   "metadata": {},
   "outputs": [],
   "source": []
  },
  {
   "cell_type": "code",
   "execution_count": 343,
   "metadata": {},
   "outputs": [
    {
     "data": {
      "text/plain": [
       "True"
      ]
     },
     "execution_count": 343,
     "metadata": {},
     "output_type": "execute_result"
    }
   ],
   "source": []
  },
  {
   "cell_type": "code",
   "execution_count": null,
   "metadata": {},
   "outputs": [],
   "source": []
  }
 ],
 "metadata": {
  "kernelspec": {
   "display_name": "Python 3",
   "language": "python",
   "name": "python3"
  },
  "language_info": {
   "codemirror_mode": {
    "name": "ipython",
    "version": 3
   },
   "file_extension": ".py",
   "mimetype": "text/x-python",
   "name": "python",
   "nbconvert_exporter": "python",
   "pygments_lexer": "ipython3",
   "version": "3.6.4"
  }
 },
 "nbformat": 4,
 "nbformat_minor": 2
}
