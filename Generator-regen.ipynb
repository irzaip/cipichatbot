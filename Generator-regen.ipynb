{
 "cells": [
  {
   "cell_type": "code",
   "execution_count": 2,
   "metadata": {
    "scrolled": true
   },
   "outputs": [],
   "source": [
    "#!/usr/bin/env python3\n",
    "\"\"\"Show a text-mode spectrogram using live microphone data.\"\"\"\n",
    "import argparse\n",
    "import logging\n",
    "import numpy as np\n",
    "import time\n",
    "import soundfile\n",
    "import itertools\n",
    "import IPython.display as ipd\n",
    "import matplotlib.pyplot as plt\n",
    "import os\n",
    "import random\n",
    "import sounddevice as sd\n",
    "import audioop\n",
    "import librosa\n",
    "#import webrtcvad as wrt\n",
    "import struct"
   ]
  },
  {
   "cell_type": "markdown",
   "metadata": {},
   "source": [
    "!pip install soundfile\n",
    "!pip install sounddevice\n",
    "!pip install librosa"
   ]
  },
  {
   "cell_type": "code",
   "execution_count": null,
   "metadata": {},
   "outputs": [],
   "source": []
  },
  {
   "cell_type": "code",
   "execution_count": 3,
   "metadata": {
    "scrolled": true
   },
   "outputs": [],
   "source": [
    "DURATION=20\n",
    "gain=10\n",
    "range=[100,2000]\n",
    "high=2000\n",
    "low=100\n",
    "screenwidth=79"
   ]
  },
  {
   "cell_type": "code",
   "execution_count": 22,
   "metadata": {
    "scrolled": true
   },
   "outputs": [],
   "source": [
    "WORD_TO_TRAIN = ['cipi','bangun']\n",
    "PATH_TO_TRAIN = os.getcwd()+'/DeadSimpleSpeechRecognizer/newdata/train'\n",
    "PATH_TO_TEST = os.getcwd()+'/DeadSimpleSpeechRecognizer/newdata/test'\n",
    "FILE_PREFIX = \"irza\"\n",
    "WORKPATH = PATH_TO_TRAIN"
   ]
  },
  {
   "cell_type": "markdown",
   "metadata": {
    "scrolled": true
   },
   "source": [
    "magnitudo=[]\n",
    "audiodata=[]\n",
    "recording=False\n",
    "end_count = 0\n",
    "start_count = 0\n",
    "def record(length=1, filename=None, thres=0):\n",
    "    \"\"\" \n",
    "    Merekam suara secara stream dan metode callback\n",
    "    \"\"\"\n",
    "\n",
    "    global cumulated_status, audiodata, magnitudo, end_count, recording, start_count\n",
    "    try:\n",
    "        import sounddevice as sd\n",
    "\n",
    "        #samplerate = sd.query_devices(args.device, 'input')['default_samplerate']\n",
    "        samplerate = 16000.0\n",
    "\n",
    "        delta_f = (high - low) / screenwidth\n",
    "        fftsize = np.ceil(samplerate / delta_f).astype(int)\n",
    "        low_bin = int(np.floor(low / delta_f))\n",
    "\n",
    "        cumulated_status = sd.CallbackFlags()\n",
    "\n",
    "        def callback(indata, frames, time, status):\n",
    "            global cumulated_status, recording, end_count, audiodata, magnitudo, start_count\n",
    "            \n",
    "            \n",
    "            cumulated_status |= status\n",
    "            if any(indata):\n",
    "                \n",
    "                #chv = wrt.Vad()\n",
    "                #if chv.is_speech(b''.join(indata.tolist()),int(samplerate)): print(\"voice\")\n",
    "                \n",
    "                \n",
    "                magnitude = np.abs(np.fft.rfft(indata[:, 0], n=fftsize))\n",
    "                magnitude *= gain / fftsize\n",
    "\n",
    "                rms = librosa.feature.rmse(S=indata)\n",
    "                rms = int(rms*32768)\n",
    "                start_count += 1\n",
    "                if rms>=thres:\n",
    "                    end_count = 0\n",
    "                    if not recording and (start_count > 20):\n",
    "                            audiodata=[]\n",
    "                            magnitudo=[]\n",
    "                            recording = True\n",
    "                            print('O', end='', flush=True)\n",
    "                            audiodata.extend(itertools.chain(indata.tolist()))\n",
    "                            magnitudo.append(magnitude)\n",
    "\n",
    "                    else:\n",
    "                        print('x', end='', flush=True)\n",
    "                        #add to list\n",
    "                        audiodata.extend(itertools.chain(indata.tolist()))\n",
    "                        magnitudo.append(magnitude)\n",
    "                else:\n",
    "                    if recording:\n",
    "                        audiodata.extend(itertools.chain(indata.tolist()))\n",
    "                        magnitudo.append(magnitude)\n",
    "\n",
    "                    if (end_count > 20) and recording:\n",
    "                        recording=False\n",
    "                        end_count = 0\n",
    "                        print('X', end='', flush=True)\n",
    "                        start_count = 0\n",
    "                    else:\n",
    "                        print('.', end='', flush=True)\n",
    "                        end_count += 1\n",
    "\n",
    "\n",
    "        with sd.InputStream(device=None, channels=1, callback=callback,\n",
    "                            blocksize=int(samplerate * DURATION / 1000),\n",
    "                            samplerate=samplerate):\n",
    "            while True:\n",
    "                #response = input()\n",
    "                #if response in ('', 'q', 'Q'):\n",
    "                time.sleep(length)\n",
    "                break\n",
    "            if filename!=None: soundfile.write(filename,audiodata,16000)\n",
    "\n",
    "        if cumulated_status:\n",
    "            logging.warning(str(cumulated_status))\n",
    "    except Exception as e:\n",
    "        print(e)\n",
    "        \n",
    "def auplot(data=None):\n",
    "    if data==None: data = audiodata\n",
    "    plt.plot(np.array(data))\n",
    "\n",
    "def generate(WORKPATH=WORKPATH,style=\"FULL\", frame=5, thres=0):\n",
    "    \"\"\" \n",
    "    Gunakan generate ini untuk membuat SET dari yang ingin di training atau\n",
    "    untuk SET TESTING, gunakan frame untuk menandakan panjang dari frame\n",
    "    yang ingin di deteksi\n",
    "    \"\"\"\n",
    "    files=[]\n",
    "    #Generate AUDIO FILE\n",
    "\n",
    "    #create the dir \n",
    "    for i in WORD_TO_TRAIN:\n",
    "        try:\n",
    "            os.mkdir(PATH_TO_TRAIN+\"/\"+i)\n",
    "            os.mkdir(PATH_TO_TEST+\"/\"+i)\n",
    "        except:\n",
    "            pass\n",
    "    \n",
    "    rann = str(random.randint(0,5000))\n",
    "    print(\"Sequence:\",rann)\n",
    "\n",
    "    #use this for shuffle the word\n",
    "    random.shuffle(WORD_TO_TRAIN)\n",
    "\n",
    "    for i in WORD_TO_TRAIN:\n",
    "        #gunakan PATH_TO_TEST atau PATH_TO_TRAIN\n",
    "        file = WORKPATH+\"/\"+i+\"/\"+i+\"-\"+FILE_PREFIX+\"-\"+rann+\".wav\"\n",
    "        \n",
    "        print(\"\\nSilahkan baca kalau sudah recording :\",i)\n",
    "        record(2,filename=file,thres=thres)\n",
    "        files.append(file)\n",
    "    \n",
    "    print(\"Selesai proses merekam ke:\",WORKPATH)\n",
    "    return files\n",
    "\n",
    "def del_small_file(minsize=40000):\n",
    "    for i in WORD_TO_TRAIN:\n",
    "        f = WORKPATH+\"/\"+i\n",
    "        print(f)\n",
    "        lst = os.listdir(f)\n",
    "        for s in lst:\n",
    "            fl = str(f+'/'+s)\n",
    "            sz = os.path.getsize(fl)\n",
    "            if sz<minsize:\n",
    "                os.remove(fl)\n",
    "                print(fl,sz)  "
   ]
  },
  {
   "cell_type": "code",
   "execution_count": 23,
   "metadata": {},
   "outputs": [],
   "source": [
    "def record(length=1, reclength=1, filename=None, thres=0):\n",
    "    \"\"\" \n",
    "    Merekam suara secara stream dan metode callback\n",
    "    \"\"\"\n",
    "\n",
    "    global cumulated_status, end_count, start_count, recording, magnitudo, audiodata\n",
    "    end_count=False\n",
    "    start_count = 0\n",
    "    recording=False\n",
    "    magnitudo=[]\n",
    "    audiodata=[]\n",
    "    try:\n",
    "        import sounddevice as sd\n",
    "\n",
    "        #samplerate = sd.query_devices(args.device, 'input')['default_samplerate']\n",
    "        samplerate = 16000.0\n",
    "\n",
    "        delta_f = (high - low) / screenwidth\n",
    "        fftsize = np.ceil(samplerate / delta_f).astype(int)\n",
    "        low_bin = int(np.floor(low / delta_f))\n",
    "\n",
    "        cumulated_status = sd.CallbackFlags()\n",
    "\n",
    "        def callback(indata, frames, time, status):\n",
    "            global cumulated_status, audiodata, magnitudo, end_count, start_count, recording\n",
    "            \n",
    "            \n",
    "            cumulated_status |= status\n",
    "            if any(indata):\n",
    "                magnitude = np.abs(np.fft.rfft(indata[:, 0], n=fftsize))\n",
    "                magnitude *= gain / fftsize\n",
    "\n",
    "                rms = librosa.feature.rmse(S=indata)\n",
    "                rms = int(rms*32768)\n",
    "                start_count += 1\n",
    "                if rms>=thres:\n",
    "                    if not recording and not end_count:\n",
    "                        print(\"Start record\")\n",
    "                        recording = True\n",
    "                        start_count = 0\n",
    "                        \n",
    "                if recording:\n",
    "                    audiodata.extend(itertools.chain(indata.tolist()))\n",
    "                    magnitudo.append(magnitude)\n",
    "                    if start_count == int(samplerate / (samplerate * DURATION / 1000)):\n",
    "                        print(\"End record\")\n",
    "                        end_count=True\n",
    "                        recording=False\n",
    "\n",
    "\n",
    "        with sd.InputStream(device=None, channels=1, callback=callback,\n",
    "                            blocksize=int(samplerate * DURATION / 1000),\n",
    "                            samplerate=samplerate):\n",
    "            while True:\n",
    "                #response = input()\n",
    "                #if response in ('', 'q', 'Q'):\n",
    "                time.sleep(length)\n",
    "                break\n",
    "            if filename!=None: soundfile.write(filename,audiodata,16000)\n",
    "\n",
    "        if cumulated_status:\n",
    "            logging.warning(str(cumulated_status))\n",
    "    except Exception as e:\n",
    "        print(e)\n",
    "        \n",
    "def auplot(data=None):\n",
    "    if data==None: data = audiodata\n",
    "    plt.plot(np.array(data))\n",
    "\n",
    "def generate(WORKPATH=WORKPATH,style=\"FULL\", frame=5, thres=0):\n",
    "    \"\"\" \n",
    "    Gunakan generate ini untuk membuat SET dari yang ingin di training atau\n",
    "    untuk SET TESTING, gunakan frame untuk menandakan panjang dari frame\n",
    "    yang ingin di deteksi\n",
    "    \"\"\"\n",
    "    files=[]\n",
    "    #Generate AUDIO FILE\n",
    "\n",
    "    #create the dir \n",
    "    for i in WORD_TO_TRAIN:\n",
    "        try:\n",
    "            os.mkdir(PATH_TO_TRAIN+\"/\"+i)\n",
    "            os.mkdir(PATH_TO_TEST+\"/\"+i)\n",
    "        except:\n",
    "            pass\n",
    "    \n",
    "    rann = str(random.randint(0,5000))\n",
    "    print(\"Sequence:\",rann)\n",
    "\n",
    "    #use this for shuffle the word\n",
    "    random.shuffle(WORD_TO_TRAIN)\n",
    "\n",
    "    for i in WORD_TO_TRAIN:\n",
    "        #gunakan PATH_TO_TEST atau PATH_TO_TRAIN\n",
    "        file = WORKPATH+\"/\"+i+\"/\"+i+\"-\"+FILE_PREFIX+\"-\"+rann+\".wav\"\n",
    "        \n",
    "        print(\"\\nSilahkan baca kalau sudah recording :\",i)\n",
    "        record(2,filename=file,thres=thres)\n",
    "        files.append(file)\n",
    "    \n",
    "    print(\"Selesai proses merekam ke:\",WORKPATH)\n",
    "    return files\n",
    "\n",
    "def del_small_file(minsize=40000):\n",
    "    for i in WORD_TO_TRAIN:\n",
    "        f = WORKPATH+\"/\"+i\n",
    "        print(f)\n",
    "        lst = os.listdir(f)\n",
    "        for s in lst:\n",
    "            fl = str(f+'/'+s)\n",
    "            sz = os.path.getsize(fl)\n",
    "            if sz<minsize:\n",
    "                os.remove(fl)\n",
    "                print(fl,sz)  "
   ]
  },
  {
   "cell_type": "code",
   "execution_count": 41,
   "metadata": {
    "scrolled": false
   },
   "outputs": [
    {
     "name": "stdout",
     "output_type": "stream",
     "text": [
      "Sequence: 2009\n",
      "\n",
      "Silahkan baca kalau sudah recording : cipi\n",
      "Start record\n",
      "End record\n",
      "\n",
      "Silahkan baca kalau sudah recording : bangun\n",
      "Start record\n",
      "Selesai proses merekam ke: E:\\data\\python\\3.6\\Words\\chatbot/DeadSimpleSpeechRecognizer/newdata/train\n"
     ]
    }
   ],
   "source": [
    "files=generate(thres=800)\n",
    "#record(length=3, filename=\"record.wav\", thres=800)"
   ]
  },
  {
   "cell_type": "code",
   "execution_count": null,
   "metadata": {
    "scrolled": true
   },
   "outputs": [],
   "source": []
  },
  {
   "cell_type": "code",
   "execution_count": null,
   "metadata": {
    "scrolled": true
   },
   "outputs": [],
   "source": [
    "ipd.Audio('word/train/cipi/cipi-irza-4229.wav')"
   ]
  },
  {
   "cell_type": "code",
   "execution_count": null,
   "metadata": {
    "scrolled": true
   },
   "outputs": [],
   "source": [
    "ff, sr = librosa.load('word/train/cipi/cipi-irza-2379.wav')"
   ]
  },
  {
   "cell_type": "code",
   "execution_count": 1,
   "metadata": {
    "scrolled": true
   },
   "outputs": [],
   "source": [
    "from data.lihat_gambar import lihat_gambar"
   ]
  },
  {
   "cell_type": "code",
   "execution_count": 2,
   "metadata": {},
   "outputs": [
    {
     "name": "stdout",
     "output_type": "stream",
     "text": [
      "Ini adalah fungsi hebad dari rontok\n",
      "langsung dari input: Hello\n"
     ]
    }
   ],
   "source": [
    "lihat_gambar.inputx(\"Hello\")"
   ]
  },
  {
   "cell_type": "code",
   "execution_count": 43,
   "metadata": {},
   "outputs": [],
   "source": [
    "wave, sr = librosa.load('word/train/cipi/cipi-irza-1028-ns-2264.wav', mono=True, sr=None)"
   ]
  },
  {
   "cell_type": "code",
   "execution_count": 46,
   "metadata": {},
   "outputs": [
    {
     "data": {
      "text/plain": [
       "4582"
      ]
     },
     "execution_count": 46,
     "metadata": {},
     "output_type": "execute_result"
    }
   ],
   "source": []
  },
  {
   "cell_type": "code",
   "execution_count": 6,
   "metadata": {},
   "outputs": [
    {
     "ename": "TypeError",
     "evalue": "input() missing 1 required positional argument: 'sentence'",
     "output_type": "error",
     "traceback": [
      "\u001b[1;31m---------------------------------------------------------------------------\u001b[0m",
      "\u001b[1;31mTypeError\u001b[0m                                 Traceback (most recent call last)",
      "\u001b[1;32m<ipython-input-6-f19669e6f573>\u001b[0m in \u001b[0;36m<module>\u001b[1;34m()\u001b[0m\n\u001b[1;32m----> 1\u001b[1;33m \u001b[0mlihat_gambar\u001b[0m\u001b[1;33m.\u001b[0m\u001b[0minput\u001b[0m\u001b[1;33m(\u001b[0m\u001b[1;34m\"helo\"\u001b[0m\u001b[1;33m)\u001b[0m\u001b[1;33m\u001b[0m\u001b[0m\n\u001b[0m",
      "\u001b[1;31mTypeError\u001b[0m: input() missing 1 required positional argument: 'sentence'"
     ]
    }
   ],
   "source": [
    "lihat_gambar.input(\"helo\")"
   ]
  },
  {
   "cell_type": "code",
   "execution_count": null,
   "metadata": {},
   "outputs": [],
   "source": []
  }
 ],
 "metadata": {
  "kernelspec": {
   "display_name": "Python 3",
   "language": "python",
   "name": "python3"
  },
  "language_info": {
   "codemirror_mode": {
    "name": "ipython",
    "version": 3
   },
   "file_extension": ".py",
   "mimetype": "text/x-python",
   "name": "python",
   "nbconvert_exporter": "python",
   "pygments_lexer": "ipython3",
   "version": "3.6.4"
  }
 },
 "nbformat": 4,
 "nbformat_minor": 2
}
