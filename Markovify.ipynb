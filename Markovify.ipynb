{
 "cells": [
  {
   "cell_type": "code",
   "execution_count": 4,
   "metadata": {},
   "outputs": [
    {
     "name": "stdout",
     "output_type": "stream",
     "text": [
      "36 Dan Ahas berbaring bersama leluhurnya, dan dikuburkan di Betlehem.\n",
      "Maka laknat Dia-lah atas orang-orang muda dari 1 SAMUEL 6.19-7.1 32 sampai ke langit, dari TUHAN {YAHWEH - 3068}, dan untuk periuk, dan untuk anak-anak domba, menurut jumlahnya, sesuai dengan kesalehan, 2 atas dasar perbuatan, maka bukan lagi yang tertinggal akan berakar ke bawah dari lantai sampai ke laut Araba, yakni laut Asin, ke arah laut dan awak kapalnya ada bersamamu, kami mengatakan hal ini, mereka akan menjadi seperti seorang yang berbakti kepada kedua panglima Israel, yakni segenap bangsa Israel mengetahui, mulai dari gunung Hor kamu harus bergantung kepada-Nya.\n",
      "4 Seharusnyalah Aku mengerjakan pekerjaan-pekerjaan dari Dia suatu hari pertemuan.\n",
      "Dan mengapa pula engkau telah mengambil dan membawa bersamanya tujuh roh lain, yang melayani Allah {Elohim - 410} tidak akan melayani kurban dan persembahan pendamaian, IMAMAT 7.38-8.5 38 38 yang telah memilihnya untuk pelayanan di kemah pertemuan, 26 dan layar-layar pelataran serta tirai pintu kemah pertemuan, lalu mereka melemparkan barang-barang yang berharga karena disucikan, dan berguna bagi mereka untuk anak-anak lelakimu, engkau harus menghitung baginya tujuh hari di waktu dahulunya kamu berjumlah sedikit, lalu Dia membunuhnya, karena dia telah melakukan hal-hal seperti itu.\n",
      "Seperti burung-burung di langit.\n",
      "7 Dia menyebabkan orang Israel melihat betapa pahitnya kesengsaraan Israel itu.\n",
      "12 Dan Tuhan membuat kamu tinggal di sana, di tanah Mesir, menyertaimu.\n",
      "14 Aku telah memberikan negeri ini, ke negeri musuh-musuhnya, kecuali hati mereka ke dalam tartarus untuk ditahan di markas besar Herodes.\n"
     ]
    }
   ],
   "source": [
    "import markovify\n",
    "\n",
    "# Get raw text as string.\n",
    "with open(\"../data/quran/id.indonesian.txt\") as f:\n",
    "    text2 = f.read()\n",
    "\n",
    "with open(\"../data/bible/2008_MILT_djvu.txt\") as f:\n",
    "    text = f.read()\n",
    "\n",
    "\n",
    "text = text+text2+text2+text2\n",
    "# Build the model.\n",
    "text_model = markovify.Text(text)\n",
    "\n",
    "# Print five randomly-generated sentences\n",
    "for i in range(5):\n",
    "    print(text_model.make_sentence())\n",
    "\n",
    "# Print three randomly-generated sentences of no more than 140 characters\n",
    "for i in range(3):\n",
    "\n",
    "    print(text_model.make_short_sentence(240))"
   ]
  },
  {
   "cell_type": "code",
   "execution_count": 23,
   "metadata": {},
   "outputs": [],
   "source": [
    "# Get raw text as string.\n",
    "with open(\"../data/textdata/dialog_kecil.txt\") as f:\n",
    "    text = f.read()\n"
   ]
  },
  {
   "cell_type": "code",
   "execution_count": 24,
   "metadata": {},
   "outputs": [
    {
     "data": {
      "text/plain": [
       "str"
      ]
     },
     "execution_count": 24,
     "metadata": {},
     "output_type": "execute_result"
    }
   ],
   "source": []
  },
  {
   "cell_type": "code",
   "execution_count": null,
   "metadata": {},
   "outputs": [],
   "source": []
  }
 ],
 "metadata": {
  "kernelspec": {
   "display_name": "Python 3",
   "language": "python",
   "name": "python3"
  },
  "language_info": {
   "codemirror_mode": {
    "name": "ipython",
    "version": 3
   },
   "file_extension": ".py",
   "mimetype": "text/x-python",
   "name": "python",
   "nbconvert_exporter": "python",
   "pygments_lexer": "ipython3",
   "version": "3.6.4"
  }
 },
 "nbformat": 4,
 "nbformat_minor": 2
}
