{
 "cells": [
  {
   "cell_type": "code",
   "execution_count": 1,
   "metadata": {},
   "outputs": [
    {
     "name": "stdout",
     "output_type": "stream",
     "text": [
      "Collecting markovify\n",
      "  Downloading https://files.pythonhosted.org/packages/94/b2/b4ce1e461bb3482b1fd63328a2097aed5917cdfa0dbfe9492a84ea46e2ab/markovify-0.7.1.tar.gz\n",
      "Collecting unidecode (from markovify)\n",
      "  Downloading https://files.pythonhosted.org/packages/59/ef/67085e30e8bbcdd76e2f0a4ad8151c13a2c5bce77c85f8cad6e1f16fb141/Unidecode-1.0.22-py2.py3-none-any.whl (235kB)\n",
      "Building wheels for collected packages: markovify\n",
      "  Running setup.py bdist_wheel for markovify: started\n",
      "  Running setup.py bdist_wheel for markovify: finished with status 'done'\n",
      "  Stored in directory: C:\\Users\\Admin\\AppData\\Local\\pip\\Cache\\wheels\\66\\fe\\5b\\07257dd2401d9835447a0f0223f967c998c153404d32612253\n",
      "Successfully built markovify\n",
      "Installing collected packages: unidecode, markovify\n",
      "Successfully installed markovify-0.7.1 unidecode-1.0.22\n"
     ]
    },
    {
     "name": "stderr",
     "output_type": "stream",
     "text": [
      "You are using pip version 9.0.1, however version 10.0.1 is available.\n",
      "You should consider upgrading via the 'python -m pip install --upgrade pip' command.\n"
     ]
    }
   ],
   "source": [
    "!pip install markovify"
   ]
  },
  {
   "cell_type": "code",
   "execution_count": 33,
   "metadata": {
    "scrolled": false
   },
   "outputs": [
    {
     "name": "stdout",
     "output_type": "stream",
     "text": [
      "hilang lenyap tanpa bekas; pergi tidak pernah bercerai; tidak dapat tenang\n",
      "sudah diberi sedikit, ia mengajukan lebih banyak ditangkap serangga daripada dengan cuka sesendok\n",
      "semua yang pernah ada.\n",
      "None\n",
      "di mana banyak kesenangan di situlah pencuri datang\n",
      "lebih percaya pada pendapat orang lain yang mendapat pujian\n",
      "Saya mengirim mereka $ 20 plus bagian.\n",
      "jika orang ingin mendapatkan kemuliaan atau ingin mulia di mata dipicingkan, tiba di mata orang lain, harus pandai mengambil hatinya\n",
      "seperti lepat dengan daun talas\n",
      "Mengapa ada begitu banyak roti sampai kenyang.\n",
      "\n",
      "\n",
      "\n",
      "Itu api besar di tengah, dan bulat di muka\n",
      "mencelakakan diri sendiri dan tidak dapat mempercayai apa yang paling banyak dari mereka.\n",
      "menolong orang pada waktu ada kerusuhan dsb\n"
     ]
    }
   ],
   "source": [
    "import markovify\n",
    "\n",
    "# Get raw text as string.\n",
    "with open(\"../data/id_quotes/id_quotes.txt\") as f:\n",
    "    text2 = f.readlines()\n",
    "\n",
    "with open(\"../data/quran/id.indonesian.txt\") as f:\n",
    "    text5 = f.readlines()\n",
    "\n",
    "with open(\"../data/bible/2008_MILT_djvu.txt\") as f:\n",
    "    text3 = f.readlines()\n",
    "\n",
    "with open(\"../data/textdata/dialog_kecil2.txt\") as f:\n",
    "    text4 = f.readlines()\n",
    "\n",
    "\n",
    "text = text2+text2+text2+text2+text2+text2+text2+text4+text4+text2+text2\n",
    "# Build the model.\n",
    "text_model = markovify.Text(text)\n",
    "\n",
    "# Print five randomly-generated sentences\n",
    "for i in range(10):\n",
    "    print(text_model.make_sentence())\n",
    "\n",
    "print(\"\\n\\n\")\n",
    "# Print three randomly-generated sentences of no more than 140 characters\n",
    "for i in range(3):\n",
    "    print(text_model.make_short_sentence(140))"
   ]
  },
  {
   "cell_type": "code",
   "execution_count": 22,
   "metadata": {},
   "outputs": [],
   "source": [
    "# Get raw text as string.\n",
    "with open(\"../data/textdata/dialog_kecil.txt\") as f:\n",
    "    text = f.read()\n"
   ]
  },
  {
   "cell_type": "code",
   "execution_count": 30,
   "metadata": {},
   "outputs": [],
   "source": [
    "with open(\"../data/id_quotes/id_quotes.txt\") as f:\n",
    "    text = f.readlines()\n"
   ]
  },
  {
   "cell_type": "code",
   "execution_count": 208,
   "metadata": {},
   "outputs": [
    {
     "name": "stdout",
     "output_type": "stream",
     "text": [
      "Apa yang akan ditanak\n",
      "beri sedikit; setiap suku leluhur mereka;\n"
     ]
    }
   ],
   "source": [
    "print(text_model.make_sentence_with_start(\"Apa\"))\n",
    "print(text_model.make_sentence_with_start(\"beri\"))"
   ]
  },
  {
   "cell_type": "code",
   "execution_count": 32,
   "metadata": {},
   "outputs": [],
   "source": [
    "text_model = markovify.Text(text)"
   ]
  },
  {
   "cell_type": "code",
   "execution_count": null,
   "metadata": {},
   "outputs": [],
   "source": []
  }
 ],
 "metadata": {
  "kernelspec": {
   "display_name": "Python 3",
   "language": "python",
   "name": "python3"
  },
  "language_info": {
   "codemirror_mode": {
    "name": "ipython",
    "version": 3
   },
   "file_extension": ".py",
   "mimetype": "text/x-python",
   "name": "python",
   "nbconvert_exporter": "python",
   "pygments_lexer": "ipython3",
   "version": "3.6.4"
  }
 },
 "nbformat": 4,
 "nbformat_minor": 2
}
