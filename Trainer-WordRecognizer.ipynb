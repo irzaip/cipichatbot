{
 "cells": [
  {
   "cell_type": "code",
   "execution_count": 1,
   "metadata": {
    "scrolled": true
   },
   "outputs": [
    {
     "name": "stdout",
     "output_type": "stream",
     "text": [
      "Requirement already satisfied: tqdm in c:\\anaconda3\\envs\\tensorflow\\lib\\site-packages\n"
     ]
    },
    {
     "name": "stderr",
     "output_type": "stream",
     "text": [
      "You are using pip version 9.0.1, however version 10.0.1 is available.\n",
      "You should consider upgrading via the 'python -m pip install --upgrade pip' command.\n"
     ]
    }
   ],
   "source": [
    "!pip install tqdm"
   ]
  },
  {
   "cell_type": "code",
   "execution_count": 2,
   "metadata": {},
   "outputs": [
    {
     "name": "stderr",
     "output_type": "stream",
     "text": [
      "C:\\Anaconda3\\envs\\tensorflow\\lib\\site-packages\\h5py\\__init__.py:36: FutureWarning: Conversion of the second argument of issubdtype from `float` to `np.floating` is deprecated. In future, it will be treated as `np.float64 == np.dtype(float).type`.\n",
      "  from ._conv import register_converters as _register_converters\n",
      "Using TensorFlow backend.\n",
      "Saving vectors of label - 'bangun': 100%|███████████████████████████████████████████| 154/154 [00:00<00:00, 215.78it/s]\n",
      "Saving vectors of label - 'cipi': 100%|█████████████████████████████████████████████| 142/142 [00:00<00:00, 246.95it/s]\n"
     ]
    }
   ],
   "source": [
    "%load_ext autoreload\n",
    "%autoreload 2\n",
    "\n",
    "import time\n",
    "from preprocess import *\n",
    "import keras\n",
    "from keras.models import Sequential\n",
    "from keras.layers import Dense, Dropout, Flatten, Conv2D, MaxPooling2D\n",
    "from keras.utils import to_categorical\n",
    "\n",
    "\n",
    "# Second dimension of the feature is dim2\n",
    "feature_dim_2 = 11\n",
    "\n",
    "# Save data to array file first\n",
    "save_data_to_array(max_len=feature_dim_2)\n",
    "\n",
    "# # Loading train set and test set\n",
    "X_train, X_test, y_train, y_test = get_train_test()\n",
    "\n",
    "# # Feature dimension\n",
    "feature_dim_1 = 20\n",
    "channel = 1\n",
    "epochs = 50\n",
    "batch_size = 100\n",
    "verbose = 1\n",
    "num_classes = 2\n",
    "\n",
    "# Reshaping to perform 2D convolution\n",
    "X_train = X_train.reshape(X_train.shape[0], feature_dim_1, feature_dim_2, channel)\n",
    "X_test = X_test.reshape(X_test.shape[0], feature_dim_1, feature_dim_2, channel)\n",
    "\n",
    "y_train_hot = to_categorical(y_train)\n",
    "y_test_hot = to_categorical(y_test)"
   ]
  },
  {
   "cell_type": "code",
   "execution_count": 3,
   "metadata": {},
   "outputs": [],
   "source": [
    "def get_model():\n",
    "    model = Sequential()\n",
    "    model.add(Conv2D(32, kernel_size=(2, 2), activation='relu', input_shape=(feature_dim_1, feature_dim_2, channel)))\n",
    "    model.add(Conv2D(48, kernel_size=(2, 2), activation='relu'))\n",
    "    model.add(Conv2D(120, kernel_size=(2, 2), activation='relu'))\n",
    "    model.add(MaxPooling2D(pool_size=(2, 2)))\n",
    "    model.add(Dropout(0.25))\n",
    "    model.add(Flatten())\n",
    "    model.add(Dense(128, activation='relu'))\n",
    "    model.add(Dropout(0.25))\n",
    "    model.add(Dense(64, activation='relu'))\n",
    "    model.add(Dropout(0.4))\n",
    "    model.add(Dense(num_classes, activation='sigmoid'))\n",
    "    model.compile(loss=keras.losses.categorical_crossentropy,\n",
    "                  optimizer=keras.optimizers.Adadelta(),\n",
    "                  metrics=['accuracy'])\n",
    "    return model\n",
    "\n",
    "# Predicts one sample\n",
    "def predict(filepath, model):\n",
    "    sv,sr = soundfile.read('../Ring09.wav')\n",
    "    sample = wav2mfcc(filepath)\n",
    "    sample_reshaped = sample.reshape(1, feature_dim_1, feature_dim_2, channel)\n",
    "    y_pred = model.predict(sample_reshaped)\n",
    "    y_max = np.max(y_pred)\n",
    "    ypred = np.argmax(y_pred)\n",
    "    if y_max>0.9 and ypred==1:\n",
    "        print(\"Predicted:\" ,get_labels()[0][ypred],y_max, ypred)\n",
    "        sounddevice.play(sv,samplerate=16000)\n",
    "    return get_labels()[0][ypred]\n",
    "\n",
    "# Predicts one sample\n",
    "def predicte(audiodata, model):\n",
    "    sv,sr = soundfile.read('../Ring09.wav')\n",
    "    \n",
    "    audiodata = np.array(audiodata).flatten()\n",
    "    sample = au2mfcc(audiodata)\n",
    "    sample_reshaped = sample.reshape(1, feature_dim_1, feature_dim_2, channel)\n",
    "    y_pred = model.predict(sample_reshaped)\n",
    "    y_max = np.max(y_pred)\n",
    "    ypred = np.argmax(y_pred)\n",
    "    if y_max>0.9:\n",
    "        print(\"Predicted:\" ,get_labels()[0][ypred], y_max)\n",
    "        sounddevice.play(sv,samplerate=16000)\n",
    "    return get_labels()[0][ypred]\n"
   ]
  },
  {
   "cell_type": "markdown",
   "metadata": {},
   "source": [
    "# Building The Model Then Training it"
   ]
  },
  {
   "cell_type": "code",
   "execution_count": 4,
   "metadata": {
    "scrolled": true
   },
   "outputs": [
    {
     "name": "stdout",
     "output_type": "stream",
     "text": [
      "Train on 177 samples, validate on 119 samples\n",
      "Epoch 1/50\n",
      " - 0s - loss: 1.4813 - acc: 0.5141 - val_loss: 0.6932 - val_acc: 0.4370\n",
      "Epoch 2/50\n",
      " - 0s - loss: 0.6858 - acc: 0.5424 - val_loss: 0.6929 - val_acc: 0.4370\n",
      "Epoch 3/50\n",
      " - 0s - loss: 0.6944 - acc: 0.5424 - val_loss: 0.6918 - val_acc: 0.4370\n",
      "Epoch 4/50\n",
      " - 0s - loss: 0.7610 - acc: 0.5593 - val_loss: 0.6931 - val_acc: 0.7311\n",
      "Epoch 5/50\n",
      " - 0s - loss: 0.6929 - acc: 0.5254 - val_loss: 0.6931 - val_acc: 0.7311\n",
      "Epoch 6/50\n",
      " - 0s - loss: 0.6907 - acc: 0.6215 - val_loss: 0.6931 - val_acc: 0.7563\n",
      "Epoch 7/50\n",
      " - 0s - loss: 0.6952 - acc: 0.6723 - val_loss: 0.6931 - val_acc: 0.6723\n",
      "Epoch 8/50\n",
      " - 0s - loss: 0.6906 - acc: 0.6271 - val_loss: 0.6931 - val_acc: 0.5294\n",
      "Epoch 9/50\n",
      " - 0s - loss: 0.6961 - acc: 0.5819 - val_loss: 0.6931 - val_acc: 0.8151\n",
      "Epoch 10/50\n",
      " - 0s - loss: 0.6898 - acc: 0.6667 - val_loss: 0.6931 - val_acc: 0.9160\n",
      "Epoch 11/50\n",
      " - 0s - loss: 0.6944 - acc: 0.5932 - val_loss: 0.6931 - val_acc: 0.8655\n",
      "Epoch 12/50\n",
      " - 0s - loss: 0.6951 - acc: 0.6497 - val_loss: 0.6931 - val_acc: 0.5126\n",
      "Epoch 13/50\n",
      " - 0s - loss: 0.6781 - acc: 0.5650 - val_loss: 0.6925 - val_acc: 0.4370\n",
      "Epoch 14/50\n",
      " - 0s - loss: 0.6826 - acc: 0.5706 - val_loss: 0.6916 - val_acc: 0.4370\n",
      "Epoch 15/50\n",
      " - 0s - loss: 0.6695 - acc: 0.5876 - val_loss: 0.6562 - val_acc: 0.4370\n",
      "Epoch 16/50\n",
      " - 0s - loss: 0.6542 - acc: 0.5650 - val_loss: 0.6921 - val_acc: 0.9244\n",
      "Epoch 17/50\n",
      " - 0s - loss: 0.6654 - acc: 0.7401 - val_loss: 0.6000 - val_acc: 0.8319\n",
      "Epoch 18/50\n",
      " - 0s - loss: 0.5463 - acc: 0.7175 - val_loss: 0.4121 - val_acc: 0.9328\n",
      "Epoch 19/50\n",
      " - 0s - loss: 0.3556 - acc: 0.8927 - val_loss: 0.0374 - val_acc: 0.9916\n",
      "Epoch 20/50\n",
      " - 0s - loss: 0.3779 - acc: 0.9096 - val_loss: 1.5974 - val_acc: 0.5714\n",
      "Epoch 21/50\n",
      " - 0s - loss: 1.3377 - acc: 0.6893 - val_loss: 0.3809 - val_acc: 0.8487\n",
      "Epoch 22/50\n",
      " - 0s - loss: 0.3322 - acc: 0.9209 - val_loss: 0.0992 - val_acc: 0.9580\n",
      "Epoch 23/50\n",
      " - 0s - loss: 0.1256 - acc: 0.9887 - val_loss: 0.0448 - val_acc: 0.9664\n",
      "Epoch 24/50\n",
      " - 0s - loss: 0.0938 - acc: 0.9661 - val_loss: 0.0203 - val_acc: 1.0000\n",
      "Epoch 25/50\n",
      " - 0s - loss: 0.0651 - acc: 0.9887 - val_loss: 0.0431 - val_acc: 0.9664\n",
      "Epoch 26/50\n",
      " - 0s - loss: 0.1098 - acc: 0.9718 - val_loss: 0.0755 - val_acc: 0.9412\n",
      "Epoch 27/50\n",
      " - 0s - loss: 0.0363 - acc: 0.9944 - val_loss: 0.0473 - val_acc: 0.9664\n",
      "Epoch 28/50\n",
      " - 0s - loss: 0.0338 - acc: 0.9944 - val_loss: 0.0068 - val_acc: 1.0000\n",
      "Epoch 29/50\n",
      " - 0s - loss: 0.0383 - acc: 0.9887 - val_loss: 0.0065 - val_acc: 1.0000\n",
      "Epoch 30/50\n",
      " - 0s - loss: 0.0413 - acc: 0.9887 - val_loss: 0.0443 - val_acc: 0.9748\n",
      "Epoch 31/50\n",
      " - 0s - loss: 0.0318 - acc: 0.9887 - val_loss: 0.0425 - val_acc: 0.9748\n",
      "Epoch 32/50\n",
      " - 0s - loss: 0.0168 - acc: 0.9944 - val_loss: 0.0272 - val_acc: 0.9916\n",
      "Epoch 33/50\n",
      " - 0s - loss: 0.0111 - acc: 1.0000 - val_loss: 0.0160 - val_acc: 0.9916\n",
      "Epoch 34/50\n",
      " - 0s - loss: 0.0153 - acc: 0.9944 - val_loss: 0.0852 - val_acc: 0.9496\n",
      "Epoch 35/50\n",
      " - 0s - loss: 0.0242 - acc: 0.9887 - val_loss: 8.8065e-04 - val_acc: 1.0000\n",
      "Epoch 36/50\n",
      " - 0s - loss: 0.0163 - acc: 0.9944 - val_loss: 0.0022 - val_acc: 1.0000\n",
      "Epoch 37/50\n",
      " - 0s - loss: 0.0127 - acc: 0.9944 - val_loss: 0.0028 - val_acc: 1.0000\n",
      "Epoch 38/50\n",
      " - 0s - loss: 0.0157 - acc: 0.9887 - val_loss: 8.8180e-04 - val_acc: 1.0000\n",
      "Epoch 39/50\n",
      " - 0s - loss: 0.0035 - acc: 1.0000 - val_loss: 8.7892e-04 - val_acc: 1.0000\n",
      "Epoch 40/50\n",
      " - 0s - loss: 0.0113 - acc: 0.9944 - val_loss: 6.5650e-04 - val_acc: 1.0000\n",
      "Epoch 41/50\n",
      " - 0s - loss: 0.0045 - acc: 1.0000 - val_loss: 0.0011 - val_acc: 1.0000\n",
      "Epoch 42/50\n",
      " - 0s - loss: 0.0053 - acc: 1.0000 - val_loss: 0.0018 - val_acc: 1.0000\n",
      "Epoch 43/50\n",
      " - 0s - loss: 0.0121 - acc: 0.9944 - val_loss: 0.0062 - val_acc: 1.0000\n",
      "Epoch 44/50\n",
      " - 0s - loss: 0.0019 - acc: 1.0000 - val_loss: 0.0056 - val_acc: 1.0000\n",
      "Epoch 45/50\n",
      " - 0s - loss: 0.0036 - acc: 1.0000 - val_loss: 0.0043 - val_acc: 1.0000\n",
      "Epoch 46/50\n",
      " - 0s - loss: 0.0068 - acc: 1.0000 - val_loss: 0.0040 - val_acc: 1.0000\n",
      "Epoch 47/50\n",
      " - 0s - loss: 0.0049 - acc: 1.0000 - val_loss: 0.0055 - val_acc: 1.0000\n",
      "Epoch 48/50\n",
      " - 0s - loss: 0.0071 - acc: 0.9944 - val_loss: 2.7204e-04 - val_acc: 1.0000\n",
      "Epoch 49/50\n",
      " - 0s - loss: 0.0126 - acc: 1.0000 - val_loss: 0.0024 - val_acc: 1.0000\n",
      "Epoch 50/50\n",
      " - 0s - loss: 0.0036 - acc: 1.0000 - val_loss: 0.0014 - val_acc: 1.0000\n"
     ]
    },
    {
     "data": {
      "text/plain": [
       "<keras.callbacks.History at 0x208ab2890b8>"
      ]
     },
     "execution_count": 4,
     "metadata": {},
     "output_type": "execute_result"
    }
   ],
   "source": [
    "model = get_model()\n",
    "model.fit(X_train, y_train_hot, batch_size=batch_size, epochs=epochs, verbose=2, validation_data=(X_test, y_test_hot))"
   ]
  },
  {
   "cell_type": "markdown",
   "metadata": {},
   "source": [
    "## Prediction"
   ]
  },
  {
   "cell_type": "code",
   "execution_count": 5,
   "metadata": {},
   "outputs": [],
   "source": [
    "#model.save(\"chippy_v1.model\")"
   ]
  },
  {
   "cell_type": "code",
   "execution_count": 6,
   "metadata": {},
   "outputs": [],
   "source": [
    "import keras\n",
    "model = keras.models.load_model(\"chippy_v1.model\")"
   ]
  },
  {
   "cell_type": "code",
   "execution_count": 11,
   "metadata": {},
   "outputs": [],
   "source": [
    "import soundfile\n",
    "import itertools\n",
    "import time\n",
    "import librosa\n",
    "import sounddevice\n",
    "\n",
    "DURATION=20\n",
    "gain=10\n",
    "range=[100,2000]\n",
    "high=2000\n",
    "low=100\n",
    "screenwidth=79\n",
    "\n",
    "def record(length=1, reclength=1, filename=None, thres=0):\n",
    "    \"\"\" \n",
    "    Merekam suara secara stream dan metode callback\n",
    "    \"\"\"\n",
    "\n",
    "    global cumulated_status, end_count, start_count, recording, magnitudo, audiodata\n",
    "    end_count=False\n",
    "    start_count = 0\n",
    "    recording=False\n",
    "    magnitudo=[]\n",
    "    audiodata=[]\n",
    "    try:\n",
    "        import sounddevice as sd\n",
    "\n",
    "        #samplerate = sd.query_devices(args.device, 'input')['default_samplerate']\n",
    "        samplerate = 16000.0\n",
    "\n",
    "        delta_f = (high - low) / screenwidth\n",
    "        fftsize = np.ceil(samplerate / delta_f).astype(int)\n",
    "        low_bin = int(np.floor(low / delta_f))\n",
    "\n",
    "        cumulated_status = sd.CallbackFlags()\n",
    "\n",
    "        def callback(indata, frames, time, status):\n",
    "            global cumulated_status, audiodata, magnitudo, end_count, start_count, recording, model\n",
    "            \n",
    "            \n",
    "            cumulated_status |= status\n",
    "            if any(indata):\n",
    "                magnitude = np.abs(np.fft.rfft(indata[:, 0], n=fftsize))\n",
    "                magnitude *= gain / fftsize\n",
    "\n",
    "                rms = librosa.feature.rmse(S=indata)\n",
    "                rms = int(rms*32768)\n",
    "                start_count += 1\n",
    "                if rms>=thres:\n",
    "                    if not recording :                    #and not end_count\n",
    "                        print(\"Start record\")\n",
    "                        recording = True\n",
    "                        start_count = 0\n",
    "                        \n",
    "                        \n",
    "                if recording:\n",
    "                    audiodata.extend(itertools.chain(indata.tolist()))\n",
    "                    magnitudo.append(magnitude)\n",
    "                    if start_count == int(samplerate / (samplerate * DURATION / 1000)):\n",
    "                        print(\"End record\")\n",
    "                        start_count=0\n",
    "                        end_count=True\n",
    "                        recording=False\n",
    "                        try:\n",
    "                            soundfile.write(\"temp.wav\",audiodata,16000)\n",
    "                            predict(\"temp.wav\", model=model)\n",
    "                        except:\n",
    "                            pass\n",
    "                        audiodata=[]\n",
    "\n",
    "\n",
    "\n",
    "        with sd.InputStream(device=None, channels=1, callback=callback,\n",
    "                            blocksize=int(samplerate * DURATION / 1000),\n",
    "                            samplerate=samplerate):\n",
    "            while True:\n",
    "                #response = input()\n",
    "                #if response in ('', 'q', 'Q'):\n",
    "                time.sleep(length)\n",
    "                break\n",
    "            if filename!=None: soundfile.write(filename,audiodata,16000)\n",
    "\n",
    "        if cumulated_status:\n",
    "            logging.warning(str(cumulated_status))\n",
    "    except Exception as e:\n",
    "        print(e)\n"
   ]
  },
  {
   "cell_type": "code",
   "execution_count": 9,
   "metadata": {
    "scrolled": false
   },
   "outputs": [
    {
     "name": "stdout",
     "output_type": "stream",
     "text": [
      "Predicted: cipi 0.9999989 1\n"
     ]
    },
    {
     "data": {
      "text/plain": [
       "'cipi'"
      ]
     },
     "execution_count": 9,
     "metadata": {},
     "output_type": "execute_result"
    }
   ],
   "source": [
    "predict('temp.wav', model=model)"
   ]
  },
  {
   "cell_type": "code",
   "execution_count": 10,
   "metadata": {},
   "outputs": [
    {
     "name": "stdout",
     "output_type": "stream",
     "text": [
      "Start record\n",
      "End record\n",
      "Predicted: cipi 0.9999808 1\n",
      "Start record\n",
      "End record\n",
      "Start record\n",
      "End record\n",
      "Predicted: cipi 0.9999962 1\n",
      "Start record\n",
      "End record\n",
      "Start record\n",
      "End record\n",
      "Predicted: cipi 0.99997807 1\n",
      "Start record\n",
      "End record\n",
      "Start record\n",
      "End record\n",
      "Start record\n",
      "End record\n",
      "Start record\n",
      "End record\n",
      "Start record\n",
      "End record\n",
      "Predicted: cipi 0.9999635 1\n",
      "Start record\n",
      "End record\n",
      "Start record\n",
      "End record\n",
      "Predicted: cipi 0.99990034 1\n",
      "Start record\n",
      "End record\n",
      "Start record\n",
      "End record\n",
      "Predicted: cipi 0.9999802 1\n",
      "Start record\n",
      "End record\n"
     ]
    }
   ],
   "source": [
    "record(length=25,filename=\"record.wav\",thres=1100)"
   ]
  },
  {
   "cell_type": "code",
   "execution_count": null,
   "metadata": {},
   "outputs": [],
   "source": [
    "predict(\"temp.wav\", model=model)"
   ]
  },
  {
   "cell_type": "code",
   "execution_count": null,
   "metadata": {},
   "outputs": [],
   "source": [
    "import sounddevice"
   ]
  },
  {
   "cell_type": "code",
   "execution_count": null,
   "metadata": {},
   "outputs": [],
   "source": [
    "soundfile.read(\"../Ring09.wav\")"
   ]
  },
  {
   "cell_type": "code",
   "execution_count": null,
   "metadata": {},
   "outputs": [],
   "source": [
    "import librosa"
   ]
  },
  {
   "cell_type": "code",
   "execution_count": null,
   "metadata": {},
   "outputs": [],
   "source": [
    "audiodata = b''.join(np.array(audiodata).flatten())"
   ]
  },
  {
   "cell_type": "code",
   "execution_count": null,
   "metadata": {},
   "outputs": [],
   "source": [
    "from preprocess import *"
   ]
  },
  {
   "cell_type": "code",
   "execution_count": null,
   "metadata": {},
   "outputs": [],
   "source": [
    "aaa = np.array(audiodata).flatten()"
   ]
  },
  {
   "cell_type": "code",
   "execution_count": null,
   "metadata": {},
   "outputs": [],
   "source": [
    "sv, sr = soundfile.read(\"../Ring09.wav\")\n",
    "sounddevice.play(sv,samplerate=16000)"
   ]
  },
  {
   "cell_type": "code",
   "execution_count": null,
   "metadata": {},
   "outputs": [],
   "source": []
  }
 ],
 "metadata": {
  "kernelspec": {
   "display_name": "Python 3",
   "language": "python",
   "name": "python3"
  },
  "language_info": {
   "codemirror_mode": {
    "name": "ipython",
    "version": 3
   },
   "file_extension": ".py",
   "mimetype": "text/x-python",
   "name": "python",
   "nbconvert_exporter": "python",
   "pygments_lexer": "ipython3",
   "version": "3.6.4"
  }
 },
 "nbformat": 4,
 "nbformat_minor": 2
}
