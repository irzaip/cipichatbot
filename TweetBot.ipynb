{
 "cells": [
  {
   "cell_type": "code",
   "execution_count": 2,
   "metadata": {
    "scrolled": true
   },
   "outputs": [
    {
     "name": "stderr",
     "output_type": "stream",
     "text": [
      "C:\\Anaconda3\\envs\\tensorflow\\lib\\site-packages\\gensim\\utils.py:1197: UserWarning: detected Windows; aliasing chunkize to chunkize_serial\n",
      "  warnings.warn(\"detected Windows; aliasing chunkize to chunkize_serial\")\n"
     ]
    }
   ],
   "source": [
    "import os\n",
    "import pandas as pd\n",
    "import tweepy\n",
    "import sqlite3\n",
    "import gensim\n",
    "import nltk\n",
    "import numpy as np\n",
    "import time\n",
    "import random\n",
    "import secrets\n",
    "import itertools\n",
    "import yaml\n",
    "import re\n",
    "import requests\n",
    "from bs4 import BeautifulSoup as bs"
   ]
  },
  {
   "cell_type": "markdown",
   "metadata": {},
   "source": [
    "### PARAMETERS"
   ]
  },
  {
   "cell_type": "code",
   "execution_count": 3,
   "metadata": {},
   "outputs": [],
   "source": [
    "maxday=5   #maksimum hari yang di reply.\n",
    "person_to_follow = 3    #jumlah orang yg di follow"
   ]
  },
  {
   "cell_type": "code",
   "execution_count": 5,
   "metadata": {},
   "outputs": [],
   "source": [
    "#AMBIL FILE KONFIGURASI DARI TWITTER.YML\n",
    "with open('twitter.yml') as f:\n",
    "    twit = yaml.load(f)\n",
    "    \n",
    "consumer_key = twit['consumer_key']\n",
    "consumer_secret = twit['consumer_secret']\n",
    "access_token = twit['access_token']\n",
    "access_token_secret = twit['access_token_secret']"
   ]
  },
  {
   "cell_type": "code",
   "execution_count": 4,
   "metadata": {},
   "outputs": [],
   "source": [
    "import datetime\n",
    "def is_today(date):\n",
    "    ckdt = datetime.datetime.strptime(date,'%Y-%m-%d').date()\n",
    "    if ckdt == datetime.datetime.today().date():\n",
    "        return True\n",
    "    return False\n",
    "\n",
    "def daydiff(date1,date2):\n",
    "    d0 = datetime.datetime.strptime(date1,'%Y-%m-%d').date()\n",
    "    d1 = datetime.datetime.strptime(date2,'%Y-%m-%d').date()\n",
    "    delta = d1 - d0\n",
    "    return delta.days"
   ]
  },
  {
   "cell_type": "code",
   "execution_count": 5,
   "metadata": {},
   "outputs": [],
   "source": [
    "# Configure\n",
    "def twit_get_username(username,result='result.csv',limit=10,count=10):\n",
    "    try:\n",
    "        os.remove(result)\n",
    "    except Exception as e:\n",
    "        pass\n",
    "\n",
    "    c = twint.Config()\n",
    "    #c.Search = \"#maling\"\n",
    "    c.Username= username\n",
    "    c.Format = \"\"\n",
    "    c.Debug = False\n",
    "    c.Store_csv = True\n",
    "    # CSV Fieldnames\n",
    "    #following should be used as fieldnames in a list:\n",
    "    #id,date,time,timezone,user_id,username,tweet,replies,retweets,likes,hashtags,link\n",
    "    #c.Custom_csv = [\"id\", \"user_id\", \"username\", \"tweet\"]\n",
    "    c.Output = result\n",
    "    c.Limit=limit\n",
    "    c.Count=count\n",
    "    # Run\n",
    "    twint.Search(c)\n",
    "\n",
    "    df = pd.read_csv(result)\n",
    "    return df\n",
    "\n",
    "def user_follower(username,result='result.csv'):\n",
    "    try:\n",
    "        os.remove(result)\n",
    "    except:\n",
    "        pass\n",
    "\n",
    "    c = twint.Config()\n",
    "    #c.Search = \"#maling\"\n",
    "    c.Username= username\n",
    "    c.Format = \"\"\n",
    "    c.Debug = False\n",
    "    c.Store_csv = True\n",
    "    # CSV Fieldnames\n",
    "    #following should be used as fieldnames in a list:\n",
    "    #id,date,time,timezone,user_id,username,tweet,replies,retweets,likes,hashtags,link\n",
    "    #c.Custom_csv = [\"id\", \"user_id\", \"username\", \"tweet\"]\n",
    "    c.Output = result\n",
    "    # Run\n",
    "    output = twint.run.Followers(c)\n",
    "\n",
    "    df = pd.read_csv(result)\n",
    "    return df\n",
    "\n",
    "def user_following(username,result='result.csv'):\n",
    "    try:\n",
    "        os.remove(result)\n",
    "    except:\n",
    "        pass\n",
    "\n",
    "    c = twint.Config()\n",
    "    #c.Search = \"#maling\"\n",
    "    c.Username= username\n",
    "    c.Format = \"\"\n",
    "    c.Debug = False\n",
    "    c.Store_csv = True\n",
    "    # CSV Fieldnames\n",
    "    #following should be used as fieldnames in a list:\n",
    "    #id,date,time,timezone,user_id,username,tweet,replies,retweets,likes,hashtags,link\n",
    "    #c.Custom_csv = [\"id\", \"user_id\", \"username\", \"tweet\"]\n",
    "    c.Output = result\n",
    "    # Run\n",
    "    output = twint.run.Following(c)\n",
    "\n",
    "    df = pd.read_csv(result)\n",
    "    return df\n",
    "\n"
   ]
  },
  {
   "cell_type": "markdown",
   "metadata": {},
   "source": [
    "### Connect DB & Routines"
   ]
  },
  {
   "cell_type": "code",
   "execution_count": 6,
   "metadata": {},
   "outputs": [],
   "source": [
    "# Create a database in RAM\n",
    "db = sqlite3.connect(':memory:')\n",
    "# Creates or opens a file called mydb with a SQLite3 DB\n",
    "db = sqlite3.connect('mydb-tweet')\n",
    "\n",
    "# Get a cursor object\n",
    "#cursor = db.cursor()\n",
    "#cursor.execute('''\n",
    "#    CREATE TABLE following(id INTEGER PRIMARY KEY, username TEXT,\n",
    "#                       following TEXT)\n",
    "#''')\n",
    "#db.commit()\n",
    "\n",
    "def db_insert_follower(username, follower_list):\n",
    "    cursor = db.cursor()\n",
    "    # Insert user 1\n",
    "    for i in range(len(follower_list)):\n",
    "        follower=follower_list[i]\n",
    "        cursor.execute('''INSERT INTO follower(username, follower)\n",
    "                          VALUES(?,?)''', (username, follower))\n",
    "    db.commit()\n",
    "    \n",
    "def db_insert_following(username, following_list):\n",
    "    cursor = db.cursor()\n",
    "    # Insert user 1\n",
    "    for i in range(len(following_list)):\n",
    "        following=following_list[i]\n",
    "        cursor.execute('''INSERT INTO following(username, following)\n",
    "                          VALUES(?,?)''', (username, following))\n",
    "    db.commit()\n",
    "\n",
    "def db_get_follower(username):\n",
    "    cursor = db.cursor()\n",
    "    cursor.execute('''SELECT username, follower FROM follower WHERE username=?''',(username,))\n",
    "    #user1 = cursor.fetchone() #retrieve the first row\n",
    "    #print(user1[1]) #Print the first column retrieved(user's name)\n",
    "    all_rows = cursor.fetchall()\n",
    "    for row in all_rows:\n",
    "        # row[0] returns the first column in the query (name), row[1] returns email column.\n",
    "        print('{0} : {1}'.format(row[0], row[1]))\n",
    "\n",
    "def db_get_following(username):\n",
    "    cursor = db.cursor()\n",
    "    cursor.execute('''SELECT username, following FROM following WHERE username=?''',(username,))\n",
    "    #user1 = cursor.fetchone() #retrieve the first row\n",
    "    #print(user1[1]) #Print the first column retrieved(user's name)\n",
    "    all_rows = cursor.fetchall()\n",
    "    for row in all_rows:\n",
    "        # row[0] returns the first column in the query (name), row[1] returns email column.\n",
    "        print('{0} : {1}'.format(row[0], row[1]))\n",
    "\n",
    "def update():\n",
    "    # Update user with id 1\n",
    "    newphone = '3113093164'\n",
    "    userid = 1\n",
    "    cursor.execute('''UPDATE users SET phone = ? WHERE id = ? ''',\n",
    "     (newphone, userid))\n",
    "\n",
    "def db_del_follower(username):\n",
    "    cursor = db.cursor()\n",
    "    cursor.execute('''DELETE FROM follower WHERE username = ? ''', (username,))\n",
    "    db.commit()\n",
    "\n",
    "def db_del_following(username):\n",
    "    cursor = db.cursor()\n",
    "    cursor.execute('''DELETE FROM following WHERE username = ? ''', (username,))\n",
    "    db.commit()"
   ]
  },
  {
   "cell_type": "code",
   "execution_count": 7,
   "metadata": {},
   "outputs": [],
   "source": [
    "def db_is_replied(msg_id):\n",
    "    cursor = db.cursor()\n",
    "    cursor.execute('''SELECT msg_id, my_id FROM replymsg WHERE msg_id=?''',(msg_id,))\n",
    "    msg1 = cursor.fetchone() #retrieve the first row\n",
    "    if msg1:\n",
    "        return True\n",
    "    else:\n",
    "        return False\n",
    "\n",
    "def db_user_follower_data(user_id):\n",
    "    cursor = db.cursor()\n",
    "    cursor.execute('''SELECT follower FROM follower WHERE username=?''',(user_id,))\n",
    "    msg1 = cursor.fetchone() #retrieve the first row\n",
    "    if msg1:\n",
    "        return True\n",
    "    else:\n",
    "        return False\n",
    "\n",
    "def db_user_following_data(user_id):\n",
    "    cursor = db.cursor()\n",
    "    cursor.execute('''SELECT following FROM following WHERE username=?''',(user_id,))\n",
    "    msg1 = cursor.fetchone() #retrieve the first row\n",
    "    if msg1:\n",
    "        return True\n",
    "    else:\n",
    "        return False\n",
    "\n",
    "def db_replied_this_id(msg_id,my_id):\n",
    "    cursor = db.cursor()\n",
    "    cursor.execute('''INSERT INTO replymsg(msg_id,my_id)\n",
    "                    VALUES(?,?)''',(msg_id,my_id))\n",
    "    db.commit()\n"
   ]
  },
  {
   "cell_type": "code",
   "execution_count": null,
   "metadata": {},
   "outputs": [],
   "source": []
  },
  {
   "cell_type": "markdown",
   "metadata": {},
   "source": [
    "### Routine Logic - tweepy"
   ]
  },
  {
   "cell_type": "code",
   "execution_count": 8,
   "metadata": {},
   "outputs": [],
   "source": [
    "def cleanhtml(raw_html):\n",
    "  cleanr = re.compile('<.*?>')\n",
    "  cleantext = re.sub(cleanr, '', raw_html)\n",
    "  return cleantext\n",
    "\n",
    "def twp_update_status(msg):\n",
    "    try:\n",
    "        api.update_status(msg)\n",
    "        print(\"Update status to:\",msg)\n",
    "    except Exception as e:\n",
    "        print(\"error updating status:\",e)\n",
    "        \n",
    "def twp_reply_post(msg,replyID):\n",
    "    try:\n",
    "        rets = api.update_status(msg, in_reply_to_status_id=replyID)\n",
    "        print(\"Update status to:\",msg)\n",
    "        return rets\n",
    "    except Exception as e:\n",
    "        print(\"error updating status:\",e)\n",
    "        \n",
    "def twp_cool_post(msg, username, userfollower):\n",
    "    res = twit_get_username(username)\n",
    "    msgid = res.iloc[postnum].id\n",
    "    #username = res.iloc[postnum]\n",
    "    follower = user_following(userfollower)\n",
    "    import random\n",
    "    follist = follower['GundalaPutraTop'].values.tolist()\n",
    "    random.shuffle(follist)\n",
    "    mention = \"@\"+follist[0]+\" @\"+follist[1]+\" @\"+follist[2]\n",
    "    msge = str(\"@\")+str(username)+\" \"+str(msg)+\" \"+str(mention)\n",
    "    print(\"Pesan:\",msge, \"replyto:\",msgid)\n",
    "    api.update_status(msge, msgid)\n",
    "\n",
    "def twp_follow(UserIDs):\n",
    "    for userID in UserIDs:\n",
    "        try:\n",
    "            api.create_friendship(userID)\n",
    "            print(\"Try to follow:\", userID)\n",
    "        except Exception as e:\n",
    "            print(e)\n",
    "            continue"
   ]
  },
  {
   "cell_type": "markdown",
   "metadata": {},
   "source": [
    "# Routine BOT - AI"
   ]
  },
  {
   "cell_type": "code",
   "execution_count": 9,
   "metadata": {},
   "outputs": [
    {
     "name": "stdout",
     "output_type": "stream",
     "text": [
      "[nltk_data] Downloading package punkt to\n",
      "[nltk_data]     C:\\Users\\Admin\\AppData\\Roaming\\nltk_data...\n",
      "[nltk_data]   Package punkt is already up-to-date!\n",
      "[nltk_data] Downloading package stopwords to\n",
      "[nltk_data]     C:\\Users\\Admin\\AppData\\Roaming\\nltk_data...\n",
      "[nltk_data]   Package stopwords is already up-to-date!\n"
     ]
    },
    {
     "data": {
      "text/plain": [
       "True"
      ]
     },
     "execution_count": 9,
     "metadata": {},
     "output_type": "execute_result"
    }
   ],
   "source": [
    "nltk.download('punkt')\n",
    "nltk.download('stopwords')"
   ]
  },
  {
   "cell_type": "code",
   "execution_count": 10,
   "metadata": {},
   "outputs": [
    {
     "name": "stderr",
     "output_type": "stream",
     "text": [
      "C:\\Anaconda3\\envs\\tensorflow\\lib\\site-packages\\h5py\\__init__.py:36: FutureWarning: Conversion of the second argument of issubdtype from `float` to `np.floating` is deprecated. In future, it will be treated as `np.float64 == np.dtype(float).type`.\n",
      "  from ._conv import register_converters as _register_converters\n",
      "Using TensorFlow backend.\n"
     ]
    }
   ],
   "source": [
    "import keras\n",
    "import nltk\n",
    "\n",
    "num_features=300\n",
    "maxsent=10\n",
    "w2vmodel=\"chat_model1-300.w2v\"   #filename\n",
    "tex2vec =  gensim.models.KeyedVectors.load(w2vmodel)\n",
    "\n",
    "model = keras.models.load_model(\"model-ep2-100.mdl\")\n",
    "\n",
    "def pred(sentence):\n",
    "    predictions=model.predict(np.array([swv_ar(twl(sentence))]))\n",
    "    result=decode(predictions)\n",
    "    print(result)\n",
    "    return result\n",
    "\n",
    "#[tex2vec.most_similar([predictions[0][i]])[0] for i in range(maxsent)]\n",
    "\n",
    "\n",
    "def remove_unchar(flist):\n",
    "    try:\n",
    "        flist.remove(\"?\")\n",
    "    except:\n",
    "        pass\n",
    "\n",
    "def twl(sentence, rempunct=True, flat=True):\n",
    "    \"\"\"Tokenize word dari sebuah sentence/kalimat\"\"\"\n",
    "    if not flat:\n",
    "        sntoken = nltk.sent_tokenize(sentence)\n",
    "    else:\n",
    "        sntoken = [sentence]\n",
    "    for i in range(len(sntoken)):\n",
    "        tokens = nltk.word_tokenize(sntoken[i])\n",
    "        if rempunct==True:\n",
    "            type(tokens)\n",
    "            text = nltk.Text(tokens)\n",
    "            type(text)  \n",
    "            sntoken[i] = [w.lower() for w in text if w.isalpha()]\n",
    "        else: sntoken[i] = tokens\n",
    "    if len(sntoken)==1: \n",
    "        sntoken = sntoken[0]\n",
    "        remove_unchar(sntoken)\n",
    "    for i in sntoken:\n",
    "        remove_unchar(i)\n",
    "    if sntoken==[]: sntoken=['yang']\n",
    "    #print(sntoken)\n",
    "    return sntoken\n",
    "\n",
    "def zerolistmaker(n):\n",
    "    \"\"\"Membuat list berisi 0, mirip seperti np.zeros\"\"\"\n",
    "    listofzeros = [1] * n\n",
    "    return listofzeros\n",
    "\n",
    "\n",
    "\n",
    "def swv_ar(sentence, maxword=maxsent, vecsize=num_features, frontpad=True):\n",
    "    \"\"\"Sentence word2vec to array matrices for processing\"\"\"\n",
    "    senarray=[]\n",
    "    if len(sentence)>=maxsent: \n",
    "        print(\"Sentence overflow:\",sentence)\n",
    "        sentence=sentence[0:maxsent-1]\n",
    "    if type(sentence[0])==list:\n",
    "        for i in range(len(sentence)):\n",
    "            for k in range(len(sentence[i])):\n",
    "                #print(tex2vec[sentence[i][k]])\n",
    "                try:\n",
    "                    senarray.append(tex2vec[sentence[i][k]])\n",
    "                except Exception as e:\n",
    "                    print(\"Problem at phrase:\", sentence[i][k])\n",
    "                    \n",
    "    else:\n",
    "        for i in range(len(sentence)):\n",
    "            try:\n",
    "                senarray.append(tex2vec[sentence[i]])\n",
    "            except Exception as e:\n",
    "                print(\"Problem at phrase:\", sentence[i])\n",
    "                \n",
    "    zr=zerolistmaker(num_features)\n",
    "    #reverse if want to add a padding in front\n",
    "    if frontpad: senarray.reverse()\n",
    "\n",
    "    #add the padding\n",
    "    for i in range(maxword-len(senarray)):     \n",
    "        senarray.append(zr)\n",
    "\n",
    "    #reverse again\n",
    "    if frontpad: senarray.reverse()            \n",
    "    \n",
    "    return np.array(senarray)\n",
    "\n",
    "\n",
    "\n",
    "def rem_list(input):\n",
    "    remlist=['LePastee','Tertawalah','Campari','Gundik','mastektomi', 'Kerut', 'Ssshh']\n",
    "    for i in remlist:\n",
    "        try:\n",
    "            ind=input.index(i)\n",
    "            input.pop(ind)\n",
    "        except:\n",
    "            pass\n",
    "    return input\n",
    "\n",
    "def decode(pred):\n",
    "    result=[]\n",
    "    for i in range(maxsent):\n",
    "        res = tex2vec.wv.similar_by_vector(pred[0][i])[0][0]\n",
    "        result.append(res)\n",
    "        result = rem_list(result)\n",
    "        strj = ' '.join(result)\n",
    "    return strj\n"
   ]
  },
  {
   "cell_type": "code",
   "execution_count": 11,
   "metadata": {},
   "outputs": [],
   "source": [
    "posmsg = [\n",
    "    \"Ini bagus banget, \",\n",
    "    \"Saya suka banget sama ini, \",\n",
    "    \"Wah asik banget ini yah. \",\n",
    "    \"Bagooooooossssss, \",\n",
    "    \"I love this, \",\n",
    "    \"Kapan nih berita gini?, \",\n",
    "    \"I love this post, \",\n",
    "    \"Postingan yang sangat bermutu, \",\n",
    "    \"Kapan?, \",\n",
    "    \"Terus kasih lagi gan..., \",\n",
    "    \"I like this, \",\n",
    "    \"Lanjuuuut gan, \",\n",
    "    \"Komen yang bermutu, \",\n",
    "    \"Twit ini sadis kerennya, \",\n",
    "    \"He he heh e, \",\n",
    "    \"Lanjoot, \"\n",
    "]\n",
    "\n",
    "def ranmsg():\n",
    "    a = secrets.choice(posmsg)\n",
    "    return a"
   ]
  },
  {
   "cell_type": "code",
   "execution_count": 12,
   "metadata": {},
   "outputs": [],
   "source": [
    "def get_id_follower(username,count=20):\n",
    "    result=[]\n",
    "    maxc=0\n",
    "    try:\n",
    "        for user in tweepy.Cursor(api.followers, screen_name=username).items(count):\n",
    "            maxc += 1\n",
    "            result.append(user.screen_name)\n",
    "            if maxc > count:\n",
    "                break\n",
    "    except:\n",
    "        print(\"Error - get follower\")\n",
    "        result=['aagym']\n",
    "    return result"
   ]
  },
  {
   "cell_type": "code",
   "execution_count": 13,
   "metadata": {},
   "outputs": [],
   "source": [
    "def get_rnd(rlist,count=3):\n",
    "    result = []\n",
    "    for i in range(count):\n",
    "        a1 = random.randint(0,len(rlist)-1)\n",
    "        result.append(rlist[a1])\n",
    "    return result"
   ]
  },
  {
   "cell_type": "code",
   "execution_count": 14,
   "metadata": {},
   "outputs": [],
   "source": [
    "def replyer(m):\n",
    "    m_user = m.user.screen_name\n",
    "    print(\"Username:\",m_user)\n",
    "    msg_id = m.id\n",
    "    m_text = m.text\n",
    "    if not db_is_replied(msg_id):\n",
    "\n",
    "        flwr = get_id_follower(str(m_user))\n",
    "        reslt=get_rnd(flwr)\n",
    "        \n",
    "        #db_insert_follower(m_user,reslt)\n",
    "        #twp_follow(reslt)\n",
    "        #print(\"Success adding follower of:\", m_user)\n",
    "        recap=cleanhtml(m_text)+\",\"\n",
    "        sender=\"@\"+m_user+\" \"\n",
    "        msg1 = ranmsg()\n",
    "        msg2 = pred(m_text)\n",
    "        msg3 = kaskus_search(m_text)\n",
    "\n",
    "        reslt = secrets.choice(reslt)\n",
    "\n",
    "        tagthem = ' @'+' @'.join(reslt)\n",
    "        fullmsg = recap+msg1+msg2+\",\"+msg3+\" \"    #+tagthem\n",
    "        print(fullmsg)\n",
    "        rets = twp_reply_post(fullmsg,None)\n",
    "        \n",
    "        #twp_cool_post(fullmsg,m_user,m_user)\n",
    "        if rets:\n",
    "            db_replied_this_id(msg_id,str(rets.id))\n",
    "            db_replied_this_id(str(rets.id),str(rets.id))\n",
    "        else:\n",
    "            print(\"Error posting message =============\")\n",
    "    else:\n",
    "        print(\"already replied\")\n",
    "        pass"
   ]
  },
  {
   "cell_type": "code",
   "execution_count": null,
   "metadata": {},
   "outputs": [],
   "source": []
  },
  {
   "cell_type": "markdown",
   "metadata": {},
   "source": [
    "### RUTIN KASKUS SEARCH"
   ]
  },
  {
   "cell_type": "code",
   "execution_count": 15,
   "metadata": {},
   "outputs": [],
   "source": [
    "def build_structure(string):\n",
    "    return [' '.join(window) for n in range(len(string)) for\n",
    "            window in windows(string.split(), n + 1, n)]\n",
    "\n",
    "def windows(iterable, length=2, overlap=0):\n",
    "    it = iter(iterable)\n",
    "    results = list(itertools.islice(it, length))\n",
    "    while len(results) == length:\n",
    "        yield results\n",
    "        results = results[length-overlap:]\n",
    "        results.extend(itertools.islice(it, length-overlap))\n",
    "\n",
    "def clean_word(string):\n",
    "    pattern = re.compile('[\\W_]+')\n",
    "    words = []\n",
    "    for word in string.split():\n",
    "        word = re.sub(pattern, ' ', word)\n",
    "        words.append(word)\n",
    "    return ' '.join(words)\n",
    "\n",
    "def make_keywords(string):\n",
    "    string = clean_word(string.lower())\n",
    "    keywords = []\n",
    "    for phrase in build_structure(string):\n",
    "        if len(list(phrase.split())) >= 1 and len(list(phrase.split())) <= 2:\n",
    "            if phrase is not None and phrase.strip() != '':\n",
    "                keywords.append(phrase)\n",
    "    return secrets.choice(keywords)\n",
    "\n",
    "def kaskus_search(topic, maxword=25):\n",
    "    try:\n",
    "        topic = make_keywords(topic)\n",
    "        search_url = 'https://www.kaskus.co.id/search?q='\n",
    "\n",
    "        page = requests.get(search_url+topic)\n",
    "\n",
    "        sp = bs(page.text,\"html.parser\")\n",
    "\n",
    "        #GET THE THREADS LINKS FROM MAIN PAGE\n",
    "        thrds = []\n",
    "        for a in sp.findAll(\"a\",href=True):\n",
    "            if a['href'].find('/thread/') != -1:\n",
    "                thrds.append(a['href'])\n",
    "\n",
    "        rsl = []\n",
    "        for thrd in thrds:\n",
    "            page = requests.get(thrd)\n",
    "            sp = bs(page.text,\"html.parser\")\n",
    "\n",
    "        #ambil konten di class entry - tapi dari mulai index 2\n",
    "            rs = sp.findAll('div',{'class': 'entry'})\n",
    "            for i in range(2,len(rs)):\n",
    "                tx = rs[i].getText()\n",
    "                if len(nltk.word_tokenize(tx)) < maxword:\n",
    "                    rsl.append(tx)\n",
    "\n",
    "        result=secrets.choice(rsl)\n",
    "    except:\n",
    "        result=\"\"\n",
    "    \n",
    "    return result"
   ]
  },
  {
   "cell_type": "markdown",
   "metadata": {},
   "source": [
    "# TWEEPY INITIALIZE"
   ]
  },
  {
   "cell_type": "code",
   "execution_count": 29,
   "metadata": {},
   "outputs": [],
   "source": [
    "if __name__ == '__main__':\n",
    "    auth = tweepy.OAuthHandler(consumer_key, consumer_secret)\n",
    "    auth.set_access_token(access_token, access_token_secret)\n",
    "\n",
    "    api = tweepy.API(auth)\n",
    "\n",
    "    #m = public_tweets[0]\n",
    "    #replyer(m)\n",
    "\n",
    "#cool_post(\"Keren gan wow-mantap\",\"irzaip\", \"iriantomo\")\n",
    "\n",
    "#contoh sebuah reply\n",
    "#api.update_status(\"@iriantomo Status ini bro kerens.\", in_reply_to_status_id=1001139203487318016)"
   ]
  },
  {
   "cell_type": "code",
   "execution_count": 27,
   "metadata": {},
   "outputs": [],
   "source": [
    "    #print(m.user.screen_name)\n",
    "    #print(m.user.followers_count)"
   ]
  },
  {
   "cell_type": "markdown",
   "metadata": {},
   "source": [
    "# BALAS SEMUA TWEET DI HOMEPAGE"
   ]
  },
  {
   "cell_type": "code",
   "execution_count": 28,
   "metadata": {},
   "outputs": [],
   "source": [
    "import time"
   ]
  },
  {
   "cell_type": "code",
   "execution_count": null,
   "metadata": {},
   "outputs": [
    {
     "name": "stdout",
     "output_type": "stream",
     "text": [
      "RT @LiamPayne: 🇧🇷 https://t.co/3lV26LGEmf\n",
      "Username: sysielnaoncy\n"
     ]
    },
    {
     "name": "stderr",
     "output_type": "stream",
     "text": [
      "C:\\Anaconda3\\envs\\tensorflow\\lib\\site-packages\\ipykernel_launcher.py:74: DeprecationWarning: Call to deprecated `__getitem__` (Method will be removed in 4.0.0, use self.wv.__getitem__() instead).\n"
     ]
    },
    {
     "name": "stdout",
     "output_type": "stream",
     "text": [
      "Problem at phrase: rt\n",
      "Problem at phrase: liampayne\n",
      "keingintahuan\n",
      "RT @LiamPayne: 🇧🇷 https://t.co/3lV26LGEmf,I love this, keingintahuan, \n",
      "error updating status: [{'message': 'Application cannot perform write actions. Contact Twitter Platform Operations through https://support.twitter.com/forms/platform', 'code': 261}]\n",
      "Error posting message =============\n"
     ]
    }
   ],
   "source": [
    "    public_tweets = api.home_timeline()\n",
    "\n",
    "    for tweet in public_tweets:\n",
    "        print(tweet.text)\n",
    "        replyer(tweet)\n",
    "        #db_is_replied(tweet.id)\n",
    "        time.sleep(100)"
   ]
  },
  {
   "cell_type": "markdown",
   "metadata": {},
   "source": [
    "## Kalau mau balas post orang"
   ]
  },
  {
   "cell_type": "code",
   "execution_count": 21,
   "metadata": {},
   "outputs": [],
   "source": [
    "def reply_post_user(username, postnum=0):\n",
    "    posts=api.user_timeline(id=username)\n",
    "    replyer(posts[postnum])"
   ]
  },
  {
   "cell_type": "code",
   "execution_count": null,
   "metadata": {},
   "outputs": [],
   "source": []
  },
  {
   "cell_type": "markdown",
   "metadata": {},
   "source": [
    "# PSEUDO CODE"
   ]
  },
  {
   "cell_type": "markdown",
   "metadata": {},
   "source": [
    "id = ambil_id_msg()\n",
    "check_msg_di_db()\n",
    "liat_user_msg()\n",
    "list_follower_usermsg()\n",
    "ambil_3_random_follower()\n",
    "ambil_random_jawaban()\n",
    "ambil_prediksi_twit_user()\n",
    "buat_msg()\n",
    "post_msg()\n",
    "catat_posting_di_db()\n",
    "follow_3_user()"
   ]
  },
  {
   "cell_type": "markdown",
   "metadata": {},
   "source": [
    "# SANDBOX"
   ]
  },
  {
   "cell_type": "code",
   "execution_count": null,
   "metadata": {},
   "outputs": [],
   "source": []
  },
  {
   "cell_type": "markdown",
   "metadata": {},
   "source": [
    "# CLEAN UP  - Don't Forget"
   ]
  },
  {
   "cell_type": "code",
   "execution_count": 22,
   "metadata": {},
   "outputs": [],
   "source": [
    "#db.close()"
   ]
  },
  {
   "cell_type": "code",
   "execution_count": 43,
   "metadata": {},
   "outputs": [],
   "source": [
    "from data import *"
   ]
  },
  {
   "cell_type": "code",
   "execution_count": null,
   "metadata": {},
   "outputs": [],
   "source": []
  }
 ],
 "metadata": {
  "kernelspec": {
   "display_name": "Python 3",
   "language": "python",
   "name": "python3"
  },
  "language_info": {
   "codemirror_mode": {
    "name": "ipython",
    "version": 3
   },
   "file_extension": ".py",
   "mimetype": "text/x-python",
   "name": "python",
   "nbconvert_exporter": "python",
   "pygments_lexer": "ipython3",
   "version": "3.6.4"
  }
 },
 "nbformat": 4,
 "nbformat_minor": 2
}
