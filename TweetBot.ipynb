{
 "cells": [
  {
   "cell_type": "code",
   "execution_count": 1,
   "metadata": {
    "scrolled": true
   },
   "outputs": [
    {
     "name": "stderr",
     "output_type": "stream",
     "text": [
      "C:\\Anaconda3\\envs\\tensorflow\\lib\\site-packages\\gensim\\utils.py:1197: UserWarning: detected Windows; aliasing chunkize to chunkize_serial\n",
      "  warnings.warn(\"detected Windows; aliasing chunkize to chunkize_serial\")\n"
     ]
    }
   ],
   "source": [
    "import os\n",
    "import pandas as pd\n",
    "import tweepy\n",
    "import sqlite3\n",
    "import gensim\n",
    "import nltk\n",
    "import numpy as np\n",
    "import time\n",
    "import random\n",
    "import secrets\n",
    "import itertools\n",
    "import yaml\n",
    "import re\n",
    "import requests\n",
    "from bs4 import BeautifulSoup as bs"
   ]
  },
  {
   "cell_type": "markdown",
   "metadata": {},
   "source": [
    "### PARAMETERS"
   ]
  },
  {
   "cell_type": "code",
   "execution_count": 2,
   "metadata": {},
   "outputs": [],
   "source": [
    "maxday=5   #maksimum hari yang di reply.\n",
    "person_to_follow = 3    #jumlah orang yg di follow"
   ]
  },
  {
   "cell_type": "code",
   "execution_count": 3,
   "metadata": {},
   "outputs": [],
   "source": [
    "#AMBIL FILE KONFIGURASI DARI TWITTER.YML\n",
    "with open('twitter.yml') as f:\n",
    "    twit = yaml.load(f)\n",
    "    \n",
    "consumer_key = twit['consumer_key']\n",
    "consumer_secret = twit['consumer_secret']\n",
    "access_token = twit['access_token']\n",
    "access_token_secret = twit['access_token_secret']"
   ]
  },
  {
   "cell_type": "code",
   "execution_count": 4,
   "metadata": {},
   "outputs": [],
   "source": [
    "import datetime\n",
    "def is_today(date):\n",
    "    ckdt = datetime.datetime.strptime(date,'%Y-%m-%d').date()\n",
    "    if ckdt == datetime.datetime.today().date():\n",
    "        return True\n",
    "    return False\n",
    "\n",
    "def daydiff(date1,date2):\n",
    "    d0 = datetime.datetime.strptime(date1,'%Y-%m-%d').date()\n",
    "    d1 = datetime.datetime.strptime(date2,'%Y-%m-%d').date()\n",
    "    delta = d1 - d0\n",
    "    return delta.days"
   ]
  },
  {
   "cell_type": "markdown",
   "metadata": {},
   "source": [
    "# Configure\n",
    "def twit_get_username(username,result='result.csv',limit=10,count=10):\n",
    "    try:\n",
    "        os.remove(result)\n",
    "    except Exception as e:\n",
    "        pass\n",
    "\n",
    "    c = twint.Config()\n",
    "    #c.Search = \"#maling\"\n",
    "    c.Username= username\n",
    "    c.Format = \"\"\n",
    "    c.Debug = False\n",
    "    c.Store_csv = True\n",
    "    # CSV Fieldnames\n",
    "    #following should be used as fieldnames in a list:\n",
    "    #id,date,time,timezone,user_id,username,tweet,replies,retweets,likes,hashtags,link\n",
    "    #c.Custom_csv = [\"id\", \"user_id\", \"username\", \"tweet\"]\n",
    "    c.Output = result\n",
    "    c.Limit=limit\n",
    "    c.Count=count\n",
    "    # Run\n",
    "    twint.Search(c)\n",
    "\n",
    "    df = pd.read_csv(result)\n",
    "    return df\n",
    "\n",
    "def user_follower(username,result='result.csv'):\n",
    "    try:\n",
    "        os.remove(result)\n",
    "    except:\n",
    "        pass\n",
    "\n",
    "    c = twint.Config()\n",
    "    #c.Search = \"#maling\"\n",
    "    c.Username= username\n",
    "    c.Format = \"\"\n",
    "    c.Debug = False\n",
    "    c.Store_csv = True\n",
    "    # CSV Fieldnames\n",
    "    #following should be used as fieldnames in a list:\n",
    "    #id,date,time,timezone,user_id,username,tweet,replies,retweets,likes,hashtags,link\n",
    "    #c.Custom_csv = [\"id\", \"user_id\", \"username\", \"tweet\"]\n",
    "    c.Output = result\n",
    "    # Run\n",
    "    output = twint.run.Followers(c)\n",
    "\n",
    "    df = pd.read_csv(result)\n",
    "    return df\n",
    "\n",
    "def user_following(username,result='result.csv'):\n",
    "    try:\n",
    "        os.remove(result)\n",
    "    except:\n",
    "        pass\n",
    "\n",
    "    c = twint.Config()\n",
    "    #c.Search = \"#maling\"\n",
    "    c.Username= username\n",
    "    c.Format = \"\"\n",
    "    c.Debug = False\n",
    "    c.Store_csv = True\n",
    "    # CSV Fieldnames\n",
    "    #following should be used as fieldnames in a list:\n",
    "    #id,date,time,timezone,user_id,username,tweet,replies,retweets,likes,hashtags,link\n",
    "    #c.Custom_csv = [\"id\", \"user_id\", \"username\", \"tweet\"]\n",
    "    c.Output = result\n",
    "    # Run\n",
    "    output = twint.run.Following(c)\n",
    "\n",
    "    df = pd.read_csv(result)\n",
    "    return df\n",
    "\n"
   ]
  },
  {
   "cell_type": "markdown",
   "metadata": {},
   "source": [
    "### Connect DB & Routines"
   ]
  },
  {
   "cell_type": "code",
   "execution_count": 5,
   "metadata": {},
   "outputs": [],
   "source": [
    "from tweetdb import *"
   ]
  },
  {
   "cell_type": "markdown",
   "metadata": {},
   "source": [
    "### Routine Logic - tweepy"
   ]
  },
  {
   "cell_type": "code",
   "execution_count": 6,
   "metadata": {},
   "outputs": [],
   "source": [
    "def cleanhtml(raw_html):\n",
    "  cleanr = re.compile('<.*?>')\n",
    "  cleantext = re.sub(cleanr, '', raw_html)\n",
    "  return cleantext\n",
    "\n",
    "def twp_update_status(msg):\n",
    "    try:\n",
    "        api.update_status(msg)\n",
    "        print(\"Update status to:\",msg)\n",
    "    except Exception as e:\n",
    "        print(\"error updating status:\",e)\n",
    "        \n",
    "def twp_reply_post(msg,replyID):\n",
    "    try:\n",
    "        rets = api.update_status(msg, in_reply_to_status_id=replyID)\n",
    "        print(\"Update status to:\",msg)\n",
    "        return rets\n",
    "    except Exception as e:\n",
    "        print(\"error updating status:\",e)\n",
    "        \n",
    "def twp_cool_post(msg, username, userfollower):\n",
    "    res = twit_get_username(username)\n",
    "    msgid = res.iloc[postnum].id\n",
    "    #username = res.iloc[postnum]\n",
    "    follower = user_following(userfollower)\n",
    "    import random\n",
    "    follist = follower['GundalaPutraTop'].values.tolist()\n",
    "    random.shuffle(follist)\n",
    "    mention = \"@\"+follist[0]+\" @\"+follist[1]+\" @\"+follist[2]\n",
    "    msge = str(\"@\")+str(username)+\" \"+str(msg)+\" \"+str(mention)\n",
    "    print(\"Pesan:\",msge, \"replyto:\",msgid)\n",
    "    api.update_status(msge, msgid)\n",
    "\n",
    "def twp_follow(UserIDs):\n",
    "    for userID in UserIDs:\n",
    "        try:\n",
    "            api.create_friendship(userID)\n",
    "            print(\"Try to follow:\", userID)\n",
    "        except Exception as e:\n",
    "            print(e)\n",
    "            continue"
   ]
  },
  {
   "cell_type": "markdown",
   "metadata": {},
   "source": [
    "# Routine BOT - AI"
   ]
  },
  {
   "cell_type": "code",
   "execution_count": 7,
   "metadata": {},
   "outputs": [
    {
     "name": "stdout",
     "output_type": "stream",
     "text": [
      "[nltk_data] Downloading package punkt to\n",
      "[nltk_data]     C:\\Users\\Admin\\AppData\\Roaming\\nltk_data...\n",
      "[nltk_data]   Package punkt is already up-to-date!\n",
      "[nltk_data] Downloading package stopwords to\n",
      "[nltk_data]     C:\\Users\\Admin\\AppData\\Roaming\\nltk_data...\n",
      "[nltk_data]   Package stopwords is already up-to-date!\n"
     ]
    },
    {
     "data": {
      "text/plain": [
       "True"
      ]
     },
     "execution_count": 7,
     "metadata": {},
     "output_type": "execute_result"
    }
   ],
   "source": [
    "nltk.download('punkt')\n",
    "nltk.download('stopwords')"
   ]
  },
  {
   "cell_type": "code",
   "execution_count": 8,
   "metadata": {},
   "outputs": [],
   "source": [
    "from chat_wordvec import *"
   ]
  },
  {
   "cell_type": "code",
   "execution_count": 9,
   "metadata": {},
   "outputs": [
    {
     "name": "stderr",
     "output_type": "stream",
     "text": [
      "C:\\Anaconda3\\envs\\tensorflow\\lib\\site-packages\\h5py\\__init__.py:36: FutureWarning: Conversion of the second argument of issubdtype from `float` to `np.floating` is deprecated. In future, it will be treated as `np.float64 == np.dtype(float).type`.\n",
      "  from ._conv import register_converters as _register_converters\n",
      "Using TensorFlow backend.\n"
     ]
    }
   ],
   "source": [
    "import keras\n",
    "model = keras.models.load_model(\"./model/model-ep2-100.mdl\")"
   ]
  },
  {
   "cell_type": "code",
   "execution_count": 10,
   "metadata": {},
   "outputs": [],
   "source": [
    "def rem_list(input):\n",
    "    remlist=['LePastee','Tertawalah','Campari','Gundik','mastektomi', 'Kerut', 'Ssshh']\n",
    "    for i in remlist:\n",
    "        try:\n",
    "            ind=input.index(i)\n",
    "            input.pop(ind)\n",
    "        except:\n",
    "            pass\n",
    "    return input\n",
    "\n",
    "def pred(sentence):\n",
    "    predictions=model.predict(np.array([swv_ar(twl(sentence))]))\n",
    "    result=decode(predictions)\n",
    "    print(result)\n",
    "    return result\n",
    "\n",
    "def decode(pred):\n",
    "    result=[]\n",
    "    for i in range(maxsent):\n",
    "        res = tex2vec.wv.similar_by_vector(pred[0][i])[0][0]\n",
    "        result.append(res)\n",
    "        result = rem_list(result)\n",
    "        strj = ' '.join(result)\n",
    "    return strj"
   ]
  },
  {
   "cell_type": "code",
   "execution_count": 11,
   "metadata": {},
   "outputs": [],
   "source": [
    "posmsg = [\n",
    "    \"Ini bagus banget, \",\n",
    "    \"Saya suka banget sama ini, \",\n",
    "    \"Wah asik banget ini yah. \",\n",
    "    \"Bagooooooossssss, \",\n",
    "    \"I love this, \",\n",
    "    \"Kapan nih berita gini?, \",\n",
    "    \"I love this post, \",\n",
    "    \"Postingan yang sangat bermutu, \",\n",
    "    \"Kapan?, \",\n",
    "    \"Terus kasih lagi gan..., \",\n",
    "    \"I like this, \",\n",
    "    \"Lanjuuuut gan, \",\n",
    "    \"Komen yang bermutu, \",\n",
    "    \"Twit ini sadis kerennya, \",\n",
    "    \"He he heh e, \",\n",
    "    \"Lanjoot, \"\n",
    "]\n",
    "\n",
    "def ranmsg():\n",
    "    a = secrets.choice(posmsg)\n",
    "    return a"
   ]
  },
  {
   "cell_type": "code",
   "execution_count": 12,
   "metadata": {},
   "outputs": [],
   "source": [
    "def get_id_follower(username,count=20):\n",
    "    result=[]\n",
    "    maxc=0\n",
    "    try:\n",
    "        for user in tweepy.Cursor(api.followers, screen_name=username).items(count):\n",
    "            maxc += 1\n",
    "            result.append(user.screen_name)\n",
    "            if maxc > count:\n",
    "                break\n",
    "    except:\n",
    "        print(\"Error - get follower\")\n",
    "        result=['aagym']\n",
    "    return result"
   ]
  },
  {
   "cell_type": "code",
   "execution_count": 13,
   "metadata": {},
   "outputs": [],
   "source": [
    "def get_rnd(rlist,count=3):\n",
    "    result = []\n",
    "    for i in range(count):\n",
    "        a1 = random.randint(0,len(rlist)-1)\n",
    "        result.append(rlist[a1])\n",
    "    return result"
   ]
  },
  {
   "cell_type": "code",
   "execution_count": 14,
   "metadata": {},
   "outputs": [],
   "source": [
    "def replyer(m):\n",
    "    m_user = m.user.screen_name\n",
    "    print(\"Username:\",m_user)\n",
    "    msg_id = m.id\n",
    "    m_text = m.text\n",
    "    if not db_is_replied(msg_id):\n",
    "\n",
    "        flwr = get_id_follower(str(m_user))\n",
    "        reslt=get_rnd(flwr)\n",
    "        \n",
    "        #db_insert_follower(m_user,reslt)\n",
    "        #twp_follow(reslt)\n",
    "        #print(\"Success adding follower of:\", m_user)\n",
    "        recap=cleanhtml(m_text)+\",\"\n",
    "        sender=\"@\"+m_user+\" \"\n",
    "        msg1 = ranmsg()\n",
    "        msg2 = pred(m_text)\n",
    "        msg3 = kaskus_search(m_text)\n",
    "\n",
    "        reslt = secrets.choice(reslt)\n",
    "        \n",
    "        tagthem = ' @'+' @'.join(reslt)\n",
    "        fullmsg = recap+msg1+msg2+\",\"+msg3+\" \"    #+tagthem\n",
    "        print(fullmsg)\n",
    "\n",
    "        #rets = twp_reply_post(fullmsg,None)\n",
    "        \n",
    "        #twp_cool_post(fullmsg,m_user,m_user)\n",
    "        #if rets:\n",
    "        #    db_replied_this_id(msg_id,str(rets.id))\n",
    "        #    db_replied_this_id(str(rets.id),str(rets.id))\n",
    "        #else:\n",
    "        #    print(\"Error posting message =============\")\n",
    "    else:\n",
    "        print(\"already replied\")\n",
    "        pass"
   ]
  },
  {
   "cell_type": "markdown",
   "metadata": {},
   "source": [
    "### RUTIN KASKUS SEARCH"
   ]
  },
  {
   "cell_type": "code",
   "execution_count": 15,
   "metadata": {},
   "outputs": [],
   "source": [
    "from kaskus_comment import *"
   ]
  },
  {
   "cell_type": "markdown",
   "metadata": {},
   "source": [
    "# TWEEPY INITIALIZE"
   ]
  },
  {
   "cell_type": "code",
   "execution_count": 16,
   "metadata": {},
   "outputs": [],
   "source": [
    "if __name__ == '__main__':\n",
    "    auth = tweepy.OAuthHandler(consumer_key, consumer_secret)\n",
    "    auth.set_access_token(access_token, access_token_secret)\n",
    "\n",
    "    api = tweepy.API(auth)\n",
    "\n",
    "    #m = public_tweets[0]\n",
    "    #replyer(m)\n",
    "\n",
    "#cool_post(\"Keren gan wow-mantap\",\"irzaip\", \"iriantomo\")\n",
    "\n",
    "#contoh sebuah reply\n",
    "#api.update_status(\"@iriantomo Status ini bro kerens.\", in_reply_to_status_id=1001139203487318016)"
   ]
  },
  {
   "cell_type": "code",
   "execution_count": 17,
   "metadata": {},
   "outputs": [],
   "source": [
    "    #print(m.user.screen_name)\n",
    "    #print(m.user.followers_count)"
   ]
  },
  {
   "cell_type": "markdown",
   "metadata": {},
   "source": [
    "# BALAS SEMUA TWEET DI HOMEPAGE"
   ]
  },
  {
   "cell_type": "code",
   "execution_count": 18,
   "metadata": {},
   "outputs": [],
   "source": [
    "import time"
   ]
  },
  {
   "cell_type": "code",
   "execution_count": 19,
   "metadata": {},
   "outputs": [
    {
     "name": "stdout",
     "output_type": "stream",
     "text": [
      "RT @na_dirs: Pak @jokowi ultah yah? Met ultah Pak Presiden, smg sehat wal afiat dan semakin berbakti pada bangsa. Saran aja ya Pak. Tetap j…\n",
      "Username: GusOkta72\n",
      "Sentence overflow: ['rt', 'pak', 'jokowi', 'ultah', 'yah', 'met', 'ultah', 'pak', 'presiden', 'smg', 'sehat', 'wal', 'afiat', 'dan', 'semakin', 'berbakti', 'pada', 'bangsa', 'saran', 'aja', 'ya', 'pak', 'tetap']\n",
      "Problem at phrase: rt\n",
      "Problem at phrase: jokowi\n",
      "Problem at phrase: met\n",
      "teruslah Whitefoot dimintai Minya Bersikap ujian\n",
      "RT @na_dirs: Pak @jokowi ultah yah? Met ultah Pak Presiden, smg sehat wal afiat dan semakin berbakti pada bangsa. Saran aja ya Pak. Tetap j…,Twit ini sadis kerennya, teruslah Whitefoot dimintai Minya Bersikap ujian,ane biasa ja gan.\n",
      "nggak peernah rayain ultah \n",
      "RT @mohmahfudmd: Selamat ulang tahun Presiden @jokowi . Semoga hari-hari esok Bapak lbh baik dari hari ini. Semoga juga Bapak senantiasa di…\n",
      "Username: Naat96556244\n",
      "Sentence overflow: ['rt', 'mohmahfudmd', 'selamat', 'ulang', 'tahun', 'presiden', 'jokowi', 'semoga', 'esok', 'bapak', 'lbh', 'baik', 'dari', 'hari', 'ini', 'semoga', 'juga', 'bapak', 'senantiasa']\n",
      "Problem at phrase: rt\n",
      "Problem at phrase: mohmahfudmd\n",
      "Problem at phrase: jokowi\n",
      "Keterampilan memanfaatkan Namai Ri\n",
      "RT @mohmahfudmd: Selamat ulang tahun Presiden @jokowi . Semoga hari-hari esok Bapak lbh baik dari hari ini. Semoga juga Bapak senantiasa di…,I love this post, Keterampilan memanfaatkan Namai Ri,Ayo ganti\n",
      "Tp ganti siapa\n",
      "\n",
      " \n",
      "RT @wartapolitik: [FINAL POLLING] Hari H Pilkada Serentak 27 Juni 2018 semakin dekat. \n",
      "Untuk Pilgub JAWA BARAT, pasangan cagub-cawagub mana…\n",
      "Username: sedotwcjakarta_\n",
      "Sentence overflow: ['rt', 'wartapolitik', 'final', 'polling', 'hari', 'h', 'pilkada', 'serentak', 'juni', 'semakin', 'dekat', 'untuk', 'pilgub', 'jawa', 'barat', 'pasangan']\n",
      "Problem at phrase: rt\n",
      "Problem at phrase: wartapolitik\n",
      "Problem at phrase: polling\n",
      "Problem at phrase: pilkada\n",
      "Problem at phrase: serentak\n",
      "Problem at phrase: juni\n",
      "Kualitas Kecepatan belatung\n",
      "RT @wartapolitik: [FINAL POLLING] Hari H Pilkada Serentak 27 Juni 2018 semakin dekat. \n",
      "Untuk Pilgub JAWA BARAT, pasangan cagub-cawagub mana…,I love this post, Kualitas Kecepatan belatung,Siap2 diundang isyana \n",
      "RT @roninkhalid: Lebaran tak mampir kesini https://t.co/4BkaQagAS7\n",
      "Username: sedotwcjakarta_\n",
      "Problem at phrase: rt\n",
      "Problem at phrase: roninkhalid\n",
      "Problem at phrase: lebaran\n",
      "Tikus rekor penghapus\n",
      "RT @roninkhalid: Lebaran tak mampir kesini https://t.co/4BkaQagAS7,Saya suka banget sama ini, Tikus rekor penghapus, \n",
      "RT @AnnaSuezann: Pergantian gubernur oleh anggota polisi aktif, konon berguna untuk menjaga keamanan daerah² yang diduga 'merah' rawan konf…\n",
      "Username: sedotwcjakarta_\n",
      "Sentence overflow: ['rt', 'annasuezann', 'pergantian', 'gubernur', 'oleh', 'anggota', 'polisi', 'aktif', 'konon', 'berguna', 'untuk', 'menjaga', 'keamanan', 'yang', 'diduga', 'rawan']\n",
      "Problem at phrase: rt\n",
      "Problem at phrase: annasuezann\n",
      "seorang tertarik defensif hidrolik Aih membantai Membekukan\n",
      "RT @AnnaSuezann: Pergantian gubernur oleh anggota polisi aktif, konon berguna untuk menjaga keamanan daerah² yang diduga 'merah' rawan konf…,Postingan yang sangat bermutu, seorang tertarik defensif hidrolik Aih membantai Membekukan,Quote:Original Posted By suka.aja►Nunggu komentar yg pernah jd Agen Intelijen...\n",
      "ane juga lagi nunggu agen BB komen nih  \n",
      "RT @IreneViena: Tidak mengherankan jika Mendagri memaksakan kehendak menunjuk PLT Gubernur Jabar meski melanggar UU\n",
      "\n",
      "Jawa Barat adalah lumb…\n",
      "Username: sedotwcjakarta_\n",
      "Sentence overflow: ['rt', 'ireneviena', 'tidak', 'mengherankan', 'jika', 'mendagri', 'memaksakan', 'kehendak', 'menunjuk', 'plt', 'gubernur', 'jabar', 'meski', 'melanggar', 'uu', 'jawa', 'barat', 'adalah']\n",
      "Problem at phrase: rt\n",
      "Problem at phrase: ireneviena\n",
      "Problem at phrase: mendagri\n",
      "adalah cepatlah salesman Wan denganmu Penjangkauan\n",
      "RT @IreneViena: Tidak mengherankan jika Mendagri memaksakan kehendak menunjuk PLT Gubernur Jabar meski melanggar UU\n",
      "\n",
      "Jawa Barat adalah lumb…,Ini bagus banget, adalah cepatlah salesman Wan denganmu Penjangkauan,Waduh, itu apa gan??  \n",
      "RT @AzzamIzzulhaq: Berawal dari saya Indonesia, saya Pancasila. Berakhir menjadi Indonesia semau saya, Pancasila juga semaunya saya.\n",
      "\n",
      "Rék k…\n",
      "Username: sedotwcjakarta_\n",
      "Sentence overflow: ['rt', 'azzamizzulhaq', 'berawal', 'dari', 'saya', 'indonesia', 'saya', 'pancasila', 'berakhir', 'menjadi', 'indonesia', 'semau', 'saya', 'pancasila', 'juga', 'semaunya', 'saya', 'rék']\n",
      "Problem at phrase: rt\n",
      "Problem at phrase: azzamizzulhaq\n",
      "Problem at phrase: pancasila\n",
      "mengulur Oo berfokus didiagnosis Lecktor\n",
      "RT @AzzamIzzulhaq: Berawal dari saya Indonesia, saya Pancasila. Berakhir menjadi Indonesia semau saya, Pancasila juga semaunya saya.\n",
      "\n",
      "Rék k…,I love this, mengulur Oo berfokus didiagnosis Lecktor, \n",
      "RT @jeramidotinfo: Rakyat Di”tilap”. Warga Jawa Barat harus sigap. https://t.co/8lCjz5KS6J\n",
      "Username: Fariz_semewew\n",
      "Sentence overflow: ['rt', 'jeramidotinfo', 'rakyat', 'di', 'tilap', 'warga', 'jawa', 'barat', 'harus', 'sigap', 'https']\n",
      "Problem at phrase: rt\n",
      "Problem at phrase: jeramidotinfo\n",
      "Problem at phrase: tilap\n",
      "Problem at phrase: jawa\n",
      "daripadamu tertib Vena pikun Publik\n",
      "RT @jeramidotinfo: Rakyat Di”tilap”. Warga Jawa Barat harus sigap. https://t.co/8lCjz5KS6J,Terus kasih lagi gan..., daripadamu tertib Vena pikun Publik,asik ada celah buat korupsi untuk beli pesawat baru. anggota dhewan emg pinter2  \n",
      "RT @swara_pejuang: Saat Pilgub 2017 Rakyat Jakarta sukses mengalahkan AHOK.\n",
      "\n",
      "Semoga pada Pilgub 27 Juni 2018 Rakyat Jateng dan Jabar sukses…\n",
      "Username: sedotwcjakarta_\n",
      "Sentence overflow: ['rt', 'saat', 'pilgub', 'rakyat', 'jakarta', 'sukses', 'mengalahkan', 'ahok', 'semoga', 'pada', 'pilgub', 'juni', 'rakyat', 'jateng', 'dan', 'jabar']\n",
      "Problem at phrase: rt\n",
      "Problem at phrase: pilgub\n",
      "Problem at phrase: jakarta\n",
      "Problem at phrase: ahok\n",
      "itu zaman belatung keuntungan Incheon\n",
      "RT @swara_pejuang: Saat Pilgub 2017 Rakyat Jakarta sukses mengalahkan AHOK.\n",
      "\n",
      "Semoga pada Pilgub 27 Juni 2018 Rakyat Jateng dan Jabar sukses…,Wah asik banget ini yah. itu zaman belatung keuntungan Incheon,beda ama versinya nastak  \n",
      "Abdul Hadi Cucu Pendiri NU: Kami PKS Jabar Optimis Raih 20 Kursi DPRD Jabar https://t.co/kUIZFCcHxo https://t.co/K0WXlxZXPY\n",
      "Username: Mashaby\n",
      "Sentence overflow: ['abdul', 'hadi', 'cucu', 'pendiri', 'nu', 'kami', 'pks', 'jabar', 'optimis', 'raih', 'kursi', 'dprd', 'jabar', 'https', 'https']\n",
      "Problem at phrase: abdul\n",
      "Problem at phrase: hadi\n",
      "Problem at phrase: nu\n",
      "Problem at phrase: pks\n",
      "Problem at phrase: jabar\n",
      "keparat Kulakukan dan Jip\n",
      "Abdul Hadi Cucu Pendiri NU: Kami PKS Jabar Optimis Raih 20 Kursi DPRD Jabar https://t.co/kUIZFCcHxo https://t.co/K0WXlxZXPY,Lanjuuuut gan, keparat Kulakukan dan Jip, \n",
      "Abdul Hadi Wijaya Sekjen PKS Jabar Ternyata Cucu KH Hasyim Asy'ari Pendiri NU https://t.co/BaGHNDJ1TT https://t.co/dtj6eGfrNg\n",
      "Username: Mashaby\n",
      "Sentence overflow: ['abdul', 'hadi', 'wijaya', 'sekjen', 'pks', 'jabar', 'ternyata', 'cucu', 'kh', 'hasyim', 'pendiri', 'nu', 'https', 'https']\n",
      "Problem at phrase: abdul\n",
      "Problem at phrase: hadi\n",
      "Problem at phrase: wijaya\n",
      "Problem at phrase: sekjen\n",
      "Problem at phrase: pks\n",
      "Problem at phrase: jabar\n",
      "Problem at phrase: kh\n",
      "Seks kooperatif\n",
      "Abdul Hadi Wijaya Sekjen PKS Jabar Ternyata Cucu KH Hasyim Asy'ari Pendiri NU https://t.co/BaGHNDJ1TT https://t.co/dtj6eGfrNg,Lanjoot, Seks kooperatif,Mau di rizieqkan, tapi orang NU juga repot jadinya  \n",
      "RT @musniumar: Jelang  Pilada serentak 27/6/2018, lembaga survei merilis hasil survei mereka.  Sy duga utk  giring rakyat agar milih paslon…\n",
      "Username: sedotwcjakarta_\n",
      "Sentence overflow: ['rt', 'musniumar', 'jelang', 'pilada', 'serentak', 'lembaga', 'survei', 'merilis', 'hasil', 'survei', 'mereka', 'sy', 'duga', 'utk', 'giring', 'rakyat', 'agar', 'milih']\n",
      "Problem at phrase: rt\n",
      "Problem at phrase: musniumar\n",
      "Problem at phrase: jelang\n",
      "Problem at phrase: pilada\n",
      "Problem at phrase: serentak\n",
      "Seung di terpenggal\n",
      "RT @musniumar: Jelang  Pilada serentak 27/6/2018, lembaga survei merilis hasil survei mereka.  Sy duga utk  giring rakyat agar milih paslon…,Postingan yang sangat bermutu, Seung di terpenggal, \n",
      "RT @AmirHmzah_: JabarNo3Asyik,27 Juni 2018\n",
      "\n",
      "@MayjenSudrajat - @syaikhu_ahmad\n",
      "\n",
      "Sik,asyik3,asyik3x,pilgub jabar pling asyik,yo ayo2 coblos Su…\n",
      "Username: sedotwcjakarta_\n"
     ]
    },
    {
     "name": "stdout",
     "output_type": "stream",
     "text": [
      "Sentence overflow: ['rt', 'juni', 'mayjensudrajat', 'sik', 'pilgub', 'jabar', 'pling', 'asyik', 'yo', 'coblos']\n",
      "Problem at phrase: rt\n",
      "Problem at phrase: juni\n",
      "Problem at phrase: mayjensudrajat\n",
      "Problem at phrase: pilgub\n",
      "Problem at phrase: jabar\n",
      "Problem at phrase: pling\n",
      "santai Hammond Meemaw\n",
      "RT @AmirHmzah_: JabarNo3Asyik,27 Juni 2018\n",
      "\n",
      "@MayjenSudrajat - @syaikhu_ahmad\n",
      "\n",
      "Sik,asyik3,asyik3x,pilgub jabar pling asyik,yo ayo2 coblos Su…,Terus kasih lagi gan..., santai Hammond Meemaw, \n",
      "RT @Kedah_Tawakal_: Jabar Kita Bikin #ASYIK \n",
      "\n",
      "#2018AsyikMenang\n",
      "#2019GantiPresiden https://t.co/by9xvBCLrb\n",
      "Username: Fariz_semewew\n",
      "Problem at phrase: rt\n",
      "Problem at phrase: jabar\n",
      "Aku menggangguku yang memperhatikanmu\n",
      "RT @Kedah_Tawakal_: Jabar Kita Bikin #ASYIK \n",
      "\n",
      "#2018AsyikMenang\n",
      "#2019GantiPresiden https://t.co/by9xvBCLrb,Kapan nih berita gini?, Aku menggangguku yang memperhatikanmu,banyak 2 doa\n",
      "     \n",
      "RT @KangUbud: Saya dan Keluarga wajib memilih pasangan #Asyiik #2019GantiPresident https://t.co/MUIfY6NVBW\n",
      "Username: Fariz_semewew\n",
      "Sentence overflow: ['rt', 'kangubud', 'saya', 'dan', 'keluarga', 'wajib', 'memilih', 'pasangan', 'asyiik', 'https']\n",
      "Problem at phrase: rt\n",
      "Problem at phrase: kangubud\n",
      "Problem at phrase: asyiik\n",
      "dia Esparza akademis kepadatan membentukku Berhentilah\n",
      "RT @KangUbud: Saya dan Keluarga wajib memilih pasangan #Asyiik #2019GantiPresident https://t.co/MUIfY6NVBW,He he heh e, dia Esparza akademis kepadatan membentukku Berhentilah,beb??? kata apa ini?\n",
      "mending ngopi dulu lah bareng si doi  \n",
      "RT @maspiyuuu: Ada yg nyerang PKS pake amunisi lama selebaran fitnah tahun 2007. \n",
      "\n",
      "Fitnah tsb sdh diklarifikasi PKS di Republika (1 Okt 200…\n",
      "Username: Fariz_semewew\n",
      "Error - get follower\n",
      "Sentence overflow: ['rt', 'maspiyuuu', 'ada', 'yg', 'nyerang', 'pks', 'pake', 'amunisi', 'lama', 'selebaran', 'fitnah', 'tahun', 'fitnah', 'tsb', 'sdh', 'diklarifikasi', 'pks', 'di', 'republika', 'okt']\n",
      "Problem at phrase: rt\n",
      "Problem at phrase: maspiyuuu\n",
      "Problem at phrase: nyerang\n",
      "Problem at phrase: pks\n",
      "ditolerir sambung Ingatan ceri hanya\n",
      "RT @maspiyuuu: Ada yg nyerang PKS pake amunisi lama selebaran fitnah tahun 2007. \n",
      "\n",
      "Fitnah tsb sdh diklarifikasi PKS di Republika (1 Okt 200…,Twit ini sadis kerennya, ditolerir sambung Ingatan ceri hanya,Pengen ikut, cuma belum booking tiket  \n",
      "RT @DaliminPark: Hanya cagub no. 3 jabar yang ingin #2019 GANTI JOKOWI https://t.co/rXNUmwwJTU\n",
      "Username: sedotwcjakarta_\n",
      "Error - get follower\n",
      "Sentence overflow: ['rt', 'daliminpark', 'hanya', 'cagub', 'no', 'jabar', 'yang', 'ingin', 'ganti', 'jokowi', 'https']\n",
      "Problem at phrase: rt\n",
      "Problem at phrase: daliminpark\n",
      "Problem at phrase: cagub\n",
      "Problem at phrase: jabar\n",
      "menjadi kesetiaan belang Kirim keperawatan\n",
      "RT @DaliminPark: Hanya cagub no. 3 jabar yang ingin #2019 GANTI JOKOWI https://t.co/rXNUmwwJTU,Wah asik banget ini yah. menjadi kesetiaan belang Kirim keperawatan,Kaskus is the best.. \n",
      "RT @Hilmi28: Para sporter negara2 Piala Dunia yg memunguti sampah di stadion sepertinya terinspirasi dari peserta Aksi 212 😊, tp syg pemain…\n",
      "Username: sedotwcjakarta_\n",
      "Error - get follower\n",
      "Sentence overflow: ['rt', 'para', 'sporter', 'piala', 'dunia', 'yg', 'memunguti', 'sampah', 'di', 'stadion', 'sepertinya', 'terinspirasi', 'dari', 'peserta', 'aksi', 'tp', 'syg']\n",
      "Problem at phrase: rt\n",
      "Problem at phrase: sporter\n",
      "Problem at phrase: memunguti\n",
      "dengan Kurosaki brokoli Tattler trik sendi\n",
      "RT @Hilmi28: Para sporter negara2 Piala Dunia yg memunguti sampah di stadion sepertinya terinspirasi dari peserta Aksi 212 😊, tp syg pemain…,Kapan nih berita gini?, dengan Kurosaki brokoli Tattler trik sendi,CR emang gak Ada lawannya\n",
      "\n",
      "\n",
      "\n",
      "🐐 \n",
      "“The Lord is my strength and shield. I trust him with all my heart. He helps me, and my heart is filled with joy. I… https://t.co/3iMkKXxyCr\n",
      "Username: philipmantofa\n",
      "Error - get follower\n",
      "Sentence overflow: ['the', 'lord', 'is', 'my', 'strength', 'and', 'shield', 'i', 'trust', 'him', 'with', 'all', 'my', 'heart', 'he', 'helps', 'me', 'and', 'my', 'heart', 'is', 'filled', 'with', 'joy', 'https']\n",
      "Problem at phrase: strength\n",
      "Problem at phrase: shield\n",
      "Minya suasana didik misalnya kerajaan saji UGD\n",
      "“The Lord is my strength and shield. I trust him with all my heart. He helps me, and my heart is filled with joy. I… https://t.co/3iMkKXxyCr,Postingan yang sangat bermutu, Minya suasana didik misalnya kerajaan saji UGD, \n",
      "RT @kangsemproel: @firaun_id @Herimpro @sudirmansaid @KakekDetektif @DivHumas_Polri @CCICPolri Antara Tak MAMPU dan Tak MAU cuma beda 2 hur…\n",
      "Username: Fariz_semewew\n",
      "Error - get follower\n",
      "Sentence overflow: ['rt', 'kangsemproel', 'herimpro', 'sudirmansaid', 'kakekdetektif', 'ccicpolri', 'antara', 'tak', 'mampu', 'dan', 'tak', 'mau', 'cuma', 'beda']\n",
      "Problem at phrase: rt\n",
      "Problem at phrase: kangsemproel\n",
      "Problem at phrase: herimpro\n",
      "Problem at phrase: sudirmansaid\n",
      "Problem at phrase: kakekdetektif\n",
      "Problem at phrase: ccicpolri\n",
      "tidak menghubungi He\n",
      "RT @kangsemproel: @firaun_id @Herimpro @sudirmansaid @KakekDetektif @DivHumas_Polri @CCICPolri Antara Tak MAMPU dan Tak MAU cuma beda 2 hur…,I love this post, tidak menghubungi He,bakalan ada barbuk yg bocor?\n",
      " \n"
     ]
    }
   ],
   "source": [
    "    public_tweets = api.home_timeline()\n",
    "\n",
    "    for tweet in public_tweets:\n",
    "        print(tweet.text)\n",
    "        replyer(tweet)\n",
    "        #db_is_replied(tweet.id)\n",
    "        #time.sleep(100)"
   ]
  },
  {
   "cell_type": "markdown",
   "metadata": {},
   "source": [
    "## Kalau mau balas post orang"
   ]
  },
  {
   "cell_type": "code",
   "execution_count": 21,
   "metadata": {},
   "outputs": [],
   "source": [
    "def reply_post_user(username, postnum=0):\n",
    "    posts=api.user_timeline(id=username)\n",
    "    replyer(posts[postnum])"
   ]
  },
  {
   "cell_type": "code",
   "execution_count": null,
   "metadata": {},
   "outputs": [],
   "source": []
  },
  {
   "cell_type": "markdown",
   "metadata": {},
   "source": [
    "# PSEUDO CODE"
   ]
  },
  {
   "cell_type": "markdown",
   "metadata": {},
   "source": [
    "id = ambil_id_msg()\n",
    "check_msg_di_db()\n",
    "liat_user_msg()\n",
    "list_follower_usermsg()\n",
    "ambil_3_random_follower()\n",
    "ambil_random_jawaban()\n",
    "ambil_prediksi_twit_user()\n",
    "buat_msg()\n",
    "post_msg()\n",
    "catat_posting_di_db()\n",
    "follow_3_user()"
   ]
  },
  {
   "cell_type": "markdown",
   "metadata": {},
   "source": [
    "# SANDBOX"
   ]
  },
  {
   "cell_type": "code",
   "execution_count": 55,
   "metadata": {},
   "outputs": [],
   "source": [
    "art = {'inis': 4, 'uty': 39, 'keoa': 48}\n",
    "\n",
    "def ar(*args,**kwargs):\n",
    "    print(kwargs)"
   ]
  },
  {
   "cell_type": "code",
   "execution_count": 59,
   "metadata": {},
   "outputs": [
    {
     "ename": "SyntaxError",
     "evalue": "can't use starred expression here (<ipython-input-59-345ba62ce730>, line 2)",
     "output_type": "error",
     "traceback": [
      "\u001b[1;36m  File \u001b[1;32m\"<ipython-input-59-345ba62ce730>\"\u001b[1;36m, line \u001b[1;32m2\u001b[0m\n\u001b[1;33m    a,b,c = *fo\u001b[0m\n\u001b[1;37m           ^\u001b[0m\n\u001b[1;31mSyntaxError\u001b[0m\u001b[1;31m:\u001b[0m can't use starred expression here\n"
     ]
    }
   ],
   "source": [
    "fo = (0,2,3)\n",
    "a,b,c = *fo"
   ]
  },
  {
   "cell_type": "markdown",
   "metadata": {},
   "source": [
    "# CLEAN UP  - Don't Forget"
   ]
  },
  {
   "cell_type": "code",
   "execution_count": 22,
   "metadata": {},
   "outputs": [],
   "source": [
    "#db.close()"
   ]
  },
  {
   "cell_type": "code",
   "execution_count": 43,
   "metadata": {},
   "outputs": [],
   "source": [
    "from data import *"
   ]
  },
  {
   "cell_type": "code",
   "execution_count": null,
   "metadata": {},
   "outputs": [],
   "source": []
  }
 ],
 "metadata": {
  "kernelspec": {
   "display_name": "Python 3",
   "language": "python",
   "name": "python3"
  },
  "language_info": {
   "codemirror_mode": {
    "name": "ipython",
    "version": 3
   },
   "file_extension": ".py",
   "mimetype": "text/x-python",
   "name": "python",
   "nbconvert_exporter": "python",
   "pygments_lexer": "ipython3",
   "version": "3.6.4"
  }
 },
 "nbformat": 4,
 "nbformat_minor": 2
}
