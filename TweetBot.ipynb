{
 "cells": [
  {
   "cell_type": "code",
   "execution_count": 2,
   "metadata": {
    "scrolled": true
   },
   "outputs": [
    {
     "name": "stderr",
     "output_type": "stream",
     "text": [
      "C:\\Anaconda3\\envs\\tensorflow\\lib\\site-packages\\gensim\\utils.py:1197: UserWarning: detected Windows; aliasing chunkize to chunkize_serial\n",
      "  warnings.warn(\"detected Windows; aliasing chunkize to chunkize_serial\")\n"
     ]
    }
   ],
   "source": [
    "import os\n",
    "import pandas as pd\n",
    "import tweepy\n",
    "import sqlite3\n",
    "import gensim\n",
    "import nltk\n",
    "import numpy as np\n",
    "import time\n",
    "import random\n",
    "import secrets\n",
    "import itertools\n",
    "import yaml\n",
    "import re\n",
    "import requests\n",
    "from bs4 import BeautifulSoup as bs"
   ]
  },
  {
   "cell_type": "markdown",
   "metadata": {},
   "source": [
    "### PARAMETERS"
   ]
  },
  {
   "cell_type": "code",
   "execution_count": 3,
   "metadata": {},
   "outputs": [],
   "source": [
    "maxday=5   #maksimum hari yang di reply.\n",
    "person_to_follow = 3    #jumlah orang yg di follow"
   ]
  },
  {
   "cell_type": "code",
   "execution_count": 4,
   "metadata": {},
   "outputs": [],
   "source": [
    "#AMBIL FILE KONFIGURASI DARI TWITTER.YML\n",
    "with open('twitter.yml') as f:\n",
    "    twit = yaml.load(f)\n",
    "    \n",
    "consumer_key = twit['consumer_key']\n",
    "consumer_secret = twit['consumer_secret']\n",
    "access_token = twit['access_token']\n",
    "access_token_secret = twit['access_token_secret']"
   ]
  },
  {
   "cell_type": "code",
   "execution_count": 5,
   "metadata": {},
   "outputs": [],
   "source": [
    "import datetime\n",
    "def is_today(date):\n",
    "    ckdt = datetime.datetime.strptime(date,'%Y-%m-%d').date()\n",
    "    if ckdt == datetime.datetime.today().date():\n",
    "        return True\n",
    "    return False\n",
    "\n",
    "def daydiff(date1,date2):\n",
    "    d0 = datetime.datetime.strptime(date1,'%Y-%m-%d').date()\n",
    "    d1 = datetime.datetime.strptime(date2,'%Y-%m-%d').date()\n",
    "    delta = d1 - d0\n",
    "    return delta.days"
   ]
  },
  {
   "cell_type": "markdown",
   "metadata": {},
   "source": [
    "# Configure\n",
    "def twit_get_username(username,result='result.csv',limit=10,count=10):\n",
    "    try:\n",
    "        os.remove(result)\n",
    "    except Exception as e:\n",
    "        pass\n",
    "\n",
    "    c = twint.Config()\n",
    "    #c.Search = \"#maling\"\n",
    "    c.Username= username\n",
    "    c.Format = \"\"\n",
    "    c.Debug = False\n",
    "    c.Store_csv = True\n",
    "    # CSV Fieldnames\n",
    "    #following should be used as fieldnames in a list:\n",
    "    #id,date,time,timezone,user_id,username,tweet,replies,retweets,likes,hashtags,link\n",
    "    #c.Custom_csv = [\"id\", \"user_id\", \"username\", \"tweet\"]\n",
    "    c.Output = result\n",
    "    c.Limit=limit\n",
    "    c.Count=count\n",
    "    # Run\n",
    "    twint.Search(c)\n",
    "\n",
    "    df = pd.read_csv(result)\n",
    "    return df\n",
    "\n",
    "def user_follower(username,result='result.csv'):\n",
    "    try:\n",
    "        os.remove(result)\n",
    "    except:\n",
    "        pass\n",
    "\n",
    "    c = twint.Config()\n",
    "    #c.Search = \"#maling\"\n",
    "    c.Username= username\n",
    "    c.Format = \"\"\n",
    "    c.Debug = False\n",
    "    c.Store_csv = True\n",
    "    # CSV Fieldnames\n",
    "    #following should be used as fieldnames in a list:\n",
    "    #id,date,time,timezone,user_id,username,tweet,replies,retweets,likes,hashtags,link\n",
    "    #c.Custom_csv = [\"id\", \"user_id\", \"username\", \"tweet\"]\n",
    "    c.Output = result\n",
    "    # Run\n",
    "    output = twint.run.Followers(c)\n",
    "\n",
    "    df = pd.read_csv(result)\n",
    "    return df\n",
    "\n",
    "def user_following(username,result='result.csv'):\n",
    "    try:\n",
    "        os.remove(result)\n",
    "    except:\n",
    "        pass\n",
    "\n",
    "    c = twint.Config()\n",
    "    #c.Search = \"#maling\"\n",
    "    c.Username= username\n",
    "    c.Format = \"\"\n",
    "    c.Debug = False\n",
    "    c.Store_csv = True\n",
    "    # CSV Fieldnames\n",
    "    #following should be used as fieldnames in a list:\n",
    "    #id,date,time,timezone,user_id,username,tweet,replies,retweets,likes,hashtags,link\n",
    "    #c.Custom_csv = [\"id\", \"user_id\", \"username\", \"tweet\"]\n",
    "    c.Output = result\n",
    "    # Run\n",
    "    output = twint.run.Following(c)\n",
    "\n",
    "    df = pd.read_csv(result)\n",
    "    return df\n",
    "\n"
   ]
  },
  {
   "cell_type": "markdown",
   "metadata": {},
   "source": [
    "### Connect DB & Routines"
   ]
  },
  {
   "cell_type": "code",
   "execution_count": 6,
   "metadata": {},
   "outputs": [],
   "source": [
    "from tweetdb import *"
   ]
  },
  {
   "cell_type": "markdown",
   "metadata": {},
   "source": [
    "### Routine Logic - tweepy"
   ]
  },
  {
   "cell_type": "code",
   "execution_count": 7,
   "metadata": {},
   "outputs": [],
   "source": [
    "def cleanhtml(raw_html):\n",
    "  cleanr = re.compile('<.*?>')\n",
    "  cleantext = re.sub(cleanr, '', raw_html)\n",
    "  return cleantext\n",
    "\n",
    "def twp_update_status(msg):\n",
    "    try:\n",
    "        api.update_status(msg)\n",
    "        print(\"Update status to:\",msg)\n",
    "    except Exception as e:\n",
    "        print(\"error updating status:\",e)\n",
    "        \n",
    "def twp_reply_post(msg,replyID):\n",
    "    try:\n",
    "        rets = api.update_status(msg, in_reply_to_status_id=replyID)\n",
    "        print(\"Update status to:\",msg)\n",
    "        return rets\n",
    "    except Exception as e:\n",
    "        print(\"error updating status:\",e)\n",
    "        \n",
    "def twp_cool_post(msg, username, userfollower):\n",
    "    res = twit_get_username(username)\n",
    "    msgid = res.iloc[postnum].id\n",
    "    #username = res.iloc[postnum]\n",
    "    follower = user_following(userfollower)\n",
    "    import random\n",
    "    follist = follower['GundalaPutraTop'].values.tolist()\n",
    "    random.shuffle(follist)\n",
    "    mention = \"@\"+follist[0]+\" @\"+follist[1]+\" @\"+follist[2]\n",
    "    msge = str(\"@\")+str(username)+\" \"+str(msg)+\" \"+str(mention)\n",
    "    print(\"Pesan:\",msge, \"replyto:\",msgid)\n",
    "    api.update_status(msge, msgid)\n",
    "\n",
    "def twp_follow(UserIDs):\n",
    "    for userID in UserIDs:\n",
    "        try:\n",
    "            api.create_friendship(userID)\n",
    "            print(\"Try to follow:\", userID)\n",
    "        except Exception as e:\n",
    "            print(e)\n",
    "            continue"
   ]
  },
  {
   "cell_type": "markdown",
   "metadata": {},
   "source": [
    "# Routine BOT - AI"
   ]
  },
  {
   "cell_type": "code",
   "execution_count": 8,
   "metadata": {},
   "outputs": [
    {
     "name": "stdout",
     "output_type": "stream",
     "text": [
      "[nltk_data] Downloading package punkt to\n",
      "[nltk_data]     C:\\Users\\Admin\\AppData\\Roaming\\nltk_data...\n",
      "[nltk_data]   Package punkt is already up-to-date!\n",
      "[nltk_data] Downloading package stopwords to\n",
      "[nltk_data]     C:\\Users\\Admin\\AppData\\Roaming\\nltk_data...\n",
      "[nltk_data]   Package stopwords is already up-to-date!\n"
     ]
    },
    {
     "data": {
      "text/plain": [
       "True"
      ]
     },
     "execution_count": 8,
     "metadata": {},
     "output_type": "execute_result"
    }
   ],
   "source": [
    "nltk.download('punkt')\n",
    "nltk.download('stopwords')"
   ]
  },
  {
   "cell_type": "code",
   "execution_count": 9,
   "metadata": {},
   "outputs": [],
   "source": [
    "from chat_wordvec import *"
   ]
  },
  {
   "cell_type": "code",
   "execution_count": 10,
   "metadata": {},
   "outputs": [
    {
     "name": "stderr",
     "output_type": "stream",
     "text": [
      "C:\\Anaconda3\\envs\\tensorflow\\lib\\site-packages\\h5py\\__init__.py:36: FutureWarning: Conversion of the second argument of issubdtype from `float` to `np.floating` is deprecated. In future, it will be treated as `np.float64 == np.dtype(float).type`.\n",
      "  from ._conv import register_converters as _register_converters\n",
      "Using TensorFlow backend.\n"
     ]
    }
   ],
   "source": [
    "import keras\n",
    "model = keras.models.load_model(\"./model/model-ep2-100.mdl\")"
   ]
  },
  {
   "cell_type": "code",
   "execution_count": 11,
   "metadata": {},
   "outputs": [],
   "source": [
    "def pred(sentence):\n",
    "    predictions=model.predict(np.array([swv_ar(twl(sentence))]))\n",
    "    result=decode(predictions)\n",
    "    print(result)\n",
    "    return result\n",
    "\n",
    "def decode(pred):\n",
    "    result=[]\n",
    "    for i in range(maxsent):\n",
    "        res = tex2vec.wv.similar_by_vector(pred[0][i])[0][0]\n",
    "        result.append(res)\n",
    "        result = rem_list(result)\n",
    "        strj = ' '.join(result)\n",
    "    return strj       "
   ]
  },
  {
   "cell_type": "code",
   "execution_count": 12,
   "metadata": {},
   "outputs": [],
   "source": [
    "posmsg = [\n",
    "    \"Ini bagus banget, \",\n",
    "    \"Saya suka banget sama ini, \",\n",
    "    \"Wah asik banget ini yah. \",\n",
    "    \"Bagooooooossssss, \",\n",
    "    \"I love this, \",\n",
    "    \"Kapan nih berita gini?, \",\n",
    "    \"I love this post, \",\n",
    "    \"Postingan yang sangat bermutu, \",\n",
    "    \"Kapan?, \",\n",
    "    \"Terus kasih lagi gan..., \",\n",
    "    \"I like this, \",\n",
    "    \"Lanjuuuut gan, \",\n",
    "    \"Komen yang bermutu, \",\n",
    "    \"Twit ini sadis kerennya, \",\n",
    "    \"He he heh e, \",\n",
    "    \"Lanjoot, \"\n",
    "]\n",
    "\n",
    "def ranmsg():\n",
    "    a = secrets.choice(posmsg)\n",
    "    return a"
   ]
  },
  {
   "cell_type": "code",
   "execution_count": 13,
   "metadata": {},
   "outputs": [],
   "source": [
    "def get_id_follower(username,count=20):\n",
    "    result=[]\n",
    "    maxc=0\n",
    "    try:\n",
    "        for user in tweepy.Cursor(api.followers, screen_name=username).items(count):\n",
    "            maxc += 1\n",
    "            result.append(user.screen_name)\n",
    "            if maxc > count:\n",
    "                break\n",
    "    except:\n",
    "        print(\"Error - get follower\")\n",
    "        result=['aagym']\n",
    "    return result"
   ]
  },
  {
   "cell_type": "code",
   "execution_count": 14,
   "metadata": {},
   "outputs": [],
   "source": [
    "def get_rnd(rlist,count=3):\n",
    "    result = []\n",
    "    for i in range(count):\n",
    "        a1 = random.randint(0,len(rlist)-1)\n",
    "        result.append(rlist[a1])\n",
    "    return result"
   ]
  },
  {
   "cell_type": "code",
   "execution_count": 15,
   "metadata": {},
   "outputs": [],
   "source": [
    "\n",
    "def replyer(m):\n",
    "    m_user = m.user.screen_name\n",
    "    print(\"Username:\",m_user)\n",
    "    msg_id = m.id\n",
    "    m_text = m.text\n",
    "    if not db_is_replied(msg_id):\n",
    "\n",
    "        flwr = get_id_follower(str(m_user))\n",
    "        reslt=get_rnd(flwr)\n",
    "        \n",
    "        #db_insert_follower(m_user,reslt)\n",
    "        #twp_follow(reslt)\n",
    "        #print(\"Success adding follower of:\", m_user)\n",
    "        recap=cleanhtml(m_text)+\",\"\n",
    "        sender=\"@\"+m_user+\" \"\n",
    "        msg1 = ranmsg()\n",
    "        msg2 = pred(m_text)\n",
    "        msg3 = kaskus_search(m_text)\n",
    "\n",
    "        reslt = secrets.choice(reslt)\n",
    "        \n",
    "        tagthem = ' @'+' @'.join(reslt)\n",
    "        fullmsg = recap+msg1+msg2+\",\"+msg3+\" \"    #+tagthem\n",
    "        \n",
    "        fullmsg = nltk.word_tokenize(fullmsg)\n",
    "        fullmsg = rem_list(fullmsg)\n",
    "        fullmsg = rem_at(fullmsg)\n",
    "        fullmsg = join_url(fullmsg)\n",
    "        fullmsg = \" \".join(fullmsg)\n",
    "        \n",
    "        print(\"\\n\\nOUTPUT: \",fullmsg, '\\n=======================\\n\\n')\n",
    "        \n",
    "        if realpost:\n",
    "            rets = twp_reply_post(fullmsg,None)\n",
    "        \n",
    "            #twp_cool_post(fullmsg,m_user,m_user)\n",
    "            if rets:\n",
    "                db_replied_this_id(msg_id,str(rets.id))\n",
    "                db_replied_this_id(str(rets.id),str(rets.id))\n",
    "            else:\n",
    "                print(\"Error posting message =============\")\n",
    "    else:\n",
    "        print(\"already replied\")\n",
    "        pass"
   ]
  },
  {
   "cell_type": "markdown",
   "metadata": {},
   "source": [
    "### RUTIN KASKUS SEARCH"
   ]
  },
  {
   "cell_type": "code",
   "execution_count": 16,
   "metadata": {},
   "outputs": [],
   "source": [
    "from kaskus_comment import *"
   ]
  },
  {
   "cell_type": "markdown",
   "metadata": {},
   "source": [
    "# TWEEPY INITIALIZE"
   ]
  },
  {
   "cell_type": "code",
   "execution_count": 17,
   "metadata": {},
   "outputs": [],
   "source": [
    "if __name__ == '__main__':\n",
    "    auth = tweepy.OAuthHandler(consumer_key, consumer_secret)\n",
    "    auth.set_access_token(access_token, access_token_secret)\n",
    "\n",
    "    api = tweepy.API(auth)\n",
    "\n",
    "    #m = public_tweets[0]\n",
    "    #replyer(m)\n",
    "\n",
    "#cool_post(\"Keren gan wow-mantap\",\"irzaip\", \"iriantomo\")\n",
    "\n",
    "#contoh sebuah reply\n",
    "#api.update_status(\"@iriantomo Status ini bro kerens.\", in_reply_to_status_id=1001139203487318016)"
   ]
  },
  {
   "cell_type": "code",
   "execution_count": 18,
   "metadata": {},
   "outputs": [],
   "source": [
    "    #print(m.user.screen_name)\n",
    "    #print(m.user.followers_count)"
   ]
  },
  {
   "cell_type": "markdown",
   "metadata": {},
   "source": [
    "# BALAS SEMUA TWEET DI HOMEPAGE"
   ]
  },
  {
   "cell_type": "code",
   "execution_count": 19,
   "metadata": {},
   "outputs": [],
   "source": [
    "import time\n",
    "import random"
   ]
  },
  {
   "cell_type": "code",
   "execution_count": null,
   "metadata": {},
   "outputs": [
    {
     "name": "stdout",
     "output_type": "stream",
     "text": [
      "hal_ddi : Dear pak aniesbaswedan pak sandiuno mau lapor . Say baru hari ini mau minta bantuan AMBULANS PEMDA DKI ne… https://t.co/hhsvyViu93\n",
      "Username: GundalaPutraTop\n",
      "already replied\n",
      "Ulamanzaqia1 : Fariz_semewew izzulislam77 S7 ... ..siapapun yang bersiasat merusak agama kita islam wajib kita lawa… https://t.co/PurQgB5D5y\n",
      "Username: GundalaPutraTop\n",
      "already replied\n",
      "RT @embah72: Sandiaga klaim berhasil menata kawasan Tanah Abang menjadi lebih baik dr era gubernur sebelumnya. \n",
      "\n",
      "Melihat Pic ini menurut ka…\n",
      "Username: GusOkta72\n",
      "Sentence overflow: ['rt', 'sandiaga', 'klaim', 'berhasil', 'menata', 'kawasan', 'tanah', 'abang', 'menjadi', 'lebih', 'baik', 'dr', 'era', 'gubernur', 'sebelumnya', 'melihat', 'pic', 'ini', 'menurut']\n",
      "Problem at phrase: rt\n",
      "Problem at phrase: sandiaga\n",
      "KOTRA kamu saklar darahnya Yeol pesat Menjeritlah\n",
      "\n",
      "\n",
      "OUTPUT:  embah72 : Sandiaga klaim berhasil menata kawasan Tanah Abang menjadi lebih baik dr era gubernur sebelumnya . Melihat Pic ini menurut ka… , Kapan ? , KOTRA kamu saklar darahnya Yeol pesat Menjeritlah , berhenti dulu buka kaskus \n",
      "=======================\n",
      "\n",
      "\n",
      "Update status to: embah72 : Sandiaga klaim berhasil menata kawasan Tanah Abang menjadi lebih baik dr era gubernur sebelumnya . Melihat Pic ini menurut ka… , Kapan ? , KOTRA kamu saklar darahnya Yeol pesat Menjeritlah , berhenti dulu buka kaskus\n",
      "Anda setuju?\n",
      "\n",
      "Yang lebih sabar hari ini ya? 💖💗💝 https://t.co/XeSvsurICq\n",
      "Username: marioteguh\n",
      "ungkapkanlah yang Keterampilan\n",
      "\n",
      "\n",
      "OUTPUT:  Anda setuju ? Yang lebih sabar hari ini ya ? 💖💗💝 https://t.co/XeSvsurICq , Komen yang bermutu , ungkapkanlah yang Keterampilan , ane lebih suka yg bangun2 dulu kalo multiplayer kaya general game jadul.. trs coba deh lotr battle in the middle earth . \n",
      "=======================\n",
      "\n",
      "\n",
      "Update status to: Anda setuju ? Yang lebih sabar hari ini ya ? 💖💗💝 https://t.co/XeSvsurICq , Komen yang bermutu , ungkapkanlah yang Keterampilan , ane lebih suka yg bangun2 dulu kalo multiplayer kaya general game jadul.. trs coba deh lotr battle in the middle earth .\n",
      "JohanesJosephP1 Ketidakadilan = pengundang azab bagi NKRI https://t.co/9Zgj2NKMZO : , Kapan ? , tipikal memungkinkan freestyle roach ,\n",
      "Username: GundalaPutraTop\n",
      "already replied\n",
      "RT @JohanesJosephP1: Ketidakadilan = pengundang azab bagi NKRI https://t.co/Prxl1HXlus\n",
      "Username: Fariz_semewew\n",
      "already replied\n",
      "RT @Ulamanzaqia1: @Fariz_semewew @izzulislam77 S7.....siapapun  yang bersiasat merusak agama kita islam wajib kita lawan.insyaallah ridho a…\n",
      "Username: Fariz_semewew\n",
      "already replied\n",
      "RT @hal_ddi: Dear pak @aniesbaswedan pak @sandiuno mau lapor.\n",
      "\n",
      "Say baru hari ini mau minta bantuan AMBULANS PEMDA DKI nelpon lewat 112. Dia…\n",
      "Username: GusOkta72\n",
      "already replied\n",
      "Sukseskan Pilkada 27 Juni 2018 selesai memasukkan Kertas Surat Suara ke Kotak Suara, “Mari dgn Semangat Kebersamaan… https://t.co/9nz4EuUWJD\n",
      "Username: ruhutsitompul\n",
      "Sentence overflow: ['sukseskan', 'pilkada', 'juni', 'selesai', 'memasukkan', 'kertas', 'surat', 'suara', 'ke', 'kotak', 'suara', 'mari', 'dgn', 'semangat', 'https']\n",
      "Problem at phrase: sukseskan\n",
      "Problem at phrase: pilkada\n",
      "Problem at phrase: juni\n",
      "Pernahkah perutmu Percuma bisnisnya perbedaannya espresso\n",
      "\n",
      "\n",
      "OUTPUT:  Sukseskan Pilkada 27 Juni 2018 selesai memasukkan Kertas Surat Suara ke Kotak Suara , “ Mari dgn Semangat Kebersamaan… https://t.co/9nz4EuUWJD , Ini bagus banget , Pernahkah perutmu Percuma bisnisnya perbedaannya espresso , keren mbahhh , tutor nya lengkap semua . Ane perhatiin dulu deh mejeng di pejwan dulu dehh \n",
      "=======================\n",
      "\n",
      "\n",
      "error updating status: [{'code': 186, 'message': 'Tweet needs to be a bit shorter.'}]\n",
      "Error posting message =============\n",
      "Alasan @felixsiauw masuk Islam | Bagaimana rasio akal mengenalkan saya dengan Al-Qur'an yang menjadi perantara hida… https://t.co/YcavqKtmi7\n",
      "Username: felixsiauw\n",
      "Sentence overflow: ['alasan', 'felixsiauw', 'masuk', 'islam', 'bagaimana', 'rasio', 'akal', 'mengenalkan', 'saya', 'dengan', 'yang', 'menjadi', 'perantara', 'https']\n",
      "Problem at phrase: felixsiauw\n",
      "Problem at phrase: islam\n",
      "akan Elm yang menyeramkan persentase Ataupun urus\n",
      "\n",
      "\n",
      "OUTPUT:  Alasan felixsiauw masuk Islam | Bagaimana rasio akal mengenalkan saya dengan Al-Qur'an yang menjadi perantara hida… https://t.co/YcavqKtmi7 , Ini bagus banget , akan Elm yang menyeramkan persentase Ataupun urus , gw malah sering nonton radio \n",
      "=======================\n",
      "\n",
      "\n",
      "Update status to: Alasan felixsiauw masuk Islam | Bagaimana rasio akal mengenalkan saya dengan Al-Qur'an yang menjadi perantara hida… https://t.co/YcavqKtmi7 , Ini bagus banget , akan Elm yang menyeramkan persentase Ataupun urus , gw malah sering nonton radio\n",
      "RT @yungjenz: Can’t believe an #AI turned my pic into…this! Cop your own drawing from @zochats now. https://t.co/wCc3Ruh2kH\n",
      "Username: zochats\n",
      "Sentence overflow: ['rt', 'yungjenz', 'can', 't', 'believe', 'an', 'ai', 'turned', 'my', 'pic', 'cop', 'your', 'own', 'drawing', 'from', 'zochats', 'now', 'https']\n",
      "Problem at phrase: rt\n",
      "Problem at phrase: yungjenz\n",
      "Problem at phrase: turned\n",
      "perlihatkanlah Michelle daripadamu Mengakui\n",
      "\n",
      "\n",
      "OUTPUT:  yungjenz Can ’ t believe an # AI turned my pic into…this ! Cop your own drawing from zochats now . https://t.co/wCc3Ruh2kH : , Twit ini sadis kerennya , perlihatkanlah Michelle daripadamu Mengakui , kirain kyoani spring tahun ni libur btw artnya \n",
      "=======================\n",
      "\n",
      "\n",
      "Update status to: yungjenz Can ’ t believe an # AI turned my pic into…this ! Cop your own drawing from zochats now . https://t.co/wCc3Ruh2kH : , Twit ini sadis kerennya , perlihatkanlah Michelle daripadamu Mengakui , kirain kyoani spring tahun ni libur btw artnya\n",
      "Aamiin ... 💖💗💝 https://t.co/RgkhSZHeeq\n",
      "Username: marioteguh\n",
      "Problem at phrase: aamiin\n",
      "keingintahuan\n",
      "\n",
      "\n",
      "OUTPUT:  Aamiin ... 💖💗💝 https://t.co/RgkhSZHeeq , Twit ini sadis kerennya , keingintahuan , ane ga pernah gan . ane kan anak baikbaik \n",
      "=======================\n",
      "\n",
      "\n",
      "Update status to: Aamiin ... 💖💗💝 https://t.co/RgkhSZHeeq , Twit ini sadis kerennya , keingintahuan , ane ga pernah gan . ane kan anak baikbaik\n",
      "sahabat - sahabat yang baik, mari doakan semoga Pilkada Tahun ini berjalan dengan Lancar dan Damai serta di berkahi… https://t.co/G2Tu13PkFd\n",
      "Username: aagym\n",
      "Sentence overflow: ['sahabat', 'sahabat', 'yang', 'baik', 'mari', 'doakan', 'semoga', 'pilkada', 'tahun', 'ini', 'berjalan', 'dengan', 'lancar', 'dan', 'damai', 'serta', 'di', 'https']\n",
      "Problem at phrase: pilkada\n",
      "daripadamu\n",
      "\n",
      "\n",
      "OUTPUT:  sahabat - sahabat yang baik , mari doakan semoga Pilkada Tahun ini berjalan dengan Lancar dan Damai serta di berkahi… https://t.co/G2Tu13PkFd , Terus kasih lagi gan ... , daripadamu , mampus , semoga koma selama mungkin , gakmati dan gak sembuh . \n",
      "=======================\n",
      "\n",
      "\n",
      "Update status to: sahabat - sahabat yang baik , mari doakan semoga Pilkada Tahun ini berjalan dengan Lancar dan Damai serta di berkahi… https://t.co/G2Tu13PkFd , Terus kasih lagi gan ... , daripadamu , mampus , semoga koma selama mungkin , gakmati dan gak sembuh .\n",
      "https://t.co/J9JBGr69iO\n",
      "Username: sedotwcjakarta_\n",
      "keingintahuan\n",
      "\n",
      "\n",
      "OUTPUT:  https://t.co/J9JBGr69iO , Twit ini sadis kerennya , keingintahuan , \n",
      "=======================\n",
      "\n",
      "\n",
      "Update status to: https://t.co/J9JBGr69iO , Twit ini sadis kerennya , keingintahuan ,\n"
     ]
    }
   ],
   "source": [
    "    #Bener bener di posting\n",
    "    realpost = True\n",
    "\n",
    "    public_tweets = api.home_timeline()\n",
    "\n",
    "    for tweet in public_tweets:\n",
    "        print(tweet.text)\n",
    "        replyer(tweet)\n",
    "        #db_is_replied(tweet.id)\n",
    "        time.sleep(random.randint(100,350))"
   ]
  },
  {
   "cell_type": "markdown",
   "metadata": {},
   "source": [
    "## Kalau mau balas post orang"
   ]
  },
  {
   "cell_type": "code",
   "execution_count": 21,
   "metadata": {},
   "outputs": [],
   "source": [
    "def reply_post_user(username, postnum=0):\n",
    "    posts=api.user_timeline(id=username)\n",
    "    replyer(posts[postnum])"
   ]
  },
  {
   "cell_type": "code",
   "execution_count": null,
   "metadata": {},
   "outputs": [],
   "source": []
  },
  {
   "cell_type": "markdown",
   "metadata": {},
   "source": [
    "# PSEUDO CODE"
   ]
  },
  {
   "cell_type": "markdown",
   "metadata": {},
   "source": [
    "id = ambil_id_msg()\n",
    "check_msg_di_db()\n",
    "liat_user_msg()\n",
    "list_follower_usermsg()\n",
    "ambil_3_random_follower()\n",
    "ambil_random_jawaban()\n",
    "ambil_prediksi_twit_user()\n",
    "buat_msg()\n",
    "post_msg()\n",
    "catat_posting_di_db()\n",
    "follow_3_user()"
   ]
  },
  {
   "cell_type": "markdown",
   "metadata": {},
   "source": [
    "# SANDBOX"
   ]
  },
  {
   "cell_type": "code",
   "execution_count": null,
   "metadata": {},
   "outputs": [],
   "source": []
  },
  {
   "cell_type": "code",
   "execution_count": null,
   "metadata": {},
   "outputs": [],
   "source": []
  },
  {
   "cell_type": "markdown",
   "metadata": {},
   "source": [
    "# CLEAN UP  - Don't Forget"
   ]
  },
  {
   "cell_type": "code",
   "execution_count": 22,
   "metadata": {},
   "outputs": [],
   "source": [
    "#db.close()"
   ]
  },
  {
   "cell_type": "code",
   "execution_count": 43,
   "metadata": {},
   "outputs": [],
   "source": [
    "from data import *"
   ]
  },
  {
   "cell_type": "code",
   "execution_count": null,
   "metadata": {},
   "outputs": [],
   "source": []
  }
 ],
 "metadata": {
  "kernelspec": {
   "display_name": "Python 3",
   "language": "python",
   "name": "python3"
  },
  "language_info": {
   "codemirror_mode": {
    "name": "ipython",
    "version": 3
   },
   "file_extension": ".py",
   "mimetype": "text/x-python",
   "name": "python",
   "nbconvert_exporter": "python",
   "pygments_lexer": "ipython3",
   "version": "3.6.4"
  }
 },
 "nbformat": 4,
 "nbformat_minor": 2
}
