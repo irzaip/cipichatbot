{
 "cells": [
  {
   "cell_type": "code",
   "execution_count": 35,
   "metadata": {
    "scrolled": true
   },
   "outputs": [
    {
     "name": "stderr",
     "output_type": "stream",
     "text": [
      "C:\\Anaconda3\\envs\\tensorflow\\lib\\site-packages\\gensim\\utils.py:1197: UserWarning: detected Windows; aliasing chunkize to chunkize_serial\n",
      "  warnings.warn(\"detected Windows; aliasing chunkize to chunkize_serial\")\n"
     ]
    }
   ],
   "source": [
    "import os\n",
    "import pandas as pd\n",
    "import tweepy\n",
    "import sqlite3\n",
    "import gensim\n",
    "import nltk\n",
    "import numpy as np\n",
    "import time\n",
    "import random\n",
    "import secrets\n",
    "import itertools\n",
    "import yaml\n",
    "import re\n",
    "import requests\n",
    "from bs4 import BeautifulSoup as bs"
   ]
  },
  {
   "cell_type": "markdown",
   "metadata": {},
   "source": [
    "### PARAMETERS"
   ]
  },
  {
   "cell_type": "code",
   "execution_count": 36,
   "metadata": {},
   "outputs": [],
   "source": [
    "maxday=5   #maksimum hari yang di reply.\n",
    "person_to_follow = 3    #jumlah orang yg di follow"
   ]
  },
  {
   "cell_type": "code",
   "execution_count": 37,
   "metadata": {},
   "outputs": [],
   "source": [
    "#AMBIL FILE KONFIGURASI DARI TWITTER.YML\n",
    "with open('twitter.yml') as f:\n",
    "    twit = yaml.load(f)\n",
    "    \n",
    "consumer_key = twit['consumer_key']\n",
    "consumer_secret = twit['consumer_secret']\n",
    "access_token = twit['access_token']\n",
    "access_token_secret = twit['access_token_secret']"
   ]
  },
  {
   "cell_type": "code",
   "execution_count": 38,
   "metadata": {},
   "outputs": [],
   "source": [
    "import datetime\n",
    "def is_today(date):\n",
    "    ckdt = datetime.datetime.strptime(date,'%Y-%m-%d').date()\n",
    "    if ckdt == datetime.datetime.today().date():\n",
    "        return True\n",
    "    return False\n",
    "\n",
    "def daydiff(date1,date2):\n",
    "    d0 = datetime.datetime.strptime(date1,'%Y-%m-%d').date()\n",
    "    d1 = datetime.datetime.strptime(date2,'%Y-%m-%d').date()\n",
    "    delta = d1 - d0\n",
    "    return delta.days"
   ]
  },
  {
   "cell_type": "markdown",
   "metadata": {},
   "source": [
    "# Configure\n",
    "def twit_get_username(username,result='result.csv',limit=10,count=10):\n",
    "    try:\n",
    "        os.remove(result)\n",
    "    except Exception as e:\n",
    "        pass\n",
    "\n",
    "    c = twint.Config()\n",
    "    #c.Search = \"#maling\"\n",
    "    c.Username= username\n",
    "    c.Format = \"\"\n",
    "    c.Debug = False\n",
    "    c.Store_csv = True\n",
    "    # CSV Fieldnames\n",
    "    #following should be used as fieldnames in a list:\n",
    "    #id,date,time,timezone,user_id,username,tweet,replies,retweets,likes,hashtags,link\n",
    "    #c.Custom_csv = [\"id\", \"user_id\", \"username\", \"tweet\"]\n",
    "    c.Output = result\n",
    "    c.Limit=limit\n",
    "    c.Count=count\n",
    "    # Run\n",
    "    twint.Search(c)\n",
    "\n",
    "    df = pd.read_csv(result)\n",
    "    return df\n",
    "\n",
    "def user_follower(username,result='result.csv'):\n",
    "    try:\n",
    "        os.remove(result)\n",
    "    except:\n",
    "        pass\n",
    "\n",
    "    c = twint.Config()\n",
    "    #c.Search = \"#maling\"\n",
    "    c.Username= username\n",
    "    c.Format = \"\"\n",
    "    c.Debug = False\n",
    "    c.Store_csv = True\n",
    "    # CSV Fieldnames\n",
    "    #following should be used as fieldnames in a list:\n",
    "    #id,date,time,timezone,user_id,username,tweet,replies,retweets,likes,hashtags,link\n",
    "    #c.Custom_csv = [\"id\", \"user_id\", \"username\", \"tweet\"]\n",
    "    c.Output = result\n",
    "    # Run\n",
    "    output = twint.run.Followers(c)\n",
    "\n",
    "    df = pd.read_csv(result)\n",
    "    return df\n",
    "\n",
    "def user_following(username,result='result.csv'):\n",
    "    try:\n",
    "        os.remove(result)\n",
    "    except:\n",
    "        pass\n",
    "\n",
    "    c = twint.Config()\n",
    "    #c.Search = \"#maling\"\n",
    "    c.Username= username\n",
    "    c.Format = \"\"\n",
    "    c.Debug = False\n",
    "    c.Store_csv = True\n",
    "    # CSV Fieldnames\n",
    "    #following should be used as fieldnames in a list:\n",
    "    #id,date,time,timezone,user_id,username,tweet,replies,retweets,likes,hashtags,link\n",
    "    #c.Custom_csv = [\"id\", \"user_id\", \"username\", \"tweet\"]\n",
    "    c.Output = result\n",
    "    # Run\n",
    "    output = twint.run.Following(c)\n",
    "\n",
    "    df = pd.read_csv(result)\n",
    "    return df\n",
    "\n"
   ]
  },
  {
   "cell_type": "markdown",
   "metadata": {},
   "source": [
    "### Connect DB & Routines"
   ]
  },
  {
   "cell_type": "code",
   "execution_count": 39,
   "metadata": {},
   "outputs": [],
   "source": [
    "from tweetdb import *"
   ]
  },
  {
   "cell_type": "markdown",
   "metadata": {},
   "source": [
    "### Routine Logic - tweepy"
   ]
  },
  {
   "cell_type": "code",
   "execution_count": 40,
   "metadata": {},
   "outputs": [],
   "source": [
    "def cleanhtml(raw_html):\n",
    "  cleanr = re.compile('<.*?>')\n",
    "  cleantext = re.sub(cleanr, '', raw_html)\n",
    "  return cleantext\n",
    "\n",
    "def twp_update_status(msg):\n",
    "    try:\n",
    "        api.update_status(msg)\n",
    "        print(\"Update status to:\",msg)\n",
    "    except Exception as e:\n",
    "        print(\"error updating status:\",e)\n",
    "        \n",
    "def twp_reply_post(msg,replyID):\n",
    "    try:\n",
    "        rets = api.update_status(msg, in_reply_to_status_id=replyID)\n",
    "        print(\"Update status to:\",msg)\n",
    "        return rets\n",
    "    except Exception as e:\n",
    "        print(\"error updating status:\",e)\n",
    "        \n",
    "def twp_cool_post(msg, username, userfollower):\n",
    "    res = twit_get_username(username)\n",
    "    msgid = res.iloc[postnum].id\n",
    "    #username = res.iloc[postnum]\n",
    "    follower = user_following(userfollower)\n",
    "    import random\n",
    "    follist = follower['GundalaPutraTop'].values.tolist()\n",
    "    random.shuffle(follist)\n",
    "    mention = \"@\"+follist[0]+\" @\"+follist[1]+\" @\"+follist[2]\n",
    "    msge = str(\"@\")+str(username)+\" \"+str(msg)+\" \"+str(mention)\n",
    "    print(\"Pesan:\",msge, \"replyto:\",msgid)\n",
    "    api.update_status(msge, msgid)\n",
    "\n",
    "def twp_follow(UserIDs):\n",
    "    for userID in UserIDs:\n",
    "        try:\n",
    "            api.create_friendship(userID)\n",
    "            print(\"Try to follow:\", userID)\n",
    "        except Exception as e:\n",
    "            print(e)\n",
    "            continue"
   ]
  },
  {
   "cell_type": "markdown",
   "metadata": {},
   "source": [
    "# Routine BOT - AI"
   ]
  },
  {
   "cell_type": "code",
   "execution_count": 41,
   "metadata": {},
   "outputs": [
    {
     "name": "stdout",
     "output_type": "stream",
     "text": [
      "[nltk_data] Downloading package punkt to\n",
      "[nltk_data]     C:\\Users\\Admin\\AppData\\Roaming\\nltk_data...\n",
      "[nltk_data]   Package punkt is already up-to-date!\n",
      "[nltk_data] Downloading package stopwords to\n",
      "[nltk_data]     C:\\Users\\Admin\\AppData\\Roaming\\nltk_data...\n",
      "[nltk_data]   Package stopwords is already up-to-date!\n"
     ]
    },
    {
     "data": {
      "text/plain": [
       "True"
      ]
     },
     "execution_count": 41,
     "metadata": {},
     "output_type": "execute_result"
    }
   ],
   "source": [
    "nltk.download('punkt')\n",
    "nltk.download('stopwords')"
   ]
  },
  {
   "cell_type": "code",
   "execution_count": 42,
   "metadata": {},
   "outputs": [],
   "source": [
    "from chat_wordvec import *"
   ]
  },
  {
   "cell_type": "code",
   "execution_count": 43,
   "metadata": {},
   "outputs": [
    {
     "name": "stderr",
     "output_type": "stream",
     "text": [
      "C:\\Anaconda3\\envs\\tensorflow\\lib\\site-packages\\h5py\\__init__.py:36: FutureWarning: Conversion of the second argument of issubdtype from `float` to `np.floating` is deprecated. In future, it will be treated as `np.float64 == np.dtype(float).type`.\n",
      "  from ._conv import register_converters as _register_converters\n",
      "Using TensorFlow backend.\n"
     ]
    }
   ],
   "source": [
    "import keras\n",
    "model = keras.models.load_model(\"./model/model-ep2-100.mdl\")"
   ]
  },
  {
   "cell_type": "code",
   "execution_count": 44,
   "metadata": {},
   "outputs": [],
   "source": [
    "def pred(sentence):\n",
    "    predictions=model.predict(np.array([swv_ar(twl(sentence))]))\n",
    "    result=decode(predictions)\n",
    "    print(result)\n",
    "    return result\n",
    "\n",
    "def decode(pred):\n",
    "    result=[]\n",
    "    for i in range(maxsent):\n",
    "        res = tex2vec.wv.similar_by_vector(pred[0][i])[0][0]\n",
    "        result.append(res)\n",
    "        result = rem_list(result)\n",
    "        strj = ' '.join(result)\n",
    "    return strj       "
   ]
  },
  {
   "cell_type": "code",
   "execution_count": 89,
   "metadata": {},
   "outputs": [],
   "source": [
    "posmsg = [\n",
    "    \"Ini bagus banget, \",\n",
    "    \"Saya suka banget sama ini, \",\n",
    "    \"Wah asik banget ini yah. \",\n",
    "    \"Bagooooooossssss, \",\n",
    "    \"I love this, \",\n",
    "    \"Kapan nih berita gini?, \",\n",
    "    \"I love this post, \",\n",
    "    \"Postingan yang sangat bermutu, \",\n",
    "    \"Kapan?, \",\n",
    "    \"Terus kasih lagi gan..., \",\n",
    "    \"I like this, \",\n",
    "    \"Lanjuuuut gan, \",\n",
    "    \"Komen yang bermutu, \",\n",
    "    \"Twit ini sadis kerennya, \",\n",
    "    \"He he heh e, \",\n",
    "    \"Lanjoot, \"\n",
    "]\n",
    "\n",
    "def ranmsg():\n",
    "    a = secrets.choice(posmsg)\n",
    "    return a"
   ]
  },
  {
   "cell_type": "code",
   "execution_count": 90,
   "metadata": {},
   "outputs": [],
   "source": [
    "def get_id_follower(username,count=20):\n",
    "    result=[]\n",
    "    maxc=0\n",
    "    try:\n",
    "        for user in tweepy.Cursor(api.followers, screen_name=username).items(count):\n",
    "            maxc += 1\n",
    "            result.append(user.screen_name)\n",
    "            if maxc > count:\n",
    "                break\n",
    "    except:\n",
    "        print(\"Error - get follower\")\n",
    "        result=['aagym']\n",
    "    return result"
   ]
  },
  {
   "cell_type": "code",
   "execution_count": 91,
   "metadata": {},
   "outputs": [],
   "source": [
    "def get_rnd(rlist,count=3):\n",
    "    result = []\n",
    "    for i in range(count):\n",
    "        a1 = random.randint(0,len(rlist)-1)\n",
    "        result.append(rlist[a1])\n",
    "    return result"
   ]
  },
  {
   "cell_type": "code",
   "execution_count": 98,
   "metadata": {},
   "outputs": [],
   "source": [
    "def replyer(m):\n",
    "    m_user = m.user.screen_name\n",
    "    print(\"Username:\",m_user)\n",
    "    msg_id = m.id\n",
    "    m_text = m.text\n",
    "    if not db_is_replied(msg_id):\n",
    "\n",
    "        flwr = get_id_follower(str(m_user))\n",
    "        reslt=get_rnd(flwr)\n",
    "        \n",
    "        #db_insert_follower(m_user,reslt)\n",
    "        #twp_follow(reslt)\n",
    "        #print(\"Success adding follower of:\", m_user)\n",
    "        recap=cleanhtml(m_text)+\",\"\n",
    "        sender=\"@\"+m_user+\" \"\n",
    "        msg1 = ranmsg()\n",
    "        msg2 = pred(m_text)\n",
    "        msg3 = kaskus_search(m_text)\n",
    "\n",
    "        reslt = secrets.choice(reslt)\n",
    "        \n",
    "        tagthem = ' @'+' @'.join(reslt)\n",
    "        fullmsg = recap+msg1+msg2+\",\"+msg3+\" \"    #+tagthem\n",
    "        \n",
    "        fullmsg = nltk.word_tokenize(fullmsg)\n",
    "        fullmsg = rem_list(fullmsg)\n",
    "        fullmsg = rem_at(fullmsg)\n",
    "        fullmsg = join_url(fullmsg)\n",
    "        fullmsg = \" \".join(fullmsg)\n",
    "        \n",
    "        print(\"\\n\\nOUTPUT: \",fullmsg, '\\n=======================\\n\\n')\n",
    "\n",
    "        #rets = twp_reply_post(fullmsg,None)\n",
    "        \n",
    "        #twp_cool_post(fullmsg,m_user,m_user)\n",
    "        #if rets:\n",
    "        #    db_replied_this_id(msg_id,str(rets.id))\n",
    "        #    db_replied_this_id(str(rets.id),str(rets.id))\n",
    "        #else:\n",
    "        #    print(\"Error posting message =============\")\n",
    "    else:\n",
    "        print(\"already replied\")\n",
    "        pass"
   ]
  },
  {
   "cell_type": "markdown",
   "metadata": {},
   "source": [
    "### RUTIN KASKUS SEARCH"
   ]
  },
  {
   "cell_type": "code",
   "execution_count": 93,
   "metadata": {},
   "outputs": [],
   "source": [
    "from kaskus_comment import *"
   ]
  },
  {
   "cell_type": "markdown",
   "metadata": {},
   "source": [
    "# TWEEPY INITIALIZE"
   ]
  },
  {
   "cell_type": "code",
   "execution_count": 94,
   "metadata": {},
   "outputs": [],
   "source": [
    "if __name__ == '__main__':\n",
    "    auth = tweepy.OAuthHandler(consumer_key, consumer_secret)\n",
    "    auth.set_access_token(access_token, access_token_secret)\n",
    "\n",
    "    api = tweepy.API(auth)\n",
    "\n",
    "    #m = public_tweets[0]\n",
    "    #replyer(m)\n",
    "\n",
    "#cool_post(\"Keren gan wow-mantap\",\"irzaip\", \"iriantomo\")\n",
    "\n",
    "#contoh sebuah reply\n",
    "#api.update_status(\"@iriantomo Status ini bro kerens.\", in_reply_to_status_id=1001139203487318016)"
   ]
  },
  {
   "cell_type": "code",
   "execution_count": 95,
   "metadata": {},
   "outputs": [],
   "source": [
    "    #print(m.user.screen_name)\n",
    "    #print(m.user.followers_count)"
   ]
  },
  {
   "cell_type": "markdown",
   "metadata": {},
   "source": [
    "# BALAS SEMUA TWEET DI HOMEPAGE"
   ]
  },
  {
   "cell_type": "code",
   "execution_count": 96,
   "metadata": {},
   "outputs": [],
   "source": [
    "import time"
   ]
  },
  {
   "cell_type": "code",
   "execution_count": 97,
   "metadata": {},
   "outputs": [
    {
     "name": "stdout",
     "output_type": "stream",
     "text": [
      "Apapun yang terjadi kepadamu, akan tetap menjadi sesuatu yang menguatkanmu, jika engkau tidak mengijinkannya untuk… https://t.co/Du6BWu9lhV\n",
      "Username: marioteguh\n",
      "Error - get follower\n",
      "Sentence overflow: ['apapun', 'yang', 'terjadi', 'kepadamu', 'akan', 'tetap', 'menjadi', 'sesuatu', 'yang', 'menguatkanmu', 'jika', 'engkau', 'tidak', 'mengijinkannya', 'https']\n",
      "akan penderitaan sektor dibunuh Frustrasi daripadamu\n",
      "\n",
      "\n",
      "OUTPUT:  Apapun yang terjadi kepadamu , akan tetap menjadi sesuatu yang menguatkanmu , jika engkau tidak mengijinkannya untuk… https://t.co/Du6BWu9lhV , Kapan nih berita gini ? , akan penderitaan sektor dibunuh Frustrasi daripadamu , Quote : Original Posted By andhikul►seringnja sih ke komikgue iya salah satu web paling ringan gan menurut ane hihi dan lengkap daftar manganya \n",
      "=======================\n",
      "Semilir.... https://t.co/0ZC0ILuZRw\n",
      "Username: racawetan\n",
      "Error - get follower\n",
      "Problem at phrase: semilir\n",
      "keingintahuan\n",
      "\n",
      "\n",
      "OUTPUT:  Semilir ... . https://t.co/0ZC0ILuZRw , Saya suka banget sama ini , keingintahuan , gak ada maksud apa2 gan \n",
      "=======================\n",
      "Kerja keras tidak menjamin sukses, tapi tidak ada sukses tanpa kerja keras. \n",
      "\n",
      "Setiap orang akan mengalami ujian. Ad… https://t.co/6vDOeOh0MA\n",
      "Username: marioteguh\n",
      "Error - get follower\n",
      "Sentence overflow: ['kerja', 'keras', 'tidak', 'menjamin', 'sukses', 'tapi', 'tidak', 'ada', 'sukses', 'tanpa', 'kerja', 'keras', 'setiap', 'orang', 'akan', 'mengalami', 'ujian', 'https']\n",
      "MICKEY yang Supernova\n",
      "\n",
      "\n",
      "OUTPUT:  Kerja keras tidak menjamin sukses , tapi tidak ada sukses tanpa kerja keras . Setiap orang akan mengalami ujian . Ad… https://t.co/6vDOeOh0MA , Ini bagus banget , MICKEY yang Supernova , Mangakita ntaps gan , bahasanya enak buat dibaca \n",
      "=======================\n",
      "Siap!!! https://t.co/XKVILMiGiF\n",
      "Username: GusOkta72\n",
      "Error - get follower\n",
      "Pertimbangan Potongan\n",
      "\n",
      "\n",
      "OUTPUT:  Siap ! ! ! https://t.co/XKVILMiGiF , I love this post , Pertimbangan Potongan , \n",
      "=======================\n",
      "Kerja cerdas masih mengharuskan kerja keras.\n",
      "\n",
      "Orang yang mencemooh kerja keras karena menurutnya kerja cerdas lebih… https://t.co/TzI9R2YQNX\n",
      "Username: marioteguh\n",
      "Error - get follower\n",
      "Sentence overflow: ['kerja', 'cerdas', 'masih', 'mengharuskan', 'kerja', 'keras', 'orang', 'yang', 'mencemooh', 'kerja', 'keras', 'karena', 'menurutnya', 'kerja', 'cerdas', 'https']\n",
      "MICKEY yang Pemikiranmu daripadamu daripadamu\n",
      "\n",
      "\n",
      "OUTPUT:  Kerja cerdas masih mengharuskan kerja keras . Orang yang mencemooh kerja keras karena menurutnya kerja cerdas lebih… https://t.co/TzI9R2YQNX , Postingan yang sangat bermutu , MICKEY yang Pemikiranmu daripadamu daripadamu , Hoax gk negh ? \n",
      "=======================\n",
      "Hanya pemimpi kosong yang maunya kerja santai tapi menjadi kaya.\n",
      "\n",
      "Mario Teguh\n",
      "#1\n",
      "Username: marioteguh\n",
      "Error - get follower\n",
      "Sentence overflow: ['hanya', 'pemimpi', 'kosong', 'yang', 'maunya', 'kerja', 'santai', 'tapi', 'menjadi', 'kaya', 'mario', 'teguh']\n",
      "akan dilecehkan pon bit sekitarku Jagalah\n",
      "\n",
      "\n",
      "OUTPUT:  Hanya pemimpi kosong yang maunya kerja santai tapi menjadi kaya . Mario Teguh # 1 , Bagooooooossssss , akan dilecehkan pon bit sekitarku Jagalah , ts kayaknya pengalaman nih \n",
      "=======================\n",
      "Ya masa foto kamu tsakep mlulu si..kan biar… https://t.co/NrHTb8OPn5\n",
      "Username: mrsayudewi\n",
      "Error - get follower\n",
      "Problem at phrase: tsakep\n",
      "Problem at phrase: mlulu\n",
      "Teschmacher hip Ge strike obor\n",
      "\n",
      "\n",
      "OUTPUT:  Ya masa foto kamu tsakep mlulu si..kan biar… https://t.co/NrHTb8OPn5 , Wah asik banget ini yah . Teschmacher hip Ge strike obor , -- -- Rise All The Thread -- -- \n",
      "=======================\n",
      "Anda akan dapatkan yang TERBAIK dari orang lain,kalau anda sendiri memberikan yang terbaik. #Motivasi #MerryRiana https://t.co/Cv6yXSlES7\n",
      "Username: MerryRiana\n",
      "Error - get follower\n",
      "Sentence overflow: ['anda', 'akan', 'dapatkan', 'yang', 'terbaik', 'dari', 'orang', 'lain', 'kalau', 'anda', 'sendiri', 'memberikan', 'yang', 'terbaik', 'motivasi', 'merryriana', 'https']\n",
      "ungkapkanlah daripadamu\n",
      "\n",
      "\n",
      "OUTPUT:  Anda akan dapatkan yang TERBAIK dari orang lain , kalau anda sendiri memberikan yang terbaik . # Motivasi # MerryRiana https://t.co/Cv6yXSlES7 , Twit ini sadis kerennya , ungkapkanlah daripadamu , Quote : Original Posted By mookervaat►ane termasuk cowok yang setia lohh Mbroww yang boneng ente gan \n",
      "=======================\n",
      "Sahabat sahabat silahkan merapat, Niatkan Itikaf, mencari Ilmu dan bersilaturahmi, \n",
      "Ajak keluarga dan saudara semog… https://t.co/BM3OKIo1qM\n",
      "Username: aagym\n",
      "Error - get follower\n",
      "Sentence overflow: ['sahabat', 'sahabat', 'silahkan', 'merapat', 'niatkan', 'itikaf', 'mencari', 'ilmu', 'dan', 'bersilaturahmi', 'ajak', 'keluarga', 'dan', 'saudara', 'https']\n",
      "Problem at phrase: niatkan\n",
      "Problem at phrase: itikaf\n",
      "buruk daripadamu\n",
      "\n",
      "\n",
      "OUTPUT:  Sahabat sahabat silahkan merapat , Niatkan Itikaf , mencari Ilmu dan bersilaturahmi , Ajak keluarga dan saudara semog… https://t.co/BM3OKIo1qM , Kapan nih berita gini ? , buruk daripadamu , Woow ... Rame \n",
      "=======================\n",
      "Kita hidup selalu berada dalam hubungan yang kompleks. Tidak ada manusia yang bisa mencukupkan kebutuhan nya sendir… https://t.co/tHdubXPbUG\n",
      "Username: TGB4ID\n",
      "Error - get follower\n",
      "Sentence overflow: ['kita', 'hidup', 'selalu', 'berada', 'dalam', 'hubungan', 'yang', 'kompleks', 'tidak', 'ada', 'manusia', 'yang', 'bisa', 'mencukupkan', 'kebutuhan', 'nya', 'https']\n",
      "akan Perasaanmu Daging sekelilingnya\n",
      "\n",
      "\n",
      "OUTPUT:  Kita hidup selalu berada dalam hubungan yang kompleks . Tidak ada manusia yang bisa mencukupkan kebutuhan nya sendir… https://t.co/tHdubXPbUG , Bagooooooossssss , akan Perasaanmu Daging sekelilingnya , Selain polling Stiker gif yg baru juga gak ada gan.. Tempat mengadu ke instagram juga gak ada.. \n",
      "=======================\n",
      "Alhamdulillah saya pernah ngaji \"Ta'limul Muta'allim\" gus..semoga bs menjaga lisan &amp; tingkah laku serta memudahkan… https://t.co/Lp9zFjHduV\n",
      "Username: GusOkta72\n",
      "Error - get follower\n",
      "Sentence overflow: ['alhamdulillah', 'saya', 'pernah', 'ngaji', 'bs', 'menjaga', 'lisan', 'amp', 'tingkah', 'laku', 'serta', 'https']\n",
      "Problem at phrase: ngaji\n",
      "Problem at phrase: bs\n",
      "mereka Ratus diterbitkan spiral kismis\n",
      "\n",
      "\n",
      "OUTPUT:  Alhamdulillah saya pernah ngaji `` Ta'limul Muta'allim '' gus..semoga bs menjaga lisan & amp ; tingkah laku serta memudahkan… https://t.co/Lp9zFjHduV , I like this , mereka Ratus diterbitkan spiral kismis , Quote : Original Posted By amdar07►mantap '' , lu calon presiden Wakanda Hahaah kampret lu , ane kasi Nippon Paint nih \n",
      "=======================\n",
      "Hujan Tidak Halangi Pencarian Korban KM Sinar Bangun https://t.co/4dJYl8eLFk\n",
      "Username: Mashaby\n",
      "Error - get follower\n",
      "harapannya armorku dapatkah Menembak memotret Sedikit\n",
      "\n",
      "\n",
      "OUTPUT:  Hujan Tidak Halangi Pencarian Korban KM Sinar Bangun https://t.co/4dJYl8eLFk , Kapan ? , harapannya armorku dapatkah Menembak memotret Sedikit , semoga cepat ketemu , doa kami pada keluarga korban agar diberi ketabahan dan kekuatan . Tuhanlah sumber penghiburan dan sukacita . \n",
      "=======================\n",
      "184 Orang Belum Ditemukan dari 206 Data Sementara Penumpang KM Sinar Bangun https://t.co/0zxCNONoWu\n",
      "Username: Mashaby\n",
      "Error - get follower\n",
      "Sentence overflow: ['orang', 'belum', 'ditemukan', 'dari', 'data', 'sementara', 'penumpang', 'km', 'sinar', 'bangun', 'https']\n",
      "tidak relatif adegannya Kecemasan daripadamu\n",
      "\n",
      "\n",
      "OUTPUT:  184 Orang Belum Ditemukan dari 206 Data Sementara Penumpang KM Sinar Bangun https://t.co/0zxCNONoWu , Lanjoot , tidak relatif adegannya Kecemasan daripadamu , coba ikan2 suruh bantu nyari tuh , bakal ketemu . \n",
      "=======================\n",
      "Ratusan Orang Mengungsi Akibat Terjadi Bentrokan Militer Sudan https://t.co/qH9RCfMcwi\n",
      "Username: Mashaby\n",
      "Error - get follower\n",
      "Problem at phrase: bentrokan\n",
      "Problem at phrase: sudan\n",
      "akan Aih lobus pangkuanmu daripadamu keperawatan\n",
      "\n",
      "\n",
      "OUTPUT:  Ratusan Orang Mengungsi Akibat Terjadi Bentrokan Militer Sudan https://t.co/qH9RCfMcwi , Lanjoot , akan Aih lobus pangkuanmu daripadamu keperawatan , ane bukan warga negara cina jadi biasa aja \n",
      "=======================\n",
      "Diduga Tidak Netral Terkait Pilgub, Wakapolda Maluku Mendadak Dicopot https://t.co/lE07xWDl8n\n",
      "Username: Mashaby\n",
      "Error - get follower\n",
      "Sentence overflow: ['diduga', 'tidak', 'netral', 'terkait', 'pilgub', 'wakapolda', 'maluku', 'mendadak', 'dicopot', 'https']\n",
      "Problem at phrase: pilgub\n",
      "Problem at phrase: wakapolda\n",
      "Problem at phrase: maluku\n",
      "Problem at phrase: dicopot\n",
      "alang popok perjalananmu cross praktiknya\n"
     ]
    },
    {
     "name": "stdout",
     "output_type": "stream",
     "text": [
      "\n",
      "\n",
      "OUTPUT:  Diduga Tidak Netral Terkait Pilgub , Wakapolda Maluku Mendadak Dicopot https://t.co/lE07xWDl8n , Postingan yang sangat bermutu , alang popok perjalananmu cross praktiknya , Belum ada ... bukan 'tidak ada ' . Jadi ... \n",
      "=======================\n",
      "Ribuan Warga Hadiri Open House Sri Sultan Hamengku Buwono X https://t.co/MAvM0dBatg\n",
      "Username: Mashaby\n",
      "Error - get follower\n",
      "Sentence overflow: ['ribuan', 'warga', 'hadiri', 'open', 'house', 'sri', 'sultan', 'hamengku', 'buwono', 'x', 'https']\n",
      "Problem at phrase: sri\n",
      "Problem at phrase: hamengku\n",
      "Problem at phrase: buwono\n",
      "dia Stace Menurutnya produk digantikan Jalankan\n",
      "\n",
      "\n",
      "OUTPUT:  Ribuan Warga Hadiri Open House Sri Sultan Hamengku Buwono X https://t.co/MAvM0dBatg , Kapan nih berita gini ? , dia Stace Menurutnya produk digantikan Jalankan , -- - reserved -- - \n",
      "=======================\n",
      "Jelang Debat Pilgub Jabar Putaran Ketiga, KPU Perketat Keamanan https://t.co/5O0D5wdWvj\n",
      "Username: Mashaby\n",
      "Error - get follower\n",
      "Sentence overflow: ['jelang', 'debat', 'pilgub', 'jabar', 'putaran', 'ketiga', 'kpu', 'perketat', 'keamanan', 'https']\n",
      "Problem at phrase: jelang\n",
      "Problem at phrase: pilgub\n",
      "Problem at phrase: jabar\n",
      "Problem at phrase: kpu\n",
      "Problem at phrase: perketat\n",
      "Pastikan sepiring Duan Kehadirannya\n",
      "\n",
      "\n",
      "OUTPUT:  Jelang Debat Pilgub Jabar Putaran Ketiga , KPU Perketat Keamanan https://t.co/5O0D5wdWvj , I like this , Pastikan sepiring Duan Kehadirannya , \n",
      "=======================\n",
      "Jadi Pj Gubernur Jabar, Komjen Iriawan Dapat Dukungan dari Aa Gym https://t.co/JhKOK8nKu4\n",
      "Username: Mashaby\n",
      "Error - get follower\n",
      "Sentence overflow: ['jadi', 'pj', 'gubernur', 'jabar', 'komjen', 'iriawan', 'dapat', 'dukungan', 'dari', 'aa', 'gym', 'https']\n",
      "Problem at phrase: pj\n",
      "Problem at phrase: jabar\n",
      "Problem at phrase: komjen\n",
      "Problem at phrase: iriawan\n",
      "ngotot Rosen dimaksimalkan Suk ngler\n",
      "\n",
      "\n",
      "OUTPUT:  Jadi Pj Gubernur Jabar , Komjen Iriawan Dapat Dukungan dari Aa Gym https://t.co/JhKOK8nKu4 , Twit ini sadis kerennya , ngotot Rosen dimaksimalkan Suk ngler , \n",
      "=======================\n",
      "Kedalaman Danau Toba Sulitkan Pencarian Korban KM Sinar Bangun https://t.co/fe77SXcVpv\n",
      "Username: Mashaby\n",
      "Error - get follower\n",
      "Sentence overflow: ['kedalaman', 'danau', 'toba', 'sulitkan', 'pencarian', 'korban', 'km', 'sinar', 'bangun', 'https']\n",
      "Problem at phrase: toba\n",
      "Problem at phrase: sulitkan\n",
      "Delhi penangkapan Menepuk menyingkirkan Tujuh Sulit\n",
      "\n",
      "\n",
      "OUTPUT:  Kedalaman Danau Toba Sulitkan Pencarian Korban KM Sinar Bangun https://t.co/fe77SXcVpv , Postingan yang sangat bermutu , Delhi penangkapan Menepuk menyingkirkan Tujuh Sulit , yg paling goblok tu yg nyalahin pemerintah , salahin tuh yg maksa naek kapal yg udah over loading sama kapten kapal \n",
      "=======================\n",
      "Kapolri dan Panglima TNI Kunjungi Korban KM Sinar Bangun https://t.co/qoMwKoQeFR\n",
      "Username: Mashaby\n",
      "Error - get follower\n",
      "Sentence overflow: ['kapolri', 'dan', 'panglima', 'tni', 'kunjungi', 'korban', 'km', 'sinar', 'bangun', 'https']\n",
      "Problem at phrase: kapolri\n",
      "Problem at phrase: tni\n",
      "dia wortel segar Hewitt Perenang daripadamu\n",
      "\n",
      "\n",
      "OUTPUT:  Kapolri dan Panglima TNI Kunjungi Korban KM Sinar Bangun https://t.co/qoMwKoQeFR , Bagooooooossssss , dia wortel segar Hewitt Perenang daripadamu , \n",
      "=======================\n"
     ]
    }
   ],
   "source": [
    "    public_tweets = api.home_timeline()\n",
    "\n",
    "    for tweet in public_tweets:\n",
    "        print(tweet.text)\n",
    "        replyer(tweet)\n",
    "        #db_is_replied(tweet.id)\n",
    "        #time.sleep(100)"
   ]
  },
  {
   "cell_type": "markdown",
   "metadata": {},
   "source": [
    "## Kalau mau balas post orang"
   ]
  },
  {
   "cell_type": "code",
   "execution_count": 21,
   "metadata": {},
   "outputs": [],
   "source": [
    "def reply_post_user(username, postnum=0):\n",
    "    posts=api.user_timeline(id=username)\n",
    "    replyer(posts[postnum])"
   ]
  },
  {
   "cell_type": "code",
   "execution_count": null,
   "metadata": {},
   "outputs": [],
   "source": []
  },
  {
   "cell_type": "markdown",
   "metadata": {},
   "source": [
    "# PSEUDO CODE"
   ]
  },
  {
   "cell_type": "markdown",
   "metadata": {},
   "source": [
    "id = ambil_id_msg()\n",
    "check_msg_di_db()\n",
    "liat_user_msg()\n",
    "list_follower_usermsg()\n",
    "ambil_3_random_follower()\n",
    "ambil_random_jawaban()\n",
    "ambil_prediksi_twit_user()\n",
    "buat_msg()\n",
    "post_msg()\n",
    "catat_posting_di_db()\n",
    "follow_3_user()"
   ]
  },
  {
   "cell_type": "markdown",
   "metadata": {},
   "source": [
    "# SANDBOX"
   ]
  },
  {
   "cell_type": "code",
   "execution_count": null,
   "metadata": {},
   "outputs": [],
   "source": []
  },
  {
   "cell_type": "code",
   "execution_count": null,
   "metadata": {},
   "outputs": [],
   "source": []
  },
  {
   "cell_type": "markdown",
   "metadata": {},
   "source": [
    "# CLEAN UP  - Don't Forget"
   ]
  },
  {
   "cell_type": "code",
   "execution_count": 22,
   "metadata": {},
   "outputs": [],
   "source": [
    "#db.close()"
   ]
  },
  {
   "cell_type": "code",
   "execution_count": 43,
   "metadata": {},
   "outputs": [],
   "source": [
    "from data import *"
   ]
  },
  {
   "cell_type": "code",
   "execution_count": null,
   "metadata": {},
   "outputs": [],
   "source": []
  }
 ],
 "metadata": {
  "kernelspec": {
   "display_name": "Python 3",
   "language": "python",
   "name": "python3"
  },
  "language_info": {
   "codemirror_mode": {
    "name": "ipython",
    "version": 3
   },
   "file_extension": ".py",
   "mimetype": "text/x-python",
   "name": "python",
   "nbconvert_exporter": "python",
   "pygments_lexer": "ipython3",
   "version": "3.6.4"
  }
 },
 "nbformat": 4,
 "nbformat_minor": 2
}
