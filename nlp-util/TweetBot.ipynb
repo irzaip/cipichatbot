{
 "cells": [
  {
   "cell_type": "code",
   "execution_count": 1,
   "metadata": {
    "scrolled": true
   },
   "outputs": [
    {
     "name": "stderr",
     "output_type": "stream",
     "text": [
      "C:\\Anaconda3\\envs\\tensorflow\\lib\\site-packages\\gensim\\utils.py:1209: UserWarning: detected Windows; aliasing chunkize to chunkize_serial\n",
      "  warnings.warn(\"detected Windows; aliasing chunkize to chunkize_serial\")\n"
     ]
    }
   ],
   "source": [
    "import os\n",
    "import pandas as pd\n",
    "import tweepy\n",
    "import sqlite3\n",
    "import gensim\n",
    "import nltk\n",
    "import numpy as np\n",
    "import time\n",
    "import random\n",
    "import secrets\n",
    "import itertools\n",
    "import yaml\n",
    "import re\n",
    "import requests\n",
    "from bs4 import BeautifulSoup as bs"
   ]
  },
  {
   "cell_type": "markdown",
   "metadata": {},
   "source": [
    "### PARAMETERS"
   ]
  },
  {
   "cell_type": "code",
   "execution_count": 2,
   "metadata": {},
   "outputs": [],
   "source": [
    "maxday=5   #maksimum hari yang di reply.\n",
    "person_to_follow = 3    #jumlah orang yg di follow"
   ]
  },
  {
   "cell_type": "code",
   "execution_count": 3,
   "metadata": {},
   "outputs": [],
   "source": [
    "#AMBIL FILE KONFIGURASI DARI TWITTER.YML\n",
    "with open('twitter.yml') as f:\n",
    "    twit = yaml.load(f)\n",
    "    \n",
    "consumer_key = twit['consumer_key']\n",
    "consumer_secret = twit['consumer_secret']\n",
    "access_token = twit['access_token']\n",
    "access_token_secret = twit['access_token_secret']"
   ]
  },
  {
   "cell_type": "code",
   "execution_count": 4,
   "metadata": {},
   "outputs": [],
   "source": [
    "import datetime\n",
    "def is_today(date):\n",
    "    ckdt = datetime.datetime.strptime(date,'%Y-%m-%d').date()\n",
    "    if ckdt == datetime.datetime.today().date():\n",
    "        return True\n",
    "    return False\n",
    "\n",
    "def daydiff(date1,date2):\n",
    "    d0 = datetime.datetime.strptime(date1,'%Y-%m-%d').date()\n",
    "    d1 = datetime.datetime.strptime(date2,'%Y-%m-%d').date()\n",
    "    delta = d1 - d0\n",
    "    return delta.days"
   ]
  },
  {
   "cell_type": "markdown",
   "metadata": {},
   "source": [
    "# Configure\n",
    "def twit_get_username(username,result='result.csv',limit=10,count=10):\n",
    "    try:\n",
    "        os.remove(result)\n",
    "    except Exception as e:\n",
    "        pass\n",
    "\n",
    "    c = twint.Config()\n",
    "    #c.Search = \"#maling\"\n",
    "    c.Username= username\n",
    "    c.Format = \"\"\n",
    "    c.Debug = False\n",
    "    c.Store_csv = True\n",
    "    # CSV Fieldnames\n",
    "    #following should be used as fieldnames in a list:\n",
    "    #id,date,time,timezone,user_id,username,tweet,replies,retweets,likes,hashtags,link\n",
    "    #c.Custom_csv = [\"id\", \"user_id\", \"username\", \"tweet\"]\n",
    "    c.Output = result\n",
    "    c.Limit=limit\n",
    "    c.Count=count\n",
    "    # Run\n",
    "    twint.Search(c)\n",
    "\n",
    "    df = pd.read_csv(result)\n",
    "    return df\n",
    "\n",
    "def user_follower(username,result='result.csv'):\n",
    "    try:\n",
    "        os.remove(result)\n",
    "    except:\n",
    "        pass\n",
    "\n",
    "    c = twint.Config()\n",
    "    #c.Search = \"#maling\"\n",
    "    c.Username= username\n",
    "    c.Format = \"\"\n",
    "    c.Debug = False\n",
    "    c.Store_csv = True\n",
    "    # CSV Fieldnames\n",
    "    #following should be used as fieldnames in a list:\n",
    "    #id,date,time,timezone,user_id,username,tweet,replies,retweets,likes,hashtags,link\n",
    "    #c.Custom_csv = [\"id\", \"user_id\", \"username\", \"tweet\"]\n",
    "    c.Output = result\n",
    "    # Run\n",
    "    output = twint.run.Followers(c)\n",
    "\n",
    "    df = pd.read_csv(result)\n",
    "    return df\n",
    "\n",
    "def user_following(username,result='result.csv'):\n",
    "    try:\n",
    "        os.remove(result)\n",
    "    except:\n",
    "        pass\n",
    "\n",
    "    c = twint.Config()\n",
    "    #c.Search = \"#maling\"\n",
    "    c.Username= username\n",
    "    c.Format = \"\"\n",
    "    c.Debug = False\n",
    "    c.Store_csv = True\n",
    "    # CSV Fieldnames\n",
    "    #following should be used as fieldnames in a list:\n",
    "    #id,date,time,timezone,user_id,username,tweet,replies,retweets,likes,hashtags,link\n",
    "    #c.Custom_csv = [\"id\", \"user_id\", \"username\", \"tweet\"]\n",
    "    c.Output = result\n",
    "    # Run\n",
    "    output = twint.run.Following(c)\n",
    "\n",
    "    df = pd.read_csv(result)\n",
    "    return df\n",
    "\n"
   ]
  },
  {
   "cell_type": "markdown",
   "metadata": {},
   "source": [
    "### Connect DB & Routines"
   ]
  },
  {
   "cell_type": "code",
   "execution_count": 5,
   "metadata": {},
   "outputs": [],
   "source": [
    "from tweetdb import *"
   ]
  },
  {
   "cell_type": "markdown",
   "metadata": {},
   "source": [
    "### Routine Logic - tweepy"
   ]
  },
  {
   "cell_type": "code",
   "execution_count": 6,
   "metadata": {},
   "outputs": [],
   "source": [
    "def cleanhtml(raw_html):\n",
    "  cleanr = re.compile('<.*?>')\n",
    "  cleantext = re.sub(cleanr, '', raw_html)\n",
    "  return cleantext\n",
    "\n",
    "def twp_update_status(msg):\n",
    "    try:\n",
    "        api.update_status(msg)\n",
    "        print(\"Update status to:\",msg)\n",
    "    except Exception as e:\n",
    "        print(\"error updating status:\",e)\n",
    "        \n",
    "def twp_reply_post(msg,replyID):\n",
    "    try:\n",
    "        rets = api.update_status(msg, in_reply_to_status_id=replyID)\n",
    "        print(\"Update status to:\",msg)\n",
    "        return rets\n",
    "    except Exception as e:\n",
    "        print(\"error updating status:\",e)\n",
    "        \n",
    "def twp_cool_post(msg, username, userfollower):\n",
    "    res = twit_get_username(username)\n",
    "    msgid = res.iloc[postnum].id\n",
    "    #username = res.iloc[postnum]\n",
    "    follower = user_following(userfollower)\n",
    "    import random\n",
    "    follist = follower['GundalaPutraTop'].values.tolist()\n",
    "    random.shuffle(follist)\n",
    "    mention = \"@\"+follist[0]+\" @\"+follist[1]+\" @\"+follist[2]\n",
    "    msge = str(\"@\")+str(username)+\" \"+str(msg)+\" \"+str(mention)\n",
    "    print(\"Pesan:\",msge, \"replyto:\",msgid)\n",
    "    api.update_status(msge, msgid)\n",
    "\n",
    "def twp_follow(UserIDs):\n",
    "    for userID in UserIDs:\n",
    "        try:\n",
    "            api.create_friendship(userID)\n",
    "            print(\"Try to follow:\", userID)\n",
    "        except Exception as e:\n",
    "            print(e)\n",
    "            continue"
   ]
  },
  {
   "cell_type": "markdown",
   "metadata": {},
   "source": [
    "# Routine BOT - AI"
   ]
  },
  {
   "cell_type": "code",
   "execution_count": 7,
   "metadata": {},
   "outputs": [
    {
     "name": "stdout",
     "output_type": "stream",
     "text": [
      "[nltk_data] Error loading punkt: <urlopen error [Errno 11002]\n",
      "[nltk_data]     getaddrinfo failed>\n",
      "[nltk_data] Error loading stopwords: <urlopen error [Errno 11002]\n",
      "[nltk_data]     getaddrinfo failed>\n"
     ]
    },
    {
     "data": {
      "text/plain": [
       "False"
      ]
     },
     "execution_count": 7,
     "metadata": {},
     "output_type": "execute_result"
    }
   ],
   "source": [
    "nltk.download('punkt')\n",
    "nltk.download('stopwords')"
   ]
  },
  {
   "cell_type": "code",
   "execution_count": 8,
   "metadata": {},
   "outputs": [],
   "source": [
    "from chat_wordvec import *"
   ]
  },
  {
   "cell_type": "code",
   "execution_count": 9,
   "metadata": {},
   "outputs": [
    {
     "name": "stderr",
     "output_type": "stream",
     "text": [
      "C:\\Anaconda3\\envs\\tensorflow\\lib\\site-packages\\h5py\\__init__.py:36: FutureWarning: Conversion of the second argument of issubdtype from `float` to `np.floating` is deprecated. In future, it will be treated as `np.float64 == np.dtype(float).type`.\n",
      "  from ._conv import register_converters as _register_converters\n",
      "Using TensorFlow backend.\n"
     ]
    }
   ],
   "source": [
    "import keras\n",
    "model = keras.models.load_model(\"./model/model-ep2-100.mdl\")"
   ]
  },
  {
   "cell_type": "code",
   "execution_count": 10,
   "metadata": {},
   "outputs": [],
   "source": [
    "def pred(sentence):\n",
    "    predictions=model.predict(np.array([swv_ar(twl(sentence))]))\n",
    "    result=decode(predictions)\n",
    "    print(result)\n",
    "    return result\n",
    "\n",
    "def decode(pred):\n",
    "    result=[]\n",
    "    for i in range(maxsent):\n",
    "        res = tex2vec.wv.similar_by_vector(pred[0][i])[0][0]\n",
    "        result.append(res)\n",
    "        result = rem_list(result)\n",
    "        strj = ' '.join(result)\n",
    "    return strj       "
   ]
  },
  {
   "cell_type": "code",
   "execution_count": 11,
   "metadata": {},
   "outputs": [],
   "source": [
    "posmsg = [\n",
    "    \"Ini bagus banget, \",\n",
    "    \"Saya suka banget sama ini, \",\n",
    "    \"Wah asik banget ini yah. \",\n",
    "    \"Bagooooooossssss, \",\n",
    "    \"I love this, \",\n",
    "    \"Kapan nih berita gini?, \",\n",
    "    \"I love this post, \",\n",
    "    \"Postingan yang sangat bermutu, \",\n",
    "    \"Kapan?, \",\n",
    "    \"Terus kasih lagi gan..., \",\n",
    "    \"I like this, \",\n",
    "    \"Lanjuuuut gan, \",\n",
    "    \"Komen yang bermutu, \",\n",
    "    \"Twit ini sadis kerennya, \",\n",
    "    \"He he heh e, \",\n",
    "    \"Lanjoot, \"\n",
    "]\n",
    "\n",
    "def ranmsg():\n",
    "    a = secrets.choice(posmsg)\n",
    "    return a"
   ]
  },
  {
   "cell_type": "code",
   "execution_count": 12,
   "metadata": {},
   "outputs": [],
   "source": [
    "def get_id_follower(username,count=20):\n",
    "    result=[]\n",
    "    maxc=0\n",
    "    try:\n",
    "        for user in tweepy.Cursor(api.followers, screen_name=username).items(count):\n",
    "            maxc += 1\n",
    "            result.append(user.screen_name)\n",
    "            if maxc > count:\n",
    "                break\n",
    "    except:\n",
    "        print(\"Error - get follower\")\n",
    "        result=['aagym']\n",
    "    return result"
   ]
  },
  {
   "cell_type": "code",
   "execution_count": 13,
   "metadata": {},
   "outputs": [],
   "source": [
    "def get_rnd(rlist,count=3):\n",
    "    result = []\n",
    "    for i in range(count):\n",
    "        a1 = random.randint(0,len(rlist)-1)\n",
    "        result.append(rlist[a1])\n",
    "    return result"
   ]
  },
  {
   "cell_type": "code",
   "execution_count": 14,
   "metadata": {},
   "outputs": [],
   "source": [
    "\n",
    "def replyer(m):\n",
    "    m_user = m.user.screen_name\n",
    "    print(\"Username:\",m_user)\n",
    "    msg_id = m.id\n",
    "    m_text = m.text\n",
    "    if not db_is_replied(msg_id):\n",
    "\n",
    "        flwr = get_id_follower(str(m_user))\n",
    "        reslt=get_rnd(flwr)\n",
    "        \n",
    "        #db_insert_follower(m_user,reslt)\n",
    "        #twp_follow(reslt)\n",
    "        #print(\"Success adding follower of:\", m_user)\n",
    "        recap=cleanhtml(m_text)+\",\"\n",
    "        sender=\"@\"+m_user+\" \"\n",
    "        msg1 = ranmsg()\n",
    "        msg2 = pred(m_text)\n",
    "        msg3 = kaskus_search(m_text)\n",
    "\n",
    "        reslt = secrets.choice(reslt)\n",
    "        \n",
    "        tagthem = ' @'+' @'.join(reslt)\n",
    "        fullmsg = recap+msg1+msg2+\",\"+msg3+\" \"    #+tagthem\n",
    "        \n",
    "        fullmsg = nltk.word_tokenize(fullmsg)\n",
    "        fullmsg = rem_list(fullmsg)\n",
    "        fullmsg = rem_at(fullmsg)\n",
    "        fullmsg = join_url(fullmsg)\n",
    "        fullmsg = \" \".join(fullmsg)\n",
    "        \n",
    "        print(\"\\n\\nOUTPUT: \",fullmsg, '\\n=======================\\n\\n')\n",
    "        \n",
    "        if realpost:\n",
    "            rets = twp_reply_post(fullmsg,None)\n",
    "        \n",
    "            #twp_cool_post(fullmsg,m_user,m_user)\n",
    "            if rets:\n",
    "                db_replied_this_id(msg_id,str(rets.id))\n",
    "                db_replied_this_id(str(rets.id),str(rets.id))\n",
    "            else:\n",
    "                print(\"Error posting message =============\")\n",
    "    else:\n",
    "        print(\"already replied\")\n",
    "        pass"
   ]
  },
  {
   "cell_type": "markdown",
   "metadata": {},
   "source": [
    "### RUTIN KASKUS SEARCH"
   ]
  },
  {
   "cell_type": "code",
   "execution_count": 15,
   "metadata": {},
   "outputs": [],
   "source": [
    "from kaskus_comment import *"
   ]
  },
  {
   "cell_type": "markdown",
   "metadata": {},
   "source": [
    "# TWEEPY INITIALIZE"
   ]
  },
  {
   "cell_type": "code",
   "execution_count": 16,
   "metadata": {},
   "outputs": [],
   "source": [
    "if __name__ == '__main__':\n",
    "    auth = tweepy.OAuthHandler(consumer_key, consumer_secret)\n",
    "    auth.set_access_token(access_token, access_token_secret)\n",
    "\n",
    "    api = tweepy.API(auth)\n",
    "\n",
    "    #m = public_tweets[0]\n",
    "    #replyer(m)\n",
    "\n",
    "#cool_post(\"Keren gan wow-mantap\",\"irzaip\", \"iriantomo\")\n",
    "\n",
    "#contoh sebuah reply\n",
    "#api.update_status(\"@iriantomo Status ini bro kerens.\", in_reply_to_status_id=1001139203487318016)"
   ]
  },
  {
   "cell_type": "code",
   "execution_count": 17,
   "metadata": {},
   "outputs": [],
   "source": [
    "    #print(m.user.screen_name)\n",
    "    #print(m.user.followers_count)"
   ]
  },
  {
   "cell_type": "markdown",
   "metadata": {},
   "source": [
    "# BALAS SEMUA TWEET DI HOMEPAGE"
   ]
  },
  {
   "cell_type": "code",
   "execution_count": 18,
   "metadata": {},
   "outputs": [],
   "source": [
    "import time\n",
    "import random"
   ]
  },
  {
   "cell_type": "code",
   "execution_count": null,
   "metadata": {},
   "outputs": [
    {
     "name": "stdout",
     "output_type": "stream",
     "text": [
      "Good night Singapore 😊❤ @ Singapore https://t.co/YRbWD9MfGa\n",
      "Username: MerryRiana\n"
     ]
    },
    {
     "name": "stderr",
     "output_type": "stream",
     "text": [
      "C:\\Anaconda3\\envs\\tensorflow\\lib\\site-packages\\gensim\\matutils.py:737: FutureWarning: Conversion of the second argument of issubdtype from `int` to `np.signedinteger` is deprecated. In future, it will be treated as `np.int32 == np.dtype(int).type`.\n",
      "  if np.issubdtype(vec.dtype, np.int):\n"
     ]
    },
    {
     "name": "stdout",
     "output_type": "stream",
     "text": [
      "Lupa Lupa Lupa semen sepertinya sasaran Ludwig sarapan tawarikh melanggar\n",
      "\n",
      "\n",
      "OUTPUT:  Good night Singapore 😊❤ Singapore https://t.co/YRbWD9MfGa , Kapan ? , Lupa Lupa Lupa semen sepertinya sasaran Ludwig sarapan tawarikh melanggar , Ane senin tanggal 10 gan bermgkat spore . \n",
      "=======================\n",
      "\n",
      "\n",
      "Update status to: Good night Singapore 😊❤ Singapore https://t.co/YRbWD9MfGa , Kapan ? , Lupa Lupa Lupa semen sepertinya sasaran Ludwig sarapan tawarikh melanggar , Ane senin tanggal 10 gan bermgkat spore .\n",
      "RT @fontool: قراءة بالمقام السوداني جميله جداً\n",
      "ما أعظم كتاب الله ❤️ https://t.co/D9tItfoc1W\n",
      "Username: Agus_Iman\n",
      "Sentence overflow: ['rt', 'fontool', 'قراءة', 'بالمقام', 'السوداني', 'جميله', 'ما', 'أعظم', 'كتاب', 'الله', 'https']\n",
      "Problem at phrase: fontool\n",
      "Problem at phrase: قراءة\n",
      "Problem at phrase: بالمقام\n",
      "Problem at phrase: السوداني\n",
      "Problem at phrase: جميله\n",
      "Problem at phrase: ما\n",
      "Problem at phrase: أعظم\n",
      "Problem at phrase: كتاب\n",
      "Lupa Lupa Lupa semen sepertinya sepertinya sepertinya sepertinya sepertinya sepertinya\n",
      "\n",
      "\n",
      "OUTPUT:  fontool قراءة بالمقام السوداني جميله جداً ما أعظم كتاب الله ❤️ https://t.co/D9tItfoc1W : , Lanjuuuut gan , Lupa Lupa Lupa semen sepertinya sepertinya sepertinya sepertinya sepertinya sepertinya , \n",
      "=======================\n",
      "\n",
      "\n",
      "Update status to: fontool قراءة بالمقام السوداني جميله جداً ما أعظم كتاب الله ❤️ https://t.co/D9tItfoc1W : , Lanjuuuut gan , Lupa Lupa Lupa semen sepertinya sepertinya sepertinya sepertinya sepertinya sepertinya ,\n",
      "Rakyat yg mana atau Rakyat dari Negara mana @arwidodo yg akan #2019GantiPresiden , kalau Rakyat indonesia jalas tid… https://t.co/OY6ma1z5Yo\n",
      "Username: ArifudinNurdin\n",
      "Sentence overflow: ['rakyat', 'yg', 'mana', 'atau', 'rakyat', 'dari', 'negara', 'mana', 'arwidodo', 'yg', 'akan', 'kalau', 'rakyat', 'indonesia', 'jalas', 'https']\n",
      "Problem at phrase: arwidodo\n",
      "Lupa Lupa membaginya penulisnya Beli sepele fesyen menggambarkan diperjuangkan bermaksud\n",
      "\n",
      "\n",
      "OUTPUT:  Rakyat yg mana atau Rakyat dari Negara mana arwidodo yg akan # 2019GantiPresiden , kalau Rakyat indonesia jalas tid… https://t.co/OY6ma1z5Yo , Ini bagus banget , Lupa Lupa membaginya penulisnya Beli sepele fesyen menggambarkan diperjuangkan bermaksud , \n",
      "=======================\n",
      "\n",
      "\n",
      "Update status to: Rakyat yg mana atau Rakyat dari Negara mana arwidodo yg akan # 2019GantiPresiden , kalau Rakyat indonesia jalas tid… https://t.co/OY6ma1z5Yo , Ini bagus banget , Lupa Lupa membaginya penulisnya Beli sepele fesyen menggambarkan diperjuangkan bermaksud ,\n",
      "#Np Kita live in concert \n",
      "“Road To Soundrenaline\", at South Parking Area Summarecon Digital Center Tangerang cc… https://t.co/rVGGqi1wDd\n",
      "Username: sheilaon7\n",
      "Sentence overflow: ['np', 'kita', 'live', 'in', 'concert', 'road', 'to', 'soundrenaline', 'at', 'south', 'parking', 'area', 'summarecon', 'digital', 'center', 'tangerang', 'https']\n",
      "Problem at phrase: soundrenaline\n",
      "Lupa Lupa betullah Umm cinta sepertinya sepertinya sepertinya sepertinya sepertinya\n",
      "\n",
      "\n",
      "OUTPUT:  # Np Kita live in concert “ Road To Soundrenaline '' , at South Parking Area Summarecon Digital Center Tangerang cc… https://t.co/rVGGqi1wDd , I love this , Lupa Lupa betullah Umm cinta sepertinya sepertinya sepertinya sepertinya sepertinya , Mudah-mudahan mereka jadi dateng dan mudah-mudahan ngga ada kerusuhan ... Mudah-mudahan juga tiketnya ga mahal hehehe \n",
      "=======================\n",
      "\n",
      "\n",
      "error updating status: [{'code': 186, 'message': 'Tweet needs to be a bit shorter.'}]\n",
      "Error posting message =============\n",
      "Andai saja cintamu seperti cintaku.. .\n",
      "#MudahSaja\n",
      "“Road To Soundrenaline\", South Parking Area Summarecon Digital Ce… https://t.co/hgXEaSQEME\n",
      "Username: sheilaon7\n",
      "Sentence overflow: ['andai', 'saja', 'cintamu', 'seperti', 'mudahsaja', 'road', 'to', 'soundrenaline', 'south', 'parking', 'area', 'summarecon', 'digital', 'https']\n",
      "Problem at phrase: mudahsaja\n",
      "Problem at phrase: soundrenaline\n",
      "Lupa Lupa Lupa penganiaya menangkapnya suvenir beritahu tuduhannya menantumu mengecat\n",
      "\n",
      "\n",
      "OUTPUT:  Andai saja cintamu seperti cintaku.. . # MudahSaja “ Road To Soundrenaline '' , South Parking Area Summarecon Digital Ce… https://t.co/hgXEaSQEME , Kapan nih berita gini ? , Lupa Lupa Lupa penganiaya menangkapnya suvenir beritahu tuduhannya menantumu mengecat , TS : Massacare Officer [ Bisa PM gw , kalo masuk kualifikasi silahkan masuk , no ababil ) : darkslay3r Ryolazlo \n",
      "=======================\n",
      "\n",
      "\n",
      "error updating status: [{'code': 186, 'message': 'Tweet needs to be a bit shorter.'}]\n",
      "Error posting message =============\n",
      "Terimakasih bapak Presiden @jokowi atas dukungan kepada atlit yang berprestasi yang mengharumkan nama Nrgara sepert… https://t.co/by8egrD41I\n",
      "Username: ArifudinNurdin\n",
      "Sentence overflow: ['terimakasih', 'bapak', 'presiden', 'jokowi', 'atas', 'dukungan', 'kepada', 'atlit', 'yang', 'berprestasi', 'yang', 'mengharumkan', 'nama', 'nrgara', 'https']\n",
      "Problem at phrase: jokowi\n",
      "Lupa Lupa resep cinta cinta sepertinya sepertinya sepertinya sepertinya sepertinya\n",
      "\n",
      "\n",
      "OUTPUT:  Terimakasih bapak Presiden jokowi atas dukungan kepada atlit yang berprestasi yang mengharumkan nama Nrgara sepert… https://t.co/by8egrD41I , I like this , Lupa Lupa resep cinta cinta sepertinya sepertinya sepertinya sepertinya sepertinya , Org indonesia cerdas2 smua \n",
      "=======================\n",
      "\n",
      "\n",
      "Update status to: Terimakasih bapak Presiden jokowi atas dukungan kepada atlit yang berprestasi yang mengharumkan nama Nrgara sepert… https://t.co/by8egrD41I , I like this , Lupa Lupa resep cinta cinta sepertinya sepertinya sepertinya sepertinya sepertinya , Org indonesia cerdas2 smua\n",
      "#Np HariBersamanya\n",
      "“Road To Soundrenaline\", South Parking Area Summarecon Digital Center Tangerang cc… https://t.co/hRbLZMeI9k\n",
      "Username: sheilaon7\n",
      "Sentence overflow: ['np', 'haribersamanya', 'road', 'to', 'soundrenaline', 'south', 'parking', 'area', 'summarecon', 'digital', 'center', 'tangerang', 'https']\n",
      "Problem at phrase: haribersamanya\n",
      "Problem at phrase: soundrenaline\n",
      "Problem at phrase: parking\n",
      "Problem at phrase: summarecon\n",
      "Lupa Lupa Lupa semen sepertinya Umm sepertinya sepertinya sepertinya sepertinya\n",
      "\n",
      "\n",
      "OUTPUT:  # Np HariBersamanya “ Road To Soundrenaline '' , South Parking Area Summarecon Digital Center Tangerang cc… https://t.co/hRbLZMeI9k , Terus kasih lagi gan ... , Lupa Lupa Lupa semen sepertinya Umm sepertinya sepertinya sepertinya sepertinya , \n",
      "=======================\n",
      "\n",
      "\n",
      "Update status to: # Np HariBersamanya “ Road To Soundrenaline '' , South Parking Area Summarecon Digital Center Tangerang cc… https://t.co/hRbLZMeI9k , Terus kasih lagi gan ... , Lupa Lupa Lupa semen sepertinya Umm sepertinya sepertinya sepertinya sepertinya ,\n"
     ]
    }
   ],
   "source": [
    "    #Bener bener di posting\n",
    "    realpost = True\n",
    "\n",
    "    public_tweets = api.home_timeline()\n",
    "\n",
    "    for tweet in public_tweets:\n",
    "        print(tweet.text)\n",
    "        replyer(tweet)\n",
    "        #db_is_replied(tweet.id)\n",
    "        time.sleep(random.randint(100,350))"
   ]
  },
  {
   "cell_type": "markdown",
   "metadata": {},
   "source": [
    "## Kalau mau balas post orang"
   ]
  },
  {
   "cell_type": "code",
   "execution_count": 21,
   "metadata": {},
   "outputs": [],
   "source": [
    "def reply_post_user(username, postnum=0):\n",
    "    posts=api.user_timeline(id=username)\n",
    "    replyer(posts[postnum])"
   ]
  },
  {
   "cell_type": "code",
   "execution_count": null,
   "metadata": {},
   "outputs": [],
   "source": []
  },
  {
   "cell_type": "markdown",
   "metadata": {},
   "source": [
    "# PSEUDO CODE"
   ]
  },
  {
   "cell_type": "markdown",
   "metadata": {},
   "source": [
    "id = ambil_id_msg()\n",
    "check_msg_di_db()\n",
    "liat_user_msg()\n",
    "list_follower_usermsg()\n",
    "ambil_3_random_follower()\n",
    "ambil_random_jawaban()\n",
    "ambil_prediksi_twit_user()\n",
    "buat_msg()\n",
    "post_msg()\n",
    "catat_posting_di_db()\n",
    "follow_3_user()"
   ]
  },
  {
   "cell_type": "markdown",
   "metadata": {},
   "source": [
    "# SANDBOX"
   ]
  },
  {
   "cell_type": "code",
   "execution_count": null,
   "metadata": {},
   "outputs": [],
   "source": []
  },
  {
   "cell_type": "code",
   "execution_count": null,
   "metadata": {},
   "outputs": [],
   "source": []
  },
  {
   "cell_type": "markdown",
   "metadata": {},
   "source": [
    "# CLEAN UP  - Don't Forget"
   ]
  },
  {
   "cell_type": "code",
   "execution_count": 22,
   "metadata": {},
   "outputs": [],
   "source": [
    "#db.close()"
   ]
  },
  {
   "cell_type": "code",
   "execution_count": 43,
   "metadata": {},
   "outputs": [],
   "source": [
    "from data import *"
   ]
  },
  {
   "cell_type": "code",
   "execution_count": null,
   "metadata": {},
   "outputs": [],
   "source": []
  }
 ],
 "metadata": {
  "kernelspec": {
   "display_name": "Python 3",
   "language": "python",
   "name": "python3"
  },
  "language_info": {
   "codemirror_mode": {
    "name": "ipython",
    "version": 3
   },
   "file_extension": ".py",
   "mimetype": "text/x-python",
   "name": "python",
   "nbconvert_exporter": "python",
   "pygments_lexer": "ipython3",
   "version": "3.6.4"
  }
 },
 "nbformat": 4,
 "nbformat_minor": 2
}
