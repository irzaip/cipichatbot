{
 "cells": [
  {
   "cell_type": "code",
   "execution_count": 1,
   "metadata": {},
   "outputs": [],
   "source": [
    "import numpy as np\n",
    "import time\n",
    "import librosa\n",
    "import soundfile\n",
    "import sounddevice\n",
    "import itertools"
   ]
  },
  {
   "cell_type": "code",
   "execution_count": 4,
   "metadata": {},
   "outputs": [
    {
     "name": "stdout",
     "output_type": "stream",
     "text": [
      "Collecting sounddevice\n",
      "  Downloading sounddevice-0.4.2-py3-none-win_amd64.whl (195 kB)\n",
      "Requirement already satisfied: CFFI>=1.0 in c:\\anaconda3\\envs\\tf\\lib\\site-packages (from sounddevice) (1.14.5)\n",
      "Requirement already satisfied: pycparser in c:\\anaconda3\\envs\\tf\\lib\\site-packages (from CFFI>=1.0->sounddevice) (2.20)\n",
      "Installing collected packages: sounddevice\n",
      "Successfully installed sounddevice-0.4.2\n"
     ]
    }
   ],
   "source": [
    "!pip install sounddevice"
   ]
  },
  {
   "cell_type": "code",
   "execution_count": 2,
   "metadata": {},
   "outputs": [],
   "source": [
    "recording=False\n",
    "class listener:\n",
    "    \"\"\" \n",
    "    Merekam suara secara stream dan metode callback\n",
    "    \"\"\"\n",
    "    def __init__(self):\n",
    "        global cumulated_status, end_count, start_count, recording, magnitudo, audiodata\n",
    "        self.thres=0\n",
    "        self.startframe=5\n",
    "        self.endframe=40\n",
    "        self.start_count = 0\n",
    "        self.end_count=0\n",
    "        self.magnitudo=[]\n",
    "        self.audiodata=[]\n",
    "        self.high=2000\n",
    "        self.low=100\n",
    "        self.screenwidth=79\n",
    "        self.gain=10\n",
    "        self.DURATION=20\n",
    "        self.recording = False\n",
    "        self.samplerate = 16000.0\n",
    "        self.length=10\n",
    "    \n",
    "    \n",
    "    \n",
    "    def record(self, length=1, filename=None, thres=0):\n",
    "        global cumulated_status, end_count, start_count, recording, magnitudo, audiodata\n",
    "        \n",
    "        try:\n",
    "            import sounddevice as sd\n",
    "\n",
    "            #samplerate = sd.query_devices(args.device, 'input')['default_samplerate']\n",
    "            \n",
    "\n",
    "            self.delta_f = (self.high - self.low) / self.screenwidth\n",
    "            self.fftsize = np.ceil(self.samplerate / self.delta_f).astype(int)\n",
    "            self.low_bin = int(np.floor(self.low / self.delta_f))\n",
    "\n",
    "            cumulated_status = sd.CallbackFlags()\n",
    "\n",
    "            def callback(self, indata, frames, time):\n",
    "                global cumulated_status, audiodata, magnitudo, end_count, start_count, recording\n",
    "\n",
    "\n",
    "                #cumulated_status |= status\n",
    "                if any(indata):\n",
    "                    self.magnitude = np.abs(np.fft.rfft(self.indata[:, 0], n=fftsize))\n",
    "                    self.magnitude *= self.gain / self.fftsize\n",
    "\n",
    "                    self.rms = librosa.feature.rmse(S=indata)\n",
    "                    self.rms = int(self.rms*32768)\n",
    "                    self.start_count += 1\n",
    "\n",
    "                    if self.rms>=self.thres:\n",
    "                        self.end_count = 0\n",
    "                        if not self.recording and (self.start_count > self.startframe):\n",
    "                            self.recording = True\n",
    "                            self.start_count = 0\n",
    "                            print(\"X\",end='')\n",
    "                        else:\n",
    "                            print(\"x\",end='')\n",
    "                    else:\n",
    "                        if self.recording:\n",
    "                            self.end_count += 1\n",
    "                            print(\".\",end='')\n",
    "\n",
    "\n",
    "                    if self.recording and (self.end_count >= self.endframe):\n",
    "                        print(\"O\",end='')\n",
    "                        self.recording = False\n",
    "                        self.end_count=0\n",
    "                        self.start_count=0\n",
    "\n",
    "                    if self.recording:\n",
    "                        self.audiodata.extend(itertools.chain(indata.tolist()))\n",
    "                        self.magnitudo.append(magnitude)\n",
    "                    else:\n",
    "                        print(\"_\",end='')\n",
    "\n",
    "\n",
    "\n",
    "            with sd.InputStream(device=None, channels=1, callback=callback,\n",
    "                                blocksize=int(self.samplerate * self.DURATION / 1000),\n",
    "                                samplerate=self.samplerate):\n",
    "                while True:\n",
    "                    #response = input()\n",
    "                    #if response in ('', 'q', 'Q'):\n",
    "                    time.sleep(self.length)\n",
    "                    break\n",
    "\n",
    "                for i in range((self.endframe - 6) * int(self.samplerate * self.DURATION / 1000)):\n",
    "                    self.audiodata.pop()\n",
    "                if filename!=None: soundfile.write(filename,self.audiodata,16000)\n",
    "\n",
    "            if cumulated_status:\n",
    "                logging.warning(str(cumulated_status))\n",
    "        except Exception as e:\n",
    "            print(e)\n",
    "        "
   ]
  },
  {
   "cell_type": "code",
   "execution_count": 3,
   "metadata": {},
   "outputs": [],
   "source": [
    "a = listener()"
   ]
  },
  {
   "cell_type": "code",
   "execution_count": 5,
   "metadata": {
    "scrolled": false
   },
   "outputs": [
    {
     "name": "stderr",
     "output_type": "stream",
     "text": [
      "From cffi callback <function _StreamBase.__init__.<locals>.callback_ptr at 0x000001751DFEAC10>:\n",
      "Traceback (most recent call last):\n",
      "  File \"C:\\Anaconda3\\envs\\tf\\lib\\site-packages\\sounddevice.py\", line 840, in callback_ptr\n",
      "    return _wrap_callback(callback, data, frames, time, status)\n",
      "  File \"C:\\Anaconda3\\envs\\tf\\lib\\site-packages\\sounddevice.py\", line 2678, in _wrap_callback\n",
      "    callback(*args)\n",
      "  File \"<ipython-input-2-35a37b621f13>\", line 46, in callback\n",
      "TypeError: 'int' object is not iterable\n"
     ]
    },
    {
     "name": "stdout",
     "output_type": "stream",
     "text": [
      "pop from empty list\n"
     ]
    }
   ],
   "source": [
    "a.record(length=10,filename=\"temp.wav\",thres=1100)"
   ]
  },
  {
   "cell_type": "code",
   "execution_count": 1,
   "metadata": {},
   "outputs": [
    {
     "ename": "NameError",
     "evalue": "name 'audiodata' is not defined",
     "output_type": "error",
     "traceback": [
      "\u001b[1;31m---------------------------------------------------------------------------\u001b[0m",
      "\u001b[1;31mNameError\u001b[0m                                 Traceback (most recent call last)",
      "\u001b[1;32m<ipython-input-1-537128ff95a0>\u001b[0m in \u001b[0;36m<module>\u001b[1;34m\u001b[0m\n\u001b[1;32m----> 1\u001b[1;33m \u001b[0mlen\u001b[0m\u001b[1;33m(\u001b[0m\u001b[0maudiodata\u001b[0m\u001b[1;33m)\u001b[0m\u001b[1;33m\u001b[0m\u001b[1;33m\u001b[0m\u001b[0m\n\u001b[0m",
      "\u001b[1;31mNameError\u001b[0m: name 'audiodata' is not defined"
     ]
    }
   ],
   "source": [
    "len(audiodata)"
   ]
  },
  {
   "cell_type": "code",
   "execution_count": 304,
   "metadata": {},
   "outputs": [
    {
     "name": "stdout",
     "output_type": "stream",
     "text": [
      "(48640, 1)\n"
     ]
    },
    {
     "data": {
      "image/png": "[encoded data removed]",
      "text/plain": [
       "<matplotlib.figure.Figure at 0x1e857b326a0>"
      ]
     },
     "metadata": {},
     "output_type": "display_data"
    }
   ],
   "source": [
    "import matplotlib.pyplot as plt\n",
    "a= np.array(audiodata)\n",
    "plt.plot(a)\n",
    "print(a.shape)\n",
    "sounddevice.play(a, samplerate=16000)"
   ]
  },
  {
   "cell_type": "code",
   "execution_count": 255,
   "metadata": {},
   "outputs": [],
   "source": [
    "a = a.reshape(a.shape[0])"
   ]
  },
  {
   "cell_type": "code",
   "execution_count": 258,
   "metadata": {},
   "outputs": [
    {
     "data": {
      "text/plain": [
       "(20, 217)"
      ]
     },
     "execution_count": 258,
     "metadata": {},
     "output_type": "execute_result"
    }
   ],
   "source": []
  },
  {
   "cell_type": "code",
   "execution_count": null,
   "metadata": {},
   "outputs": [],
   "source": []
  }
 ],
 "metadata": {
  "kernelspec": {
   "display_name": "Python 3",
   "language": "python",
   "name": "python3"
  },
  "language_info": {
   "codemirror_mode": {
    "name": "ipython",
    "version": 3
   },
   "file_extension": ".py",
   "mimetype": "text/x-python",
   "name": "python",
   "nbconvert_exporter": "python",
   "pygments_lexer": "ipython3",
   "version": "3.8.8"
  }
 },
 "nbformat": 4,
 "nbformat_minor": 2
}
