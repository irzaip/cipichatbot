{
 "cells": [
  {
   "cell_type": "code",
   "execution_count": 11,
   "metadata": {},
   "outputs": [
    {
     "name": "stdout",
     "output_type": "stream",
     "text": [
      "Requirement already satisfied: librosa in c:\\anaconda3\\envs\\tensorflow\\lib\\site-packages\n",
      "Requirement already satisfied: numba>=0.38.0 in c:\\anaconda3\\envs\\tensorflow\\lib\\site-packages (from librosa)\n",
      "Requirement already satisfied: numpy>=1.8.0 in c:\\anaconda3\\envs\\tensorflow\\lib\\site-packages (from librosa)\n",
      "Requirement already satisfied: six>=1.3 in c:\\anaconda3\\envs\\tensorflow\\lib\\site-packages (from librosa)\n",
      "Requirement already satisfied: joblib>=0.7.0 in c:\\anaconda3\\envs\\tensorflow\\lib\\site-packages (from librosa)\n",
      "Requirement already satisfied: resampy>=0.2.0 in c:\\anaconda3\\envs\\tensorflow\\lib\\site-packages (from librosa)\n",
      "Requirement already satisfied: audioread>=2.0.0 in c:\\anaconda3\\envs\\tensorflow\\lib\\site-packages (from librosa)\n",
      "Requirement already satisfied: scipy>=0.14.0 in c:\\anaconda3\\envs\\tensorflow\\lib\\site-packages (from librosa)\n",
      "Requirement already satisfied: decorator>=3.0.0 in c:\\anaconda3\\envs\\tensorflow\\lib\\site-packages (from librosa)\n",
      "Requirement already satisfied: scikit-learn!=0.19.0,>=0.14.0 in c:\\anaconda3\\envs\\tensorflow\\lib\\site-packages (from librosa)\n",
      "Requirement already satisfied: llvmlite>=0.23.0dev0 in c:\\anaconda3\\envs\\tensorflow\\lib\\site-packages (from numba>=0.38.0->librosa)\n"
     ]
    },
    {
     "name": "stderr",
     "output_type": "stream",
     "text": [
      "You are using pip version 9.0.1, however version 10.0.1 is available.\n",
      "You should consider upgrading via the 'python -m pip install --upgrade pip' command.\n"
     ]
    },
    {
     "name": "stdout",
     "output_type": "stream",
     "text": [
      "Collecting soundfile\n",
      "  Downloading https://files.pythonhosted.org/packages/d7/72/1e80bc350b9a5e8f12fb0814a77d4f77f887382f076501fdaa89aa731b76/SoundFile-0.10.2-py2.py3.cp26.cp27.cp32.cp33.cp34.cp35.cp36.pp27.pp32.pp33-none-win_amd64.whl (692kB)\n",
      "Requirement already satisfied: cffi>=1.0 in c:\\anaconda3\\envs\\tensorflow\\lib\\site-packages (from soundfile)\n",
      "Requirement already satisfied: pycparser in c:\\anaconda3\\envs\\tensorflow\\lib\\site-packages (from cffi>=1.0->soundfile)\n",
      "Installing collected packages: soundfile\n",
      "Successfully installed soundfile-0.10.2\n"
     ]
    },
    {
     "name": "stderr",
     "output_type": "stream",
     "text": [
      "You are using pip version 9.0.1, however version 10.0.1 is available.\n",
      "You should consider upgrading via the 'python -m pip install --upgrade pip' command.\n"
     ]
    },
    {
     "name": "stdout",
     "output_type": "stream",
     "text": [
      "Collecting sounddevice\n",
      "  Downloading https://files.pythonhosted.org/packages/fb/ba/ea4a51515967f6aae3da5bec6e336966f7b018bf12bdc033bacb8cbb0445/sounddevice-0.3.11-py2.py3.cp26.cp27.cp32.cp33.cp34.cp35.cp36.cp37.pp27.pp32.pp33.pp34.pp35.pp36-none-win_amd64.whl (172kB)\n",
      "Requirement already satisfied: CFFI>=1.0 in c:\\anaconda3\\envs\\tensorflow\\lib\\site-packages (from sounddevice)\n",
      "Requirement already satisfied: pycparser in c:\\anaconda3\\envs\\tensorflow\\lib\\site-packages (from CFFI>=1.0->sounddevice)\n",
      "Installing collected packages: sounddevice\n",
      "Successfully installed sounddevice-0.3.11\n"
     ]
    },
    {
     "name": "stderr",
     "output_type": "stream",
     "text": [
      "You are using pip version 9.0.1, however version 10.0.1 is available.\n",
      "You should consider upgrading via the 'python -m pip install --upgrade pip' command.\n"
     ]
    }
   ],
   "source": [
    "!pip install librosa\n",
    "!pip install soundfile\n",
    "!pip install sounddevice"
   ]
  },
  {
   "cell_type": "code",
   "execution_count": 1,
   "metadata": {},
   "outputs": [],
   "source": [
    "#for removing future warnings\n",
    "import warnings\n",
    "warnings.filterwarnings('ignore')\n",
    "\n",
    "%matplotlib inline\n",
    "import matplotlib.pyplot as plt\n",
    "import tensorflow as tf\n",
    "import numpy as np\n",
    "import math\n",
    "import os\n",
    "import random\n",
    "from tensorflow.python.platform import gfile\n",
    "import librosa\n",
    "import librosa.display as ld\n",
    "from array import array\n",
    "import soundfile\n",
    "import sounddevice as sd"
   ]
  },
  {
   "cell_type": "markdown",
   "metadata": {},
   "source": [
    "Import Keras seperti ini"
   ]
  },
  {
   "cell_type": "code",
   "execution_count": 2,
   "metadata": {},
   "outputs": [],
   "source": [
    "# from tf.keras.models import Sequential  # Tidak bisa!\n",
    "from tensorflow.python.keras.models import Sequential\n",
    "from tensorflow.python.keras.layers import InputLayer, Input\n",
    "from tensorflow.python.keras.layers import Reshape, MaxPooling2D, MaxPooling1D\n",
    "from tensorflow.python.keras.layers import Conv2D, Dense, Flatten\n",
    "from tensorflow.python.keras.layers import Embedding, LSTM"
   ]
  },
  {
   "cell_type": "code",
   "execution_count": 3,
   "metadata": {},
   "outputs": [
    {
     "name": "stdout",
     "output_type": "stream",
     "text": [
      "1.6.0\n",
      "2.1.3-tf\n"
     ]
    }
   ],
   "source": [
    "print(tf.__version__)\n",
    "print(tf.keras.__version__)"
   ]
  },
  {
   "cell_type": "markdown",
   "metadata": {},
   "source": [
    "# KONSTANTA & VARIABEL"
   ]
  },
  {
   "cell_type": "code",
   "execution_count": 4,
   "metadata": {},
   "outputs": [],
   "source": [
    "DEBUG = False\n",
    "PATH_TRAIN = os.getcwd()+'/word/train'\n",
    "PATH_TEST = os.getcwd()+'/word/test'\n",
    "LOGDIR = 'log/'\n",
    "TEST_LOGDIR = 'log_test/'\n",
    "LABEL_TO_INDEX_MAP = {}\n",
    "WIDTH = 1025\n",
    "HEIGHT = 1\n",
    "NUM_LABELS = 0\n",
    "BATCHRUN = 500\n",
    "EPOCHS = 5\n",
    "msframe = 320 #jumlah frame yang mau dianalisa\n",
    "sequence = 5 #jumlah deret yang di ambil\n",
    "DURATION = 80\n",
    "gain=10\n",
    "high=2000\n",
    "low=100"
   ]
  },
  {
   "cell_type": "code",
   "execution_count": 5,
   "metadata": {},
   "outputs": [],
   "source": [
    "def init(path):\n",
    "    labels = os.listdir(path)\n",
    "    index = 0\n",
    "    for label in labels:\n",
    "        LABEL_TO_INDEX_MAP[label] = index\n",
    "        index += 1\n",
    "        \n",
    "    global NUM_LABELS\n",
    "    NUM_LABELS = len(LABEL_TO_INDEX_MAP)\n",
    "    print(LABEL_TO_INDEX_MAP)\n",
    "\n",
    "def one_hot_encoding(label):\n",
    "    encoding = [0] * len(LABEL_TO_INDEX_MAP)\n",
    "    encoding[LABEL_TO_INDEX_MAP[label]] = 1\n",
    "    return encoding\n",
    "\n",
    "def get_batch(batch_size, path):\n",
    "    X = []\n",
    "    Y = []\n",
    "    random.seed(5896)\n",
    "    path = os.path.join(path,'*', '*.wav')\n",
    "    waves = gfile.Glob(path)\n",
    "    while True:\n",
    "        random.shuffle(waves)\n",
    "        for wave_path in waves:\n",
    "            _,label = os.path.split(os.path.dirname(wave_path))\n",
    "            X.append(get_spec(wave_path))\n",
    "            Y.append(one_hot_encoding(label))\n",
    "\n",
    "            if (len(X) == batch_size):\n",
    "                yield X, Y\n",
    "                X = []\n",
    "                Y = []\n",
    "\n",
    "def zerolistmaker(n):\n",
    "    \"\"\"Membuat list berisi 0, mirip seperti np.zeros\"\"\"\n",
    "    listofzeros = [0] * n\n",
    "    return listofzeros\n",
    "\n",
    "def get_spec(wave_path, PAD_WIDTH=WIDTH):\n",
    "    mg=[]\n",
    "    wv, sr = soundfile.read(wave_path)\n",
    "    delta_f = (high - low) / 79       #(80 - 1)\n",
    "    fftsize = np.ceil(sr / delta_f).astype(int)\n",
    "    low_bin = int(np.floor(low / delta_f))\n",
    "\n",
    "    \n",
    "    #print(wave_path)\n",
    "    blocksize = int(sr * DURATION / 1000)\n",
    "    #print('block:',blocksize)\n",
    "    for i in range(0,len(wv),blocksize):\n",
    "        magnitude = np.abs(np.fft.rfft(wv[i:i+blocksize], n=fftsize))\n",
    "        magnitude *= gain / fftsize\n",
    "        mg.append(magnitude.tolist())\n",
    "    for i in range(0,75-len(mg)):\n",
    "        mg.append(zerolistmaker(334))\n",
    "    mg.reverse()\n",
    "    return np.array(mg)"
   ]
  },
  {
   "cell_type": "markdown",
   "metadata": {},
   "source": [
    "### Untuk memeriksa"
   ]
  },
  {
   "cell_type": "markdown",
   "metadata": {},
   "source": [
    "# Keras Model"
   ]
  },
  {
   "cell_type": "code",
   "execution_count": 6,
   "metadata": {},
   "outputs": [],
   "source": [
    "import glob\n",
    "fil = glob.glob(\"./word/train/*/*.wav\")"
   ]
  },
  {
   "cell_type": "code",
   "execution_count": 7,
   "metadata": {},
   "outputs": [
    {
     "name": "stdout",
     "output_type": "stream",
     "text": [
      "{'bangun': 0, 'cipi': 1}\n"
     ]
    }
   ],
   "source": [
    "init(PATH_TRAIN)"
   ]
  },
  {
   "cell_type": "code",
   "execution_count": 8,
   "metadata": {},
   "outputs": [
    {
     "name": "stdout",
     "output_type": "stream",
     "text": [
      "(88, 75, 334)\n",
      "(88, 2)\n"
     ]
    }
   ],
   "source": [
    "train_x = []\n",
    "train_y = []\n",
    "for i in fil:\n",
    "    a = np.array(get_spec(i))\n",
    "    #b = np.zeros((75,334))\n",
    "    #masukkan matrix a ke dalam b(zeros)\n",
    "    #b[:a.shape[0],:a.shape[1]] = a\n",
    "    train_x.append(a)\n",
    "    train_y.append(one_hot_encoding(i.split(\"\\\\\")[-2]))\n",
    "\n",
    "train_x=np.array(train_x)\n",
    "train_y=np.array(train_y)\n",
    "print(train_x.shape)\n",
    "print(train_y.shape)"
   ]
  },
  {
   "cell_type": "code",
   "execution_count": null,
   "metadata": {},
   "outputs": [],
   "source": []
  },
  {
   "cell_type": "code",
   "execution_count": 16,
   "metadata": {},
   "outputs": [],
   "source": [
    "model = Sequential()\n",
    "#model3.add(Embedding(20000,128))\n",
    "\n",
    "model.add(LSTM(500,dropout=0.2,recurrent_dropout=0.2,input_shape=(75,334),return_sequences=True,activation='sigmoid'))\n",
    "#model.add(LSTM(1334,dropout=0.2,recurrent_dropout=0.2,input_shape=(75,334),return_sequences=True,activation='sigmoid'))\n",
    "#model.add(LSTM(1334,dropout=0.2,recurrent_dropout=0.2,input_shape=(75,334),return_sequences=True,activation='sigmoid'))\n",
    "#model.add(LSTM(1334,dropout=0.2,recurrent_dropout=0.2,input_shape=(75,334),return_sequences=True,activation='sigmoid'))\n",
    "model.add(LSTM(500,dropout=0.2,recurrent_dropout=0.2,input_shape=(75,334),return_sequences=False,activation='sigmoid'))\n",
    "#model.add(LSTM(128,dropout=0.2,recurrent_dropout=0.2,input_shape=(None,334),return_sequences=True))\n",
    "#model.add(LSTM(128,dropout=0.2,recurrent_dropout=0.2,input_shape=(None,334),return_sequences=True))\n",
    "#model.add(LSTM(128,dropout=0.2,recurrent_dropout=0.2,input_shape=(None,334),return_sequences=False))\n",
    "model.add(Dense(128,activation=\"sigmoid\"))\n",
    "model.add(Dense(2,activation='softmax'))\n",
    "model.compile(loss='categorical_crossentropy', optimizer='adam', metrics=['accuracy'])"
   ]
  },
  {
   "cell_type": "code",
   "execution_count": 17,
   "metadata": {},
   "outputs": [
    {
     "name": "stdout",
     "output_type": "stream",
     "text": [
      "_________________________________________________________________\n",
      "Layer (type)                 Output Shape              Param #   \n",
      "=================================================================\n",
      "lstm_8 (LSTM)                (None, None, 500)         1670000   \n",
      "_________________________________________________________________\n",
      "lstm_9 (LSTM)                (None, 500)               2002000   \n",
      "_________________________________________________________________\n",
      "dense_7 (Dense)              (None, 128)               64128     \n",
      "_________________________________________________________________\n",
      "dense_8 (Dense)              (None, 2)                 258       \n",
      "=================================================================\n",
      "Total params: 3,736,386\n",
      "Trainable params: 3,736,386\n",
      "Non-trainable params: 0\n",
      "_________________________________________________________________\n"
     ]
    }
   ],
   "source": [
    "model.summary()"
   ]
  },
  {
   "cell_type": "code",
   "execution_count": 18,
   "metadata": {},
   "outputs": [],
   "source": [
    "from tensorflow.python.keras.optimizers import Adam\n",
    "optimizer = Adam(lr=1e-4)"
   ]
  },
  {
   "cell_type": "markdown",
   "metadata": {},
   "source": [
    "# Training"
   ]
  },
  {
   "cell_type": "markdown",
   "metadata": {
    "scrolled": true
   },
   "source": [
    "init(PATH_TRAIN)\n",
    "batch = get_batch(BATCHRUN,PATH_TRAIN)\n",
    "X, Y = next(batch)\n",
    "\n",
    "x_train=[]\n",
    "y_train=[]\n",
    "\n",
    "for i in range(len(X)):\n",
    "    ds=[]\n",
    "    for ll in range(len(X[i])-sequence):\n",
    "        ds = X[i][ll:ll+sequence]\n",
    "        x_train.append(np.array(ds))\n",
    "        y_train.append(Y[i])\n",
    "\n",
    "print(np.array(x_train).shape)\n",
    "print(np.array(y_train).shape)"
   ]
  },
  {
   "cell_type": "markdown",
   "metadata": {},
   "source": [
    "init(PATH_TRAIN)\n",
    "batch = get_batch(BATCHRUN,PATH_TRAIN)\n",
    "X, Y = next(batch)\n"
   ]
  },
  {
   "cell_type": "code",
   "execution_count": 19,
   "metadata": {},
   "outputs": [
    {
     "name": "stdout",
     "output_type": "stream",
     "text": [
      "Epoch 1/150\n",
      "88/88 [==============================]88/88 [==============================] - 4s 50ms/step - loss: 0.6205 - acc: 0.7500\n",
      "\n",
      "Epoch 2/150\n",
      "88/88 [==============================]88/88 [==============================] - 3s 37ms/step - loss: 0.5784 - acc: 0.7500\n",
      "\n",
      "Epoch 3/150\n",
      "88/88 [==============================]88/88 [==============================] - 3s 37ms/step - loss: 0.5725 - acc: 0.7500\n",
      "\n",
      "Epoch 4/150\n",
      "88/88 [==============================]88/88 [==============================] - 3s 38ms/step - loss: 0.5650 - acc: 0.7500\n",
      "\n",
      "Epoch 5/150\n",
      "88/88 [==============================]88/88 [==============================] - 3s 38ms/step - loss: 0.5758 - acc: 0.7500\n",
      "\n",
      "Epoch 6/150\n",
      "88/88 [==============================]88/88 [==============================] - 3s 38ms/step - loss: 0.5711 - acc: 0.7500\n",
      "\n",
      "Epoch 7/150\n",
      "88/88 [==============================]88/88 [==============================] - 3s 37ms/step - loss: 0.5757 - acc: 0.7500\n",
      "\n",
      "Epoch 8/150\n",
      "88/88 [==============================]88/88 [==============================] - 3s 37ms/step - loss: 0.5620 - acc: 0.7500\n",
      "\n",
      "Epoch 9/150\n",
      "88/88 [==============================]88/88 [==============================] - 3s 37ms/step - loss: 0.5633 - acc: 0.7500\n",
      "\n",
      "Epoch 10/150\n",
      "88/88 [==============================]88/88 [==============================] - 3s 37ms/step - loss: 0.5654 - acc: 0.7500\n",
      "\n",
      "Epoch 11/150\n",
      "88/88 [==============================]88/88 [==============================] - 3s 37ms/step - loss: 0.5647 - acc: 0.7500\n",
      "\n",
      "Epoch 12/150\n",
      "88/88 [==============================]88/88 [==============================] - 3s 38ms/step - loss: 0.5634 - acc: 0.7500\n",
      "\n",
      "Epoch 13/150\n",
      "88/88 [==============================]88/88 [==============================] - 3s 37ms/step - loss: 0.5649 - acc: 0.7500\n",
      "\n",
      "Epoch 14/150\n",
      "88/88 [==============================]88/88 [==============================] - 3s 37ms/step - loss: 0.5648 - acc: 0.7500\n",
      "\n",
      "Epoch 15/150\n",
      "88/88 [==============================]88/88 [==============================] - 3s 36ms/step - loss: 0.5630 - acc: 0.7500\n",
      "\n",
      "Epoch 16/150\n",
      "88/88 [==============================]88/88 [==============================] - 3s 38ms/step - loss: 0.5649 - acc: 0.7500\n",
      "\n",
      "Epoch 17/150\n",
      "88/88 [==============================]88/88 [==============================] - 3s 37ms/step - loss: 0.5627 - acc: 0.7500\n",
      "\n",
      "Epoch 18/150\n",
      "88/88 [==============================]88/88 [==============================] - 3s 39ms/step - loss: 0.5693 - acc: 0.7500\n",
      "\n",
      "Epoch 19/150\n",
      "88/88 [==============================]88/88 [==============================] - 3s 39ms/step - loss: 0.5639 - acc: 0.7500\n",
      "\n",
      "Epoch 20/150\n",
      "88/88 [==============================]88/88 [==============================] - 3s 40ms/step - loss: 0.5613 - acc: 0.7500\n",
      "\n",
      "Epoch 21/150\n",
      "88/88 [==============================]88/88 [==============================] - 3s 37ms/step - loss: 0.5667 - acc: 0.7500\n",
      "\n",
      "Epoch 22/150\n",
      "88/88 [==============================]88/88 [==============================] - 3s 38ms/step - loss: 0.5672 - acc: 0.7500\n",
      "\n",
      "Epoch 23/150\n",
      "88/88 [==============================]88/88 [==============================] - 3s 36ms/step - loss: 0.5646 - acc: 0.7500\n",
      "\n",
      "Epoch 24/150\n",
      "88/88 [==============================]88/88 [==============================] - 3s 36ms/step - loss: 0.5640 - acc: 0.7500\n",
      "\n",
      "Epoch 25/150\n",
      "88/88 [==============================]88/88 [==============================] - 3s 35ms/step - loss: 0.5652 - acc: 0.7500\n",
      "\n",
      "Epoch 26/150\n",
      "88/88 [==============================]88/88 [==============================] - 3s 37ms/step - loss: 0.5657 - acc: 0.7500\n",
      "\n",
      "Epoch 27/150\n",
      "88/88 [==============================]88/88 [==============================] - 3s 37ms/step - loss: 0.5631 - acc: 0.7500\n",
      "\n",
      "Epoch 28/150\n",
      "88/88 [==============================]88/88 [==============================] - 3s 36ms/step - loss: 0.5632 - acc: 0.7500\n",
      "\n",
      "Epoch 29/150\n",
      "88/88 [==============================]88/88 [==============================] - 3s 37ms/step - loss: 0.5634 - acc: 0.7500\n",
      "\n",
      "Epoch 30/150\n",
      "88/88 [==============================]88/88 [==============================] - 3s 37ms/step - loss: 0.5617 - acc: 0.7500\n",
      "\n",
      "Epoch 31/150\n",
      "88/88 [==============================]88/88 [==============================] - 3s 37ms/step - loss: 0.5669 - acc: 0.7500\n",
      "\n",
      "Epoch 32/150\n",
      "88/88 [==============================]88/88 [==============================] - 3s 37ms/step - loss: 0.5638 - acc: 0.7500\n",
      "\n",
      "Epoch 33/150\n",
      "88/88 [==============================]88/88 [==============================] - 3s 36ms/step - loss: 0.5621 - acc: 0.7500\n",
      "\n",
      "Epoch 34/150\n",
      "88/88 [==============================]88/88 [==============================] - 3s 36ms/step - loss: 0.5654 - acc: 0.7500\n",
      "\n",
      "Epoch 35/150\n",
      "88/88 [==============================]88/88 [==============================] - 3s 36ms/step - loss: 0.5652 - acc: 0.7500\n",
      "\n",
      "Epoch 36/150\n",
      "88/88 [==============================]88/88 [==============================] - 3s 36ms/step - loss: 0.5671 - acc: 0.7500\n",
      "\n",
      "Epoch 37/150\n",
      "88/88 [==============================]88/88 [==============================] - 3s 38ms/step - loss: 0.5636 - acc: 0.7500\n",
      "\n",
      "Epoch 38/150\n",
      "88/88 [==============================]88/88 [==============================] - 3s 37ms/step - loss: 0.5613 - acc: 0.7500\n",
      "\n",
      "Epoch 39/150\n",
      "88/88 [==============================]88/88 [==============================] - 3s 38ms/step - loss: 0.5630 - acc: 0.7500\n",
      "\n",
      "Epoch 40/150\n",
      "88/88 [==============================]88/88 [==============================] - 3s 37ms/step - loss: 0.5622 - acc: 0.7500\n",
      "\n",
      "Epoch 41/150\n",
      "88/88 [==============================]88/88 [==============================] - 3s 38ms/step - loss: 0.5626 - acc: 0.7500\n",
      "\n",
      "Epoch 42/150\n",
      "88/88 [==============================]88/88 [==============================] - 3s 38ms/step - loss: 0.5642 - acc: 0.7500\n",
      "\n",
      "Epoch 43/150\n",
      "88/88 [==============================]88/88 [==============================] - 3s 38ms/step - loss: 0.5652 - acc: 0.7500\n",
      "\n",
      "Epoch 44/150\n",
      "88/88 [==============================]88/88 [==============================] - 3s 38ms/step - loss: 0.5658 - acc: 0.7500\n",
      "\n",
      "Epoch 45/150\n",
      "88/88 [==============================]88/88 [==============================] - 3s 39ms/step - loss: 0.5638 - acc: 0.7500\n",
      "\n",
      "Epoch 46/150\n",
      "88/88 [==============================]88/88 [==============================] - 3s 38ms/step - loss: 0.5616 - acc: 0.7500\n",
      "\n",
      "Epoch 47/150\n",
      "88/88 [==============================]88/88 [==============================] - 3s 37ms/step - loss: 0.5632 - acc: 0.7500\n",
      "\n",
      "Epoch 48/150\n",
      "88/88 [==============================]88/88 [==============================] - 3s 38ms/step - loss: 0.5622 - acc: 0.7500\n",
      "\n",
      "Epoch 49/150\n",
      "88/88 [==============================]88/88 [==============================] - 3s 38ms/step - loss: 0.5644 - acc: 0.7500\n",
      "\n",
      "Epoch 50/150\n",
      "88/88 [==============================]88/88 [==============================] - 3s 39ms/step - loss: 0.5628 - acc: 0.7500\n",
      "\n",
      "Epoch 51/150\n",
      "88/88 [==============================]88/88 [==============================] - 3s 39ms/step - loss: 0.5649 - acc: 0.7500\n",
      "\n",
      "Epoch 52/150\n",
      "88/88 [==============================]88/88 [==============================] - 3s 38ms/step - loss: 0.5681 - acc: 0.7500\n",
      "\n",
      "Epoch 53/150\n",
      "88/88 [==============================]88/88 [==============================] - 3s 38ms/step - loss: 0.5682 - acc: 0.7500\n",
      "\n",
      "Epoch 54/150\n",
      "88/88 [==============================]88/88 [==============================] - 3s 39ms/step - loss: 0.5692 - acc: 0.7500\n",
      "\n",
      "Epoch 55/150\n",
      "88/88 [==============================]88/88 [==============================] - 3s 40ms/step - loss: 0.5682 - acc: 0.7500\n",
      "\n",
      "Epoch 56/150\n",
      "88/88 [==============================]88/88 [==============================] - 3s 39ms/step - loss: 0.5696 - acc: 0.7500\n",
      "\n",
      "Epoch 57/150\n",
      "88/88 [==============================]88/88 [==============================] - 3s 39ms/step - loss: 0.5662 - acc: 0.7500\n",
      "\n",
      "Epoch 58/150\n",
      "88/88 [==============================]88/88 [==============================] - 3s 37ms/step - loss: 0.5656 - acc: 0.7500\n",
      "\n",
      "Epoch 59/150\n",
      "88/88 [==============================]88/88 [==============================] - 3s 37ms/step - loss: 0.5659 - acc: 0.7500\n",
      "\n",
      "Epoch 60/150\n",
      "88/88 [==============================]88/88 [==============================] - 3s 37ms/step - loss: 0.5682 - acc: 0.7500\n",
      "\n",
      "Epoch 61/150\n"
     ]
    },
    {
     "name": "stdout",
     "output_type": "stream",
     "text": [
      "88/88 [==============================]88/88 [==============================] - 3s 37ms/step - loss: 0.5687 - acc: 0.7500\n",
      "\n",
      "Epoch 62/150\n",
      "88/88 [==============================]88/88 [==============================] - 4s 40ms/step - loss: 0.5625 - acc: 0.7500\n",
      "\n",
      "Epoch 63/150\n",
      "88/88 [==============================]88/88 [==============================] - 3s 38ms/step - loss: 0.5651 - acc: 0.7500\n",
      "\n",
      "Epoch 64/150\n",
      "88/88 [==============================]88/88 [==============================] - 3s 38ms/step - loss: 0.5619 - acc: 0.7500\n",
      "\n",
      "Epoch 65/150\n",
      "88/88 [==============================]88/88 [==============================] - 3s 38ms/step - loss: 0.5625 - acc: 0.7500\n",
      "\n",
      "Epoch 66/150\n",
      "88/88 [==============================]88/88 [==============================] - 3s 38ms/step - loss: 0.5772 - acc: 0.7500\n",
      "\n",
      "Epoch 67/150\n",
      "88/88 [==============================]88/88 [==============================] - 3s 38ms/step - loss: 0.5647 - acc: 0.7500\n",
      "\n",
      "Epoch 68/150\n",
      "88/88 [==============================]88/88 [==============================] - 3s 40ms/step - loss: 0.5650 - acc: 0.7500\n",
      "\n",
      "Epoch 69/150\n",
      "88/88 [==============================]88/88 [==============================] - 3s 38ms/step - loss: 0.5635 - acc: 0.7500\n",
      "\n",
      "Epoch 70/150\n",
      "88/88 [==============================]88/88 [==============================] - 4s 40ms/step - loss: 0.5612 - acc: 0.7500\n",
      "\n",
      "Epoch 71/150\n",
      "88/88 [==============================]88/88 [==============================] - 3s 37ms/step - loss: 0.5615 - acc: 0.7500\n",
      "\n",
      "Epoch 72/150\n",
      "88/88 [==============================]88/88 [==============================] - 3s 37ms/step - loss: 0.5620 - acc: 0.7500\n",
      "\n",
      "Epoch 73/150\n",
      "88/88 [==============================]88/88 [==============================] - 3s 37ms/step - loss: 0.5622 - acc: 0.7500\n",
      "\n",
      "Epoch 74/150\n",
      "88/88 [==============================]88/88 [==============================] - 3s 37ms/step - loss: 0.5634 - acc: 0.7500\n",
      "\n",
      "Epoch 75/150\n",
      "88/88 [==============================]88/88 [==============================] - 3s 37ms/step - loss: 0.5606 - acc: 0.7500\n",
      "\n",
      "Epoch 76/150\n",
      "88/88 [==============================]88/88 [==============================] - 3s 36ms/step - loss: 0.5656 - acc: 0.7500\n",
      "\n",
      "Epoch 77/150\n",
      "88/88 [==============================]88/88 [==============================] - 3s 37ms/step - loss: 0.5665 - acc: 0.7500\n",
      "\n",
      "Epoch 78/150\n",
      "88/88 [==============================]88/88 [==============================] - 3s 37ms/step - loss: 0.5599 - acc: 0.7500\n",
      "\n",
      "Epoch 79/150\n",
      "88/88 [==============================]88/88 [==============================] - 3s 38ms/step - loss: 0.5642 - acc: 0.7500\n",
      "\n",
      "Epoch 80/150\n",
      "88/88 [==============================]88/88 [==============================] - 3s 38ms/step - loss: 0.5647 - acc: 0.7500\n",
      "\n",
      "Epoch 81/150\n",
      "88/88 [==============================]88/88 [==============================] - 3s 38ms/step - loss: 0.5655 - acc: 0.7500\n",
      "\n",
      "Epoch 82/150\n",
      "88/88 [==============================]88/88 [==============================] - 3s 38ms/step - loss: 0.5614 - acc: 0.7500\n",
      "\n",
      "Epoch 83/150\n",
      "88/88 [==============================]88/88 [==============================] - 3s 37ms/step - loss: 0.5659 - acc: 0.7500\n",
      "\n",
      "Epoch 84/150\n",
      "88/88 [==============================]88/88 [==============================] - 3s 36ms/step - loss: 0.5659 - acc: 0.7500\n",
      "\n",
      "Epoch 85/150\n",
      "88/88 [==============================]88/88 [==============================] - 3s 38ms/step - loss: 0.5652 - acc: 0.7500\n",
      "\n",
      "Epoch 86/150\n",
      "88/88 [==============================]88/88 [==============================] - 3s 39ms/step - loss: 0.5668 - acc: 0.7500\n",
      "\n",
      "Epoch 87/150\n",
      "88/88 [==============================]88/88 [==============================] - 3s 39ms/step - loss: 0.5673 - acc: 0.7500\n",
      "\n",
      "Epoch 88/150\n",
      "88/88 [==============================]88/88 [==============================] - 3s 39ms/step - loss: 0.5601 - acc: 0.7500\n",
      "\n",
      "Epoch 89/150\n",
      "88/88 [==============================]88/88 [==============================] - 3s 39ms/step - loss: 0.5627 - acc: 0.7500\n",
      "\n",
      "Epoch 90/150\n",
      "88/88 [==============================]88/88 [==============================] - 3s 37ms/step - loss: 0.5616 - acc: 0.7500\n",
      "\n",
      "Epoch 91/150\n",
      "88/88 [==============================]88/88 [==============================] - 3s 36ms/step - loss: 0.5631 - acc: 0.7500\n",
      "\n",
      "Epoch 92/150\n",
      "88/88 [==============================]88/88 [==============================] - 3s 37ms/step - loss: 0.5642 - acc: 0.7500\n",
      "\n",
      "Epoch 93/150\n",
      "88/88 [==============================]88/88 [==============================] - 4s 40ms/step - loss: 0.5661 - acc: 0.7500\n",
      "\n",
      "Epoch 94/150\n",
      "88/88 [==============================]88/88 [==============================] - 3s 39ms/step - loss: 0.5572 - acc: 0.7500\n",
      "\n",
      "Epoch 95/150\n",
      "88/88 [==============================]88/88 [==============================] - 3s 37ms/step - loss: 0.5645 - acc: 0.7500\n",
      "\n",
      "Epoch 96/150\n",
      "88/88 [==============================]88/88 [==============================] - 3s 40ms/step - loss: 0.5670 - acc: 0.7500\n",
      "\n",
      "Epoch 97/150\n",
      "88/88 [==============================]88/88 [==============================] - 3s 40ms/step - loss: 0.5602 - acc: 0.7500\n",
      "\n",
      "Epoch 98/150\n",
      "88/88 [==============================]88/88 [==============================] - 3s 39ms/step - loss: 0.5610 - acc: 0.7500\n",
      "\n",
      "Epoch 99/150\n",
      "88/88 [==============================]88/88 [==============================] - 3s 39ms/step - loss: 0.5624 - acc: 0.7500\n",
      "\n",
      "Epoch 100/150\n",
      "88/88 [==============================]88/88 [==============================] - 3s 36ms/step - loss: 0.5637 - acc: 0.7500\n",
      "\n",
      "Epoch 101/150\n",
      "88/88 [==============================]88/88 [==============================] - 3s 37ms/step - loss: 0.5682 - acc: 0.7500\n",
      "\n",
      "Epoch 102/150\n",
      "88/88 [==============================]88/88 [==============================] - 3s 36ms/step - loss: 0.5586 - acc: 0.7500\n",
      "\n",
      "Epoch 103/150\n",
      "88/88 [==============================]88/88 [==============================] - 3s 37ms/step - loss: 0.5638 - acc: 0.7500\n",
      "\n",
      "Epoch 104/150\n",
      "88/88 [==============================]88/88 [==============================] - 3s 38ms/step - loss: 0.5644 - acc: 0.7500\n",
      "\n",
      "Epoch 105/150\n",
      "88/88 [==============================]88/88 [==============================] - 3s 38ms/step - loss: 0.5593 - acc: 0.7500\n",
      "\n",
      "Epoch 106/150\n",
      "88/88 [==============================]88/88 [==============================] - 3s 38ms/step - loss: 0.5731 - acc: 0.7500\n",
      "\n",
      "Epoch 107/150\n",
      "88/88 [==============================]88/88 [==============================] - 3s 37ms/step - loss: 0.5618 - acc: 0.7500\n",
      "\n",
      "Epoch 108/150\n",
      "88/88 [==============================]88/88 [==============================] - 3s 37ms/step - loss: 0.5667 - acc: 0.7500\n",
      "\n",
      "Epoch 109/150\n",
      "88/88 [==============================]88/88 [==============================] - 3s 36ms/step - loss: 0.5639 - acc: 0.7500\n",
      "\n",
      "Epoch 110/150\n",
      "88/88 [==============================]88/88 [==============================] - 3s 37ms/step - loss: 0.5608 - acc: 0.7500\n",
      "\n",
      "Epoch 111/150\n",
      "88/88 [==============================]88/88 [==============================] - 3s 37ms/step - loss: 0.5623 - acc: 0.7500\n",
      "\n",
      "Epoch 112/150\n",
      "88/88 [==============================]88/88 [==============================] - 3s 37ms/step - loss: 0.5610 - acc: 0.7500\n",
      "\n",
      "Epoch 113/150\n",
      "88/88 [==============================]88/88 [==============================] - 3s 37ms/step - loss: 0.5671 - acc: 0.7500\n",
      "\n",
      "Epoch 114/150\n",
      "88/88 [==============================]88/88 [==============================] - 3s 38ms/step - loss: 0.5619 - acc: 0.7500\n",
      "\n",
      "Epoch 115/150\n",
      "88/88 [==============================]88/88 [==============================] - 3s 37ms/step - loss: 0.5622 - acc: 0.7500\n",
      "\n",
      "Epoch 116/150\n",
      "88/88 [==============================]88/88 [==============================] - 3s 37ms/step - loss: 0.5561 - acc: 0.7500\n",
      "\n",
      "Epoch 117/150\n",
      "88/88 [==============================]88/88 [==============================] - 3s 37ms/step - loss: 0.5638 - acc: 0.7500\n",
      "\n",
      "Epoch 118/150\n",
      "88/88 [==============================]88/88 [==============================] - 3s 37ms/step - loss: 0.5631 - acc: 0.7500\n",
      "\n",
      "Epoch 119/150\n",
      "88/88 [==============================]88/88 [==============================] - 3s 37ms/step - loss: 0.5562 - acc: 0.7500\n",
      "\n",
      "Epoch 120/150\n",
      "88/88 [==============================]88/88 [==============================] - 3s 37ms/step - loss: 0.5684 - acc: 0.7500\n",
      "\n",
      "Epoch 121/150\n"
     ]
    },
    {
     "name": "stdout",
     "output_type": "stream",
     "text": [
      "88/88 [==============================]88/88 [==============================] - 3s 37ms/step - loss: 0.5530 - acc: 0.7500\n",
      "\n",
      "Epoch 122/150\n",
      "88/88 [==============================]88/88 [==============================] - 4s 40ms/step - loss: 0.5573 - acc: 0.7500\n",
      "\n",
      "Epoch 123/150\n",
      "88/88 [==============================]88/88 [==============================] - 3s 38ms/step - loss: 0.5618 - acc: 0.7500\n",
      "\n",
      "Epoch 124/150\n",
      "88/88 [==============================]88/88 [==============================] - 3s 38ms/step - loss: 0.5570 - acc: 0.7500\n",
      "\n",
      "Epoch 125/150\n",
      "88/88 [==============================]88/88 [==============================] - 3s 39ms/step - loss: 0.5491 - acc: 0.7500\n",
      "\n",
      "Epoch 126/150\n",
      "88/88 [==============================]88/88 [==============================] - 3s 38ms/step - loss: 0.5542 - acc: 0.7500\n",
      "\n",
      "Epoch 127/150\n",
      "88/88 [==============================]88/88 [==============================] - 3s 38ms/step - loss: 0.5468 - acc: 0.7500\n",
      "\n",
      "Epoch 128/150\n",
      "88/88 [==============================]88/88 [==============================] - 3s 37ms/step - loss: 0.5524 - acc: 0.7500\n",
      "\n",
      "Epoch 129/150\n",
      "88/88 [==============================]88/88 [==============================] - 3s 38ms/step - loss: 0.5505 - acc: 0.7500\n",
      "\n",
      "Epoch 130/150\n",
      "88/88 [==============================]88/88 [==============================] - 3s 38ms/step - loss: 0.5361 - acc: 0.7500\n",
      "\n",
      "Epoch 131/150\n",
      "88/88 [==============================]88/88 [==============================] - 3s 39ms/step - loss: 0.5879 - acc: 0.7273\n",
      "\n",
      "Epoch 132/150\n",
      "88/88 [==============================]88/88 [==============================] - 3s 39ms/step - loss: 0.5493 - acc: 0.7500\n",
      "\n",
      "Epoch 133/150\n",
      "88/88 [==============================]88/88 [==============================] - 3s 38ms/step - loss: 0.5773 - acc: 0.7500\n",
      "\n",
      "Epoch 134/150\n",
      "88/88 [==============================]88/88 [==============================] - 3s 37ms/step - loss: 0.5493 - acc: 0.7500\n",
      "\n",
      "Epoch 135/150\n",
      "88/88 [==============================]88/88 [==============================] - 3s 38ms/step - loss: 0.5345 - acc: 0.7500\n",
      "\n",
      "Epoch 136/150\n",
      "88/88 [==============================]88/88 [==============================] - 3s 37ms/step - loss: 0.5355 - acc: 0.7500\n",
      "\n",
      "Epoch 137/150\n",
      "88/88 [==============================]88/88 [==============================] - 3s 37ms/step - loss: 0.5314 - acc: 0.7500\n",
      "\n",
      "Epoch 138/150\n",
      "88/88 [==============================]88/88 [==============================] - 3s 38ms/step - loss: 0.4895 - acc: 0.7614\n",
      "\n",
      "Epoch 139/150\n",
      "88/88 [==============================]88/88 [==============================] - 3s 38ms/step - loss: 0.4861 - acc: 0.7727\n",
      "\n",
      "Epoch 140/150\n",
      "88/88 [==============================]88/88 [==============================] - 3s 38ms/step - loss: 0.4863 - acc: 0.7500\n",
      "\n",
      "Epoch 141/150\n",
      "88/88 [==============================]88/88 [==============================] - 3s 38ms/step - loss: 0.5090 - acc: 0.7841\n",
      "\n",
      "Epoch 142/150\n",
      "88/88 [==============================]88/88 [==============================] - 3s 40ms/step - loss: 0.4416 - acc: 0.8864\n",
      "\n",
      "Epoch 143/150\n",
      "88/88 [==============================]88/88 [==============================] - 4s 40ms/step - loss: 0.4137 - acc: 0.7841\n",
      "\n",
      "Epoch 144/150\n",
      "88/88 [==============================]88/88 [==============================] - 3s 40ms/step - loss: 0.3640 - acc: 0.8750\n",
      "\n",
      "Epoch 145/150\n",
      "88/88 [==============================]88/88 [==============================] - 3s 39ms/step - loss: 0.3971 - acc: 0.8182\n",
      "\n",
      "Epoch 146/150\n",
      "88/88 [==============================]88/88 [==============================] - 3s 39ms/step - loss: 0.4005 - acc: 0.8409\n",
      "\n",
      "Epoch 147/150\n",
      "88/88 [==============================]88/88 [==============================] - 3s 40ms/step - loss: 0.4944 - acc: 0.7955\n",
      "\n",
      "Epoch 148/150\n",
      "88/88 [==============================]88/88 [==============================] - 3s 39ms/step - loss: 0.4045 - acc: 0.9205\n",
      "\n",
      "Epoch 149/150\n",
      "88/88 [==============================]88/88 [==============================] - 3s 39ms/step - loss: 0.3677 - acc: 0.8295\n",
      "\n",
      "Epoch 150/150\n",
      "88/88 [==============================]88/88 [==============================] - 4s 40ms/step - loss: 0.3747 - acc: 0.8523\n",
      "\n",
      "...Training done\n"
     ]
    }
   ],
   "source": [
    "#MODEL TRAINING\n",
    "model.fit(x=train_x, y=train_y, epochs=150, verbose=1)\n",
    "print('...Training done')"
   ]
  },
  {
   "cell_type": "markdown",
   "metadata": {},
   "source": [
    "# TEST PREDIKSI"
   ]
  },
  {
   "cell_type": "code",
   "execution_count": 477,
   "metadata": {},
   "outputs": [],
   "source": [
    "magnitudo=[]\n",
    "audiodata=[]\n",
    "\n",
    "def pred(length=1, filename=None, thres=0):\n",
    "    global cumulated_status, cseq, model,magnitudo, audiodata\n",
    "    magnitudo=[]\n",
    "    audiodata=[]\n",
    "\n",
    "    try:\n",
    "        import sounddevice as sd\n",
    "\n",
    "        #samplerate = sd.query_devices(args.device, 'input')['default_samplerate']\n",
    "        samplerate = 16000.0\n",
    "\n",
    "        delta_f = (high - low) / (80 - 1)\n",
    "        fftsize = np.ceil(samplerate / delta_f).astype(int)\n",
    "        low_bin = int(np.floor(low / delta_f))\n",
    "\n",
    "        cumulated_status = sd.CallbackFlags()\n",
    "        cseq = 0\n",
    "        def callback(indata, frames, time, status):\n",
    "            global cumulated_status, cseq, magnitudo\n",
    "            cumulated_status |= status\n",
    "            \n",
    "            cseq += 1\n",
    "            \n",
    "            if any(indata):\n",
    "                magnitude = np.abs(np.fft.rfft(indata[:, 0], n=fftsize))\n",
    "                magnitude *= gain / fftsize\n",
    "                audiodata.extend(itertools.chain(indata.tolist()))\n",
    "\n",
    "                magnitudo.append(magnitude)\n",
    "                \n",
    "                if cseq == 5:\n",
    "                    cseq = 0\n",
    "                    try:\n",
    "                        y = model.predict(x=np.array(magnitudo).reshape(1,75,334))\n",
    "                        cls_pred = np.argmax(y,axis=1)\n",
    "                        #print(\".\")\n",
    "                        if y.max()>0.94:\n",
    "                            ##print('.')\n",
    "                            print(list(LABEL_TO_INDEX_MAP.keys())[cls_pred[0]])\n",
    "                    except Exception as e:\n",
    "                        #print(e)\n",
    "                        pass\n",
    "                    magnitudo=[]\n",
    "                    \n",
    "        t0=time.time()\n",
    "        with sd.InputStream(device=None, channels=1, callback=callback,\n",
    "                            blocksize=int(samplerate * DURATION / 1000),\n",
    "                            samplerate=samplerate):\n",
    "            \n",
    "            while True:\n",
    "                t1=time.time()\n",
    "                if t1-t0 > float(length):\n",
    "                    if filename!=None: soundfile.write(filename,audiodata,16000)\n",
    "                    return np.array(magnitudo)\n",
    "\n",
    "\n",
    "        if cumulated_status:\n",
    "            logging.warning(str(cumulated_status))\n",
    "    except Exception as e:\n",
    "        print(e)"
   ]
  },
  {
   "cell_type": "code",
   "execution_count": 478,
   "metadata": {},
   "outputs": [],
   "source": [
    "import time\n",
    "import itertools\n",
    "a = pred(length=5,filename=\"rekam.wav\")"
   ]
  },
  {
   "cell_type": "code",
   "execution_count": 381,
   "metadata": {},
   "outputs": [],
   "source": [
    "a = np.array([get_spec('record.wav')])"
   ]
  },
  {
   "cell_type": "code",
   "execution_count": 382,
   "metadata": {},
   "outputs": [
    {
     "data": {
      "text/html": [
       "\n",
       "                <audio controls=\"controls\" >\n",
       "                    <source src=\"data:audio/wav;base64,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\" type=\"audio/wav\" />\n",
       "                    Your browser does not support the audio element.\n",
       "                </audio>\n",
       "              "
      ],
      "text/plain": [
       "<IPython.lib.display.Audio object>"
      ]
     },
     "execution_count": 382,
     "metadata": {},
     "output_type": "execute_result"
    }
   ],
   "source": [
    "import IPython.display as ipd\n",
    "ipd.Audio('record.wav')"
   ]
  },
  {
   "cell_type": "code",
   "execution_count": 383,
   "metadata": {},
   "outputs": [
    {
     "data": {
      "text/plain": [
       "(1, 75, 334)"
      ]
     },
     "execution_count": 383,
     "metadata": {},
     "output_type": "execute_result"
    }
   ],
   "source": [
    "a.shape"
   ]
  },
  {
   "cell_type": "code",
   "execution_count": 384,
   "metadata": {},
   "outputs": [],
   "source": [
    "y_pred = model.predict(x=a)"
   ]
  },
  {
   "cell_type": "code",
   "execution_count": 385,
   "metadata": {},
   "outputs": [],
   "source": [
    "cls = np.argmax(y_pred)"
   ]
  },
  {
   "cell_type": "code",
   "execution_count": 386,
   "metadata": {},
   "outputs": [
    {
     "name": "stdout",
     "output_type": "stream",
     "text": [
      "cipi\n"
     ]
    }
   ],
   "source": [
    "print(list(LABEL_TO_INDEX_MAP.keys())[list(LABEL_TO_INDEX_MAP.values()).index(cls)])"
   ]
  },
  {
   "cell_type": "code",
   "execution_count": 12,
   "metadata": {},
   "outputs": [
    {
     "ename": "SyntaxError",
     "evalue": "invalid syntax (<ipython-input-12-b38cfb91488c>, line 1)",
     "output_type": "error",
     "traceback": [
      "\u001b[1;36m  File \u001b[1;32m\"<ipython-input-12-b38cfb91488c>\"\u001b[1;36m, line \u001b[1;32m1\u001b[0m\n\u001b[1;33m    list(LABEL_TO_INDEX_MAP.keys())[[1]])\u001b[0m\n\u001b[1;37m                                        ^\u001b[0m\n\u001b[1;31mSyntaxError\u001b[0m\u001b[1;31m:\u001b[0m invalid syntax\n"
     ]
    }
   ],
   "source": [
    "list(LABEL_TO_INDEX_MAP.keys())[[1]])"
   ]
  },
  {
   "cell_type": "code",
   "execution_count": 15,
   "metadata": {},
   "outputs": [],
   "source": [
    "from tensorflow.python.keras.models import load_model\n",
    "model = load_model('myfirst-model.ker')\n"
   ]
  },
  {
   "cell_type": "code",
   "execution_count": 1,
   "metadata": {},
   "outputs": [
    {
     "ename": "NameError",
     "evalue": "name 'LABEL_TO_INDEX_MAP' is not defined",
     "output_type": "error",
     "traceback": [
      "\u001b[1;31m---------------------------------------------------------------------------\u001b[0m",
      "\u001b[1;31mNameError\u001b[0m                                 Traceback (most recent call last)",
      "\u001b[1;32m<ipython-input-1-d5901e108ec7>\u001b[0m in \u001b[0;36m<module>\u001b[1;34m()\u001b[0m\n\u001b[0;32m      1\u001b[0m \u001b[1;33m{\u001b[0m\u001b[1;34m'five'\u001b[0m\u001b[1;33m:\u001b[0m \u001b[1;36m0\u001b[0m\u001b[1;33m,\u001b[0m \u001b[1;34m'four'\u001b[0m\u001b[1;33m:\u001b[0m \u001b[1;36m1\u001b[0m\u001b[1;33m,\u001b[0m \u001b[1;34m'one'\u001b[0m\u001b[1;33m:\u001b[0m \u001b[1;36m2\u001b[0m\u001b[1;33m,\u001b[0m \u001b[1;34m'six'\u001b[0m\u001b[1;33m:\u001b[0m \u001b[1;36m3\u001b[0m\u001b[1;33m,\u001b[0m \u001b[1;34m'three'\u001b[0m\u001b[1;33m:\u001b[0m \u001b[1;36m4\u001b[0m\u001b[1;33m,\u001b[0m \u001b[1;34m'two'\u001b[0m\u001b[1;33m:\u001b[0m \u001b[1;36m5\u001b[0m\u001b[1;33m}\u001b[0m\u001b[1;33m\u001b[0m\u001b[0m\n\u001b[0;32m      2\u001b[0m \u001b[1;33m\u001b[0m\u001b[0m\n\u001b[1;32m----> 3\u001b[1;33m \u001b[0mLABEL_TO_INDEX_MAP\u001b[0m\u001b[1;33m\u001b[0m\u001b[0m\n\u001b[0m",
      "\u001b[1;31mNameError\u001b[0m: name 'LABEL_TO_INDEX_MAP' is not defined"
     ]
    }
   ],
   "source": []
  },
  {
   "cell_type": "code",
   "execution_count": null,
   "metadata": {},
   "outputs": [],
   "source": []
  }
 ],
 "metadata": {
  "kernelspec": {
   "display_name": "Python 3",
   "language": "python",
   "name": "python3"
  },
  "language_info": {
   "codemirror_mode": {
    "name": "ipython",
    "version": 3
   },
   "file_extension": ".py",
   "mimetype": "text/x-python",
   "name": "python",
   "nbconvert_exporter": "python",
   "pygments_lexer": "ipython3",
   "version": "3.6.4"
  }
 },
 "nbformat": 4,
 "nbformat_minor": 2
}
