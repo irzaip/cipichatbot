{
 "cells": [
  {
   "cell_type": "code",
   "execution_count": 24,
   "metadata": {},
   "outputs": [],
   "source": [
    "import soundfile\n",
    "import sounddevice\n",
    "import codecs\n",
    "import glob\n",
    "import multiprocessing\n",
    "import re\n",
    "import nltk\n",
    "import gensim.models.word2vec as w2v\n",
    "import numpy as np\n",
    "import matplotlib.pyplot as plt\n",
    "import pandas as pd\n",
    "import os\n",
    "import gensim\n",
    "from sklearn.model_selection import train_test_split"
   ]
  },
  {
   "cell_type": "code",
   "execution_count": 25,
   "metadata": {},
   "outputs": [],
   "source": [
    "import keras\n",
    "smodel = keras.models.load_model(\"./DeadSimpleSpeechRecognizer/chippy_v1.model\")\n",
    "model = keras.models.load_model(\"model1.chatbot\")"
   ]
  },
  {
   "cell_type": "code",
   "execution_count": 26,
   "metadata": {},
   "outputs": [],
   "source": [
    "w2vmodel=\"chat_model1-300.w2v\"   #filename\n",
    "num_features = 300    #number of features in the model\n",
    "maxsent = 10          #maximum words in a sentence.\n",
    "intent=[]"
   ]
  },
  {
   "cell_type": "code",
   "execution_count": 27,
   "metadata": {},
   "outputs": [],
   "source": [
    "# Second dimension of the feature is dim2\n",
    "feature_dim_2 = 11\n",
    "\n",
    "# # Feature dimension\n",
    "feature_dim_1 = 20\n",
    "channel = 1\n",
    "epochs = 50\n",
    "batch_size = 100\n",
    "verbose = 1\n",
    "num_classes = 2"
   ]
  },
  {
   "cell_type": "code",
   "execution_count": 28,
   "metadata": {
    "scrolled": true
   },
   "outputs": [],
   "source": [
    "tex2vec =  gensim.models.KeyedVectors.load(w2vmodel)"
   ]
  },
  {
   "cell_type": "code",
   "execution_count": 29,
   "metadata": {},
   "outputs": [],
   "source": [
    "interrupted = False\n",
    "yesno_state = False\n",
    "listen_state = False\n",
    "talk_state = False\n",
    "cmd = \"\"\n",
    "headless = False\n",
    "i_quit = False"
   ]
  },
  {
   "cell_type": "markdown",
   "metadata": {},
   "source": [
    "### GET INTENT"
   ]
  },
  {
   "cell_type": "code",
   "execution_count": 30,
   "metadata": {},
   "outputs": [
    {
     "name": "stdout",
     "output_type": "stream",
     "text": [
      "['affirmasi', 'cctv_lewatmana', 'goodbye', 'lihat_gambar', 'negasi', 'salam']\n"
     ]
    }
   ],
   "source": [
    "import glob\n",
    "import fileinput\n",
    "fls = glob.glob('./data/*/input.txt')\n",
    "intent=[]\n",
    "prep_x = []\n",
    "prep_y = []\n",
    "for i in fls:\n",
    "    for tx in fileinput.input(i):\n",
    "        intent.append(i.split('\\\\')[-2])\n",
    "fileinput.close()\n",
    "\n",
    "intent = list(set(intent))\n",
    "intent.sort()\n",
    "print(intent)"
   ]
  },
  {
   "cell_type": "code",
   "execution_count": null,
   "metadata": {},
   "outputs": [],
   "source": []
  },
  {
   "cell_type": "code",
   "execution_count": 31,
   "metadata": {},
   "outputs": [
    {
     "name": "stdout",
     "output_type": "stream",
     "text": [
      "from data.affirmasi import affirmasi\n",
      "from data.cctv_lewatmana import cctv_lewatmana\n",
      "from data.goodbye import goodbye\n",
      "from data.lihat_gambar import lihat_gambar\n",
      "from data.negasi import negasi\n",
      "from data.salam import salam\n"
     ]
    }
   ],
   "source": [
    "#loader all intent\n",
    "for i in intent:\n",
    "    exect = 'from data.'+i+\" import \"+i\n",
    "    print(exect)\n",
    "    exec(exect)"
   ]
  },
  {
   "cell_type": "markdown",
   "metadata": {},
   "source": [
    "### PREDICTION ROUTINE"
   ]
  },
  {
   "cell_type": "code",
   "execution_count": 32,
   "metadata": {},
   "outputs": [],
   "source": [
    "from preprocess import *\n",
    "\n",
    "min_pred = {'lihat_gambar': 0.2 ,\n",
    "            'cctv_lewatmana': 0.2, \n",
    "            'salam': 0.1, \n",
    "            'affirmasi': 0.1,\n",
    "            'negasi': 0.1,\n",
    "            'goodbye': 0.1}\n",
    "\n",
    "def pred(sentence):\n",
    "    predictions=model.predict(np.array([swv_ar(twl(sentence))]))\n",
    "    cls_pred = np.argmax(predictions,axis=1)\n",
    "   \n",
    "    result={'intent': intent[cls_pred[0]], 'score': predictions.max(), 'sentence': sentence}\n",
    "    return result\n",
    "\n",
    "intention = 'None'\n",
    "followup = 'None'\n",
    "intentfu = 'None'\n",
    "\n",
    "\n",
    "def mainchat(sentence):\n",
    "    global intention, followup, intentfu\n",
    "    result = pred(sentence)\n",
    "\n",
    "    #PERUBAHAN INTENT APABILA SCORE DIBAWA YANG DI TENTUKAN\n",
    "    if result['score'] > min_pred[result['intent']]:\n",
    "        #print('i do intent:', result['intent'])\n",
    "        pass\n",
    "    else:\n",
    "        #print('i change to noting')\n",
    "        result['intent']='chitchat'\n",
    "\n",
    "    #EXEKUSI FOLLOWUP SECARA PRIORITAS\n",
    "    if followup != 'None':\n",
    "            if result['intent'] == 'negasi':\n",
    "                #print(\"pembatalan\")\n",
    "                rslt={'intent': 'None', 'followup': 'None', 'name': 'None', 'prompt': 'batal' }\n",
    "            else:\n",
    "                #print(\"a followup:\", result)\n",
    "                instruction = intentfu+'.'+\"input(\\'\"+result['sentence']+\"\\')\"\n",
    "                intentfu = result['intent']\n",
    "                #print(instruction)\n",
    "                rslt=eval(instruction)\n",
    "    else:\n",
    "        #print('not followup', result)\n",
    "        if result['intent'] != 'chitchat':\n",
    "            instruction = result['intent']+'.'+\"input(\\'\"+result['sentence']+\"\\')\"\n",
    "            #print(instruction)\n",
    "            rslt=eval(instruction)\n",
    "        else:\n",
    "            \n",
    "            if result['intent'] == 'goodbye':\n",
    "                print(\"I will quit\")\n",
    "                i_quit=True\n",
    "            #TARUH DISINI UNTUK RUTIN CHITCHAT - dan kurang mengerti apa yang di bilang.\n",
    "            instruction={'name': 'None'}\n",
    "            rslt={'name': 'None', 'followup': 'None', 'prompt': 'ada yang saya bisa bantu?'}\n",
    "        #print(instruction, \"intent driven\")\n",
    "        \n",
    "    #print(result)\n",
    "    if type(rslt) is not dict:\n",
    "        intention = 'None'\n",
    "        followup = 'None'\n",
    "    else:\n",
    "        intention = result['intent']\n",
    "        followup = rslt['name']\n",
    "        intentfu = rslt['followup']\n",
    "    return rslt\n",
    "\n",
    "#[tex2vec.most_similar([predictions[0][i]])[0] for i in range(maxsent)]\n",
    "\n",
    "def process_reply(reply):\n",
    "    name=reply['name']\n",
    "    prompt=reply['prompt']\n",
    "    followup=reply['followup']\n",
    "    print('Bot say:',prompt)\n",
    "    \n",
    "# Predicts one sample\n",
    "def predict(filepath, model):\n",
    "    global predicting\n",
    "    predicting = True\n",
    "    sv,sr = soundfile.read('./Ring09.wav')\n",
    "    sample = wav2mfcc(filepath)\n",
    "    sample_reshaped = sample.reshape(1, feature_dim_1, feature_dim_2, channel)\n",
    "    y_pred = model.predict(sample_reshaped)\n",
    "    y_max = np.max(y_pred)\n",
    "    ypred = np.argmax(y_pred)\n",
    "    if y_max>0.9 and ypred==1:\n",
    "        followup = False\n",
    "        print(\"Predicted:\" ,get_labels()[0][ypred],y_max, ypred)\n",
    "        sounddevice.play(sv,samplerate=16000)\n",
    "        #sudah di kenali \n",
    "        \n",
    "        speech = get_speech()\n",
    "        reply = mainchat(speech)\n",
    "        talk(reply['prompt'])\n",
    "        print(reply['followup'])\n",
    "        \n",
    "        if reply['followup'] != 'None':\n",
    "            followup=True\n",
    "            print('followup teridentifikasi')\n",
    "        \n",
    "        while followup:\n",
    "            time.sleep(1)\n",
    "            playding()\n",
    "            speech = get_speech()\n",
    "            reply = mainchat(speech)\n",
    "            talk(reply['prompt'])\n",
    "            if reply['followup'] != 'None':\n",
    "                followup=True\n",
    "                predicting=False\n",
    "            else:\n",
    "                followup=False\n",
    "                predicting=False\n",
    "                break\n",
    "    predicting=False\n",
    "    return get_labels()[0][ypred]\n",
    "\n"
   ]
  },
  {
   "cell_type": "code",
   "execution_count": 33,
   "metadata": {},
   "outputs": [],
   "source": [
    "def remove_unchar(flist):\n",
    "    try:\n",
    "        flist.remove(\"?\")\n",
    "    except:\n",
    "        pass\n",
    "\n",
    "def twl(sentence, rempunct=True, flat=True):\n",
    "    \"\"\"Tokenize word dari sebuah sentence/kalimat\"\"\"\n",
    "    if not flat:\n",
    "        sntoken = nltk.sent_tokenize(sentence)\n",
    "    else:\n",
    "        sntoken = [sentence]\n",
    "    for i in range(len(sntoken)):\n",
    "        tokens = nltk.word_tokenize(sntoken[i])\n",
    "        if rempunct==True:\n",
    "            type(tokens)\n",
    "            text = nltk.Text(tokens)\n",
    "            type(text)  \n",
    "            sntoken[i] = [w.lower() for w in text if w.isalpha()]\n",
    "        else: sntoken[i] = tokens\n",
    "    if len(sntoken)==1: \n",
    "        sntoken = sntoken[0]\n",
    "        remove_unchar(sntoken)\n",
    "    for i in sntoken:\n",
    "        remove_unchar(i)\n",
    "    if sntoken==[]: sntoken=['yang']\n",
    "    #print(sntoken)\n",
    "    return sntoken\n",
    "\n",
    "def zerolistmaker(n):\n",
    "    \"\"\"Membuat list berisi 0, mirip seperti np.zeros\"\"\"\n",
    "    listofzeros = [1] * n\n",
    "    return listofzeros\n",
    "\n",
    "\n",
    "\n",
    "def swv_ar(sentence, maxword=maxsent, vecsize=num_features, frontpad=True):\n",
    "    \"\"\"Sentence word2vec to array matrices for processing\"\"\"\n",
    "    senarray=[]\n",
    "    if len(sentence)>=maxsent: \n",
    "        print(\"Sentence overflow:\",sentence)\n",
    "        sentence=sentence[0:maxsent-1]\n",
    "    if type(sentence[0])==list:\n",
    "        for i in range(len(sentence)):\n",
    "            for k in range(len(sentence[i])):\n",
    "                #print(tex2vec[sentence[i][k]])\n",
    "                try:\n",
    "                    senarray.append(tex2vec[sentence[i][k]])\n",
    "                except Exception as e:\n",
    "                    print(\"Problem at phrase:\", sentence[i][k])\n",
    "                    \n",
    "    else:\n",
    "        for i in range(len(sentence)):\n",
    "            try:\n",
    "                senarray.append(tex2vec[sentence[i]])\n",
    "            except Exception as e:\n",
    "                print(\"Problem at phrase:\", sentence[i])\n",
    "                \n",
    "    zr=zerolistmaker(num_features)\n",
    "    #reverse if want to add a padding in front\n",
    "    if frontpad: senarray.reverse()\n",
    "\n",
    "    #add the padding\n",
    "    for i in range(maxword-len(senarray)):     \n",
    "        senarray.append(zr)\n",
    "\n",
    "    #reverse again\n",
    "    if frontpad: senarray.reverse()            \n",
    "    \n",
    "    return np.array(senarray)\n",
    "\n",
    "def wv_ts(array, weight=False):\n",
    "    \"\"\"Wave2vec matrix to sentence - weight untuk menampilkan bobot\"\"\"\n",
    "    result=[]\n",
    "    for i in array:\n",
    "        try:\n",
    "            word=tex2vec.similar_by_vector(vector=i,topn=1)\n",
    "            if word[0][1] == 0: word[0]=\".\"\n",
    "                \n",
    "            #bikin yang mau di append ada bobotnya gak?\n",
    "            if weight == False:\n",
    "                to_app = word[0][0]\n",
    "            else: to_app = word[0]\n",
    "                \n",
    "            result.append(to_app)\n",
    "        except:\n",
    "            pass\n",
    "    return result"
   ]
  },
  {
   "cell_type": "code",
   "execution_count": 34,
   "metadata": {},
   "outputs": [],
   "source": [
    "import soundfile\n",
    "import itertools\n",
    "import time\n",
    "import librosa\n",
    "import sounddevice\n",
    "\n",
    "DURATION=20\n",
    "gain=10\n",
    "high=2000\n",
    "low=100\n",
    "screenwidth=79\n",
    "predicting=False\n",
    "\n",
    "def record(length=1, reclength=1, filename=None, thres=0):\n",
    "    \"\"\" \n",
    "    Merekam suara secara stream dan metode callback\n",
    "    \"\"\"\n",
    "\n",
    "    global cumulated_status, end_count, start_count, recording, magnitudo, audiodata, predicting, i_quit\n",
    "    predicting=False\n",
    "    end_count=False\n",
    "    start_count = 0\n",
    "    recording=False\n",
    "    magnitudo=[]\n",
    "    audiodata=[]\n",
    "    try:\n",
    "        import sounddevice as sd\n",
    "\n",
    "        #samplerate = sd.query_devices(args.device, 'input')['default_samplerate']\n",
    "        samplerate = 16000.0\n",
    "\n",
    "        delta_f = (high - low) / screenwidth\n",
    "        fftsize = np.ceil(samplerate / delta_f).astype(int)\n",
    "        low_bin = int(np.floor(low / delta_f))\n",
    "\n",
    "        cumulated_status = sd.CallbackFlags()\n",
    "\n",
    "        def callback(indata, frames, time, status):\n",
    "            global cumulated_status, audiodata, magnitudo, end_count, start_count, recording, smodel, predicting, i_quit\n",
    "            \n",
    "            cumulated_status |= status\n",
    "            if any(indata):\n",
    "                magnitude = np.abs(np.fft.rfft(indata[:, 0], n=fftsize))\n",
    "                magnitude *= gain / fftsize\n",
    "\n",
    "                rms = librosa.feature.rmse(S=indata)\n",
    "                rms = int(rms*32768)\n",
    "                start_count += 1\n",
    "                if rms>=thres:\n",
    "                    if not recording :                    #and not end_count\n",
    "                        #print(\"Start record\")\n",
    "                        recording = True\n",
    "                        start_count = 0\n",
    "                        \n",
    "                        \n",
    "                if recording:\n",
    "                    audiodata.extend(itertools.chain(indata.tolist()))\n",
    "                    magnitudo.append(magnitude)\n",
    "                    if start_count == int(samplerate / (samplerate * DURATION / 1000)):\n",
    "                        #print(\"End record\")\n",
    "                        start_count=0\n",
    "                        end_count=True\n",
    "                        recording=False\n",
    "                        try:\n",
    "                            if not predicting:\n",
    "                                print(\"Predict\")\n",
    "                                soundfile.write(\"temp.wav\",audiodata,16000)\n",
    "                                predict(\"temp.wav\", model=smodel)\n",
    "                            pass\n",
    "                        except:\n",
    "                            pass\n",
    "                        audiodata=[]\n",
    "\n",
    "\n",
    "\n",
    "        with sd.InputStream(device=None, channels=1, callback=callback,\n",
    "                            blocksize=int(samplerate * DURATION / 1000),\n",
    "                            samplerate=samplerate):\n",
    "            while True:\n",
    "                #response = input()\n",
    "                #if response in ('', 'q', 'Q'):\n",
    "                time.sleep(length)\n",
    "                break\n",
    "            if filename!=None: soundfile.write(filename,audiodata,16000)\n",
    "\n",
    "        if cumulated_status:\n",
    "            logging.warning(str(cumulated_status))\n",
    "    except Exception as e:\n",
    "        print(e)"
   ]
  },
  {
   "cell_type": "code",
   "execution_count": 35,
   "metadata": {},
   "outputs": [
    {
     "name": "stdout",
     "output_type": "stream",
     "text": [
      "intention: None\n",
      "followup: None\n",
      "intentfu: None\n",
      "intention: None\n",
      "followup: None\n",
      "intentfu: None\n"
     ]
    }
   ],
   "source": [
    "print('intention:',intention)\n",
    "print('followup:',followup)\n",
    "print('intentfu:',intentfu)\n",
    "#myinput = input('>')\n",
    "#reply = mainchat(myinput)\n",
    "#print(reply)\n",
    "#process_reply(reply)\n",
    "print('intention:',intention)\n",
    "print('followup:',followup)\n",
    "print('intentfu:',intentfu)"
   ]
  },
  {
   "cell_type": "code",
   "execution_count": 36,
   "metadata": {},
   "outputs": [
    {
     "name": "stderr",
     "output_type": "stream",
     "text": [
      "C:\\Anaconda3\\envs\\tensorflow\\lib\\site-packages\\ipykernel_launcher.py:55: DeprecationWarning: Call to deprecated `__getitem__` (Method will be removed in 4.0.0, use self.wv.__getitem__() instead).\n"
     ]
    },
    {
     "name": "stdout",
     "output_type": "stream",
     "text": [
      "halo\n"
     ]
    }
   ],
   "source": [
    "import nltk\n",
    "reply = mainchat(\"Hallo apa kabar\")\n",
    "print(reply['prompt'])"
   ]
  },
  {
   "cell_type": "code",
   "execution_count": null,
   "metadata": {},
   "outputs": [],
   "source": []
  },
  {
   "cell_type": "code",
   "execution_count": 37,
   "metadata": {},
   "outputs": [],
   "source": [
    "predicting = False"
   ]
  },
  {
   "cell_type": "markdown",
   "metadata": {},
   "source": [
    "### SELENIUM ROUTINE"
   ]
  },
  {
   "cell_type": "code",
   "execution_count": 38,
   "metadata": {},
   "outputs": [],
   "source": [
    "def cek_talk_or_speak():\n",
    "    try:\n",
    "        m = s_iface.find_element_by_class_name(\"goog-toolbar-button-checked\")\n",
    "        return True\n",
    "    except:\n",
    "        return False\n",
    "\n",
    "def get_speech():\n",
    "    if not cek_talk_or_speak():\n",
    "        record = s_iface.find_element_by_xpath('//*[@id=\"gt-speech\"]/span')\n",
    "        record.click()\n",
    "        time.sleep(4)\n",
    "        #record\n",
    "        record.click()\n",
    "        source = s_iface.find_element_by_xpath('//*[@id=\"source\"]')\n",
    "        a = source.get_attribute(\"value\")\n",
    "        clear()\n",
    "        playding()\n",
    "    return a\n",
    "\n",
    "def clear():\n",
    "    source = s_iface.find_element_by_xpath('//*[@id=\"source\"]')\n",
    "    source.clear()\n",
    "    \n",
    "def talk(speech):\n",
    "    if not cek_talk_or_speak():\n",
    "        tts = s_iface.find_element_by_xpath('//*[@id=\"source\"]')\n",
    "        tts.clear()\n",
    "        time.sleep(0.5)\n",
    "        tts.send_keys(str(speech))\n",
    "        time.sleep(1)\n",
    "\n",
    "        talk = s_iface.find_element_by_id('gt-res-listen') \n",
    "        talk.click()\n",
    "        time.sleep(1)\n",
    "\n",
    "def check_live():\n",
    "    try:\n",
    "        result=s_iface.execute_script(\"return document.readyState;\")\n",
    "        return True\n",
    "    except:\n",
    "        return False\n",
    "\n",
    "def playding():\n",
    "    wv,sr = soundfile.read(\"./ehm.wav\")\n",
    "    sounddevice.play(wv,samplerate=44100)"
   ]
  },
  {
   "cell_type": "markdown",
   "metadata": {},
   "source": [
    "### SELENIUM LOAD"
   ]
  },
  {
   "cell_type": "code",
   "execution_count": 39,
   "metadata": {},
   "outputs": [],
   "source": [
    "from selenium import webdriver\n",
    "\n",
    "\n",
    "chrome_options = webdriver.ChromeOptions()\n",
    "chrome_options.add_argument(\"--use-fake-ui-for-media-stream\")\n",
    "if headless:\n",
    "    chrome_options.add_argument(\"--headless\")  \n",
    "\n",
    "s_iface = webdriver.Chrome(chrome_options=chrome_options)\n",
    "s_iface.get('https://translate.google.com/?#id/id')\n",
    "assert \"Google Translate\" in s_iface.title"
   ]
  },
  {
   "cell_type": "markdown",
   "metadata": {},
   "source": [
    "### SPEECH LOOP"
   ]
  },
  {
   "cell_type": "code",
   "execution_count": null,
   "metadata": {},
   "outputs": [],
   "source": [
    "while True:\n",
    "    talky = input(\">\")\n",
    "    if talky == 'q': break\n",
    "    talk(talky)"
   ]
  },
  {
   "cell_type": "code",
   "execution_count": 40,
   "metadata": {},
   "outputs": [
    {
     "name": "stdout",
     "output_type": "stream",
     "text": [
      "Predicted: cipi 0.9999567 1\n"
     ]
    },
    {
     "name": "stderr",
     "output_type": "stream",
     "text": [
      "C:\\Anaconda3\\envs\\tensorflow\\lib\\site-packages\\ipykernel_launcher.py:55: DeprecationWarning: Call to deprecated `__getitem__` (Method will be removed in 4.0.0, use self.wv.__getitem__() instead).\n"
     ]
    },
    {
     "name": "stdout",
     "output_type": "stream",
     "text": [
      "None\n"
     ]
    },
    {
     "data": {
      "text/plain": [
       "'cipi'"
      ]
     },
     "execution_count": 40,
     "metadata": {},
     "output_type": "execute_result"
    }
   ],
   "source": [
    "predict(\"temp.wav\", model = smodel)"
   ]
  },
  {
   "cell_type": "code",
   "execution_count": 41,
   "metadata": {},
   "outputs": [
    {
     "name": "stdout",
     "output_type": "stream",
     "text": [
      "Predict\n",
      "Predicted: cipi 0.99996805 1\n"
     ]
    },
    {
     "name": "stderr",
     "output_type": "stream",
     "text": [
      "C:\\Anaconda3\\envs\\tensorflow\\lib\\site-packages\\ipykernel_launcher.py:55: DeprecationWarning: Call to deprecated `__getitem__` (Method will be removed in 4.0.0, use self.wv.__getitem__() instead).\n"
     ]
    },
    {
     "name": "stdout",
     "output_type": "stream",
     "text": [
      "None\n",
      "Predict\n",
      "Predict\n",
      "Predicted: cipi 0.9983246 1\n",
      "None\n",
      "Predict\n",
      "Predict\n",
      "Predict\n",
      "Predict\n",
      "Predicted: cipi 0.9999095 1\n",
      "lihat_gambar\n",
      "followup teridentifikasi\n",
      "Predict\n",
      "Predict\n",
      "Predict\n",
      "Predicted: cipi 0.9999373 1\n",
      "lihat_gambar\n",
      "followup teridentifikasi\n",
      "memprosess gambar: kuda di kebun tanggal 7\n",
      "name 'logging' is not defined\n",
      "\n",
      "\n",
      "End Recording\n"
     ]
    }
   ],
   "source": [
    "record(length=125,filename=\"record.wav\",thres=1100)\n",
    "print(\"\\n\\nEnd Recording\")"
   ]
  },
  {
   "cell_type": "code",
   "execution_count": null,
   "metadata": {},
   "outputs": [],
   "source": []
  }
 ],
 "metadata": {
  "kernelspec": {
   "display_name": "Python 3",
   "language": "python",
   "name": "python3"
  },
  "language_info": {
   "codemirror_mode": {
    "name": "ipython",
    "version": 3
   },
   "file_extension": ".py",
   "mimetype": "text/x-python",
   "name": "python",
   "nbconvert_exporter": "python",
   "pygments_lexer": "ipython3",
   "version": "3.6.4"
  }
 },
 "nbformat": 4,
 "nbformat_minor": 2
}
