{
 "cells": [
  {
   "cell_type": "code",
   "execution_count": 4,
   "metadata": {},
   "outputs": [],
   "source": [
    "import glob\n",
    "import os\n",
    "\n",
    "from bs4 import BeautifulSoup as soup"
   ]
  },
  {
   "cell_type": "code",
   "execution_count": 130,
   "metadata": {},
   "outputs": [],
   "source": [
    "fls_dir = \"E:\\\\DATA\\\\python\\\\3.6\\\\Words\\\\alice2-y\\\\*\\*.aiml\"\n",
    "fls = glob.glob(fls_dir)\n",
    "tgt_dir = \".\\\\dialogs\\\\\""
   ]
  },
  {
   "cell_type": "code",
   "execution_count": 131,
   "metadata": {},
   "outputs": [
    {
     "data": {
      "text/plain": [
       "['E:\\\\DATA\\\\python\\\\3.6\\\\Words\\\\alice2-y\\\\aiml\\\\animal.aiml',\n",
       " 'E:\\\\DATA\\\\python\\\\3.6\\\\Words\\\\alice2-y\\\\aiml\\\\blackjack.aiml',\n",
       " 'E:\\\\DATA\\\\python\\\\3.6\\\\Words\\\\alice2-y\\\\aiml\\\\bot_profile.aiml',\n",
       " 'E:\\\\DATA\\\\python\\\\3.6\\\\Words\\\\alice2-y\\\\aiml\\\\client_profile.aiml',\n",
       " 'E:\\\\DATA\\\\python\\\\3.6\\\\Words\\\\alice2-y\\\\aiml\\\\contactaction.aiml',\n",
       " 'E:\\\\DATA\\\\python\\\\3.6\\\\Words\\\\alice2-y\\\\aiml\\\\contactfunctions.aiml',\n",
       " 'E:\\\\DATA\\\\python\\\\3.6\\\\Words\\\\alice2-y\\\\aiml\\\\date.aiml',\n",
       " 'E:\\\\DATA\\\\python\\\\3.6\\\\Words\\\\alice2-y\\\\aiml\\\\dialog.aiml',\n",
       " 'E:\\\\DATA\\\\python\\\\3.6\\\\Words\\\\alice2-y\\\\aiml\\\\familiar.aiml',\n",
       " 'E:\\\\DATA\\\\python\\\\3.6\\\\Words\\\\alice2-y\\\\aiml\\\\firstrest.aiml',\n",
       " 'E:\\\\DATA\\\\python\\\\3.6\\\\Words\\\\alice2-y\\\\aiml\\\\help.aiml',\n",
       " 'E:\\\\DATA\\\\python\\\\3.6\\\\Words\\\\alice2-y\\\\aiml\\\\inappropriate.aiml',\n",
       " 'E:\\\\DATA\\\\python\\\\3.6\\\\Words\\\\alice2-y\\\\aiml\\\\inquiry.aiml',\n",
       " 'E:\\\\DATA\\\\python\\\\3.6\\\\Words\\\\alice2-y\\\\aiml\\\\insults.aiml',\n",
       " 'E:\\\\DATA\\\\python\\\\3.6\\\\Words\\\\alice2-y\\\\aiml\\\\jokes.aiml',\n",
       " 'E:\\\\DATA\\\\python\\\\3.6\\\\Words\\\\alice2-y\\\\aiml\\\\keywords.aiml',\n",
       " 'E:\\\\DATA\\\\python\\\\3.6\\\\Words\\\\alice2-y\\\\aiml\\\\knowledge.aiml',\n",
       " 'E:\\\\DATA\\\\python\\\\3.6\\\\Words\\\\alice2-y\\\\aiml\\\\limericks.aiml',\n",
       " 'E:\\\\DATA\\\\python\\\\3.6\\\\Words\\\\alice2-y\\\\aiml\\\\lists.aiml',\n",
       " 'E:\\\\DATA\\\\python\\\\3.6\\\\Words\\\\alice2-y\\\\aiml\\\\oob.aiml',\n",
       " 'E:\\\\DATA\\\\python\\\\3.6\\\\Words\\\\alice2-y\\\\aiml\\\\personality.aiml',\n",
       " 'E:\\\\DATA\\\\python\\\\3.6\\\\Words\\\\alice2-y\\\\aiml\\\\picture.aiml',\n",
       " 'E:\\\\DATA\\\\python\\\\3.6\\\\Words\\\\alice2-y\\\\aiml\\\\profanity.aiml',\n",
       " 'E:\\\\DATA\\\\python\\\\3.6\\\\Words\\\\alice2-y\\\\aiml\\\\reductions1.aiml',\n",
       " 'E:\\\\DATA\\\\python\\\\3.6\\\\Words\\\\alice2-y\\\\aiml\\\\reductions2.aiml',\n",
       " 'E:\\\\DATA\\\\python\\\\3.6\\\\Words\\\\alice2-y\\\\aiml\\\\reductions_update.aiml',\n",
       " 'E:\\\\DATA\\\\python\\\\3.6\\\\Words\\\\alice2-y\\\\aiml\\\\roman.aiml',\n",
       " 'E:\\\\DATA\\\\python\\\\3.6\\\\Words\\\\alice2-y\\\\aiml\\\\rsvp.aiml',\n",
       " 'E:\\\\DATA\\\\python\\\\3.6\\\\Words\\\\alice2-y\\\\aiml\\\\scratch.aiml',\n",
       " 'E:\\\\DATA\\\\python\\\\3.6\\\\Words\\\\alice2-y\\\\aiml\\\\sraix.aiml',\n",
       " 'E:\\\\DATA\\\\python\\\\3.6\\\\Words\\\\alice2-y\\\\aiml\\\\sraix_combine.aiml',\n",
       " 'E:\\\\DATA\\\\python\\\\3.6\\\\Words\\\\alice2-y\\\\aiml\\\\star.aiml',\n",
       " 'E:\\\\DATA\\\\python\\\\3.6\\\\Words\\\\alice2-y\\\\aiml\\\\that.aiml',\n",
       " 'E:\\\\DATA\\\\python\\\\3.6\\\\Words\\\\alice2-y\\\\aiml\\\\train.aiml',\n",
       " 'E:\\\\DATA\\\\python\\\\3.6\\\\Words\\\\alice2-y\\\\aiml\\\\triple.aiml',\n",
       " 'E:\\\\DATA\\\\python\\\\3.6\\\\Words\\\\alice2-y\\\\aiml\\\\udc.aiml',\n",
       " 'E:\\\\DATA\\\\python\\\\3.6\\\\Words\\\\alice2-y\\\\aiml\\\\update.aiml',\n",
       " 'E:\\\\DATA\\\\python\\\\3.6\\\\Words\\\\alice2-y\\\\aiml\\\\utilities.aiml']"
      ]
     },
     "execution_count": 131,
     "metadata": {},
     "output_type": "execute_result"
    }
   ],
   "source": [
    "fls"
   ]
  },
  {
   "cell_type": "code",
   "execution_count": 132,
   "metadata": {},
   "outputs": [
    {
     "name": "stdout",
     "output_type": "stream",
     "text": [
      "animal.aiml\n",
      "blackjack.aiml\n",
      "bot_profile.aiml\n",
      "client_profile.aiml\n",
      "contactaction.aiml\n",
      "contactfunctions.aiml\n",
      "date.aiml\n",
      "dialog.aiml\n",
      "familiar.aiml\n",
      "firstrest.aiml\n",
      "help.aiml\n",
      "inappropriate.aiml\n",
      "inquiry.aiml\n",
      "insults.aiml\n",
      "jokes.aiml\n",
      "keywords.aiml\n",
      "knowledge.aiml\n",
      "limericks.aiml\n",
      "lists.aiml\n",
      "oob.aiml\n",
      "personality.aiml\n",
      "picture.aiml\n",
      "profanity.aiml\n",
      "reductions1.aiml\n",
      "reductions2.aiml\n",
      "reductions_update.aiml\n",
      "roman.aiml\n",
      "rsvp.aiml\n",
      "scratch.aiml\n",
      "sraix.aiml\n",
      "sraix_combine.aiml\n",
      "star.aiml\n",
      "that.aiml\n",
      "train.aiml\n",
      "triple.aiml\n",
      "udc.aiml\n",
      "update.aiml\n",
      "utilities.aiml\n"
     ]
    }
   ],
   "source": [
    "for fl in fls:\n",
    "    flname = fl.split(\"\\\\\")[-1]\n",
    "    print(flname)\n",
    "    try:\n",
    "        txtf = soup(open(fl,'r'),'xml')\n",
    "        categs = txtf.find_all('category')\n",
    "\n",
    "        with open(os.path.join(tgt_dir,flname),'w') as f:\n",
    "            for inp in categs:\n",
    "                a = 'A:' + inp.pattern.text+\"\\n\"\n",
    "                t = 'B:' + str(inp.topic)+ \"\\n\"\n",
    "                bs = inp.findAll('template')\n",
    "                #print(a)\n",
    "                f.writelines(a)\n",
    "                #print(t)\n",
    "                f.writelines(t)\n",
    "                for b in bs:\n",
    "                    #print('B'+ b.text)\n",
    "                    f.writelines('B:'+str(b.text))\n",
    "                #print(\"\\n\")\n",
    "                f.writelines(\"\\n\\n\")\n",
    "    except:\n",
    "        print(\"error\")\n",
    "        pass"
   ]
  },
  {
   "cell_type": "code",
   "execution_count": 124,
   "metadata": {},
   "outputs": [],
   "source": [
    "for fl in fls:\n",
    "    flname = fl.split(\"\\\\\")[-1]\n",
    "    print(flname)\n",
    "\n",
    "    txtf = soup(open(fl,'r'),'xml')\n",
    "    categs = txtf.find_all('category')\n",
    "    print(len(categs))"
   ]
  },
  {
   "cell_type": "code",
   "execution_count": 122,
   "metadata": {},
   "outputs": [
    {
     "name": "stdout",
     "output_type": "stream",
     "text": [
      "A:ROUND *\n",
      "\n",
      "<template><first><normalize><star/></normalize></first></template>\n"
     ]
    }
   ],
   "source": [
    "print(a)\n",
    "print(b)"
   ]
  },
  {
   "cell_type": "code",
   "execution_count": 54,
   "metadata": {},
   "outputs": [
    {
     "data": {
      "text/plain": [
       "<category><pattern>RESUMEACTION EMAIL</pattern>\n",
       "<template><srai>EMAILACTION</srai></template>\n",
       "</category>"
      ]
     },
     "execution_count": 54,
     "metadata": {},
     "output_type": "execute_result"
    }
   ],
   "source": [
    "categs[70]"
   ]
  },
  {
   "cell_type": "code",
   "execution_count": null,
   "metadata": {},
   "outputs": [],
   "source": []
  }
 ],
 "metadata": {
  "kernelspec": {
   "display_name": "Python 3",
   "language": "python",
   "name": "python3"
  },
  "language_info": {
   "codemirror_mode": {
    "name": "ipython",
    "version": 3
   },
   "file_extension": ".py",
   "mimetype": "text/x-python",
   "name": "python",
   "nbconvert_exporter": "python",
   "pygments_lexer": "ipython3",
   "version": "3.6.4"
  }
 },
 "nbformat": 4,
 "nbformat_minor": 2
}
