{
 "cells": [
  {
   "cell_type": "code",
   "execution_count": 3,
   "metadata": {
    "scrolled": false
   },
   "outputs": [
    {
     "name": "stdout",
     "output_type": "stream",
     "text": [
      "Requirement already satisfied: tqdm in c:\\anaconda3\\envs\\tensorflow\\lib\\site-packages\n"
     ]
    },
    {
     "name": "stderr",
     "output_type": "stream",
     "text": [
      "You are using pip version 9.0.1, however version 18.1 is available.\n",
      "You should consider upgrading via the 'python -m pip install --upgrade pip' command.\n"
     ]
    }
   ],
   "source": [
    "!pip install tqdm"
   ]
  },
  {
   "cell_type": "code",
   "execution_count": 7,
   "metadata": {
    "scrolled": true
   },
   "outputs": [
    {
     "name": "stdout",
     "output_type": "stream",
     "text": [
      "The autoreload extension is already loaded. To reload it, use:\n",
      "  %reload_ext autoreload\n"
     ]
    },
    {
     "name": "stderr",
     "output_type": "stream",
     "text": [
      "Saving vectors of label - 'bangun': 100%|███████████████████████████████████████████| 154/154 [00:00<00:00, 253.71it/s]\n",
      "Saving vectors of label - 'cipi': 100%|█████████████████████████████████████████████| 142/142 [00:00<00:00, 257.48it/s]\n"
     ]
    }
   ],
   "source": [
    "%load_ext autoreload\n",
    "%autoreload 2\n",
    "\n",
    "import time\n",
    "from preprocess import *\n",
    "import keras\n",
    "from keras.models import Sequential\n",
    "from keras.layers import Dense, Dropout, Flatten, Conv2D, MaxPooling2D, RNN\n",
    "from keras.utils import to_categorical\n",
    "\n",
    "\n",
    "# Second dimension of the feature is dim2\n",
    "feature_dim_2 = 11\n",
    "\n",
    "# Save data to array file first\n",
    "save_data_to_array(max_len=feature_dim_2)\n",
    "\n",
    "# # Loading train set and test set\n",
    "X_train, X_test, y_train, y_test = get_train_test()\n",
    "\n",
    "# # Feature dimension\n",
    "feature_dim_1 = 20\n",
    "channel = 1\n",
    "epochs = 50\n",
    "batch_size = 100\n",
    "verbose = 1\n",
    "num_classes = 2\n",
    "\n",
    "# Reshaping to perform 2D convolution\n",
    "X_train = X_train.reshape(X_train.shape[0], feature_dim_1, feature_dim_2, channel)\n",
    "X_test = X_test.reshape(X_test.shape[0], feature_dim_1, feature_dim_2, channel)\n",
    "\n",
    "y_train_hot = to_categorical(y_train)\n",
    "y_test_hot = to_categorical(y_test)"
   ]
  },
  {
   "cell_type": "code",
   "execution_count": 9,
   "metadata": {},
   "outputs": [
    {
     "data": {
      "text/plain": [
       "(177, 20, 11, 1)"
      ]
     },
     "execution_count": 9,
     "metadata": {},
     "output_type": "execute_result"
    }
   ],
   "source": []
  },
  {
   "cell_type": "code",
   "execution_count": 5,
   "metadata": {},
   "outputs": [],
   "source": [
    "def get_model():\n",
    "    model = Sequential()\n",
    "    model.add(Conv2D(32, kernel_size=(2, 2), activation='relu', input_shape=(feature_dim_1, feature_dim_2, channel)))\n",
    "    model.add(Conv2D(48, kernel_size=(2, 2), activation='relu'))\n",
    "    model.add(Conv2D(120, kernel_size=(2, 2), activation='relu'))\n",
    "    model.add(MaxPooling2D(pool_size=(2, 2)))\n",
    "    model.add(Dropout(0.25))\n",
    "    model.add(Flatten())\n",
    "    model.add(Dense(128, activation='relu'))\n",
    "    model.add(Dropout(0.25))\n",
    "    model.add(Dense(64, activation='relu'))\n",
    "    model.add(Dropout(0.4))\n",
    "    model.add(Dense(num_classes, activation='sigmoid'))\n",
    "    model.compile(loss=keras.losses.categorical_crossentropy,\n",
    "                  optimizer=keras.optimizers.Adadelta(),\n",
    "                  metrics=['accuracy'])\n",
    "    return model\n",
    "\n",
    "# Predicts one sample\n",
    "def predict(filepath, model):\n",
    "    sv,sr = soundfile.read('../Ring09.wav')\n",
    "    sample = wav2mfcc(filepath)\n",
    "    sample_reshaped = sample.reshape(1, feature_dim_1, feature_dim_2, channel)\n",
    "    y_pred = model.predict(sample_reshaped)\n",
    "    y_max = np.max(y_pred)\n",
    "    ypred = np.argmax(y_pred)\n",
    "    if y_max>0.9 and ypred==1:\n",
    "        print(\"Predicted:\" ,get_labels()[0][ypred],y_max, ypred)\n",
    "        sounddevice.play(sv,samplerate=16000)\n",
    "    return get_labels()[0][ypred]\n",
    "\n",
    "# Predicts one sample\n",
    "def predicte(audiodata, model):\n",
    "    sv,sr = soundfile.read('../Ring09.wav')\n",
    "    \n",
    "    audiodata = np.array(audiodata).flatten()\n",
    "    sample = au2mfcc(audiodata)\n",
    "    sample_reshaped = sample.reshape(1, feature_dim_1, feature_dim_2, channel)\n",
    "    y_pred = model.predict(sample_reshaped)\n",
    "    y_max = np.max(y_pred)\n",
    "    ypred = np.argmax(y_pred)\n",
    "    if y_max>0.9:\n",
    "        print(\"Predicted:\" ,get_labels()[0][ypred], y_max)\n",
    "        sounddevice.play(sv,samplerate=16000)\n",
    "    return get_labels()[0][ypred]\n"
   ]
  },
  {
   "cell_type": "markdown",
   "metadata": {},
   "source": [
    "# Building The Model Then Training it"
   ]
  },
  {
   "cell_type": "code",
   "execution_count": 6,
   "metadata": {
    "scrolled": true
   },
   "outputs": [
    {
     "name": "stdout",
     "output_type": "stream",
     "text": [
      "Train on 177 samples, validate on 119 samples\n",
      "Epoch 1/50\n",
      " - 0s - loss: 1.0312 - acc: 0.5650 - val_loss: 0.6974 - val_acc: 0.4370\n",
      "Epoch 2/50\n",
      " - 0s - loss: 0.7063 - acc: 0.5480 - val_loss: 0.6931 - val_acc: 0.4370\n",
      "Epoch 3/50\n",
      " - 0s - loss: 0.6904 - acc: 0.5763 - val_loss: 0.6927 - val_acc: 0.7983\n",
      "Epoch 4/50\n",
      " - 0s - loss: 0.6969 - acc: 0.5932 - val_loss: 0.6925 - val_acc: 0.6891\n",
      "Epoch 5/50\n",
      " - 0s - loss: 0.6781 - acc: 0.6045 - val_loss: 0.6870 - val_acc: 0.9328\n",
      "Epoch 6/50\n",
      " - 0s - loss: 0.6248 - acc: 0.6893 - val_loss: 0.4743 - val_acc: 0.9412\n",
      "Epoch 7/50\n",
      " - 0s - loss: 0.5398 - acc: 0.8079 - val_loss: 0.2657 - val_acc: 0.9328\n",
      "Epoch 8/50\n",
      " - 0s - loss: 1.3764 - acc: 0.6667 - val_loss: 0.4737 - val_acc: 0.5630\n",
      "Epoch 9/50\n",
      " - 0s - loss: 0.5615 - acc: 0.7119 - val_loss: 0.2684 - val_acc: 1.0000\n",
      "Epoch 10/50\n",
      " - 0s - loss: 0.2860 - acc: 0.9548 - val_loss: 0.0774 - val_acc: 1.0000\n",
      "Epoch 11/50\n",
      " - 0s - loss: 0.1776 - acc: 0.9548 - val_loss: 0.0497 - val_acc: 0.9916\n",
      "Epoch 12/50\n",
      " - 0s - loss: 0.1010 - acc: 0.9887 - val_loss: 0.0296 - val_acc: 1.0000\n",
      "Epoch 13/50\n",
      " - 0s - loss: 0.0702 - acc: 0.9718 - val_loss: 0.0330 - val_acc: 0.9832\n",
      "Epoch 14/50\n",
      " - 0s - loss: 0.0508 - acc: 0.9887 - val_loss: 0.0716 - val_acc: 0.9496\n",
      "Epoch 15/50\n",
      " - 0s - loss: 0.0384 - acc: 0.9887 - val_loss: 0.0365 - val_acc: 0.9832\n",
      "Epoch 16/50\n",
      " - 0s - loss: 0.0291 - acc: 0.9887 - val_loss: 0.0252 - val_acc: 0.9832\n",
      "Epoch 17/50\n",
      " - 0s - loss: 0.0539 - acc: 0.9831 - val_loss: 0.0150 - val_acc: 0.9916\n",
      "Epoch 18/50\n",
      " - 0s - loss: 0.0263 - acc: 0.9944 - val_loss: 0.0104 - val_acc: 1.0000\n",
      "Epoch 19/50\n",
      " - 0s - loss: 0.0253 - acc: 0.9887 - val_loss: 0.0125 - val_acc: 1.0000\n",
      "Epoch 20/50\n",
      " - 0s - loss: 0.0177 - acc: 0.9944 - val_loss: 0.0067 - val_acc: 1.0000\n",
      "Epoch 21/50\n",
      " - 0s - loss: 0.0236 - acc: 0.9944 - val_loss: 0.0146 - val_acc: 1.0000\n",
      "Epoch 22/50\n",
      " - 0s - loss: 0.0109 - acc: 1.0000 - val_loss: 0.0087 - val_acc: 1.0000\n",
      "Epoch 23/50\n",
      " - 0s - loss: 0.0128 - acc: 1.0000 - val_loss: 0.0099 - val_acc: 1.0000\n",
      "Epoch 24/50\n",
      " - 0s - loss: 0.0060 - acc: 1.0000 - val_loss: 0.0059 - val_acc: 1.0000\n",
      "Epoch 25/50\n",
      " - 0s - loss: 0.0106 - acc: 1.0000 - val_loss: 0.0062 - val_acc: 1.0000\n",
      "Epoch 26/50\n",
      " - 0s - loss: 0.0091 - acc: 1.0000 - val_loss: 0.0115 - val_acc: 1.0000\n",
      "Epoch 27/50\n",
      " - 0s - loss: 0.0049 - acc: 1.0000 - val_loss: 0.0052 - val_acc: 1.0000\n",
      "Epoch 28/50\n",
      " - 0s - loss: 0.0025 - acc: 1.0000 - val_loss: 0.0039 - val_acc: 1.0000\n",
      "Epoch 29/50\n",
      " - 0s - loss: 0.0095 - acc: 1.0000 - val_loss: 0.0043 - val_acc: 1.0000\n",
      "Epoch 30/50\n",
      " - 0s - loss: 0.0043 - acc: 1.0000 - val_loss: 0.0011 - val_acc: 1.0000\n",
      "Epoch 31/50\n",
      " - 0s - loss: 0.0194 - acc: 0.9831 - val_loss: 0.0012 - val_acc: 1.0000\n",
      "Epoch 32/50\n",
      " - 0s - loss: 0.0173 - acc: 0.9887 - val_loss: 6.4708e-04 - val_acc: 1.0000\n",
      "Epoch 33/50\n",
      " - 0s - loss: 0.0043 - acc: 1.0000 - val_loss: 4.4706e-04 - val_acc: 1.0000\n",
      "Epoch 34/50\n",
      " - 0s - loss: 0.0107 - acc: 0.9944 - val_loss: 0.0013 - val_acc: 1.0000\n",
      "Epoch 35/50\n",
      " - 0s - loss: 0.0018 - acc: 1.0000 - val_loss: 0.0011 - val_acc: 1.0000\n",
      "Epoch 36/50\n",
      " - 0s - loss: 0.0103 - acc: 0.9944 - val_loss: 4.4288e-04 - val_acc: 1.0000\n",
      "Epoch 37/50\n",
      " - 0s - loss: 0.0012 - acc: 1.0000 - val_loss: 5.8775e-04 - val_acc: 1.0000\n",
      "Epoch 38/50\n",
      " - 0s - loss: 0.0129 - acc: 0.9944 - val_loss: 0.0034 - val_acc: 1.0000\n",
      "Epoch 39/50\n",
      " - 0s - loss: 0.0014 - acc: 1.0000 - val_loss: 0.0020 - val_acc: 1.0000\n",
      "Epoch 40/50\n",
      " - 0s - loss: 0.0056 - acc: 1.0000 - val_loss: 0.0015 - val_acc: 1.0000\n",
      "Epoch 41/50\n",
      " - 0s - loss: 0.0021 - acc: 1.0000 - val_loss: 6.7530e-04 - val_acc: 1.0000\n",
      "Epoch 42/50\n",
      " - 0s - loss: 3.8701e-04 - acc: 1.0000 - val_loss: 6.4124e-04 - val_acc: 1.0000\n",
      "Epoch 43/50\n",
      " - 0s - loss: 7.9256e-04 - acc: 1.0000 - val_loss: 5.6417e-04 - val_acc: 1.0000\n",
      "Epoch 44/50\n",
      " - 0s - loss: 0.0035 - acc: 1.0000 - val_loss: 0.0016 - val_acc: 1.0000\n",
      "Epoch 45/50\n",
      " - 0s - loss: 5.1833e-04 - acc: 1.0000 - val_loss: 0.0016 - val_acc: 1.0000\n",
      "Epoch 46/50\n",
      " - 0s - loss: 8.2067e-04 - acc: 1.0000 - val_loss: 0.0013 - val_acc: 1.0000\n",
      "Epoch 47/50\n",
      " - 0s - loss: 0.0035 - acc: 1.0000 - val_loss: 8.3597e-04 - val_acc: 1.0000\n",
      "Epoch 48/50\n",
      " - 0s - loss: 5.8753e-04 - acc: 1.0000 - val_loss: 7.7991e-04 - val_acc: 1.0000\n",
      "Epoch 49/50\n",
      " - 0s - loss: 7.0232e-04 - acc: 1.0000 - val_loss: 4.1827e-04 - val_acc: 1.0000\n",
      "Epoch 50/50\n",
      " - 0s - loss: 0.0020 - acc: 1.0000 - val_loss: 4.8030e-04 - val_acc: 1.0000\n"
     ]
    },
    {
     "data": {
      "text/plain": [
       "<keras.callbacks.History at 0x1940c575710>"
      ]
     },
     "execution_count": 6,
     "metadata": {},
     "output_type": "execute_result"
    }
   ],
   "source": [
    "model = get_model()\n",
    "model.fit(X_train, y_train_hot, batch_size=batch_size, epochs=epochs, verbose=2, validation_data=(X_test, y_test_hot))"
   ]
  },
  {
   "cell_type": "markdown",
   "metadata": {},
   "source": [
    "## Prediction"
   ]
  },
  {
   "cell_type": "code",
   "execution_count": 5,
   "metadata": {},
   "outputs": [],
   "source": [
    "#model.save(\"chippy_v1.model\")"
   ]
  },
  {
   "cell_type": "code",
   "execution_count": 6,
   "metadata": {},
   "outputs": [],
   "source": [
    "import keras\n",
    "model = keras.models.load_model(\"chippy_v1.model\")"
   ]
  },
  {
   "cell_type": "code",
   "execution_count": 11,
   "metadata": {},
   "outputs": [],
   "source": [
    "import soundfile\n",
    "import itertools\n",
    "import time\n",
    "import librosa\n",
    "import sounddevice\n",
    "\n",
    "DURATION=20\n",
    "gain=10\n",
    "range=[100,2000]\n",
    "high=2000\n",
    "low=100\n",
    "screenwidth=79\n",
    "\n",
    "def record(length=1, reclength=1, filename=None, thres=0):\n",
    "    \"\"\" \n",
    "    Merekam suara secara stream dan metode callback\n",
    "    \"\"\"\n",
    "\n",
    "    global cumulated_status, end_count, start_count, recording, magnitudo, audiodata\n",
    "    end_count=False\n",
    "    start_count = 0\n",
    "    recording=False\n",
    "    magnitudo=[]\n",
    "    audiodata=[]\n",
    "    try:\n",
    "        import sounddevice as sd\n",
    "\n",
    "        #samplerate = sd.query_devices(args.device, 'input')['default_samplerate']\n",
    "        samplerate = 16000.0\n",
    "\n",
    "        delta_f = (high - low) / screenwidth\n",
    "        fftsize = np.ceil(samplerate / delta_f).astype(int)\n",
    "        low_bin = int(np.floor(low / delta_f))\n",
    "\n",
    "        cumulated_status = sd.CallbackFlags()\n",
    "\n",
    "        def callback(indata, frames, time, status):\n",
    "            global cumulated_status, audiodata, magnitudo, end_count, start_count, recording, model\n",
    "            \n",
    "            \n",
    "            cumulated_status |= status\n",
    "            if any(indata):\n",
    "                magnitude = np.abs(np.fft.rfft(indata[:, 0], n=fftsize))\n",
    "                magnitude *= gain / fftsize\n",
    "\n",
    "                rms = librosa.feature.rmse(S=indata)\n",
    "                rms = int(rms*32768)\n",
    "                start_count += 1\n",
    "                if rms>=thres:\n",
    "                    if not recording :                    #and not end_count\n",
    "                        print(\"Start record\")\n",
    "                        recording = True\n",
    "                        start_count = 0\n",
    "                        \n",
    "                        \n",
    "                if recording:\n",
    "                    audiodata.extend(itertools.chain(indata.tolist()))\n",
    "                    magnitudo.append(magnitude)\n",
    "                    if start_count == int(samplerate / (samplerate * DURATION / 1000)):\n",
    "                        print(\"End record\")\n",
    "                        start_count=0\n",
    "                        end_count=True\n",
    "                        recording=False\n",
    "                        try:\n",
    "                            soundfile.write(\"temp.wav\",audiodata,16000)\n",
    "                            predict(\"temp.wav\", model=model)\n",
    "                        except:\n",
    "                            pass\n",
    "                        audiodata=[]\n",
    "\n",
    "\n",
    "\n",
    "        with sd.InputStream(device=None, channels=1, callback=callback,\n",
    "                            blocksize=int(samplerate * DURATION / 1000),\n",
    "                            samplerate=samplerate):\n",
    "            while True:\n",
    "                #response = input()\n",
    "                #if response in ('', 'q', 'Q'):\n",
    "                time.sleep(length)\n",
    "                break\n",
    "            if filename!=None: soundfile.write(filename,audiodata,16000)\n",
    "\n",
    "        if cumulated_status:\n",
    "            logging.warning(str(cumulated_status))\n",
    "    except Exception as e:\n",
    "        print(e)\n"
   ]
  },
  {
   "cell_type": "code",
   "execution_count": 9,
   "metadata": {
    "scrolled": false
   },
   "outputs": [
    {
     "name": "stdout",
     "output_type": "stream",
     "text": [
      "Predicted: cipi 0.9999989 1\n"
     ]
    },
    {
     "data": {
      "text/plain": [
       "'cipi'"
      ]
     },
     "execution_count": 9,
     "metadata": {},
     "output_type": "execute_result"
    }
   ],
   "source": [
    "predict('temp.wav', model=model)"
   ]
  },
  {
   "cell_type": "code",
   "execution_count": 10,
   "metadata": {},
   "outputs": [
    {
     "name": "stdout",
     "output_type": "stream",
     "text": [
      "Start record\n",
      "End record\n",
      "Predicted: cipi 0.9999808 1\n",
      "Start record\n",
      "End record\n",
      "Start record\n",
      "End record\n",
      "Predicted: cipi 0.9999962 1\n",
      "Start record\n",
      "End record\n",
      "Start record\n",
      "End record\n",
      "Predicted: cipi 0.99997807 1\n",
      "Start record\n",
      "End record\n",
      "Start record\n",
      "End record\n",
      "Start record\n",
      "End record\n",
      "Start record\n",
      "End record\n",
      "Start record\n",
      "End record\n",
      "Predicted: cipi 0.9999635 1\n",
      "Start record\n",
      "End record\n",
      "Start record\n",
      "End record\n",
      "Predicted: cipi 0.99990034 1\n",
      "Start record\n",
      "End record\n",
      "Start record\n",
      "End record\n",
      "Predicted: cipi 0.9999802 1\n",
      "Start record\n",
      "End record\n"
     ]
    }
   ],
   "source": [
    "record(length=25,filename=\"record.wav\",thres=1100)"
   ]
  },
  {
   "cell_type": "code",
   "execution_count": null,
   "metadata": {},
   "outputs": [],
   "source": [
    "predict(\"temp.wav\", model=model)"
   ]
  },
  {
   "cell_type": "code",
   "execution_count": null,
   "metadata": {},
   "outputs": [],
   "source": [
    "import sounddevice"
   ]
  },
  {
   "cell_type": "code",
   "execution_count": null,
   "metadata": {},
   "outputs": [],
   "source": [
    "soundfile.read(\"../Ring09.wav\")"
   ]
  },
  {
   "cell_type": "code",
   "execution_count": null,
   "metadata": {},
   "outputs": [],
   "source": [
    "import librosa"
   ]
  },
  {
   "cell_type": "code",
   "execution_count": null,
   "metadata": {},
   "outputs": [],
   "source": [
    "audiodata = b''.join(np.array(audiodata).flatten())"
   ]
  },
  {
   "cell_type": "code",
   "execution_count": null,
   "metadata": {},
   "outputs": [],
   "source": [
    "from preprocess import *"
   ]
  },
  {
   "cell_type": "code",
   "execution_count": null,
   "metadata": {},
   "outputs": [],
   "source": [
    "aaa = np.array(audiodata).flatten()"
   ]
  },
  {
   "cell_type": "code",
   "execution_count": null,
   "metadata": {},
   "outputs": [],
   "source": [
    "sv, sr = soundfile.read(\"../Ring09.wav\")\n",
    "sounddevice.play(sv,samplerate=16000)"
   ]
  },
  {
   "cell_type": "code",
   "execution_count": null,
   "metadata": {},
   "outputs": [],
   "source": []
  }
 ],
 "metadata": {
  "kernelspec": {
   "display_name": "Python 3",
   "language": "python",
   "name": "python3"
  },
  "language_info": {
   "codemirror_mode": {
    "name": "ipython",
    "version": 3
   },
   "file_extension": ".py",
   "mimetype": "text/x-python",
   "name": "python",
   "nbconvert_exporter": "python",
   "pygments_lexer": "ipython3",
   "version": "3.6.4"
  }
 },
 "nbformat": 4,
 "nbformat_minor": 2
}
