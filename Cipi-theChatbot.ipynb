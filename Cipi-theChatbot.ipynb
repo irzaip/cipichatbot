{
 "cells": [
  {
   "cell_type": "code",
   "execution_count": 1,
   "metadata": {
    "scrolled": true
   },
   "outputs": [
    {
     "name": "stderr",
     "output_type": "stream",
     "text": [
      "C:\\Anaconda3\\envs\\tensorflow\\lib\\site-packages\\h5py\\__init__.py:36: FutureWarning: Conversion of the second argument of issubdtype from `float` to `np.floating` is deprecated. In future, it will be treated as `np.float64 == np.dtype(float).type`.\n",
      "  from ._conv import register_converters as _register_converters\n",
      "Using TensorFlow backend.\n",
      "C:\\Anaconda3\\envs\\tensorflow\\lib\\site-packages\\gensim\\utils.py:1197: UserWarning: detected Windows; aliasing chunkize to chunkize_serial\n",
      "  warnings.warn(\"detected Windows; aliasing chunkize to chunkize_serial\")\n"
     ]
    },
    {
     "name": "stdout",
     "output_type": "stream",
     "text": [
      "[nltk_data] Downloading package punkt to\n",
      "[nltk_data]     C:\\Users\\Admin\\AppData\\Roaming\\nltk_data...\n",
      "[nltk_data]   Package punkt is already up-to-date!\n",
      "['affirmasi', 'broadcast', 'cctv_lewatmana', 'direktori', 'goodbye', 'google', 'jam', 'lihat_gambar', 'negasi', 'salam', 'tokopedia', 'translate', 'wikipedia', 'youtube']\n",
      "from data.affirmasi import affirmasi\n",
      "from data.broadcast import broadcast\n",
      "from data.cctv_lewatmana import cctv_lewatmana\n",
      "from data.direktori import direktori\n",
      "from data.goodbye import goodbye\n",
      "from data.google import google\n",
      "from data.jam import jam\n",
      "from data.lihat_gambar import lihat_gambar\n",
      "from data.negasi import negasi\n",
      "from data.salam import salam\n",
      "from data.tokopedia import tokopedia\n",
      "from data.translate import translate\n",
      "from data.wikipedia import wikipedia\n",
      "from data.youtube import youtube\n"
     ]
    }
   ],
   "source": [
    "import logging\n",
    "logging.basicConfig(filename='cipi.log', format='%(message)s', level=logging.INFO)\n",
    "\n",
    "from listens import *\n",
    "import keras\n",
    "from preprocess import *\n",
    "from chat_iface import *\n",
    "from chat_proc import *\n"
   ]
  },
  {
   "cell_type": "code",
   "execution_count": 2,
   "metadata": {},
   "outputs": [],
   "source": [
    "def process():\n",
    "    ear.stop()\n",
    "    pass\n",
    "    print(\"Ini prosesnya\")"
   ]
  },
  {
   "cell_type": "code",
   "execution_count": 3,
   "metadata": {},
   "outputs": [],
   "source": [
    "def transcrib():\n",
    "    global speech\n",
    "    speech = transcribe_speech(s_iface)\n",
    "    if speech == None:\n",
    "        speech = \"\"\n",
    "    print(\"Ini Transkrip:\",speech)"
   ]
  },
  {
   "cell_type": "code",
   "execution_count": 4,
   "metadata": {
    "scrolled": false
   },
   "outputs": [],
   "source": [
    "ear = Listen()\n",
    "ear.set_process(process)\n",
    "#ear.start(thres=800, process=process)"
   ]
  },
  {
   "cell_type": "code",
   "execution_count": 5,
   "metadata": {},
   "outputs": [],
   "source": [
    "model = keras.models.load_model(\"./model/chippy_v1.model\")"
   ]
  },
  {
   "cell_type": "code",
   "execution_count": 6,
   "metadata": {},
   "outputs": [],
   "source": [
    "from selenium import webdriver\n",
    "\n",
    "headless = False\n",
    "chrome_options = webdriver.ChromeOptions()\n",
    "chrome_options.add_argument(\"--use-fake-ui-for-media-stream\")\n",
    "if headless:\n",
    "    chrome_options.add_argument(\"--headless\")  \n",
    "    \n",
    "def start_iface():\n",
    "    s_iface = webdriver.Chrome(chrome_options=chrome_options)\n",
    "    s_iface.get('https://translate.google.com/?#id/id')\n",
    "    assert \"Google Translate\" in s_iface.title\n",
    "    talk(\"saya siap\",s_iface)\n",
    "    return s_iface\n",
    "    \n",
    "def mainbrowser(url):\n",
    "    global m_iface\n",
    "    m_iface = webdriver.Chrome(chrome_options=chrome_options)\n",
    "    m_iface.get('https://translate.google.com/?#id/id')"
   ]
  },
  {
   "cell_type": "code",
   "execution_count": 7,
   "metadata": {},
   "outputs": [],
   "source": [
    "s_iface = start_iface()"
   ]
  },
  {
   "cell_type": "code",
   "execution_count": 8,
   "metadata": {},
   "outputs": [],
   "source": [
    "time.sleep(4)\n",
    "debug=True"
   ]
  },
  {
   "cell_type": "code",
   "execution_count": 9,
   "metadata": {},
   "outputs": [
    {
     "name": "stdout",
     "output_type": "stream",
     "text": [
      "Start waiting for hotword...\n",
      "Ini prosesnya\n",
      "Start waiting for hotword...\n",
      "Ini prosesnya\n",
      "Recognized - Predicted: cipi 0.9993462 1\n"
     ]
    },
    {
     "ename": "NameError",
     "evalue": "name 'speech' is not defined",
     "output_type": "error",
     "traceback": [
      "\u001b[1;31m---------------------------------------------------------------------------\u001b[0m",
      "\u001b[1;31mNameError\u001b[0m                                 Traceback (most recent call last)",
      "\u001b[1;32m<ipython-input-9-184f1ca764b1>\u001b[0m in \u001b[0;36m<module>\u001b[1;34m()\u001b[0m\n\u001b[0;32m     29\u001b[0m             \u001b[0mear\u001b[0m\u001b[1;33m.\u001b[0m\u001b[0mdebug\u001b[0m \u001b[1;33m=\u001b[0m \u001b[1;32mFalse\u001b[0m\u001b[1;33m\u001b[0m\u001b[0m\n\u001b[0;32m     30\u001b[0m             \u001b[0mear\u001b[0m\u001b[1;33m.\u001b[0m\u001b[0mstart\u001b[0m\u001b[1;33m(\u001b[0m\u001b[0mthres\u001b[0m\u001b[1;33m=\u001b[0m\u001b[1;36m800\u001b[0m\u001b[1;33m,\u001b[0m \u001b[0mtimeout\u001b[0m\u001b[1;33m=\u001b[0m\u001b[1;36m5\u001b[0m\u001b[1;33m,\u001b[0m \u001b[0mprocess\u001b[0m\u001b[1;33m=\u001b[0m\u001b[0mtranscrib\u001b[0m\u001b[1;33m)\u001b[0m\u001b[1;33m\u001b[0m\u001b[0m\n\u001b[1;32m---> 31\u001b[1;33m             \u001b[1;32mif\u001b[0m \u001b[0mspeech\u001b[0m \u001b[1;33m!=\u001b[0m \u001b[1;34m\"\"\u001b[0m\u001b[1;33m:\u001b[0m\u001b[1;33m\u001b[0m\u001b[0m\n\u001b[0m\u001b[0;32m     32\u001b[0m \u001b[1;33m\u001b[0m\u001b[0m\n\u001b[0;32m     33\u001b[0m                 \u001b[1;31m#RANDOMIZE THIS\u001b[0m\u001b[1;33m\u001b[0m\u001b[1;33m\u001b[0m\u001b[0m\n",
      "\u001b[1;31mNameError\u001b[0m: name 'speech' is not defined"
     ]
    },
    {
     "name": "stdout",
     "output_type": "stream",
     "text": [
      "Ini Transkrip: saya siap\n"
     ]
    }
   ],
   "source": [
    "cipi_recognized=False\n",
    "ear.debug = False\n",
    "feature_dim_1 = 20\n",
    "feature_dim_2 = 11\n",
    "channel=1\n",
    "\n",
    "while not cipi_recognized:\n",
    "    print(\"Start waiting for hotword...\")\n",
    "    ear.start(thres=1200, timeout=0)\n",
    "    #ear.write_to_file('test.wav')\n",
    "    dataaudio=np.array(ear.audiodata).flatten()\n",
    "    sample = au2mfcc(dataaudio)\n",
    "    sample_reshaped = sample.reshape(1, feature_dim_1, feature_dim_2, channel)\n",
    "    y_pred = model.predict(sample_reshaped)\n",
    "    y_max = np.max(y_pred) #nilai akurasi prediksi\n",
    "    ypred = np.argmax(y_pred) #yg di prediksi adalah cipi\n",
    "    cipi_recognized = (y_max>0.9 and ypred==1)\n",
    "    if cipi_recognized: \n",
    "        \n",
    "        #RANDOMIZE this\n",
    "        playdetected()\n",
    "        \n",
    "        print(\"Recognized - Predicted:\" ,get_labels()[0][ypred],y_max, ypred)\n",
    "\n",
    "        attention=True\n",
    "        att_counter = 0\n",
    "        while attention:\n",
    "            rec_speech(s_iface)\n",
    "            ear.debug = False\n",
    "            ear.start(thres=800, timeout=5, process=transcrib)\n",
    "            if speech != \"\": \n",
    "                \n",
    "                #RANDOMIZE THIS\n",
    "                playdetected()\n",
    "                reply,humanstate,botstate = sequence(speech,humanstate,botstate)\n",
    "                talk_until_complete(reply,s_iface)\n",
    "            else:\n",
    "                speech = \" \"\n",
    "                att_counter += 1\n",
    "                if att_counter > 1:\n",
    "                    att_counter = 0\n",
    "                    cipi_recognized=False\n",
    "                    attention=False\n",
    "                    \n",
    "                    #RANDOMIZE THIS\n",
    "                    playehm()\n",
    "                    time.sleep(2)\n",
    "                    print(\"\\n=============\\nGo to wait mode\")"
   ]
  },
  {
   "cell_type": "code",
   "execution_count": null,
   "metadata": {},
   "outputs": [],
   "source": []
  },
  {
   "cell_type": "code",
   "execution_count": null,
   "metadata": {},
   "outputs": [],
   "source": []
  }
 ],
 "metadata": {
  "kernelspec": {
   "display_name": "Python 3",
   "language": "python",
   "name": "python3"
  },
  "language_info": {
   "codemirror_mode": {
    "name": "ipython",
    "version": 3
   },
   "file_extension": ".py",
   "mimetype": "text/x-python",
   "name": "python",
   "nbconvert_exporter": "python",
   "pygments_lexer": "ipython3",
   "version": "3.6.4"
  }
 },
 "nbformat": 4,
 "nbformat_minor": 2
}
