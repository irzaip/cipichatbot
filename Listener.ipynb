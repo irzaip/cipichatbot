{
 "cells": [
  {
   "cell_type": "code",
   "execution_count": 113,
   "metadata": {},
   "outputs": [],
   "source": [
    "import sounddevice as sd\n",
    "import itertools\n",
    "import librosa\n",
    "import soundfile\n",
    "import numpy as np\n",
    "import time\n",
    "\n",
    "class Listen:\n",
    "    def __init__(self):\n",
    "        self.DURATION = 20\n",
    "        self.magnitudo = []\n",
    "        self.audiodata = []\n",
    "        self.recording = False\n",
    "        self.end_count = 0\n",
    "        self.start_count = 0\n",
    "        self.samplerate = 16000.0\n",
    "        self.high = 2000\n",
    "        self.low = 100\n",
    "        self.delta_f = (self.high - self.low) / 79\n",
    "        self.fftsize = np.ceil(self.samplerate / self.delta_f).astype(int)\n",
    "        self.low_bin = int(np.floor(self.low / self.delta_f))\n",
    "        self.gain = 3\n",
    "        self.waiter = False\n",
    "        \n",
    "    def listening(self, length=1, thres=0, filename=None):\n",
    "        self.thres=thres\n",
    "        global cumulated_status\n",
    "        try:\n",
    "            cumulated_status = sd.CallbackFlags()\n",
    "\n",
    "            with sd.InputStream(device=None, channels=1, callback=self.callback,\n",
    "                                blocksize=int(self.samplerate * self.DURATION / 1000),\n",
    "                                samplerate=self.samplerate):\n",
    "                while self.waiter:\n",
    "                    \n",
    "                    time.sleep(0.1)\n",
    "                    #break\n",
    "                if filename != None: soundfile.write(filename, self.audiodata, int(self.samplerate))\n",
    "\n",
    "            if cumulated_status:\n",
    "                logging.warning(str(cumulated_status))\n",
    "        except Exception as e:\n",
    "            print(e)\n",
    "            \n",
    "\n",
    "    def callback(self, indata, frames, time, status):\n",
    "        global cumulated_status\n",
    "        \n",
    "        cumulated_status |= status\n",
    "        if any(indata):\n",
    "            \n",
    "            magnitude = np.abs(np.fft.rfft(indata[:,0], n=self.fftsize))\n",
    "            magnitude *= self.gain / self.fftsize\n",
    "            \n",
    "            rms = librosa.feature.rmse(S=indata)\n",
    "            rms = int(rms*32768)\n",
    "\n",
    "            self.start_count += 1\n",
    "            if rms>=self.thres:\n",
    "                self.end_count = 0\n",
    "                if not self.recording and (self.start_count > 20):\n",
    "                    self.audiodata = []\n",
    "                    self.magnitudo = []\n",
    "                    self.recording = True\n",
    "                    if debug: print('O', end='', flush=True)\n",
    "                    self.audiodata.extend(itertools.chain(indata.tolist()))\n",
    "                    self.magnitudo.append(magnitude)\n",
    "                    \n",
    "                else:\n",
    "                    if debug: print('x', end='', flush=True)\n",
    "                    #just add to the list\n",
    "                    self.audiodata.extend(itertools.chain(indata.tolist()))\n",
    "                    self.magnitudo.append(magnitude)\n",
    "            \n",
    "            else:\n",
    "                if self.recording:\n",
    "                    self.audiodata.extend(itertools.chain(indata.tolist()))\n",
    "                    self.magnitudo.append(magnitude)\n",
    "                \n",
    "                if (self.end_count > 20) and self.recording:\n",
    "                    self.recording = False\n",
    "                    self.end_count = 0\n",
    "                    if debug: print('X', end='', flush=True)\n",
    "                    self.start_count = 0\n",
    "                else:\n",
    "                    if debug: print('.', end='', flush=True)\n",
    "                    self.end_count += 1\n",
    "                    \n",
    "    def gee(self):\n",
    "        print(\"fftsize:\",self.fftsize)\n",
    "                    "
   ]
  },
  {
   "cell_type": "code",
   "execution_count": 114,
   "metadata": {},
   "outputs": [],
   "source": [
    "debug=True"
   ]
  },
  {
   "cell_type": "code",
   "execution_count": 115,
   "metadata": {},
   "outputs": [],
   "source": [
    "a = Listen()"
   ]
  },
  {
   "cell_type": "code",
   "execution_count": 116,
   "metadata": {},
   "outputs": [],
   "source": [
    "a.waiter=True"
   ]
  },
  {
   "cell_type": "code",
   "execution_count": 117,
   "metadata": {},
   "outputs": [
    {
     "name": "stdout",
     "output_type": "stream",
     "text": [
      ".........x.....................Oxxxxxxxxxxxxxxxxxxxxxxxxxxxxxxxxxxx.....................X...xxxxxxxxxxxxxxxxxOxxxxxxxxxxxxxxx........x.....................X..xxxxxxxxxxxxxxxxxxOxxxxxxxxxxxxxx.x.....................X.....................................................Oxxxxxxxxxxxxxxxxxxxxxxxxxxxxxxxxxxxx.....................X............x......x......................O.xxxxxxxxxxxxxxxxxxxxxxxxxxxxxxxxxxxxxxxxxxx.....................X..............................................Oxxxxxxxxxxxxxxxxxxxxxxxxxxxxxxxx.....................X...................................Oxxxxxxxxxxxxxxxxxxxxxxxxxxxxx.....................X.....................................................................................Oxxxxxxxxxxxxxxxxxxxxxxxxxxx.....................X.........................................................................Oxxxxxxxxxxxxxxxxxxxxxxxxxxxx.....................X..........................................................................Oxxxxxxxxxxxxxxxxxxxxxxxxxxxxxxxxxxxxxxxxxxxxxxxxxxx..x.....................X..............................................................Oxxxxxxxxxxxxxxxxxxxxxxxxxxxxxxxxxxxxxxxxxxxxxxxxxxxxxxxxx.x.............x..x...xx.xx........x...x.x.....................X..........xxxxxxxxxxOxxxxxxxxxxxxxxxxxxxxxxxxxxxxxxxx.xxxxxx.xxxxxxxxxxxxxxxxxxxxxxxxxxxxxxxxxxxxxxxxxx.....................X....................................................................O.x..xxxxxxxxxx.....................X.........................................................Ox...xxxxxxxx.....................X.............................................................................................Oxxxx..xxxxxxxxxx.....................X.....................................................................Oxxxxx.....................X..............................................Oxxxxx.....................X...........................................................Oxxxxxxxxxxxxxxx.....................X...............................................................................................Oxxxxxxxxxxxxxxxxxxxxxxxx.....................X...........xxxxxxxxxOxxxxxxxxxxxxx....xxxxxxxxxxxxxxxxxxxxxxx..x....................xxxxxxxxxxxxxxxxxx......xxxxxxxxxxxxx..x.....................X..........................................................................................................................................................................................Oxxxxxxxxxxxxx.....................X..................................O......xxxxx.....................X............................................"
     ]
    },
    {
     "ename": "KeyboardInterrupt",
     "evalue": "",
     "output_type": "error",
     "traceback": [
      "\u001b[1;31m---------------------------------------------------------------------------\u001b[0m",
      "\u001b[1;31mKeyboardInterrupt\u001b[0m                         Traceback (most recent call last)",
      "\u001b[1;32m<ipython-input-117-e0af7b9e16ea>\u001b[0m in \u001b[0;36m<module>\u001b[1;34m()\u001b[0m\n\u001b[1;32m----> 1\u001b[1;33m \u001b[0ma\u001b[0m\u001b[1;33m.\u001b[0m\u001b[0mlistening\u001b[0m\u001b[1;33m(\u001b[0m\u001b[0mlength\u001b[0m\u001b[1;33m=\u001b[0m\u001b[1;36m20\u001b[0m\u001b[1;33m,\u001b[0m \u001b[0mfilename\u001b[0m\u001b[1;33m=\u001b[0m\u001b[1;34m\"Test.wav\"\u001b[0m\u001b[1;33m,\u001b[0m \u001b[0mthres\u001b[0m\u001b[1;33m=\u001b[0m\u001b[1;36m800\u001b[0m\u001b[1;33m)\u001b[0m\u001b[1;33m\u001b[0m\u001b[0m\n\u001b[0m",
      "\u001b[1;32m<ipython-input-113-a8222aaaa22a>\u001b[0m in \u001b[0;36mlistening\u001b[1;34m(self, length, thres, filename)\u001b[0m\n\u001b[0;32m     34\u001b[0m                 \u001b[1;32mwhile\u001b[0m \u001b[0mself\u001b[0m\u001b[1;33m.\u001b[0m\u001b[0mwaiter\u001b[0m\u001b[1;33m:\u001b[0m\u001b[1;33m\u001b[0m\u001b[0m\n\u001b[0;32m     35\u001b[0m \u001b[1;33m\u001b[0m\u001b[0m\n\u001b[1;32m---> 36\u001b[1;33m                     \u001b[0mtime\u001b[0m\u001b[1;33m.\u001b[0m\u001b[0msleep\u001b[0m\u001b[1;33m(\u001b[0m\u001b[1;36m0.1\u001b[0m\u001b[1;33m)\u001b[0m\u001b[1;33m\u001b[0m\u001b[0m\n\u001b[0m\u001b[0;32m     37\u001b[0m                     \u001b[1;31m#break\u001b[0m\u001b[1;33m\u001b[0m\u001b[1;33m\u001b[0m\u001b[0m\n\u001b[0;32m     38\u001b[0m                 \u001b[1;32mif\u001b[0m \u001b[0mfilename\u001b[0m \u001b[1;33m!=\u001b[0m \u001b[1;32mNone\u001b[0m\u001b[1;33m:\u001b[0m \u001b[0msoundfile\u001b[0m\u001b[1;33m.\u001b[0m\u001b[0mwrite\u001b[0m\u001b[1;33m(\u001b[0m\u001b[0mfilename\u001b[0m\u001b[1;33m,\u001b[0m \u001b[0mself\u001b[0m\u001b[1;33m.\u001b[0m\u001b[0maudiodata\u001b[0m\u001b[1;33m,\u001b[0m \u001b[0mint\u001b[0m\u001b[1;33m(\u001b[0m\u001b[0mself\u001b[0m\u001b[1;33m.\u001b[0m\u001b[0msamplerate\u001b[0m\u001b[1;33m)\u001b[0m\u001b[1;33m)\u001b[0m\u001b[1;33m\u001b[0m\u001b[0m\n",
      "\u001b[1;31mKeyboardInterrupt\u001b[0m: "
     ]
    }
   ],
   "source": [
    "a.listening(length=20, filename=\"Test.wav\", thres=800)"
   ]
  },
  {
   "cell_type": "code",
   "execution_count": null,
   "metadata": {},
   "outputs": [],
   "source": [
    "a.waiter=False"
   ]
  },
  {
   "cell_type": "code",
   "execution_count": 93,
   "metadata": {},
   "outputs": [
    {
     "data": {
      "text/html": [
       "\n",
       "                <audio controls=\"controls\" >\n",
       "                    <source src=\"data:audio/wav;base64,UklGRiQAAABXQVZFZm10IBAAAAABAAEAgD4AAAB9AAACABAAZGF0YQAAAAA=\" type=\"audio/wav\" />\n",
       "                    Your browser does not support the audio element.\n",
       "                </audio>\n",
       "              "
      ],
      "text/plain": [
       "<IPython.lib.display.Audio object>"
      ]
     },
     "execution_count": 93,
     "metadata": {},
     "output_type": "execute_result"
    }
   ],
   "source": [
    "import IPython.display as ipd\n",
    "ipd.Audio('Test.wav')"
   ]
  },
  {
   "cell_type": "code",
   "execution_count": null,
   "metadata": {},
   "outputs": [],
   "source": []
  }
 ],
 "metadata": {
  "kernelspec": {
   "display_name": "Python 3",
   "language": "python",
   "name": "python3"
  },
  "language_info": {
   "codemirror_mode": {
    "name": "ipython",
    "version": 3
   },
   "file_extension": ".py",
   "mimetype": "text/x-python",
   "name": "python",
   "nbconvert_exporter": "python",
   "pygments_lexer": "ipython3",
   "version": "3.6.4"
  }
 },
 "nbformat": 4,
 "nbformat_minor": 2
}
