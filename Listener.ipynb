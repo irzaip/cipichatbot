{
 "cells": [
  {
   "cell_type": "code",
   "execution_count": 127,
   "metadata": {},
   "outputs": [],
   "source": [
    "import sounddevice as sd\n",
    "import itertools\n",
    "import librosa\n",
    "import soundfile\n",
    "import numpy as np\n",
    "import time\n",
    "import asyncio\n",
    "\n",
    "class Listen:\n",
    "    def __init__(self):\n",
    "        self.DURATION = 20\n",
    "        self.magnitudo = []\n",
    "        self.audiodata = []\n",
    "        self.recording = False\n",
    "        self.end_count = 0\n",
    "        self.start_count = 0\n",
    "        self.samplerate = 16000.0\n",
    "        self.high = 2000\n",
    "        self.low = 100\n",
    "        self.delta_f = (self.high - self.low) / 79\n",
    "        self.fftsize = np.ceil(self.samplerate / self.delta_f).astype(int)\n",
    "        self.low_bin = int(np.floor(self.low / self.delta_f))\n",
    "        self.gain = 3\n",
    "        self.waiter = False\n",
    "        \n",
    "    async def listening(self, length=1, thres=0, filename=None):\n",
    "        self.thres=thres\n",
    "        global cumulated_status\n",
    "        try:\n",
    "            cumulated_status = sd.CallbackFlags()\n",
    "\n",
    "            with sd.InputStream(device=None, channels=1, callback=self.callback,\n",
    "                                blocksize=int(self.samplerate * self.DURATION / 1000),\n",
    "                                samplerate=self.samplerate):\n",
    "                while True:\n",
    "                    if self.waiter: break\n",
    "                    await asyncio.sleep(0.0001)\n",
    "                    #time.sleep(0.1)\n",
    "                    #break\n",
    "                if filename != None: soundfile.write(filename, self.audiodata, int(self.samplerate))\n",
    "                \n",
    "                \n",
    "            if cumulated_status:\n",
    "                logging.warning(str(cumulated_status))\n",
    "        except Exception as e:\n",
    "            print(e)\n",
    "            \n",
    "\n",
    "    def callback(self, indata, frames, time, status):\n",
    "        global cumulated_status\n",
    "        \n",
    "        cumulated_status |= status\n",
    "        if any(indata):\n",
    "            \n",
    "            magnitude = np.abs(np.fft.rfft(indata[:,0], n=self.fftsize))\n",
    "            magnitude *= self.gain / self.fftsize\n",
    "            \n",
    "            rms = librosa.feature.rmse(S=indata)\n",
    "            rms = int(rms*32768)\n",
    "\n",
    "            self.start_count += 1\n",
    "            if rms>=self.thres:\n",
    "                self.end_count = 0\n",
    "                if not self.recording and (self.start_count > 20):\n",
    "                    self.audiodata = []\n",
    "                    self.magnitudo = []\n",
    "                    self.recording = True\n",
    "                    if debug: print('O', end='', flush=True)\n",
    "                    self.audiodata.extend(itertools.chain(indata.tolist()))\n",
    "                    self.magnitudo.append(magnitude)\n",
    "                    \n",
    "                else:\n",
    "                    if debug: print('x', end='', flush=True)\n",
    "                    #just add to the list\n",
    "                    self.audiodata.extend(itertools.chain(indata.tolist()))\n",
    "                    self.magnitudo.append(magnitude)\n",
    "            \n",
    "            else:\n",
    "                if self.recording:\n",
    "                    self.audiodata.extend(itertools.chain(indata.tolist()))\n",
    "                    self.magnitudo.append(magnitude)\n",
    "                \n",
    "                if (self.end_count > 20) and self.recording:\n",
    "                    self.recording = False\n",
    "                    self.end_count = 0\n",
    "                    if debug: print('X', end='', flush=True)\n",
    "                    self.start_count = 0\n",
    "                else:\n",
    "                    if debug: print('.', end='', flush=True)\n",
    "                    self.end_count += 1\n",
    "                    \n",
    "    def gee(self):\n",
    "        print(\"fftsize:\",self.fftsize)\n",
    "                    "
   ]
  },
  {
   "cell_type": "code",
   "execution_count": 131,
   "metadata": {},
   "outputs": [
    {
     "name": "stdout",
     "output_type": "stream",
     "text": [
      "..................O..........x.....................X....................................................................................................................................................................................................................................................................Oxxxxxxxxxxxxxxxxxxxxxxxxxxxxxxxxxxxxxxxxxxxxx.xxxxx.....................X..................................................Oxxxxxxxxxxxxxxxxxxxxxxxxx..xxxxxxxxxxxxx.....................X..................................................................................................Oxxxxxxxxxxxxxx.....xxxxxxxxxxxxxxxxxxx.....................X..................................................................................................................................................................Oxx......xx...xxx...xxx.x...........x.....................X.......................................................................................................................................................................................................................................................................................................................................................O.............xxxxxxxxx.....................X....................................O.....x.....................X..............................................................................................Oxxxxxxxxxxxxxxxxxxxx.....................X.....x.xxxxxxxxxxxxxOx.xxxxx........xxxxxxxxx.....................X......................Oxxxxxxxxxxxxxxxxxx.......xxx.....xxxxxxxx.....................X.................................Oxxxxxxxxxxxx....xxxxxx.xxxxxxxxxxxxxxxxxxxxxxxxxxxxxxxxxx...xxxxxxxxxxxxxxxxxxx.xxxxxxxx.xxxxxx.....................X...................................................................................................Oxxxxxxxxxxxxxxxxxxxxxxxxxx.......xxxxxxx.......xxxxxxxxxxxxxxxxx......xxxxxxxxxxxxx.........xxxx............xxxxxxxxxxxxxxxxxxxxxxx.....................X.....................................................................................O....x..............xxx..x...xx.x.........x......x.....................X......................................................................................................."
     ]
    }
   ],
   "source": [
    "async def main():\n",
    "    debug=True\n",
    "    a=Listen()\n",
    "    dp = loop.create_task(a.listening(length=20,filename=\"Test.wav\",thres=800))\n",
    "    await asyncio.wait([dp])\n",
    "    print(\"I am finished\")"
   ]
  },
  {
   "cell_type": "code",
   "execution_count": 132,
   "metadata": {},
   "outputs": [
    {
     "name": "stderr",
     "output_type": "stream",
     "text": [
      "C:\\Anaconda3\\envs\\tensorflow\\lib\\site-packages\\ipykernel_launcher.py:6: RuntimeWarning: coroutine 'main' was never awaited\n",
      "  \n"
     ]
    },
    {
     "name": "stdout",
     "output_type": "stream",
     "text": [
      "O.....................X...................................................Oxx...xxxxxxxxxxxxxxxxx.....................X................................................................................................Oxxxxxxxxxx.......xx.xxxxxxxxxxxxxxxxxxxx..............x..xxxxx.............xxxxxxxxxxxxx..x..................xx............x...x.....x.....................X..........................................................................................Oxxxxxxx........xxxxxxxxx................xxxxxxxxxx........xxxxx.x........xxxxxxx......xxxxxxxxxxx.......xxxxxxxxxxxx.....................X.............................................Oxxxxxxxxxxxxxxxxx.......xxxxxx........xxxxxxxxxxxx......xxxxxxx..xxxxxxxxxxxxxxxxxxxxx.........xxxxxxxxxxxxxxxx.xxxxxxxxx.....................X.........................................."
     ]
    }
   ],
   "source": [
    "if __name__ == '__main__':\n",
    "    try:\n",
    "        loop = asyncio.get_event_loop()\n",
    "        loop.run_until_complete(main())\n",
    "    except Exception as e:\n",
    "        pass\n",
    "    finally:\n",
    "        loop.close()"
   ]
  },
  {
   "cell_type": "code",
   "execution_count": 133,
   "metadata": {},
   "outputs": [
    {
     "name": "stdout",
     "output_type": "stream",
     "text": [
      ".................Oxx.........x.xxxxxxxxxxxxxxx.......xxxxx..xxxxxxxxxxxxx..xxxxxxx.....................X......................................................................Oxxxxxxxxx.xx.....xxxxxxxxxxxxxxxxxxxxxxxxxxxxxxxxxxx.....................X..................................................O......x..................x.......x....x.xxxxxxxxxxxxxxxxxxxxxxxxxxxxxx.........x.....................X...................................................."
     ]
    }
   ],
   "source": [
    "a.waiter=True"
   ]
  },
  {
   "cell_type": "code",
   "execution_count": 135,
   "metadata": {},
   "outputs": [
    {
     "name": "stdout",
     "output_type": "stream",
     "text": [
      ".......................................................................Oxxxxxxxxxxxxxxxx.....................X............................................................................................Oxxxxxxxxxxxxxxxxxxxxx.....................X.........................................................................Oxxxxxxxxxxxxxxxxxxxxxxxxxxxxxx.x.x.....................X..............................................................................Oxxxxxxxx..........xxxxxxxxxx......xxxxxxxxxxxxxxxxxxxx.....................X...................................................................................O..x.......x..xx......xxxxxxxxxxxxxxxxxxxxxxx.....................X....x...................................O....................xxxxxxxxxxxxxxxxxxxxxxxxx.....................X.....................................................................................................................O..x..xxxxxxxxxxxxxxxxxxxxxxxxxxx........xxxxxxxxxxxxx.xxxxxxxxxxxxxxxxxxxxxxxx.....................X........................................................................................O.............x.....................X......................................................................................................................................................................................................................................................................................................O...........xxxxxxxxxxxxxxxxxxxxxxxxxxxxxxxxxx..xxxxxxxxxxxxxxxxxxxxxxxxxxx...xxxxxxxxxxxxxx...xx.xxxxxxxxx..xx.....................X................................................................................................................................................................."
     ]
    }
   ],
   "source": [
    "a.waiter=True"
   ]
  },
  {
   "cell_type": "code",
   "execution_count": 124,
   "metadata": {},
   "outputs": [],
   "source": [
    "a.waiter=False"
   ]
  },
  {
   "cell_type": "code",
   "execution_count": 125,
   "metadata": {},
   "outputs": [
    {
     "name": "stdout",
     "output_type": "stream",
     "text": [
      "................xxxxOxxxxxxxxxxxxxxxxx..x........xxx..xxxxxxxxxxxxxxxxxxxxxxxxx.............x...........xxxxxxxxx...xxxxxxxxxxxxxx...............xx............xxxxxxxxxx...........xxxxxxxxxxxxxxx.....................X.........................................................................................................................................................................O...xxxxxxxxxx........xxxxxxxxx...xxxx.....................X.............................Oxxxxx.xxxx"
     ]
    },
    {
     "ename": "KeyboardInterrupt",
     "evalue": "",
     "output_type": "error",
     "traceback": [
      "\u001b[1;31m---------------------------------------------------------------------------\u001b[0m",
      "\u001b[1;31mKeyboardInterrupt\u001b[0m                         Traceback (most recent call last)",
      "\u001b[1;32m<ipython-input-125-e0af7b9e16ea>\u001b[0m in \u001b[0;36m<module>\u001b[1;34m()\u001b[0m\n\u001b[1;32m----> 1\u001b[1;33m \u001b[0ma\u001b[0m\u001b[1;33m.\u001b[0m\u001b[0mlistening\u001b[0m\u001b[1;33m(\u001b[0m\u001b[0mlength\u001b[0m\u001b[1;33m=\u001b[0m\u001b[1;36m20\u001b[0m\u001b[1;33m,\u001b[0m \u001b[0mfilename\u001b[0m\u001b[1;33m=\u001b[0m\u001b[1;34m\"Test.wav\"\u001b[0m\u001b[1;33m,\u001b[0m \u001b[0mthres\u001b[0m\u001b[1;33m=\u001b[0m\u001b[1;36m800\u001b[0m\u001b[1;33m)\u001b[0m\u001b[1;33m\u001b[0m\u001b[0m\n\u001b[0m",
      "\u001b[1;32m<ipython-input-119-dfb005ceed62>\u001b[0m in \u001b[0;36mlistening\u001b[1;34m(self, length, thres, filename)\u001b[0m\n\u001b[0;32m     33\u001b[0m                                 samplerate=self.samplerate):\n\u001b[0;32m     34\u001b[0m                 \u001b[1;32mwhile\u001b[0m \u001b[1;32mTrue\u001b[0m\u001b[1;33m:\u001b[0m\u001b[1;33m\u001b[0m\u001b[0m\n\u001b[1;32m---> 35\u001b[1;33m                     \u001b[1;32mif\u001b[0m \u001b[0mself\u001b[0m\u001b[1;33m.\u001b[0m\u001b[0mwaiter\u001b[0m\u001b[1;33m:\u001b[0m \u001b[1;32mbreak\u001b[0m\u001b[1;33m\u001b[0m\u001b[0m\n\u001b[0m\u001b[0;32m     36\u001b[0m                     \u001b[1;31m#time.sleep(0.1)\u001b[0m\u001b[1;33m\u001b[0m\u001b[1;33m\u001b[0m\u001b[0m\n\u001b[0;32m     37\u001b[0m                     \u001b[1;31m#break\u001b[0m\u001b[1;33m\u001b[0m\u001b[1;33m\u001b[0m\u001b[0m\n",
      "\u001b[1;31mKeyboardInterrupt\u001b[0m: "
     ]
    }
   ],
   "source": [
    "a.listening(length=20, filename=\"Test.wav\", thres=800)"
   ]
  },
  {
   "cell_type": "code",
   "execution_count": null,
   "metadata": {},
   "outputs": [],
   "source": [
    "a.waiter=True"
   ]
  },
  {
   "cell_type": "code",
   "execution_count": 93,
   "metadata": {},
   "outputs": [
    {
     "data": {
      "text/html": [
       "\n",
       "                <audio controls=\"controls\" >\n",
       "                    <source src=\"data:audio/wav;base64,UklGRiQAAABXQVZFZm10IBAAAAABAAEAgD4AAAB9AAACABAAZGF0YQAAAAA=\" type=\"audio/wav\" />\n",
       "                    Your browser does not support the audio element.\n",
       "                </audio>\n",
       "              "
      ],
      "text/plain": [
       "<IPython.lib.display.Audio object>"
      ]
     },
     "execution_count": 93,
     "metadata": {},
     "output_type": "execute_result"
    }
   ],
   "source": [
    "import IPython.display as ipd\n",
    "ipd.Audio('Test.wav')"
   ]
  },
  {
   "cell_type": "code",
   "execution_count": 126,
   "metadata": {},
   "outputs": [],
   "source": []
  },
  {
   "cell_type": "code",
   "execution_count": null,
   "metadata": {},
   "outputs": [],
   "source": []
  }
 ],
 "metadata": {
  "kernelspec": {
   "display_name": "Python 3",
   "language": "python",
   "name": "python3"
  },
  "language_info": {
   "codemirror_mode": {
    "name": "ipython",
    "version": 3
   },
   "file_extension": ".py",
   "mimetype": "text/x-python",
   "name": "python",
   "nbconvert_exporter": "python",
   "pygments_lexer": "ipython3",
   "version": "3.6.4"
  }
 },
 "nbformat": 4,
 "nbformat_minor": 2
}
